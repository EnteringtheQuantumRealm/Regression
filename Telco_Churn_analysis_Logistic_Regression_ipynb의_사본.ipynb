{
  "nbformat": 4,
  "nbformat_minor": 0,
  "metadata": {
    "colab": {
      "name": "Telco_Churn_analysis_Logistic Regression.ipynb의 사본",
      "provenance": [],
      "collapsed_sections": [],
      "authorship_tag": "ABX9TyOlQVH4DbpEcF+HJmec+TSb",
      "include_colab_link": true
    },
    "kernelspec": {
      "name": "python3",
      "display_name": "Python 3"
    },
    "language_info": {
      "name": "python"
    }
  },
  "cells": [
    {
      "cell_type": "markdown",
      "metadata": {
        "id": "view-in-github",
        "colab_type": "text"
      },
      "source": [
        "<a href=\"https://colab.research.google.com/github/yunjungjoe/Regression/blob/main/Telco_Churn_analysis_Logistic_Regression_ipynb%EC%9D%98_%EC%82%AC%EB%B3%B8.ipynb\" target=\"_parent\"><img src=\"https://colab.research.google.com/assets/colab-badge.svg\" alt=\"Open In Colab\"/></a>"
      ]
    },
    {
      "cell_type": "markdown",
      "source": [
        "# Customer Churn with Logistic Regression\n",
        "**Pain Point:** A telecommunications company is concerned about the number of customers leaving their land-line business for cable competitors. \n",
        "\n",
        "**Goal:** Understand who is leaving and why, and  predict what behavior will help you to retain customers. Analyze all relevant customer data and develop focused customer retention programs."
      ],
      "metadata": {
        "id": "qdbsjQcE-pRE"
      }
    },
    {
      "cell_type": "code",
      "execution_count": null,
      "metadata": {
        "colab": {
          "base_uri": "https://localhost:8080/"
        },
        "id": "Jb0e4I6H-Vrp",
        "outputId": "e4ab253b-74fd-40aa-a4df-141ce010a22d"
      },
      "outputs": [
        {
          "output_type": "stream",
          "name": "stdout",
          "text": [
            "The autoreload extension is already loaded. To reload it, use:\n",
            "  %reload_ext autoreload\n"
          ]
        }
      ],
      "source": [
        "import pandas as pd\n",
        "import pylab as pl\n",
        "import numpy as np\n",
        "import scipy.optimize as opt\n",
        "from sklearn import preprocessing\n",
        "%matplotlib inline \n",
        "import matplotlib.pyplot as plt\n",
        "\n",
        "##\n",
        "import seaborn as sns\n",
        "import itertools\n",
        "import warnings\n",
        "\n",
        "from sklearn.preprocessing import MinMaxScaler\n",
        "from sklearn.model_selection import train_test_split\n",
        "from sklearn.linear_model import LogisticRegression\n",
        "from sklearn.metrics import precision_score, recall_score, accuracy_score, f1_score, roc_curve, auc, confusion_matrix\n",
        "\n",
        "#from regression_module import *\n",
        "\n",
        "warnings.filterwarnings('ignore')\n",
        "\n",
        "%matplotlib inline\n",
        "%load_ext autoreload\n",
        "%autoreload 2"
      ]
    },
    {
      "cell_type": "markdown",
      "source": [
        "The dataset includes information about:\n",
        "*   Customers who left within the last month – the column is called Churn\n",
        "*   Services that each customer has signed up for – phone, multiple lines, internet, online security, online backup, device protection, tech support, and streaming TV and movies\n",
        "*   Customer account information – how long they had been a customer, contract, payment method, paperless billing, monthly charges, and total charges\n",
        "*   Demographic info about customers – gender, age range, and if they have partners and dependents"
      ],
      "metadata": {
        "id": "JV2Hd0BYAR6b"
      }
    },
    {
      "cell_type": "code",
      "source": [
        "!wget -O ChurnData.csv https://s3-api.us-geo.objectstorage.softlayer.net/cf-courses-data/CognitiveClass/ML0101ENv3/labs/ChurnData.csv"
      ],
      "metadata": {
        "colab": {
          "base_uri": "https://localhost:8080/"
        },
        "id": "QmQ_SB7DA8jA",
        "outputId": "e70d07ea-a083-42e3-ef5c-a8df1debed89"
      },
      "execution_count": null,
      "outputs": [
        {
          "output_type": "stream",
          "name": "stdout",
          "text": [
            "--2022-01-06 03:23:47--  https://s3-api.us-geo.objectstorage.softlayer.net/cf-courses-data/CognitiveClass/ML0101ENv3/labs/ChurnData.csv\n",
            "Resolving s3-api.us-geo.objectstorage.softlayer.net (s3-api.us-geo.objectstorage.softlayer.net)... 67.228.254.196\n",
            "Connecting to s3-api.us-geo.objectstorage.softlayer.net (s3-api.us-geo.objectstorage.softlayer.net)|67.228.254.196|:443... connected.\n",
            "HTTP request sent, awaiting response... 200 OK\n",
            "Length: 36144 (35K) [text/csv]\n",
            "Saving to: ‘ChurnData.csv’\n",
            "\n",
            "\rChurnData.csv         0%[                    ]       0  --.-KB/s               \rChurnData.csv       100%[===================>]  35.30K  --.-KB/s    in 0.001s  \n",
            "\n",
            "2022-01-06 03:23:47 (30.9 MB/s) - ‘ChurnData.csv’ saved [36144/36144]\n",
            "\n"
          ]
        }
      ]
    },
    {
      "cell_type": "code",
      "source": [
        "churn_df = pd.read_csv(\"ChurnData.csv\")\n",
        "churn_df.head()"
      ],
      "metadata": {
        "colab": {
          "base_uri": "https://localhost:8080/",
          "height": 270
        },
        "id": "khfyfV4uFtme",
        "outputId": "9d91a297-3085-4177-85f2-3b388113018a"
      },
      "execution_count": null,
      "outputs": [
        {
          "output_type": "execute_result",
          "data": {
            "text/html": [
              "\n",
              "  <div id=\"df-9cede87c-c797-418b-9156-907861fa5301\">\n",
              "    <div class=\"colab-df-container\">\n",
              "      <div>\n",
              "<style scoped>\n",
              "    .dataframe tbody tr th:only-of-type {\n",
              "        vertical-align: middle;\n",
              "    }\n",
              "\n",
              "    .dataframe tbody tr th {\n",
              "        vertical-align: top;\n",
              "    }\n",
              "\n",
              "    .dataframe thead th {\n",
              "        text-align: right;\n",
              "    }\n",
              "</style>\n",
              "<table border=\"1\" class=\"dataframe\">\n",
              "  <thead>\n",
              "    <tr style=\"text-align: right;\">\n",
              "      <th></th>\n",
              "      <th>tenure</th>\n",
              "      <th>age</th>\n",
              "      <th>address</th>\n",
              "      <th>income</th>\n",
              "      <th>ed</th>\n",
              "      <th>employ</th>\n",
              "      <th>equip</th>\n",
              "      <th>callcard</th>\n",
              "      <th>wireless</th>\n",
              "      <th>longmon</th>\n",
              "      <th>tollmon</th>\n",
              "      <th>equipmon</th>\n",
              "      <th>cardmon</th>\n",
              "      <th>wiremon</th>\n",
              "      <th>longten</th>\n",
              "      <th>tollten</th>\n",
              "      <th>cardten</th>\n",
              "      <th>voice</th>\n",
              "      <th>pager</th>\n",
              "      <th>internet</th>\n",
              "      <th>callwait</th>\n",
              "      <th>confer</th>\n",
              "      <th>ebill</th>\n",
              "      <th>loglong</th>\n",
              "      <th>logtoll</th>\n",
              "      <th>lninc</th>\n",
              "      <th>custcat</th>\n",
              "      <th>churn</th>\n",
              "    </tr>\n",
              "  </thead>\n",
              "  <tbody>\n",
              "    <tr>\n",
              "      <th>0</th>\n",
              "      <td>11.0</td>\n",
              "      <td>33.0</td>\n",
              "      <td>7.0</td>\n",
              "      <td>136.0</td>\n",
              "      <td>5.0</td>\n",
              "      <td>5.0</td>\n",
              "      <td>0.0</td>\n",
              "      <td>1.0</td>\n",
              "      <td>1.0</td>\n",
              "      <td>4.40</td>\n",
              "      <td>20.75</td>\n",
              "      <td>0.0</td>\n",
              "      <td>15.25</td>\n",
              "      <td>35.7</td>\n",
              "      <td>42.00</td>\n",
              "      <td>211.45</td>\n",
              "      <td>125.0</td>\n",
              "      <td>1.0</td>\n",
              "      <td>1.0</td>\n",
              "      <td>0.0</td>\n",
              "      <td>1.0</td>\n",
              "      <td>1.0</td>\n",
              "      <td>0.0</td>\n",
              "      <td>1.482</td>\n",
              "      <td>3.033</td>\n",
              "      <td>4.913</td>\n",
              "      <td>4.0</td>\n",
              "      <td>1.0</td>\n",
              "    </tr>\n",
              "    <tr>\n",
              "      <th>1</th>\n",
              "      <td>33.0</td>\n",
              "      <td>33.0</td>\n",
              "      <td>12.0</td>\n",
              "      <td>33.0</td>\n",
              "      <td>2.0</td>\n",
              "      <td>0.0</td>\n",
              "      <td>0.0</td>\n",
              "      <td>0.0</td>\n",
              "      <td>0.0</td>\n",
              "      <td>9.45</td>\n",
              "      <td>0.00</td>\n",
              "      <td>0.0</td>\n",
              "      <td>0.00</td>\n",
              "      <td>0.0</td>\n",
              "      <td>288.80</td>\n",
              "      <td>0.00</td>\n",
              "      <td>0.0</td>\n",
              "      <td>0.0</td>\n",
              "      <td>0.0</td>\n",
              "      <td>0.0</td>\n",
              "      <td>0.0</td>\n",
              "      <td>0.0</td>\n",
              "      <td>0.0</td>\n",
              "      <td>2.246</td>\n",
              "      <td>3.240</td>\n",
              "      <td>3.497</td>\n",
              "      <td>1.0</td>\n",
              "      <td>1.0</td>\n",
              "    </tr>\n",
              "    <tr>\n",
              "      <th>2</th>\n",
              "      <td>23.0</td>\n",
              "      <td>30.0</td>\n",
              "      <td>9.0</td>\n",
              "      <td>30.0</td>\n",
              "      <td>1.0</td>\n",
              "      <td>2.0</td>\n",
              "      <td>0.0</td>\n",
              "      <td>0.0</td>\n",
              "      <td>0.0</td>\n",
              "      <td>6.30</td>\n",
              "      <td>0.00</td>\n",
              "      <td>0.0</td>\n",
              "      <td>0.00</td>\n",
              "      <td>0.0</td>\n",
              "      <td>157.05</td>\n",
              "      <td>0.00</td>\n",
              "      <td>0.0</td>\n",
              "      <td>0.0</td>\n",
              "      <td>0.0</td>\n",
              "      <td>0.0</td>\n",
              "      <td>0.0</td>\n",
              "      <td>1.0</td>\n",
              "      <td>0.0</td>\n",
              "      <td>1.841</td>\n",
              "      <td>3.240</td>\n",
              "      <td>3.401</td>\n",
              "      <td>3.0</td>\n",
              "      <td>0.0</td>\n",
              "    </tr>\n",
              "    <tr>\n",
              "      <th>3</th>\n",
              "      <td>38.0</td>\n",
              "      <td>35.0</td>\n",
              "      <td>5.0</td>\n",
              "      <td>76.0</td>\n",
              "      <td>2.0</td>\n",
              "      <td>10.0</td>\n",
              "      <td>1.0</td>\n",
              "      <td>1.0</td>\n",
              "      <td>1.0</td>\n",
              "      <td>6.05</td>\n",
              "      <td>45.00</td>\n",
              "      <td>50.1</td>\n",
              "      <td>23.25</td>\n",
              "      <td>64.9</td>\n",
              "      <td>239.55</td>\n",
              "      <td>1873.05</td>\n",
              "      <td>880.0</td>\n",
              "      <td>1.0</td>\n",
              "      <td>1.0</td>\n",
              "      <td>1.0</td>\n",
              "      <td>1.0</td>\n",
              "      <td>1.0</td>\n",
              "      <td>1.0</td>\n",
              "      <td>1.800</td>\n",
              "      <td>3.807</td>\n",
              "      <td>4.331</td>\n",
              "      <td>4.0</td>\n",
              "      <td>0.0</td>\n",
              "    </tr>\n",
              "    <tr>\n",
              "      <th>4</th>\n",
              "      <td>7.0</td>\n",
              "      <td>35.0</td>\n",
              "      <td>14.0</td>\n",
              "      <td>80.0</td>\n",
              "      <td>2.0</td>\n",
              "      <td>15.0</td>\n",
              "      <td>0.0</td>\n",
              "      <td>1.0</td>\n",
              "      <td>0.0</td>\n",
              "      <td>7.10</td>\n",
              "      <td>22.00</td>\n",
              "      <td>0.0</td>\n",
              "      <td>23.75</td>\n",
              "      <td>0.0</td>\n",
              "      <td>47.45</td>\n",
              "      <td>166.10</td>\n",
              "      <td>145.0</td>\n",
              "      <td>1.0</td>\n",
              "      <td>0.0</td>\n",
              "      <td>0.0</td>\n",
              "      <td>1.0</td>\n",
              "      <td>1.0</td>\n",
              "      <td>0.0</td>\n",
              "      <td>1.960</td>\n",
              "      <td>3.091</td>\n",
              "      <td>4.382</td>\n",
              "      <td>3.0</td>\n",
              "      <td>0.0</td>\n",
              "    </tr>\n",
              "  </tbody>\n",
              "</table>\n",
              "</div>\n",
              "      <button class=\"colab-df-convert\" onclick=\"convertToInteractive('df-9cede87c-c797-418b-9156-907861fa5301')\"\n",
              "              title=\"Convert this dataframe to an interactive table.\"\n",
              "              style=\"display:none;\">\n",
              "        \n",
              "  <svg xmlns=\"http://www.w3.org/2000/svg\" height=\"24px\"viewBox=\"0 0 24 24\"\n",
              "       width=\"24px\">\n",
              "    <path d=\"M0 0h24v24H0V0z\" fill=\"none\"/>\n",
              "    <path d=\"M18.56 5.44l.94 2.06.94-2.06 2.06-.94-2.06-.94-.94-2.06-.94 2.06-2.06.94zm-11 1L8.5 8.5l.94-2.06 2.06-.94-2.06-.94L8.5 2.5l-.94 2.06-2.06.94zm10 10l.94 2.06.94-2.06 2.06-.94-2.06-.94-.94-2.06-.94 2.06-2.06.94z\"/><path d=\"M17.41 7.96l-1.37-1.37c-.4-.4-.92-.59-1.43-.59-.52 0-1.04.2-1.43.59L10.3 9.45l-7.72 7.72c-.78.78-.78 2.05 0 2.83L4 21.41c.39.39.9.59 1.41.59.51 0 1.02-.2 1.41-.59l7.78-7.78 2.81-2.81c.8-.78.8-2.07 0-2.86zM5.41 20L4 18.59l7.72-7.72 1.47 1.35L5.41 20z\"/>\n",
              "  </svg>\n",
              "      </button>\n",
              "      \n",
              "  <style>\n",
              "    .colab-df-container {\n",
              "      display:flex;\n",
              "      flex-wrap:wrap;\n",
              "      gap: 12px;\n",
              "    }\n",
              "\n",
              "    .colab-df-convert {\n",
              "      background-color: #E8F0FE;\n",
              "      border: none;\n",
              "      border-radius: 50%;\n",
              "      cursor: pointer;\n",
              "      display: none;\n",
              "      fill: #1967D2;\n",
              "      height: 32px;\n",
              "      padding: 0 0 0 0;\n",
              "      width: 32px;\n",
              "    }\n",
              "\n",
              "    .colab-df-convert:hover {\n",
              "      background-color: #E2EBFA;\n",
              "      box-shadow: 0px 1px 2px rgba(60, 64, 67, 0.3), 0px 1px 3px 1px rgba(60, 64, 67, 0.15);\n",
              "      fill: #174EA6;\n",
              "    }\n",
              "\n",
              "    [theme=dark] .colab-df-convert {\n",
              "      background-color: #3B4455;\n",
              "      fill: #D2E3FC;\n",
              "    }\n",
              "\n",
              "    [theme=dark] .colab-df-convert:hover {\n",
              "      background-color: #434B5C;\n",
              "      box-shadow: 0px 1px 3px 1px rgba(0, 0, 0, 0.15);\n",
              "      filter: drop-shadow(0px 1px 2px rgba(0, 0, 0, 0.3));\n",
              "      fill: #FFFFFF;\n",
              "    }\n",
              "  </style>\n",
              "\n",
              "      <script>\n",
              "        const buttonEl =\n",
              "          document.querySelector('#df-9cede87c-c797-418b-9156-907861fa5301 button.colab-df-convert');\n",
              "        buttonEl.style.display =\n",
              "          google.colab.kernel.accessAllowed ? 'block' : 'none';\n",
              "\n",
              "        async function convertToInteractive(key) {\n",
              "          const element = document.querySelector('#df-9cede87c-c797-418b-9156-907861fa5301');\n",
              "          const dataTable =\n",
              "            await google.colab.kernel.invokeFunction('convertToInteractive',\n",
              "                                                     [key], {});\n",
              "          if (!dataTable) return;\n",
              "\n",
              "          const docLinkHtml = 'Like what you see? Visit the ' +\n",
              "            '<a target=\"_blank\" href=https://colab.research.google.com/notebooks/data_table.ipynb>data table notebook</a>'\n",
              "            + ' to learn more about interactive tables.';\n",
              "          element.innerHTML = '';\n",
              "          dataTable['output_type'] = 'display_data';\n",
              "          await google.colab.output.renderOutput(dataTable, element);\n",
              "          const docLink = document.createElement('div');\n",
              "          docLink.innerHTML = docLinkHtml;\n",
              "          element.appendChild(docLink);\n",
              "        }\n",
              "      </script>\n",
              "    </div>\n",
              "  </div>\n",
              "  "
            ],
            "text/plain": [
              "   tenure   age  address  income   ed  ...  loglong  logtoll  lninc  custcat  churn\n",
              "0    11.0  33.0      7.0   136.0  5.0  ...    1.482    3.033  4.913      4.0    1.0\n",
              "1    33.0  33.0     12.0    33.0  2.0  ...    2.246    3.240  3.497      1.0    1.0\n",
              "2    23.0  30.0      9.0    30.0  1.0  ...    1.841    3.240  3.401      3.0    0.0\n",
              "3    38.0  35.0      5.0    76.0  2.0  ...    1.800    3.807  4.331      4.0    0.0\n",
              "4     7.0  35.0     14.0    80.0  2.0  ...    1.960    3.091  4.382      3.0    0.0\n",
              "\n",
              "[5 rows x 28 columns]"
            ]
          },
          "metadata": {},
          "execution_count": 123
        }
      ]
    },
    {
      "cell_type": "code",
      "source": [
        "churn_df.info()"
      ],
      "metadata": {
        "colab": {
          "base_uri": "https://localhost:8080/"
        },
        "id": "YJqIgaQ_904e",
        "outputId": "4c52572c-df7c-4473-bf6c-3d0bbeff44ad"
      },
      "execution_count": null,
      "outputs": [
        {
          "output_type": "stream",
          "name": "stdout",
          "text": [
            "<class 'pandas.core.frame.DataFrame'>\n",
            "RangeIndex: 200 entries, 0 to 199\n",
            "Data columns (total 28 columns):\n",
            " #   Column    Non-Null Count  Dtype  \n",
            "---  ------    --------------  -----  \n",
            " 0   tenure    200 non-null    float64\n",
            " 1   age       200 non-null    float64\n",
            " 2   address   200 non-null    float64\n",
            " 3   income    200 non-null    float64\n",
            " 4   ed        200 non-null    float64\n",
            " 5   employ    200 non-null    float64\n",
            " 6   equip     200 non-null    float64\n",
            " 7   callcard  200 non-null    float64\n",
            " 8   wireless  200 non-null    float64\n",
            " 9   longmon   200 non-null    float64\n",
            " 10  tollmon   200 non-null    float64\n",
            " 11  equipmon  200 non-null    float64\n",
            " 12  cardmon   200 non-null    float64\n",
            " 13  wiremon   200 non-null    float64\n",
            " 14  longten   200 non-null    float64\n",
            " 15  tollten   200 non-null    float64\n",
            " 16  cardten   200 non-null    float64\n",
            " 17  voice     200 non-null    float64\n",
            " 18  pager     200 non-null    float64\n",
            " 19  internet  200 non-null    float64\n",
            " 20  callwait  200 non-null    float64\n",
            " 21  confer    200 non-null    float64\n",
            " 22  ebill     200 non-null    float64\n",
            " 23  loglong   200 non-null    float64\n",
            " 24  logtoll   200 non-null    float64\n",
            " 25  lninc     200 non-null    float64\n",
            " 26  custcat   200 non-null    float64\n",
            " 27  churn     200 non-null    float64\n",
            "dtypes: float64(28)\n",
            "memory usage: 43.9 KB\n"
          ]
        }
      ]
    },
    {
      "cell_type": "code",
      "source": [
        "churn_df.isnull().sum()"
      ],
      "metadata": {
        "colab": {
          "base_uri": "https://localhost:8080/"
        },
        "id": "r2WiKZI1-B1d",
        "outputId": "152dcfac-1f49-4950-ab96-f7fc3aa05b11"
      },
      "execution_count": null,
      "outputs": [
        {
          "output_type": "execute_result",
          "data": {
            "text/plain": [
              "tenure      0\n",
              "age         0\n",
              "address     0\n",
              "income      0\n",
              "ed          0\n",
              "employ      0\n",
              "equip       0\n",
              "callcard    0\n",
              "wireless    0\n",
              "longmon     0\n",
              "tollmon     0\n",
              "equipmon    0\n",
              "cardmon     0\n",
              "wiremon     0\n",
              "longten     0\n",
              "tollten     0\n",
              "cardten     0\n",
              "voice       0\n",
              "pager       0\n",
              "internet    0\n",
              "callwait    0\n",
              "confer      0\n",
              "ebill       0\n",
              "loglong     0\n",
              "logtoll     0\n",
              "lninc       0\n",
              "custcat     0\n",
              "churn       0\n",
              "dtype: int64"
            ]
          },
          "metadata": {},
          "execution_count": 125
        }
      ]
    },
    {
      "cell_type": "markdown",
      "source": [
        "## Data pre-processing and selection\n",
        "* Select some features for the modeling\n",
        "* Change the target data type to be integer, as it is a requirement by the skitlearn algorithm:"
      ],
      "metadata": {
        "id": "EcsKbFthF9o0"
      }
    },
    {
      "cell_type": "code",
      "source": [
        "churn_df = churn_df[['tenure', 'age', 'address', 'income', 'ed', 'employ', 'equip',   'callcard', 'wireless','churn']]\n",
        "churn_df['churn'] = churn_df['churn'].astype('int')\n",
        "churn_df.head(2)"
      ],
      "metadata": {
        "colab": {
          "base_uri": "https://localhost:8080/",
          "height": 112
        },
        "id": "yO3YKYnTF49H",
        "outputId": "1a067dbd-ea4d-4b6e-ad28-ed99196eb105"
      },
      "execution_count": null,
      "outputs": [
        {
          "output_type": "execute_result",
          "data": {
            "text/html": [
              "\n",
              "  <div id=\"df-c35c7bc1-86ae-4441-8db9-31435f2f0082\">\n",
              "    <div class=\"colab-df-container\">\n",
              "      <div>\n",
              "<style scoped>\n",
              "    .dataframe tbody tr th:only-of-type {\n",
              "        vertical-align: middle;\n",
              "    }\n",
              "\n",
              "    .dataframe tbody tr th {\n",
              "        vertical-align: top;\n",
              "    }\n",
              "\n",
              "    .dataframe thead th {\n",
              "        text-align: right;\n",
              "    }\n",
              "</style>\n",
              "<table border=\"1\" class=\"dataframe\">\n",
              "  <thead>\n",
              "    <tr style=\"text-align: right;\">\n",
              "      <th></th>\n",
              "      <th>tenure</th>\n",
              "      <th>age</th>\n",
              "      <th>address</th>\n",
              "      <th>income</th>\n",
              "      <th>ed</th>\n",
              "      <th>employ</th>\n",
              "      <th>equip</th>\n",
              "      <th>callcard</th>\n",
              "      <th>wireless</th>\n",
              "      <th>churn</th>\n",
              "    </tr>\n",
              "  </thead>\n",
              "  <tbody>\n",
              "    <tr>\n",
              "      <th>0</th>\n",
              "      <td>11.0</td>\n",
              "      <td>33.0</td>\n",
              "      <td>7.0</td>\n",
              "      <td>136.0</td>\n",
              "      <td>5.0</td>\n",
              "      <td>5.0</td>\n",
              "      <td>0.0</td>\n",
              "      <td>1.0</td>\n",
              "      <td>1.0</td>\n",
              "      <td>1</td>\n",
              "    </tr>\n",
              "    <tr>\n",
              "      <th>1</th>\n",
              "      <td>33.0</td>\n",
              "      <td>33.0</td>\n",
              "      <td>12.0</td>\n",
              "      <td>33.0</td>\n",
              "      <td>2.0</td>\n",
              "      <td>0.0</td>\n",
              "      <td>0.0</td>\n",
              "      <td>0.0</td>\n",
              "      <td>0.0</td>\n",
              "      <td>1</td>\n",
              "    </tr>\n",
              "  </tbody>\n",
              "</table>\n",
              "</div>\n",
              "      <button class=\"colab-df-convert\" onclick=\"convertToInteractive('df-c35c7bc1-86ae-4441-8db9-31435f2f0082')\"\n",
              "              title=\"Convert this dataframe to an interactive table.\"\n",
              "              style=\"display:none;\">\n",
              "        \n",
              "  <svg xmlns=\"http://www.w3.org/2000/svg\" height=\"24px\"viewBox=\"0 0 24 24\"\n",
              "       width=\"24px\">\n",
              "    <path d=\"M0 0h24v24H0V0z\" fill=\"none\"/>\n",
              "    <path d=\"M18.56 5.44l.94 2.06.94-2.06 2.06-.94-2.06-.94-.94-2.06-.94 2.06-2.06.94zm-11 1L8.5 8.5l.94-2.06 2.06-.94-2.06-.94L8.5 2.5l-.94 2.06-2.06.94zm10 10l.94 2.06.94-2.06 2.06-.94-2.06-.94-.94-2.06-.94 2.06-2.06.94z\"/><path d=\"M17.41 7.96l-1.37-1.37c-.4-.4-.92-.59-1.43-.59-.52 0-1.04.2-1.43.59L10.3 9.45l-7.72 7.72c-.78.78-.78 2.05 0 2.83L4 21.41c.39.39.9.59 1.41.59.51 0 1.02-.2 1.41-.59l7.78-7.78 2.81-2.81c.8-.78.8-2.07 0-2.86zM5.41 20L4 18.59l7.72-7.72 1.47 1.35L5.41 20z\"/>\n",
              "  </svg>\n",
              "      </button>\n",
              "      \n",
              "  <style>\n",
              "    .colab-df-container {\n",
              "      display:flex;\n",
              "      flex-wrap:wrap;\n",
              "      gap: 12px;\n",
              "    }\n",
              "\n",
              "    .colab-df-convert {\n",
              "      background-color: #E8F0FE;\n",
              "      border: none;\n",
              "      border-radius: 50%;\n",
              "      cursor: pointer;\n",
              "      display: none;\n",
              "      fill: #1967D2;\n",
              "      height: 32px;\n",
              "      padding: 0 0 0 0;\n",
              "      width: 32px;\n",
              "    }\n",
              "\n",
              "    .colab-df-convert:hover {\n",
              "      background-color: #E2EBFA;\n",
              "      box-shadow: 0px 1px 2px rgba(60, 64, 67, 0.3), 0px 1px 3px 1px rgba(60, 64, 67, 0.15);\n",
              "      fill: #174EA6;\n",
              "    }\n",
              "\n",
              "    [theme=dark] .colab-df-convert {\n",
              "      background-color: #3B4455;\n",
              "      fill: #D2E3FC;\n",
              "    }\n",
              "\n",
              "    [theme=dark] .colab-df-convert:hover {\n",
              "      background-color: #434B5C;\n",
              "      box-shadow: 0px 1px 3px 1px rgba(0, 0, 0, 0.15);\n",
              "      filter: drop-shadow(0px 1px 2px rgba(0, 0, 0, 0.3));\n",
              "      fill: #FFFFFF;\n",
              "    }\n",
              "  </style>\n",
              "\n",
              "      <script>\n",
              "        const buttonEl =\n",
              "          document.querySelector('#df-c35c7bc1-86ae-4441-8db9-31435f2f0082 button.colab-df-convert');\n",
              "        buttonEl.style.display =\n",
              "          google.colab.kernel.accessAllowed ? 'block' : 'none';\n",
              "\n",
              "        async function convertToInteractive(key) {\n",
              "          const element = document.querySelector('#df-c35c7bc1-86ae-4441-8db9-31435f2f0082');\n",
              "          const dataTable =\n",
              "            await google.colab.kernel.invokeFunction('convertToInteractive',\n",
              "                                                     [key], {});\n",
              "          if (!dataTable) return;\n",
              "\n",
              "          const docLinkHtml = 'Like what you see? Visit the ' +\n",
              "            '<a target=\"_blank\" href=https://colab.research.google.com/notebooks/data_table.ipynb>data table notebook</a>'\n",
              "            + ' to learn more about interactive tables.';\n",
              "          element.innerHTML = '';\n",
              "          dataTable['output_type'] = 'display_data';\n",
              "          await google.colab.output.renderOutput(dataTable, element);\n",
              "          const docLink = document.createElement('div');\n",
              "          docLink.innerHTML = docLinkHtml;\n",
              "          element.appendChild(docLink);\n",
              "        }\n",
              "      </script>\n",
              "    </div>\n",
              "  </div>\n",
              "  "
            ],
            "text/plain": [
              "   tenure   age  address  income   ed  employ  equip  callcard  wireless  churn\n",
              "0    11.0  33.0      7.0   136.0  5.0     5.0    0.0       1.0       1.0      1\n",
              "1    33.0  33.0     12.0    33.0  2.0     0.0    0.0       0.0       0.0      1"
            ]
          },
          "metadata": {},
          "execution_count": 126
        }
      ]
    },
    {
      "cell_type": "code",
      "source": [
        "# How many rows and columns are in this dataset in total? \n",
        "churn_df.shape"
      ],
      "metadata": {
        "colab": {
          "base_uri": "https://localhost:8080/"
        },
        "id": "iBrhgF0zG3c7",
        "outputId": "04251f73-8dae-41d2-d3f6-374427341b13"
      },
      "execution_count": null,
      "outputs": [
        {
          "output_type": "execute_result",
          "data": {
            "text/plain": [
              "(200, 10)"
            ]
          },
          "metadata": {},
          "execution_count": 127
        }
      ]
    },
    {
      "cell_type": "code",
      "source": [
        "# Lets define X, and y for our dataset:\n",
        "X = np.asarray(churn_df[['tenure', 'age', 'address', 'income', 'ed', 'employ', 'equip']])\n",
        "X[0:5]"
      ],
      "metadata": {
        "colab": {
          "base_uri": "https://localhost:8080/"
        },
        "id": "9gcW9ZR7IOOS",
        "outputId": "4d0d4ab1-552b-46ad-a0eb-bea27c5660d4"
      },
      "execution_count": null,
      "outputs": [
        {
          "output_type": "execute_result",
          "data": {
            "text/plain": [
              "array([[ 11.,  33.,   7., 136.,   5.,   5.,   0.],\n",
              "       [ 33.,  33.,  12.,  33.,   2.,   0.,   0.],\n",
              "       [ 23.,  30.,   9.,  30.,   1.,   2.,   0.],\n",
              "       [ 38.,  35.,   5.,  76.,   2.,  10.,   1.],\n",
              "       [  7.,  35.,  14.,  80.,   2.,  15.,   0.]])"
            ]
          },
          "metadata": {},
          "execution_count": 128
        }
      ]
    },
    {
      "cell_type": "code",
      "source": [
        "y = np.asarray(churn_df['churn'])\n",
        "y [0:5]"
      ],
      "metadata": {
        "colab": {
          "base_uri": "https://localhost:8080/"
        },
        "id": "8BMmW2mwIdmr",
        "outputId": "33099587-f95b-4ea3-b6a1-becefae06bdb"
      },
      "execution_count": null,
      "outputs": [
        {
          "output_type": "execute_result",
          "data": {
            "text/plain": [
              "array([1, 1, 0, 0, 0])"
            ]
          },
          "metadata": {},
          "execution_count": 130
        }
      ]
    },
    {
      "cell_type": "code",
      "source": [
        "# normalize the dataset:\n",
        "from sklearn import preprocessing\n",
        "X = preprocessing.StandardScaler().fit(X).transform(X)\n",
        "X[0:5]"
      ],
      "metadata": {
        "colab": {
          "base_uri": "https://localhost:8080/"
        },
        "id": "V7y5XgWoIpd_",
        "outputId": "f3d29c58-9aee-4c0a-c6aa-f994c61049e4"
      },
      "execution_count": null,
      "outputs": [
        {
          "output_type": "execute_result",
          "data": {
            "text/plain": [
              "array([[-1.14, -0.63, -0.46,  0.48,  1.7 , -0.58, -0.86],\n",
              "       [-0.12, -0.63,  0.03, -0.33, -0.64, -1.14, -0.86],\n",
              "       [-0.58, -0.86, -0.26, -0.35, -1.42, -0.92, -0.86],\n",
              "       [ 0.12, -0.47, -0.66,  0.01, -0.64, -0.03,  1.16],\n",
              "       [-1.32, -0.47,  0.23,  0.04, -0.64,  0.53, -0.86]])"
            ]
          },
          "metadata": {},
          "execution_count": 131
        }
      ]
    },
    {
      "cell_type": "markdown",
      "source": [
        "**class sklearn.preprocessing.StandardScaler(*, copy=True, with_mean=True, with_std=True)**\n",
        "Standardize features by removing the mean and scaling to unit variance. The standard score of a sample x is calculated as:\n",
        "\n",
        "**z = (x - u) / s**\n",
        "\n",
        "where u is the mean of the training samples or zero if with_mean=False, and s is the standard deviation of the training samples or one if with_std=False.\n",
        "\n",
        "![1.JPG](data:image/jpeg;base64,/9j/4AAQSkZJRgABAQEAYABgAAD/4RDcRXhpZgAATU0AKgAAAAgABAE7AAIAAAAGAAAISodpAAQAAAABAAAIUJydAAEAAAAMAAAQyOocAAcAAAgMAAAAPgAAAAAc6gAAAAgAAAAAAAAAAAAAAAAAAAAAAAAAAAAAAAAAAAAAAAAAAAAAAAAAAAAAAAAAAAAAAAAAAAAAAAAAAAAAAAAAAAAAAAAAAAAAAAAAAAAAAAAAAAAAAAAAAAAAAAAAAAAAAAAAAAAAAAAAAAAAAAAAAAAAAAAAAAAAAAAAAAAAAAAAAAAAAAAAAAAAAAAAAAAAAAAAAAAAAAAAAAAAAAAAAAAAAAAAAAAAAAAAAAAAAAAAAAAAAAAAAAAAAAAAAAAAAAAAAAAAAAAAAAAAAAAAAAAAAAAAAAAAAAAAAAAAAAAAAAAAAAAAAAAAAAAAAAAAAAAAAAAAAAAAAAAAAAAAAAAAAAAAAAAAAAAAAAAAAAAAAAAAAAAAAAAAAAAAAAAAAAAAAAAAAAAAAAAAAAAAAAAAAAAAAAAAAAAAAAAAAAAAAAAAAAAAAAAAAAAAAAAAAAAAAAAAAAAAAAAAAAAAAAAAAAAAAAAAAAAAAAAAAAAAAAAAAAAAAAAAAAAAAAAAAAAAAAAAAAAAAAAAAAAAAAAAAAAAAAAAAAAAAAAAAAAAAAAAAAAAAAAAAAAAAAAAAAAAAAAAAAAAAAAAAAAAAAAAAAAAAAAAAAAAAAAAAAAAAAAAAAAAAAAAAAAAAAAAAAAAAAAAAAAAAAAAAAAAAAAAAAAAAAAAAAAAAAAAAAAAAAAAAAAAAAAAAAAAAAAAAAAAAAAAAAAAAAAAAAAAAAAAAAAAAAAAAAAAAAAAAAAAAAAAAAAAAAAAAAAAAAAAAAAAAAAAAAAAAAAAAAAAAAAAAAAAAAAAAAAAAAAAAAAAAAAAAAAAAAAAAAAAAAAAAAAAAAAAAAAAAAAAAAAAAAAAAAAAAAAAAAAAAAAAAAAAAAAAAAAAAAAAAAAAAAAAAAAAAAAAAAAAAAAAAAAAAAAAAAAAAAAAAAAAAAAAAAAAAAAAAAAAAAAAAAAAAAAAAAAAAAAAAAAAAAAAAAAAAAAAAAAAAAAAAAAAAAAAAAAAAAAAAAAAAAAAAAAAAAAAAAAAAAAAAAAAAAAAAAAAAAAAAAAAAAAAAAAAAAAAAAAAAAAAAAAAAAAAAAAAAAAAAAAAAAAAAAAAAAAAAAAAAAAAAAAAAAAAAAAAAAAAAAAAAAAAAAAAAAAAAAAAAAAAAAAAAAAAAAAAAAAAAAAAAAAAAAAAAAAAAAAAAAAAAAAAAAAAAAAAAAAAAAAAAAAAAAAAAAAAAAAAAAAAAAAAAAAAAAAAAAAAAAAAAAAAAAAAAAAAAAAAAAAAAAAAAAAAAAAAAAAAAAAAAAAAAAAAAAAAAAAAAAAAAAAAAAAAAAAAAAAAAAAAAAAAAAAAAAAAAAAAAAAAAAAAAAAAAAAAAAAAAAAAAAAAAAAAAAAAAAAAAAAAAAAAAAAAAAAAAAAAAAAAAAAAAAAAAAAAAAAAAAAAAAAAAAAAAAAAAAAAAAAAAAAAAAAAAAAAAAAAAAAAAAAAAAAAAAAAAAAAAAAAAAAAAAAAAAAAAAAAAAAAAAAAAAAAAAAAAAAAAAAAAAAAAAAAAAAAAAAAAAAAAAAAAAAAAAAAAAAAAAAAAAAAAAAAAAAAAAAAAAAAAAAAAAAAAAAAAAAAAAAAAAAAAAAAAAAAAAAAAAAAAAAAAAAAAAAAAAAAAAAAAAAAAAAAAAAAAAAAAAAAAAAAAAAAAAAAAAAAAAAAAAAAAAAAAAAAAAAAAAAAAAAAAAAAAAAAAAAAAAAAAAAAAAAAAAAAAAAAAAAAAAAAAAAAAAAAAAAAAAAAAAAAAAAAAAAAAAAAAAAAAAAAAAAAAAAAAAAAAAAAAAAAAAAAAAAAAAAAAAAAAAAAAAAAAAAAAAAAAAAAAAAAAAAAAAAAAAAAAAAAAAAAAAAAAAAAAAAAAAAAAAAAAAAAAAAAAAAAAAAAAAAAAAAAAAAAAAAAAAAAAAAAAAAAAAAAAAAAAAAAAAAAAAAAAAAAAAAAAAAAAAAAAAAAAAAAAAAAAAAAAAAAAAAAAAAAAAAAAAAAAAAAAAAAAAAAAAAAAAAAAAAAAAAAAAAAAAAAAAAAAAAAAAAAAAAAAAAAAAAAAAAAAAAAAAAAAAAAAAAAAAAAAAAAAAAAAAAAAAAAAAAAAAAAAAAAAAAAAAAAAAAAAAAAAAAAAAAAAAAAAAAAAAAAAAAAAAAAAAAAAAAAAAAAAAAAAAAAAAAAAAAAAAAAAAAAAAAAAAAAAAAAAAAAAAAAAAAAAAAAAAAAAAAAAAAAAAAAAAAAAAAAAAAAAAAAAAAAAAAAAAAAAAAAAAAAAAAAAAAAAAAAAAAAAAAAAAAAAAAAAAAAAAAAAAAAAAAAAAAAAAAAAAAAAAAAAAAAAAAAAAAAAAAAAAAAAAAAAAAAAAAAAAAAAAAAAAAAAAAAAAAAAAAAAAAAAAAAAAAAAAAAAAAAAAAAAAAAAAAAAAAAAAAAAAAAAAAAAAAAAAAAAAAAAAAAAAAAAAAAAAAAAAAAAAAAAAAAAAAAAAAAAAAAAAAAAAAAAAAAAAAAAAAAAAAAAAAAAAAAAAAAAAAAAAAAAAAAAAAAAAAAAAAAAAAAAAAAAAAAAAAAAAAAAAAAAAAAAAAAAAAAAAAAAAAAAAAAAAAAAAAAAAAAAAAAAAAAAAAAAAAAAAAAAAAAAAAAAAAAAAAAAAAAAAAAAAAAAAAAAAAAAAAAAAAAAAAAAAAAAAAAAAAAAAAAAAAAAAAAAAAAAAAAAAAAAAAAAAAAAAAAAAAAAGRpYW5hAAAFkAMAAgAAABQAABCekAQAAgAAABQAABCykpEAAgAAAAM5OAAAkpIAAgAAAAM5OAAA6hwABwAACAwAAAiSAAAAABzqAAAACAAAAAAAAAAAAAAAAAAAAAAAAAAAAAAAAAAAAAAAAAAAAAAAAAAAAAAAAAAAAAAAAAAAAAAAAAAAAAAAAAAAAAAAAAAAAAAAAAAAAAAAAAAAAAAAAAAAAAAAAAAAAAAAAAAAAAAAAAAAAAAAAAAAAAAAAAAAAAAAAAAAAAAAAAAAAAAAAAAAAAAAAAAAAAAAAAAAAAAAAAAAAAAAAAAAAAAAAAAAAAAAAAAAAAAAAAAAAAAAAAAAAAAAAAAAAAAAAAAAAAAAAAAAAAAAAAAAAAAAAAAAAAAAAAAAAAAAAAAAAAAAAAAAAAAAAAAAAAAAAAAAAAAAAAAAAAAAAAAAAAAAAAAAAAAAAAAAAAAAAAAAAAAAAAAAAAAAAAAAAAAAAAAAAAAAAAAAAAAAAAAAAAAAAAAAAAAAAAAAAAAAAAAAAAAAAAAAAAAAAAAAAAAAAAAAAAAAAAAAAAAAAAAAAAAAAAAAAAAAAAAAAAAAAAAAAAAAAAAAAAAAAAAAAAAAAAAAAAAAAAAAAAAAAAAAAAAAAAAAAAAAAAAAAAAAAAAAAAAAAAAAAAAAAAAAAAAAAAAAAAAAAAAAAAAAAAAAAAAAAAAAAAAAAAAAAAAAAAAAAAAAAAAAAAAAAAAAAAAAAAAAAAAAAAAAAAAAAAAAAAAAAAAAAAAAAAAAAAAAAAAAAAAAAAAAAAAAAAAAAAAAAAAAAAAAAAAAAAAAAAAAAAAAAAAAAAAAAAAAAAAAAAAAAAAAAAAAAAAAAAAAAAAAAAAAAAAAAAAAAAAAAAAAAAAAAAAAAAAAAAAAAAAAAAAAAAAAAAAAAAAAAAAAAAAAAAAAAAAAAAAAAAAAAAAAAAAAAAAAAAAAAAAAAAAAAAAAAAAAAAAAAAAAAAAAAAAAAAAAAAAAAAAAAAAAAAAAAAAAAAAAAAAAAAAAAAAAAAAAAAAAAAAAAAAAAAAAAAAAAAAAAAAAAAAAAAAAAAAAAAAAAAAAAAAAAAAAAAAAAAAAAAAAAAAAAAAAAAAAAAAAAAAAAAAAAAAAAAAAAAAAAAAAAAAAAAAAAAAAAAAAAAAAAAAAAAAAAAAAAAAAAAAAAAAAAAAAAAAAAAAAAAAAAAAAAAAAAAAAAAAAAAAAAAAAAAAAAAAAAAAAAAAAAAAAAAAAAAAAAAAAAAAAAAAAAAAAAAAAAAAAAAAAAAAAAAAAAAAAAAAAAAAAAAAAAAAAAAAAAAAAAAAAAAAAAAAAAAAAAAAAAAAAAAAAAAAAAAAAAAAAAAAAAAAAAAAAAAAAAAAAAAAAAAAAAAAAAAAAAAAAAAAAAAAAAAAAAAAAAAAAAAAAAAAAAAAAAAAAAAAAAAAAAAAAAAAAAAAAAAAAAAAAAAAAAAAAAAAAAAAAAAAAAAAAAAAAAAAAAAAAAAAAAAAAAAAAAAAAAAAAAAAAAAAAAAAAAAAAAAAAAAAAAAAAAAAAAAAAAAAAAAAAAAAAAAAAAAAAAAAAAAAAAAAAAAAAAAAAAAAAAAAAAAAAAAAAAAAAAAAAAAAAAAAAAAAAAAAAAAAAAAAAAAAAAAAAAAAAAAAAAAAAAAAAAAAAAAAAAAAAAAAAAAAAAAAAAAAAAAAAAAAAAAAAAAAAAAAAAAAAAAAAAAAAAAAAAAAAAAAAAAAAAAAAAAAAAAAAAAAAAAAAAAAAAAAAAAAAAAAAAAAAAAAAAAAAAAAAAAAAAAAAAAAAAAAAAAAAAAAAAAAAAAAAAAAAAAAAAAAAAAAAAAAAAAAAAAAAAAAAAAAAAAAAAAAAAAAAAAAAAAAAAAAAAAAAAAAAAAAAAAAAAAAAAAAAAAAAAAAAAAAAAAAAAAAAAAAAAAAAAAAAAAAAAAAAAAAAAAAAAAAAAAAAAAAAAAAAAAAAAAAAAAAAAAAAAAAAAAAAAAAAAAAAAAAAAAAAAAAAAAAAAAAAAAAAAAAAAAAAAAAAAAAAAAAAAAAAAAAAAAAAAAAAAAAAAAAAAAAAAAAAAAAAAAAAAAAAAAAAAAAAAAAAAAAAAAAAAAAAAAAAAAAAAAAAAAAAAAAAAAAAAAAAAAAAAAAAAAAAAAAAAAAAAAAAAAAAAAAAAAAAAAAAAAAAAAAAAAAAAAAAAAAAAAAAAAAAAAAAAAAAAAAAAAAAAAAAAAAAAAAAAAAAAAAAAAAAAAAAAAAAAAAAAAAAAAAAAAAAAAAAAAAAAAAAAAAAAAAAAAAAAAAAAAAAAAAAAAAAAAAAAAAAAAAAAAAAAAAAAAAAAAAAAAAAAAAAAAAAAAAAAAAAAAAAAAAAAAAAAAAAAAAAAAAAAAAAAAAAAAAAAAAAAAAAAAAAAAAAAAAAAAAAAAAAAAAAAAAAAAAAAAAAAAAAAAAAAAAAAAAAAAAAAAAAAAAAAAAAAAAAAAAAAAAAAAAAAAAAAAAAAAAAAAAAAAAAAAAAAAAAAAAAAAAAAAAAAAAAAAAAAAAAAAAAAAAAAAAAAAAAAAAAAAAAAAAAAAAAAAAAAAAAAAAAAAAAAAAAAAAAAAAAAAAAAAAAAAAAAAAAAAAAAAAAAAAAAAAAAAAAAAAAAAAAAAAAAAAAAAAAAAAAAAAAAAAAAAAAAAAAAAAAAAAAAAAAAAAAAAAAAAAAAAAAAAAAAAAAAAAAAAAAAAAAAAAAAAAAAAAAAAAAAAAAAAAAAAAAAAAAAAAAAAAAAAAAAAAAAAAAAAAAAAAAAAAAAAAAAAAAAAAAAAAAAAAAAAAAAAAAAAAAAAAAAAAAMjAyMjowMTowNiAwNjo1MToxNwAyMDIyOjAxOjA2IDA2OjUxOjE3AAAAZABpAGEAbgBhAAAA/+ELGGh0dHA6Ly9ucy5hZG9iZS5jb20veGFwLzEuMC8APD94cGFja2V0IGJlZ2luPSfvu78nIGlkPSdXNU0wTXBDZWhpSHpyZVN6TlRjemtjOWQnPz4NCjx4OnhtcG1ldGEgeG1sbnM6eD0iYWRvYmU6bnM6bWV0YS8iPjxyZGY6UkRGIHhtbG5zOnJkZj0iaHR0cDovL3d3dy53My5vcmcvMTk5OS8wMi8yMi1yZGYtc3ludGF4LW5zIyI+PHJkZjpEZXNjcmlwdGlvbiByZGY6YWJvdXQ9InV1aWQ6ZmFmNWJkZDUtYmEzZC0xMWRhLWFkMzEtZDMzZDc1MTgyZjFiIiB4bWxuczpkYz0iaHR0cDovL3B1cmwub3JnL2RjL2VsZW1lbnRzLzEuMS8iLz48cmRmOkRlc2NyaXB0aW9uIHJkZjphYm91dD0idXVpZDpmYWY1YmRkNS1iYTNkLTExZGEtYWQzMS1kMzNkNzUxODJmMWIiIHhtbG5zOnhtcD0iaHR0cDovL25zLmFkb2JlLmNvbS94YXAvMS4wLyI+PHhtcDpDcmVhdGVEYXRlPjIwMjItMDEtMDZUMDY6NTE6MTcuOTgwPC94bXA6Q3JlYXRlRGF0ZT48L3JkZjpEZXNjcmlwdGlvbj48cmRmOkRlc2NyaXB0aW9uIHJkZjphYm91dD0idXVpZDpmYWY1YmRkNS1iYTNkLTExZGEtYWQzMS1kMzNkNzUxODJmMWIiIHhtbG5zOmRjPSJodHRwOi8vcHVybC5vcmcvZGMvZWxlbWVudHMvMS4xLyI+PGRjOmNyZWF0b3I+PHJkZjpTZXEgeG1sbnM6cmRmPSJodHRwOi8vd3d3LnczLm9yZy8xOTk5LzAyLzIyLXJkZi1zeW50YXgtbnMjIj48cmRmOmxpPmRpYW5hPC9yZGY6bGk+PC9yZGY6U2VxPg0KCQkJPC9kYzpjcmVhdG9yPjwvcmRmOkRlc2NyaXB0aW9uPjwvcmRmOlJERj48L3g6eG1wbWV0YT4NCiAgICAgICAgICAgICAgICAgICAgICAgICAgICAgICAgICAgICAgICAgICAgICAgICAgICAgICAgICAgICAgICAgICAgICAgICAgICAgICAgICAgICAgICAgICAgICAgICAgICAKICAgICAgICAgICAgICAgICAgICAgICAgICAgICAgICAgICAgICAgICAgICAgICAgICAgICAgICAgICAgICAgICAgICAgICAgICAgICAgICAgICAgICAgICAgICAgICAgICAgIAogICAgICAgICAgICAgICAgICAgICAgICAgICAgICAgICAgICAgICAgICAgICAgICAgICAgICAgICAgICAgICAgICAgICAgICAgICAgICAgICAgICAgICAgICAgICAgICAgICAgCiAgICAgICAgICAgICAgICAgICAgICAgICAgICAgICAgICAgICAgICAgICAgICAgICAgICAgICAgICAgICAgICAgICAgICAgICAgICAgICAgICAgICAgICAgICAgICAgICAgICAKICAgICAgICAgICAgICAgICAgICAgICAgICAgICAgICAgICAgICAgICAgICAgICAgICAgICAgICAgICAgICAgICAgICAgICAgICAgICAgICAgICAgICAgICAgICAgICAgICAgIAogICAgICAgICAgICAgICAgICAgICAgICAgICAgICAgICAgICAgICAgICAgICAgICAgICAgICAgICAgICAgICAgICAgICAgICAgICAgICAgICAgICAgICAgICAgICAgICAgICAgCiAgICAgICAgICAgICAgICAgICAgICAgICAgICAgICAgICAgICAgICAgICAgICAgICAgICAgICAgICAgICAgICAgICAgICAgICAgICAgICAgICAgICAgICAgICAgICAgICAgICAKICAgICAgICAgICAgICAgICAgICAgICAgICAgICAgICAgICAgICAgICAgICAgICAgICAgICAgICAgICAgICAgICAgICAgICAgICAgICAgICAgICAgICAgICAgICAgICAgICAgIAogICAgICAgICAgICAgICAgICAgICAgICAgICAgICAgICAgICAgICAgICAgICAgICAgICAgICAgICAgICAgICAgICAgICAgICAgICAgICAgICAgICAgICAgICAgICAgICAgICAgCiAgICAgICAgICAgICAgICAgICAgICAgICAgICAgICAgICAgICAgICAgICAgICAgICAgICAgICAgICAgICAgICAgICAgICAgICAgICAgICAgICAgICAgICAgICAgICAgICAgICAKICAgICAgICAgICAgICAgICAgICAgICAgICAgICAgICAgICAgICAgICAgICAgICAgICAgICAgICAgICAgICAgICAgICAgICAgICAgICAgICAgICAgICAgICAgICAgICAgICAgIAogICAgICAgICAgICAgICAgICAgICAgICAgICAgICAgICAgICAgICAgICAgICAgICAgICAgICAgICAgICAgICAgICAgICAgICAgICAgICAgICAgICAgICAgICAgICAgICAgICAgCiAgICAgICAgICAgICAgICAgICAgICAgICAgICAgICAgICAgICAgICAgICAgICAgICAgICAgICAgICAgICAgICAgICAgICAgICAgICAgICAgICAgICAgICAgICAgICAgICAgICAKICAgICAgICAgICAgICAgICAgICAgICAgICAgICAgICAgICAgICAgICAgICAgICAgICAgICAgICAgICAgICAgICAgICAgICAgICAgICAgICAgICAgICAgICAgICAgICAgICAgIAogICAgICAgICAgICAgICAgICAgICAgICAgICAgICAgICAgICAgICAgICAgICAgICAgICAgICAgICAgICAgICAgICAgICAgICAgICAgICAgICAgICAgICAgICAgICAgICAgICAgCiAgICAgICAgICAgICAgICAgICAgICAgICAgICAgICAgICAgICAgICAgICAgICAgICAgICAgICAgICAgICAgICAgICAgICAgICAgICAgICAgICAgICAgICAgICAgICAgICAgICAKICAgICAgICAgICAgICAgICAgICAgICAgICAgICAgICAgICAgICAgICAgICAgICAgICAgICAgICAgICAgICAgICAgICAgICAgICAgICAgICAgICAgICAgICAgICAgICAgICAgIAogICAgICAgICAgICAgICAgICAgICAgICAgICAgICAgICAgICAgICAgICAgICAgICAgICAgICAgICAgICAgICAgICAgICAgICAgICAgICAgICAgICAgICAgICAgICAgICAgICAgCiAgICAgICAgICAgICAgICAgICAgICAgICAgICAgICAgICAgICAgICAgICAgICAgICAgICAgICAgICAgICAgICAgICAgICAgICAgICAgICAgICAgICAgICAgICAgICAgICAgICAKICAgICAgICAgICAgICAgICAgICAgICAgICAgICAgICAgICAgICAgICAgICAgICAgICAgICAgICAgICAgICAgICAgICAgICAgICAgICAgICAgICAgICAgICAgICAgICAgICAgIAogICAgICAgICAgICAgICAgICAgICAgICAgICAgPD94cGFja2V0IGVuZD0ndyc/Pv/bAEMABwUFBgUEBwYFBggHBwgKEQsKCQkKFQ8QDBEYFRoZGBUYFxseJyEbHSUdFxgiLiIlKCkrLCsaIC8zLyoyJyorKv/bAEMBBwgICgkKFAsLFCocGBwqKioqKioqKioqKioqKioqKioqKioqKioqKioqKioqKioqKioqKioqKioqKioqKioqKv/AABEIAPQC0gMBIgACEQEDEQH/xAAfAAABBQEBAQEBAQAAAAAAAAAAAQIDBAUGBwgJCgv/xAC1EAACAQMDAgQDBQUEBAAAAX0BAgMABBEFEiExQQYTUWEHInEUMoGRoQgjQrHBFVLR8CQzYnKCCQoWFxgZGiUmJygpKjQ1Njc4OTpDREVGR0hJSlNUVVZXWFlaY2RlZmdoaWpzdHV2d3h5eoOEhYaHiImKkpOUlZaXmJmaoqOkpaanqKmqsrO0tba3uLm6wsPExcbHyMnK0tPU1dbX2Nna4eLj5OXm5+jp6vHy8/T19vf4+fr/xAAfAQADAQEBAQEBAQEBAAAAAAAAAQIDBAUGBwgJCgv/xAC1EQACAQIEBAMEBwUEBAABAncAAQIDEQQFITEGEkFRB2FxEyIygQgUQpGhscEJIzNS8BVictEKFiQ04SXxFxgZGiYnKCkqNTY3ODk6Q0RFRkdISUpTVFVWV1hZWmNkZWZnaGlqc3R1dnd4eXqCg4SFhoeIiYqSk5SVlpeYmZqio6Slpqeoqaqys7S1tre4ubrCw8TFxsfIycrS09TV1tfY2dri4+Tl5ufo6ery8/T19vf4+fr/2gAMAwEAAhEDEQA/APpGivL7r4oanYfGR/DV5bWa6ItxFa/aRG/mrJLFuTLbtvLDHQcfSn6l8TdSi+MFn4X0+1tW0t7hbWe4ljcyGXZvYIwbb8oZAcjOTTSva3X+v1QPS9+h6bRXMXfxI8I2PiVdAutcgj1IuI/K2sVVj/CXA2g+xIrIt/i3od38QrvwpGSkkQMcVyQ/724BIaPbs4xg/MTg4qb6aBtud9RXlfw6+LOmXvh/TbXxb4ghfXb24kjVPKwT+8KoG2LtTIxjdjNdVrvxM8H+G9X/ALL1nW4be8ABaJY3k2Z6biikKe+CRwQehqrB38jqqK57XvHvhjwxFaSa3rEFul6N1uVDS+Yv94bAfl/2unvXI+DPibbL4X1rWvGWtw/ZINamtLSYRg7owFKKojXL8EnOCcck4FJa38v80v1A9PorN0DxBpnifSI9U0O5+1WcjMqy+WyZIODwwB6+1aVGwbhRRRQAUUUUAFFFFABRRRQAUUUUAFFFFABRRRQAUUUUAFFFFABRRRQAUUUUAFFFFABRRRQAUUUUAFFFFABRRRQAUUUUAFFFFABRRRQAUUUUAFFFFABRRRQAUUUUAFFFFABRRRQAUUUUAFFFFABRRRQAUUUUAFFFFABRRRQAUUUUAFFFFABRRRQAUUUUAFFFFABRRRQAUUUUAFFFFABRRRQAUUUUAeSeIvh9rWsax46uYrXYb1bOfSZvNTLzQrnjnK88ZbHWodM8AeIra+8FX95aCS9i1G71DWpRLH+7km24/i+bgAfLnpXsNFOL5bW6W/D+l9yCXvb/ANaW/r1Z8/3Pwq8Tp4h1GxurTV7/AEjUNSNy1xp+uQ20O1nB3vA6Es69T9Bj1rvG0PxDpnxku9Ys9KF/pWqWEdtLdfakjNsV6koeWPyjoP4uvavRKKXRLt/lb8gerb7/AOd/zPDh8OfEqfB/RtHi0lV1W31wXk8azxAqmX+fduwTgr0OenpWjqHhfxho9/4w0/R/D9vrVl4od3W/kvUiNrvVlIdGGW27sgDt7nA9gopt30f9bf5IOt/63b/VnkFv4I8U+DfEnh/VtH0238SfZNHXTZojdLb+Q4OTIrOPu8kcDOM8Vl2vgLxJbeBbuy1DwrJd6lJr8l/AdN1aK0a1G1dssTncMZBAUjIHOAQK9zoou/69b/mJK239aW/I5j4e2XiPT/CEMHjC5ae/DsVEkolkij/hR5AMOw7t3z1rp6KKG7glZBRRRSGFFFFABRRRQAUUUUAFFFFABRRRQAUUUUAFFFFABRRRQAUUUUAFFFFABRRRQAUUUUAFFFFABRRRQAUUUUAFFFFABRRRQAUUUUAFFFFABRRRQAUUUUAFFFFABRRRQAUUUUAFFFFABRRRQAUUUUAFFFFABRRRQAUUUUAFFFFABRRRQAUUUUAFFFFABRRRQAUUUUAFFFFABRRRQAUUUUAFFFFABRVdp5QxAiQgHg7z/hSfaZf+eSf9/D/hTsK6LNFVvtMv/PJP+/h/wo+0y/8APJP+/h/woswuizRVb7TL/wA8k/7+H/Cj7TL/AM8k/wC/h/woswuizRVb7TL/AM8k/wC/h/wo+0y/88k/7+H/AAoswuizRVb7TL/zyT/v4f8ACj7TL/zyT/v4f8KLMLos0VW+0y/88k/7+H/Cj7TL/wA8k/7+H/CizC6LNFVvtMv/ADyT/v4f8KPtMv8AzyT/AL+H/CizC6LNFVvtMv8AzyT/AL+H/Cj7TL/zyT/v4f8ACizC6LNFVvtMv/PJP+/h/wAKPtMv/PJP+/h/woswuizRVb7TL/zyT/v4f8KPtMv/ADyT/v4f8KLMLos0VW+0y/8APJP+/h/wo+0y/wDPJP8Av4f8KLMLos0VW+0y/wDPJP8Av4f8KPtMv/PJP+/h/wAKLMLos0VW+0y/88k/7+H/AAo+0y/88k/7+H/CizC6LNFVvtMv/PJP+/h/wo+0y/8APJP+/h/woswuizRVb7TL/wA8k/7+H/Cj7TL/AM8k/wC/h/woswuizRVb7TL/AM8k/wC/h/wo+0y/88k/7+H/AAoswuizRVb7TL/zyT/v4f8ACj7TL/zyT/v4f8KLMLos0VW+0y/88k/7+H/Cj7TL/wA8k/7+H/CizC6LNFVvtMv/ADyT/v4f8KPtMv8AzyT/AL+H/CizC6LNFVvtMv8AzyT/AL+H/Cj7TL/zyT/v4f8ACizC6LNFVvtMv/PJP+/h/wAKPtMv/PJP+/h/woswuizRVb7TL/zyT/v4f8KPtMv/ADyT/v4f8KLMLos0VW+0y/8APJP+/h/wo+0y/wDPJP8Av4f8KLMLos0VW+0y/wDPJP8Av4f8KPtMv/PJP+/h/wAKLMLos0VW+0y/88k/7+H/AAo+0y/88k/7+H/CizC6LNFVvtMv/PJP+/h/wo+0y/8APJP+/h/woswuizRVb7TL/wA8k/7+H/Cj7TL/AM8k/wC/h/woswuizRVb7TL/AM8k/wC/h/wo+0y/88k/7+H/AAoswuizRVb7TL/zyT/v4f8ACj7TL/zyT/v4f8KLMLos0VW+0y/88k/7+H/Cj7TL/wA8k/7+H/CizC6LNFVvtMv/ADyT/v4f8KPtMv8AzyT/AL+H/CizC6LNFVvtMv8AzyT/AL+H/Cj7TL/zyT/v4f8ACizC6LNFVvtMv/PJP+/h/wAKPtMv/PJP+/h/woswuizRVb7TL/zyT/v4f8KPtMv/ADyT/v4f8KLMLos0VW+0y/8APJP+/h/wo+0y/wDPJP8Av4f8KLMLos0VW+0y/wDPJP8Av4f8KPtMv/PJP+/h/wAKLMLos0VW+0y/88k/7+H/AAo+0y/88k/7+H/CizC6LNFVvtMv/PJP+/h/wo+0y/8APJP+/h/woswuizRVb7TL/wA8k/7+H/Cj7TL/AM8k/wC/h/woswuizRVb7TL/AM8k/wC/h/wo+0y/88k/7+H/AAoswuizRVb7TL/zyT/v4f8ACj7TL/zyT/v4f8KLMLos0VW+0y/88k/7+H/Cj7TL/wA8k/7+H/CizC6LNFVvtMv/ADyT/v4f8KPtMv8AzyT/AL+H/CizC6LNFVvtMv8AzyT/AL+H/Cj7TL/zyT/v4f8ACizC6LNFVvtMv/PJP+/h/wAKPtMv/PJP+/h/woswuizRVb7TL/zyT/v4f8KKLMLogvrmOytbi6mz5cKNI+Bk4AyayrPXZH0AarqcNpYwyRLJAGvB824ZAZmVQpPHc9as+I9OXVNDvrU20dzI0T+Skig/PtO0jPAOe9UNP05tG8HQ21rpebprZUmhthGrNJsALElgDz1OfzrVW5X3MXzc67aklz4ptNP8MRaxqeyESRhhDFOkhYn+FGyA/wCHajUvECNp1u2gXFpd3N5crawNv8yNWI3MW2nnagZsZGcYyM5rJTRtSuvhe+iSWb217HbCJUlkQiRhg8FWIwenOKs6tdSrceHr+8s5rOODUfKlWZkJTzIXjVsqxGC7KvXvVyjFPTuZ05TaTfb8RL/xZPol/f2WqW6S3BVZNJSAFTehiF8sZJ+dXIBPTawbAGcTwajrf/CT2GlXUunj/iXm6vDHbud77wu2MmT5Rz1IbOO2eKGqeHtV8Q6hdalMz6dc6e23RFMgKqwwWmcKSCH+5tPITPALGpIr2T/hNob3ULZrORdBaSaBnVzGRKCRlSQfqKwTs1fz/Jtf8E3ls7eX5pP/AIB1F5dw2FjPd3TFIII2kkYKWIUDJOBknj0qJ9Us45rKJpgXvyRbBVJ8zClyeBwNozk4HQdSKXT55L7Sbae7tvs8k8KvJAW3eWWGSpOBnGcdK5DQj/Z8epXtwjTW3huCWwtMHLSKp3tj1O0Qp67kaq2bT/r+tA3Sa/r+tTt5JEijaSVlREBZmY4CgdSTWTaeKdLvoJ5oHuhHBGJWaSxnj3oc4KbkHmZxxsznj1FXJ/Mn0WTz7JZpZLc77TeCHYrzHuOBz0ycVx0Fh4nt9Lv4dITU7KzVYBa2l9cQS3MYEmZlik3OMGM4XzHJDf3RilrdoFZpM6NfF2inTr2+kuZLeGwwbkXNtLC8QPQlHUNg9jjHB9DUJ8caCJJIvtNwbiMbjbCxnMzJ/wA9Fj2b2Tj74BX3rlT4X1WaHxK1vpd9bpf2lpHbR3+oi5mZkkkLhmaR9v3gQNxGCO5IHYDT7j/hOpNRMQ+zHTVgEuR9/wAwsVx16YPpQ73sv60F3/rsPuPFOjWtvYzSXoZNQjMlp5UbSG4AUN8gUEscEYA5PYVm6t4oSfQre90G6YH+1bW0mDwlHTdOiujpIoZCVbuAcEEdjWJDb6hoc3g+F9Na5u7eG7EltHKgcZA+6SdpPPQsBjPPardxoWrahb3d89gbee91myuhaNKhaKGGSIFnIJXdtQkhSeMAZNONnJdrr80Pp8v0OivPFGkWF81pdXEiujKssi28jRQs2MCSUKUQ8jhiOCD3FazEKpJzgDPAzXAXPhZ21PVLXUdG1XUrXULppVmtdZeG32SYyssXnLjBznajZXHU5FdOvi7w0bwWSeIdKNz5nlCAXse/fnG3buznPGOtJaxXcHv5EkfiXSJU0pkvVI1j/jxyrDzvk39MccDvj068Uk/ibSreEyG4klxO9uI7e3kmkaRPvhURSzbcckAgVyjeFtXjGoyJarK+lyb9DHnKGlBl89lyfuA4WLnspPQ0+58K3lvBoV1JZ3t7Jb28yXsGnag1rN5szLI7qwkjDDepyC3cEZxRv/X3f8HsH9f1/Xc6JdZttQvdIl0/VgkNy8w+z/ZyTcFVOUJIzGyEZIODkYNNk8a6DFcCKS8kUNOLZJvssvkySltmxJduxm3ZBAJxhs/dOM2z8PSQX2hzWOnXFlDFLdTXK3N358sbSIQCzF2LMTjOGYD171jXy6vpvg3SdButHaP7He2UDXomjMM6pcIA0ahi5ZgASGVQPm5OBlrWVvT+v63BbNmza+NLWy1bX4Nbu5PLs78RxlLV3W3iMMTAyMikIu5nO5yO/OBxoTeKY/8AhLJPD0UFytx9mEqXJs5niDEkDJChdvQ7twGeMg1nz6FqD6P43hS2zLqskptBvX96DaxxjnPHzKRzj8qtw2V/ZeKrG7FjJPby6atpLJG8f+jurbssGYEg5I+XceOlJauKfZf+kv8AX8QeibXn+a/QrW/iXU4dItr7UfscsceqSWF40MLR/L5xhSRAXbHzbcgk8E4Ixz11efyvu8FXdogDz3uvzW8SHuTesSR9FVm+imvQKf8AX4L+vmOStJr1/NhRRRSJCiiigAooooAKKKKACiiigAooooAKydS1maDUE03SrRb3UXj84xyTeVHFHnG6R8MQCQQAFYkg8AAka1czePNoXi6fVpbS5ubC+tIoHktIGmeCSNnIyiAuVYSdVBwRzgHNA+hp2+p3Ftp1xdeJorPSlgf5pBeeZDswMNvZUxySMEDp71NBrOmXWmnUbbUrSaxGQbqOdWi64+8DjrxXPatfLqEuk6wul6hcafYXjGSN7KRZQSm1ZlhYB2Cs2Pu55JAIGay9ZsZtY0vxTe2Wm3K22oQW8UcMtsySXLox3uYmAYcFV+YAkJnpgk7i6HWt4p8Pray3La7pot4ZPJllN5Hsjf8Ausc4DcdDzVq51XT7OFZry/toImjMivLMqqUAyWBJ6AEHPvWKukRf8LIe/wDsC7F0hYFn8ngfvTlN2MdMcelcxaoulp4HOqabcyGziuj5S2zSSQYACsIwN3AOMKCRnpSvpf8ArdofW39bXPQbbVtOvLWC5s7+1nt7h9kMsUyskrc8KQcE8HgehqvrPiHTNC02+vb+6iVLGLzZoxIocA52jBI5YjCg4ya5EwXKzXOvwaZeJZPrUN0LcWzCZoxF5TzeTjfkk5243ELnGTU00N5rreM2tdPu4UvtLjgtGuYGh89vLlHAYAjlsYIB74wRQ2+Vv+tkOKXMl0/4J0q+KdCOjQ6s+sWEVhMdqXEl0gjLf3d2cbuDxnsa0o54prdbiKVJIXUOsisCrKRkEHpjHeuCvWnuL3RdWSTXrC0jsXtjJaaYXmhlypIaGSF3AYLjcq4+Uc4IrqfC2nw6Z4fhgtXvHiZ5JQb2MRyne5Y5QKoXk5C7RgcEA8VbW9v6/rchbK/9f1sZMnj/AE2/8P3994du7W6ms7hYWjMivx5wj34Rs7WGSp78V0NhrGmaq0y6ZqNpetbttmFvOshjPo2CcHg9fSuIurGafwh4i0SWwupJ21R5jH9lkKSxSXIcFW27X+U8gE45zitHxPo99eaveR6TA8bz6BcWySxjYu/euxN3QHlsZ6ZPvUJ7en6X/wCAW0rv1/W3/BOlsNa0rVZpotL1OzvZLc4mS3uFkMZ5GGCk46Hr6U6/1fTdKXdqmoWtku0vm4nWMbQQCfmI4yyj8R61y3hmygudYs7trvxBJPY2rRLDqGnR2scCttBQMsEe/wC6MBSy/Ln0rU1Cyeb4haNdG2aSK3srsed5eVjdmiA+bsSN31Gaq2qX9dSVruaMev6PLeW9nFq1i9zdRiWCBblC8yEEhlXOWGATkccU641vSrTUodOutTs4b2fBitpLhVkkycDapOTyD0riLXQ5rTwTbRW2mSQ3C+JBcFEgKsE+3n58AZA8rv02+1R3ukPPqGt6Xq954igTUrwuiWGnxywzowUIfO8hthXAX53XbtBGBg0LV/15f5/h9zen9ev+X4nd3OuaTZ6jDp93qdnBez48q2luEWSTJwNqk5OSMcUy98QaNpsmzUdWsbR94TbPcoh3EZAwT1I5xXDeMv7Wv4ddsAmqIwK/ZLWw00PHdoFQ+ZJMyMMg5GFZGATgE4rei0nfrXi6eaxLfbIIold4s+cghwVGR8wySMetS3aNwSvKx1lULHXNJ1SaeLTdUsryS3/1yW9wkjRdvmAPHQ9fSqWlfb7bwDZ+XbmTUYtNTbBPlS0oiHytnkfNwc1y2jpf3ni7Sr2RtWuETTrmOb7Tpf2SG2dvKIjjBjV8ccbmcfLwxINOXuya7f8AB/yFHWKfc7S28QaNe3ws7PVrG4umjEggiuUZyhAIbaDnGCDn0NZviXxdZaPY3sdpqFhJq1ugcWUkymTBI5KAhsYOaxNK0aa08GeCYYtOkhmtbmCSZBCQ0JMb+YWGMrksck+vPWqOopJ/wgl/oEmg30+qi5aVwtk8kcrGff56y7djHB3YB3Dpjim92v66f5hLRf15/wCX4/f6TLLHBC8szrHHGpZ3c4CgdST2FYF/498M2GmxX51mxuLaS5S2ElvdRsA7EA5O7GFDBm9F5q74mt7a68OXcF8t20EiqH+xxGSVfmGGVQDuwecYPA6HpXJ3LavqHhmaW6tprpbTVbOaK4GnyQXF1BHJEzs0BG7eMOOFG7GVUDFJb6+X56j6HYXPiHRbOG1mvNXsIIrwZtnluUVZxxyhJ+bqOnqKi8N6rLq/h2DULwRxyOZNwQEKArsvcnsKx/tqWfiq8vr3TL6eDUrSBbSaOxllO0bt0TqFzFy2fnCjk5PBxc8BWs1n4H0+C5s3sZE8zNtIm0xAyMQuPpjpxQLqWNB8XaL4kiun0q/gm+yyOkoEyMQFYjf8pPyHBIJ6irmm61pWtJI+j6nZ36xkB2tbhZQhPQHaTiuMeyuZPDmt6W2nXVxLFq73ktsYGVLu3a480qjsAjlkyNoPXg4zWzaSrrPjG01OwsbuCC1s5YZ7i6tJLYuWZCsYWRVZgNrHOMD1yTQtUv66f0v6sOWjfq/z/plzVfECaT4is7W8mtrawltJ7ia4nbZsKNEF+YkAD94evtWiurac+l/2mt/atYbC/wBrEy+VtHVt+cY981zniMLbeOtC1O50y6u7a1tboGa3tGn+zuxiCthQWyRuHygnk8YBIxLrS7+axl1O2g1GxspteF+YLe2U3CReVs80QurZJkAk2FC3fG6hbf13t+X5Da/r5f19/wB/oFhqNlqlot1pl5b3luxIWa3lWRCRwcMCRT/tdt+//wBIi/0c4m+cfuvlDfN6cEHnsc1heE7KCJtQv4brVrp72VDLJqdqLZmKrjIjEUZ6YGSvOBzxWZqFxcabe+KbVtNv7mXUkE1mba1eRJf9HWMqXA2owaM8MRwRjOaUnZN+QRSk9TpbvxDo2ni2N/q9hai6G63865RPOHHK5PzdR09RT7nW9KstRhsLzU7O3vJ8eTbS3CrJJk4G1ScnJBHFcRLHdadDYSaZb3x1aTS7W2nsp9MkmtbpAp+RpAAInBZslnAGfmU8YZqGkvLqmvafq134hhj1O43Ilhp8c0NxGyKq/vfIfyyNu353XGARgHNW1aVl5/mRF3jf0O31LXdM0uRLe91GztruZT9ngnnVHlPQBVJBbnjio/D2qvqfhHTdWvvKhe5so7mbb8qIWQMcZPAGe5rn5D/ZuoeIrXUdIvL59SKm2eO1edLmPyQgjZwNqYYNw5UfPnPJra8GQTWvgXQre6ieGaLT4EkjkUqyMIwCCDyCD2pL4W/T9f6ZT6fP9Ch4Z8YW2uWepapLquliwtpnQJG43W6I7KHlk3kYcLuHyrgHqetblvrelXmnNqFpqdnPZIdrXMVwjRqfQsDjuPzrjLawurbw9plxeabczwWWu3d1cWqws0mwzT7JBHjL7S6OAATgZAJApuv2cuu2PiO9sNMuhbXllb24SW2eOS6dZGLHymAfAVgMkDPbgZofkD0v/XU7uzvrTUITNYXUN1EHKF4ZA6hgcEZHcHtWNpfiq0Phe21bxBe2OnCaR498soijJDsAAWPXC56+tdAqqiBUAVVGAAOAK87sm1XTtG0a1lTUNOt2W6Mt1Z6abi5R/OyseCj7FYHcWKEHaORwal7iOo1XxloOi3Gmx6hqVtENSJ8mVp4wgXYW3klh8hxgEZ5YDvV+51vSrPUIbC71OzgvLjBht5bhFkkycDapOTkjHFcNptpeab4d8KXN5ZX4XT9SuXuI/srSTRo63CqTHGp7uv3RjnI4pNQ0l5tU12w1W78Qwxapcb0Sw0+OaG4jZFVf3vkP5ZG3b87rjAPA5qutv66aD6X/AK6neSatp0V8llLqFql27bFgaZRIzY3YC5yTjnHpzRqWr6bo0CzavqFrYRO2xZLqdYlZsZwCxHOAaydE09rfxf4hunt3XzjbIk7of3qrF2bvgk9O9VvFxNtqNnf2Ul/DqcMMqW7w6bJeQSKxQtHKqKSudq4O5D7kZFTcFqbd9r+j6ZbwXGpatY2cNwMwyXFykayjGflJODwR0ouNf0ezvYLO71WxgurkKYIJblFeUMcLtUnLZPAx1rm7e4bRdbe+1vRboNeadBHG1jZvdLBsB32+IwxUbmyD90+vFY3jU6tfafr+nxQapb5gAsbPTtMEi3S+UpzLMUZQQ24BVZGAXjcStXbWwLU6q61y+F5r1tbvp9u2nxwNBLeFljzICT5hB6ccYxWle+INH02TZqWrWNo+4IVnuUQ7iMgYJ6kc4rk9e06+mj8W+VZ3EhuIbMQ7YmPmlfvbeOcd8dK0U0nfrfi+eaxLfbIYokd4siZBDgqMj5hkkY9azbauxQ9439S1nS9Hjjk1fUrSwSQ7Ua6nWIOfQFiM1Yt7mC7i821mjnj3Mu+Nww3KSGGR3BBB9CK4jRnn0W8sLvWtOv5Vn0S1t45YrWW4aKRcmSN1RSyE7lOSMHbyeKsfD+7W18M2Nomm3ES3F9fKFijUx2oW4lO1ypwo42jGRnitGrX/AK/r+vmk7pP+trnaUUUVIwooooAKKKKAHPFMXYqseM8Zc/4UnlT/AN2P/vs/4VJeXUdjYz3U+fLgjaR8DJwBk/yrJstflfw8NX1SG0sIZYllgD3o+bcMgMzKoUngdT1pK7V0U+VOzNLyp/7sf/fZ/wAKiubD7ZbSW95bW88Eq7ZIpTuVx6EFcEVRufFdnp3haHWtU2QiSMMIIp0lLMf4UbID/gelatlqFnqVv5+n3UN1FnaXhkDgH0yO/NNxktxKUHawzyZx0SP/AL7P+FVZ9Ft7m/gvrnTrKa7twRDcSIGkiz12sVyPwpdd8R6d4dt4pdSmC+bIqIgZQxyQCcEjgZyT2FTjWdLa3jnXUrQwyhjHIJ12uF+9g5wcYOfTFK0rcw7xvyiTWktxbyQuAFkUqTHMyMARjhlAIPuCCKi0/Sl0uxjtLGCOKGPOB5rMSSckkkEsSSSSSSSSTU8usaZBYx3k2o2kdrKcRzvOoR/o2cHoaSfWdLtYo5bnUrSGORPMR5J1UMnHzAk8jkc+4o94LxH+VP8A3Y/++z/hR5U/92P/AL7P+FMudZ0yyhhlvNRtLeOcbonlnVVkHXKknnqOnrVbWdbbTZLCC0t1urm/m8qFWl8tOFLFiwB4AHYGmlJg3FK5c8qf+7H/AN9n/Cjyp/7sf/fZ/wAKjm1azsVgTVryzsriZRiJ7gDJ7hS2Cwz3wPpT7nVtOsmdbzULW3ZNu4SzKpXdnbnJ4zg49cUrSC8SvNpYnvre8lgja4tg4ifzWG0MAG4xg5wOtWfKn/ux/wDfZ/wqKXXtHt5Hjn1WxieP76vcoCvOOQTxycfWs651PV7zUdWttCFnjT4FVTcIzebcsA4QkMNqhCuepzID/DgrVajSTdka3lT/AN2P/vs/4UeVP/dj/wC+z/hWBpfi2XxDqFjb6NCiKsfnar56km0OSvkYBGJd4brkAITj5lq54Q1LUdZ0Iahqj2pM0snlJbwtH5aK5UAku24/LnIx16UaoNDT8qf+7H/32f8ACjyp/wC7H/32f8KWXULaHUbexlk23NyjvEhU/OExu5xjI3DjOfyNYuqeIJ0u7ZtIubWS3i1KPT76KW2ctucr9x9ygYDc8MM8cEGhNtpf12/MGkk2zZ8qf+7H/wB9n/CsW18HafaX8V5HbySSQsXhWfUJ5o4WORlI3JVDgkAqBgEgcVd0PVbi+uNSstQSNbvTrnynaJSqSIyh0cAkkfKwB56qa16L9R2WxV8qf+7H/wB9n/CmS2sk8LxTQwyRyKVdHbIYHqCMcirtFFwsjItdBs7GO3Sx0vT7ZLbd5CwxhBFu+9twvy57461d8qf+7H/32f8ACrVFF2HKir5U/wDdj/77P+FHlT/3Y/8Avs/4Vaoouwsir5U/92P/AL7P+FHlT/3Y/wDvs/4Vaoouwsir5U/92P8A77P+FHlT/wB2P/vs/wCFWqKLsLIq+VP/AHY/++z/AIUeVP8A3Y/++z/hVqii7CyKvlT/AN2P/vs/4UeVP/dj/wC+z/hVqii7CyKvlT/3Y/8Avs/4UeVP/dj/AO+z/hVqii7CyKvlT/3Y/wDvs/4UeVP/AHY/++z/AIVarA1TXNUh8RxaPo2mWd3I1obp5Lq9aAKA4XA2xPk8+1F9bBZWuavlT/3Y/wDvs/4UeVP/AHY/++z/AIVj6h4lbQY76+1+4023s7Owjnkt4bjdOspLZUFtoKtgKhwpZs1rabq1hrGmR6hpt3Dc2sgyJYpFdRjqCQSMjv6UXYWQ7yp/7sf/AH2f8KpXGjG51ay1CTAls1kWNVk+U7wAc/L7VDofjLQvEVveTaZqNtItlJIs379DtVWI8w4Y4Q7SQx6jmtDTNZ0vWoXm0bUrTUIkba72s6yqp64JUnBouwsh/lT/AN2P/vs/4UeVP/dj/wC+z/hTdS1fTdGt1uNY1C1sIWbYsl1OsSluuMsQM8HiszS/E9vNpeoajq13Z2lpa30tutw0gSPYrAKSzHGTkc9Dmi+v9f11DlRq+VP/AHY/++z/AIUeVP8A3Y/++z/hWXqvjXQNH0i01O41O1ezvJ0hgmiuIyrlnClgxYAqucsQeACe1W5vEuhWzWi3GtafEb1Va1D3SL9oB6FMn5gcjGM9aNQsiz5U/wDdj/77P+FHlT/3Y/8Avs/4VarEHi/RD4sk8OG/gXUkiWTyjMgLFs/IBu3FwF3EY6EHvRdhZWuaPlT/AN2P/vs/4UeVP/dj/wC+z/hWP4Z8W2WsWFjHeX9hHq1zEZDZRzKJMZPIQktjAzWo+uaTHq6aVJqdmmouMpZtcIJmGM5CZyeAT0ouwsiTyp/7sf8A32f8KPKn/ux/99n/AAqvc+ItEs7pba71jT4J2l8lYpbpFYyYU7ACc7sOpx1+YeoqXWNWs9C0e51PUplhtrZC7szBc+gBJAyTwBnkkUnKyuHLd2H+VP8A3Y/++z/hR5U/92P/AL7P+FUrfxXoNzpEOprrFilpMpZZXuowowMsCc4yvfnip28QaMmow6e+r2K3twoaG2NygkkB6FVzkg47U9b2Fo1cm8qf+7H/AN9n/Cjyp/7sf/fZ/wAKgvvEOi6ZJ5epavYWb7wm24uUjO4jIGCepHOKdqOu6RpEsMerarZWMlxnyVubhIzJ0+6GIz1HT1oux2RL5U/92P8A77P+FHlT/wB2P/vs/wCFYVl4ri1Px3eaJZanpgSwRfNg3CSeZyG3bcONoQgBgVbr2rY07XtI1eaaLSdVsb6SD/WpbXKSGPt8wUnHQ9aLsLIl8qf+7H/32f8ACjyp/wC7H/32f8KgTxDors6pq9gzJt3AXKErubaueeMtwPU8VAfF3hsWP20+INKFoZfJFx9tj8vzMZ2bt2N2OcdcUJt7BZF7yp/7sf8A32f8KPKn/ux/99n/AAq1nIyK5eHxtptjLpdh4g1XS11HUFd1a1uV8nAbC4LNn5ug65IYdqLsLI3vKn/ux/8AfZ/wo8qf+7H/AN9n/CrVFF2FkVfKn/ux/wDfZ/wo8qf+7H/32f8ACrVFF2FkVfKn/ux/99n/AAo8qf8Aux/99n/CrVFF2FkVfKn/ALsf/fZ/wo8qf+7H/wB9n/CrVFF2FkVfKn/ux/8AfZ/wo8qf+7H/AN9n/CrVFF2FkVfKn/ux/wDfZ/wo8qf+7H/32f8ACrVFF2FkVfKn/ux/99n/AAo8qf8Aux/99n/CrVFF2FkVfKn/ALsf/fZ/wo8qf+7H/wB9n/CrVFF2FkVfKn/ux/8AfZ/wo8qf+7H/AN9n/CrVFF2FkVfKn/ux/wDfZ/wo8qf+7H/32f8ACrVFF2FkVfKn/ux/99n/AAo8qf8Aux/99n/CrVFF2FkYGqaDf6hcebba1faaDH5bpaSRFW5PP7yJ8HnquO3oKt6dpQ0rTobGxhjSCFdqAysx+pJGSSeSTySa1KKLsLIq+VP/AHY/++z/AIUeVP8A3Y/++z/hVqii7CyKvlT/AN2P/vs/4UeVP/dj/wC+z/hVqii7CyKvlT/3Y/8Avs/4UVaoouwsjM8RaamreHr20NtHcyNC/kpIoOJNp2kZ4Bz37VR07TW0TwXDa2uk5u2tkSeG1ESs0mwBmYllUnPU5/OtprnaxHlSHBxkbef1pPtX/TGT/wAd/wAad3y8vQmy5lLqjkk0TU7v4UvoUlk9tfR2wiVJZEIkYYPBViMHpziussJ5ri0DXFlNZuPlMczIT065RmGPxzS/av8ApjJ/47/jVO+stN1NkbUtIhu2QYQ3EMchUe2elXKbk3fq7kRgoJKL2Viv4v0261TQfKsIxLPFcRTCPcF3hHDEAnjOB3qtqVhd6xrnh29bTpIobWaV7iOd4y0XyEISFYg/MARgnHHStWygstNiaPTtNjtI2bcyQRIgJ9SAetWPtX/TGT/x3/GkpOOi/q6sNxUndnPappV/YGztfDdvJFY4mM32YxGRWcggZmyAhJJOATwMCsvQ/C+p2iaOL20XdZ6ddQsxdG2SO/ygc91zyO3HFdr9q/6Yyf8Ajv8AjR9q/wCmMn/jv+NHPLlt/XX/ADF7OPNzX/q6f6HELoWsWOhaW9ha6jDrdrp32cS28ts0QOc7JBI3IBAOVH41p6z4abVdV0C6vdNs7qSFj/aEnloVI8sjHzcsu48DnFdJ9q/6Yyf+O/40fav+mMn/AI7/AI1Tqybv/WpKowStf+kcrquiagmoa2tppy3kGq2cdtA4aNVtdqlcMGIO3nd8oPTpUll4Vc69df2rAt1ZyaVDZmZm/wBYRkPxncM8c/rXTfav+mMn/jv+NH2r/pjJ/wCO/wCNL2krWK9nG9zgrzwhqTRagltYAh2vvIzImSJI41j5JzztYc/jWnp9zf6XJ4ntbCx+16os0Vzb25kVBIrwRorEkgbQ0bg9/lOMnArqvtX/AExk/wDHf8aiP2drxbtrLNyiGNZiib1QkEqGznBIBx7Ck5SkrPtb9Rxpxi7r1Od0bw3f+F9Ygms5JdRh1FT/AGszyAH7R1FyAx4B5QqvQbMD5TTfBmoPbeGdDtIoPOa7nuQ7b8eUivIS/TnnauOPvV1P2r/pjJ/47/jVSwtNO0pZV0vSorITOZJRbwxx+Y56sduMn3NRqXpe5S8ZuLLRY9YVS82lTpcxopwZP4GQe7K7AD1IrPvdOfS/DWh28+03J1W2luWXo0zzb5CPYsxrcvrOz1K4tZb21nlNrJ5kSecRHuBBDMgba5BAI3A4IyMGlurTTr28tru90qG4ubUlreaWGN3hPqrHleg6elC0a9U/uCWqa8mihoLfafFniS7jX9yJoLVXA4do48sc98GTb9VI7V0VUrY29nAILOy8iJSSI4lRVBJyeAe5JP41L9q/6Yyf+O/40h6Fiiq/2r/pjJ/47/jR9q/6Yyf+O/40BdFiiq/2r/pjJ/47/jR9q/6Yyf8Ajv8AjQF0WKKr/av+mMn/AI7/AI0fav8ApjJ/47/jQF0WKKr/AGr/AKYyf+O/40fav+mMn/jv+NAXRYoqv9q/6Yyf+O/40fav+mMn/jv+NAXRYoqv9q/6Yyf+O/40fav+mMn/AI7/AI0BdFiiq/2r/pjJ/wCO/wCNH2r/AKYyf+O/40BdFiiq/wBq/wCmMn/jv+NH2r/pjJ/47/jQF0WK5PVNBGr/ABChlulv47aPS2UTWl1PbDf5o+UvEy545wT710n2r/pjJ/47/jR9q/6Yyf8Ajv8AjRbVPt/k1+oPVW/re5yGsaNeXOo+KLe0t5nW58Ox2tvJIWIkk/fjbvbq3zLnJzyCetdPoN2l7oVpKkVxDiJUKXNu8DqQMEFXAPXvjB7VY+1f9MZP/Hf8aPtX/TGT/wAd/wAaev8AXz/zG2nb+uiX6HBPaXA0XVLGbS7u6Nprj39xai2fbdW7TmQeWxASQgENsBJyuMZNbunONX8bLrFjZ3VvaxWD20011ayWzTuZFZFCSKrEIA5zjHz4BPOOg+1f9MZP/Hf8aPtX/TGT/wAd/wAaI6JeX+VvyBu7b7/53/M5/V5jpXja21W9sbu5sjYtbxTWttJctbyF9zAxxqzAOoX5gMfJg4yM8/ZHUtM0Nvs+mXelW8+u3LyPDpxnntYW3FZI4lVuWOBu2sBuOQecegfav+mMn/jv+NH2r/pjJ/47/jSSt/Xd3E2n/XlY85h0/UF8KanI9vqc+zxHb3wNzahZ5oVkgdpBHGozwrHCqDxgjdkVJ40uNT1az1u1hj1aCG407/QYLHSC5vg0RJE0kkbbCGyAn7txz1LAD0L7V/0xk/8AHf8AGj7V/wBMZP8Ax3/Gh6x5f62S/QcWk7/1vcq6RfrPusfLlEtnDCJndcLuZM7eucgYJ4/iHvjMcSWfxLa4lguGgvtMjt4pYrd5EDpJIzB2UEJw4wWIB5xW2kscbSNHasrSNucqFBY4AyeeTgAfgKd9q/6Yyf8Ajv8AjTesrkqyjy/1/Whw1hos1r4A8OQRadLFcw6pBPIghIeMmc73IxkfKxyfQntVS30WSS6utJ1m98RxyS6s9yIbfT43tpR53mRyfaPIO0Abc7pAw24HYV6J9q/6Yyf+O/40fav+mMn/AI7/AI0K6/r0/wAhuz/r1/zOJutFlfRviKf7Okae/eQQ/uCWuFFnGE28fMN+4DGec966i/tbi88GXNqis1zNp7RhW4JcxkYOfer32r/pjJ/47/jR9q/6Yyf+O/41MlzR5fJL7lYpSs0/Nv7zkLeI6reeC7kWF2EshKJftNpJEYHEG3kOoxzkA9D2JrK8UnV9Sk1K1ZNUjkjv4WgsrHTAYJ41kjImedo23NjsjqRtA28En0T7V/0xk/8AHf8AGj7V/wBMZP8Ax3/Grd3LmISSjynNR6R5mueMZ5rAt9sgihR3iyJ0EGCoyPmGSRj1rB2Xun2emy2EGotrUuk2ttc2dzpcs9rdqFb5HkwBE4LNks4Az8ynjHof2r/pjJ/47/jR9q/6Yyf+O/40o3X4fhf/ADG9f69P8jkdU0nUL658ZRW1rIxvLW2WEN8i3GEbfGGPHI+UnPG7mpYZ4td1/QJtJ0q9sk0zzGne7sZLXyo2iKCFd6jdltp+TKjy+v3c9T9q/wCmMn/jv+NH2r/pjJ/47/jQtA0scEmhzf8ACqrTTzpkhkfU4pJ7YwEsym9DMzLjpt5JPb2rXXRlfx94jvJNOBS40m2hWZoeJeZt6A4+bgR5H+77V032r/pjJ/47/jR9q/6Yyf8Ajv8AjSt7rj/W1hp2/rzuZng2K4g8CaHFfJLHcx6fAsqTAh1YRgEMDyDn1rmNIt7rS7Twdc3ljeBLdLiCdY7WSR4mk+6WRQWA+XqRgZGcV3X2r/pjJ/47/jR9q/6Yyf8Ajv8AjVSblJyJVkrDbC++3xzt9lubbyZ3hxcx7C+043r6qeoPcVaqv9q/6Yyf+O/40fav+mMn/jv+NSVdFiiq/wBq/wCmMn/jv+NH2r/pjJ/47/jQK6LFFV/tX/TGT/x3/Gj7V/0xk/8AHf8AGgLosUVX+1f9MZP/AB3/ABo+1f8ATGT/AMd/xoC6LFFV/tX/AExk/wDHf8aPtX/TGT/x3/GgLosUVX+1f9MZP/Hf8aPtX/TGT/x3/GgLosUVX+1f9MZP/Hf8aPtX/TGT/wAd/wAaAuixRVf7V/0xk/8AHf8AGj7V/wBMZP8Ax3/GgLosUVX+1f8ATGT/AMd/xo+1f9MZP/Hf8aAuixRVf7V/0xk/8d/xo+1f9MZP/Hf8aAuixRVf7V/0xk/8d/xo+1f9MZP/AB3/ABoC6LFFV/tX/TGT/wAd/wAaPtX/AExk/wDHf8aAuixRVf7V/wBMZP8Ax3/Gj7V/0xk/8d/xoC6LFFV/tX/TGT/x3/Gj7V/0xk/8d/xoC6LFFV/tX/TGT/x3/GigLoa/32+tJXPeOpCmg7VG/wAy7hQxEnEoMgyhCgsQRkEKCfY1zC6fu0DUV0mCKOZ9SjlvrKC0kHlwYGI9jLG7rj5sADOWArohDmjf+un+ZzVKnLLlt0v+f+X4nf6hf22l2Et7fSeVbwjLvtLYGcdBk1YByAR0NcDd+HvtXgfV4baIXTtIZba3/s17YQNhdwiSTJGeTx3JFdfoq2K6eBpll9ih3cxG0a3+bAydpUfniiUUloEZttXRJqup2+j6XNf3hbyoVyQgyzHoAB6k8VLaXElzbiSa0mtGzjy5ihb6/IzD9awPHumyaj4XlW3iuZp0dNkcDv8AN865yqn5uPUHHWqvifS50n0lIkkuNNiaXzkuIJb8ByPlZ03bnH3gDzgkURiml3u/yCUpKT00SOwqtd6ha2MttHdS7GupRDCNpO58E44HHAPWuOuLSe30PStONt/aVvtl/wBIutMmlEfPyJ5GQVODgMx4A96pjRJZPC/hmfVNKe4ls7kJdq9qZJVhBcBSuCxUZXjn1qlTXV9bfmQ6sui6X/L/ADPRqK4fWYGj1KaSw026NrdaG9pbJBaMArluFK4Gzg/xYqOy8PnUNU06DVLKb7L/AMI+kMm9CFWTI+U5GNw5IB6EZ7VPJpe/9a/5FOo72S/rT/P8DvKK8+1nQ7gau9vcvNJaLYxQ2d0+ny3jxFeGIMZGyTO07sc8eld7bqyWsSySGR1QBnK4LHHXHalKKSTTKjNuTTRJRXn2vaPcSz+IL2Gwmku1ubZ7ORYmZhjZuaPj25I9OaPEMOoXmtySQaVsnt76Hy5ksZHlaIFcuJ87QvJGwAnr7mqjTUra7/8AA/zJlVcb6bf8H/I9Bory660C6MV1MmmXBnP2mRWELbi/2pShHHXaWI9iSO9aVvpV4/iaWS/d4LtNT86O4XTJZXki4wgnVtqoVO0qRxzmhU01uJ1mm9Dv6K4mC1ls/Goms7X+0PtN47TTXWmSJLarsx8lwwCleMADscCuzlDmFxEQH2naT0B7VnKPKkzWEuZtdh9FcBoum3C3Wj+Vp9xb6lD539q3MsLJ5oIIwZCMS7m2kYJxjtTNFsrmW+8N2t1pl0sdlDcw3ZntyIwWBAGSMMD68g561o6avv8A1r/l+Jkqz00/rT/P8DuLHUbXUYpJLKXzEilaFztIw6nBHI9awV8V3lyultY6ZC66pdSR27TXZQGFFZvNOEblgpIX0IyRkgUvDekwWEOr2n9lm21AzXHlTCzKgxNyoWULtxyPlz26cVHYSxzweAHh+5sYYxjBFqwIx7EEVEopPTy/H/hjSMm46+f4f1+B0trqnlx3MmrX2nIi3bwwtDNgBR0Vyx/1gwcgelS22uaTe2DX1nqllcWivsa4iuEaMNwMFgcZ5HHuK5B9InuYoYrmwlkj/wCEpa5ZXhJHlgsQ54+7nHPSofGNk6w+LXlspHtrmKw+UJhbhhIVYAnAJxtB59M1mn7t35fkn+po/it/W7R21nrelag9ylhqdndNaHFwsNwrmE8/fwfl6Hr6Gpmv7RY4Ha6hCXH+pYyDEvylvlPf5QTx2Ga5Rk/t7xLbz6Xp11aRWenXFtLNc2j2wYybQkShwCwBUtkZUYHPNUrS6ub3/hDbJNJ1KOTTp1F881m8aQFbaRPvMAHBboy5XpkjK5pa/h+v/A+8P+D+R0/h/wAV6P4nW5/se9huGtpXjkRJUZsKxUPhSflbGVPcVW8X+KIPDlraI19YWdze3CwxyXzgJGvVpCu5SwA9xyRyKb4RD2ratYXMFxFMmpXE+54HWN0kkZ1KyEbW4PIBJHep/E1vNcTaIYIZJRFqkUkmxSdihXyxx0HI5qd1Hzt+Nrg9HLyv/wAAuHXNMtrq1sL3VrBdQuEUxwmZUabPdELEkEg46/U0+51zSbPUYdPu9Ts4L2fHlW0twiySZOBtUnJyRjiuEvdIefUNb0vV7zxFAmpXhdEsNPjlhnRgoQ+d5DbCuAvzuu3aCMDBpPGX9rX8Ou2ATVEYFfslrYaaHju0CofMkmZGGQcjCsjAJwCcVS1s+/8AX9fkJ6XOwg8XaJceIrvRE1C3F7aKGeMzpluGJAG7OVC/NxxkVp/bbXbbt9ph23RAgPmD96SpYbf73AJ47DNc4Ypk8Y6zC9vcAalYQrbzCB2iLKJQwZwCqEZHDEZyMZrJtLq5vf8AhDbJNJ1KOTTp1F881m8aQFbaRPvMAHBboy5XpkjK5Fr+H63D/g/lp952UWt6VPPJDBqdnJLEjSSRpcKWRVYqzEA8AMCCexBFFlrmk6lZS3mnanZ3drDnzZ4LhHRMDJywOBgc81xQ0O9Pw1vbe3tbmG4fVprqaKKNRLLGLwsSFcEMTGBgEEMMDkGpV0ywv7PV768u/E1959vFbSyT6YIZQocspSMQIzlSc/dYYJHPIpf1/X5D6/1/Xmbt94sg/stdR8PyafrFqlwkNw8N8P3e5lXjarBj8wOCV471fsNWN1q+oabcQeRcWZRlAfcJYnB2yDgY5VgR2K9SMGuUmutRuvCGotqStIi31stvdyWTWktzGJIvmkibBDBtwzhQcZCgVuQFZPiReGNeYdLhWVx6tLIVH4AMfxo+1b+tr/16h0b/AK3OhrN1TWotNlit0t7i+vZgWitLVQXZRjLEsQqqM9WYDsMkgVpVy15d2+geNrrUdZlW1sb6xhhivZTiOJ43kLI7n5Uz5ikZxkgjk8UB0NrTNSm1BZftOlXumvGQNl35Z3g9wY3dT+efaptQv7bStNuL+/k8q2tozLLJtLbVAyTgZJ/CvOb/AFS7v9J1lLTxD/a+kQ3Vor37xRzRrEeZlbyBGGQfLvGeFJzwahuNDsLrwJ4q/sy+0XV7Z7LdHaaPYiO2gmVXO9R5ki+YRjO3B4U9waO/kNK7SPVAcgEdDS1l6KdLPh6E+GPsX2HY3kfYtnk5yc428fezn3zXBWI0OTS9NNh5Z8ZrcQfaiCPt4k8wCfzf4/Lxvzn5Nu3HG2n9qxC+G56jVZdQtm1STTllzdxwrO0e08IxKg5xjqp468V5/wCINa0/TvDvjfTLy5SLUJjPJDaE/vZkeBcOidWXg5I4G1s4wavwWGi2vxSjub21sIru60uE2kssaCSWZWcOUJ5LhCgOOcY7Ul08/wDK5T0Tfr+aX6ndUV5DpI0B/C+kLpjRP4rF1H5BBP2tB52W6/OIdm/P8G0n1rS1zWrCy8I+KdIublU1I3Vwy2ecysjuGVwnUptYEt0GDk8Gha/16f5g9P69T0OPULWXU59PjlzdW8aSyx7T8quWCnOMHOxunpVPXNXl0tbOK0tkuru+uBbwRySmJN21nJZwrEDah6KecD3HPWlhotn8XL6a5tbCG+urG3ks3eNFllcGYSlD1Lbdu7HOMZ4qfxppGm6lrfhj+0dPtbvOotGfPhV8r5ErbeR0yoOPUD0p22Dv6fpc65dxUbwA2OQDkA/WlryhrNL/AMQXkepa5o2na2NScW/2jT2OoKgkzEIX84EoUwBtTbywIJ3Zb4ovra51ue7j/six1Sz1S3hWMwmXUmQTIvmCQMDFGyt02spU9ctgJatef/A/zBq112PUIL+2uby5tYZN01qVEy7SNhYbhz0PHpVmvN77SdKTWvGtra2NjHrN5YM9oixIs8yvAQ5TuQXBzjv1q9H4h0vW/FHhP+yLyK8CpOztCdwjPkfdYj7rc/dPPXihaoJaa/10/wAzuqK8ti02K1+GEd7aJDDJcXRXULuSAyk2/wBpbcH2srGId13ABd3bNdD4FsrOCfUJtJ1jSL2zkEY+z6La+TbQyDdlgBI67yCMgEcBSRyDRHVXBnY0VxUuhaZrnxG1tNYsob6JNNs9sVwu9AS8/wA208bh2bqMnHU1ziX9tqfhnw3Ya5/Y4L6Yksd5rsJuRM5+Xy4oty7pOFJYNu5AAO7hN2/r1/yHY9YorzHQbO318eCk1uJdQR9DnaRLkF1kIMGN6t971+bPIB6jNQWOk2Vl4V07VbeADULfxAtrBdMS0sUAvjAIVY8iPyyV2dOTxmr5dUu7t+NhPRX/AK2ueq0V5RqlpFqHiLVYdU1zRtL1Y3e2ye8sGe+jTjyjbP5ykj0CLjduBBOc6inS4viIGU6Trd5Pe4JyBqGmkJg8ckxcf7AG7+LdUx1t5/8AA/zB6X8jsde1f+xdL+0rD58rzRW8MRfYGkkcIgLYOBlhk4OBng9Ku27TNbRtdxxxTlQZEjkLqrdwGIBI98D6Vy/xE06yv9EsBfWdvchdVslAmiV8BrhFYcjoQSD6g4rKu4fCsOu6rbeMY7NJIyiaZFdqoC2/lKALUHo28OD5fzZ2/wCzR9lvz/Rf5hb+vmehVWvtQtdNhSW9l8pJJo4FO0nLuwRRwO7EDPSuH0jS/wC0fEmiL4jt2ubiHQFd47wbz5glXDODwXHqeQc1p/Eewsbvw5bTana288NrqFrJI9xGrLFF56CQknou3OfbOeKfb1/WwurX9bXOuoribPTdHvfH808Nra3Vpa6RZyWKRqrRJiSYo8Y+7kADaw6A8da5zRb61uvGnh7ULA6Pa3N9PMt7Z2EBNzFmCRzHcz7vmbcoO1kU7lOM7SaaV2Nq1/66XPWaK8ri0mxg8FNrcdtH/akWvP5V4RmWMHUShVW6hSpYFRwdzccmr8X9kp8RCoXSNdubq9cO4x9v07CMCHHJaHjb/ABuH3s5qVvb+un+YNWTZ1+i6xPrEt5ItpHFZQzyW8UpmJkkaNyjkptwoypx8xJHUDpWtXlllpel6b4ZEn2GC00qTXrmPVWt4Qga3WWYIshUcxBtgIPAXOflzU2oJpX9h+LW8JeQNEbRW3/YSv2X7Rh8+Xt+Xdtxu2/7OeaOn9drlcvvW8/1t/wT02iuFvvDukLrHhex/s+A20zXEk8ZQYuH8jlpP+ehOBktnPesc6Hp1l4Z1S/t7ZVutP1opYzEktaItwgEcRP3EwT8owOTxR9rl/rp/mZp3jf+u56lVQajbyX9zYQP5l5bRJLJFgjCvuC8kY5KN9MV5n47vrW4vdYk/wCJRZanppQW5ngabUJQAriSEhlMSAnqAy8MTjmts2Oi2nxP1Wa5tbCG/utNhks3eNFllf8AfiUoepbbt3Y5xjPFJv3b+v8AX9bFpa2/rc7PT5rm5023mv7T7FcyRq0tt5gk8piOV3DhsdMirNeYaYdH/sTwmPGJtv7HOhw/Z/t+37L9o2jO/d8u/Zjbu7b8d6cLG2vo9EtQkj6LJ4gk+wxsxCvbfZpCFX1iLbgB90oQPumtGvea/re3/B9CVtf+tr/8D1PTaK47RZ9M8MaxrlmojsdP+3WsdvBFGRGksyKMKqjC7mx0wMkn1NdjUdLgFFFFABRRRQAUUUUAFFFFABRRRQAUUUUAFFFFAFbUtMh1SPyby0eVFkEiMsmxlYHIZWDAg+4xUdhpMOmeabS0lDzMGlkkm8x3IGBlmYk4HQZ4rYopczSsVyRbvYp4l/54P+a/41UvdLW/ZGnS9UoMDyLx4fzCOM/jV7UdQtdK0+W9v5fKt4Rl32lsDOOgBNWQcgEdDQm1qhuMXozLs7D7DGyQR3TBjkme5aY/m7kj6VYxL/zwf81/xq5RQ5N7gopaIp4l/wCeD/mv+NGJf+eD/mv+NXKKV2PlRTxL/wA8H/Nf8aMS/wDPB/zX/GrlFF2HKiniX/ng/wCa/wCNZ0+hRXE7yyLqQZzkiPUpUX8FWQAfgKtXWrvDrsGm29t5xaB7i4kMm0QxjheMHJZuAOOAxzxg09F8TreeEYPEGvCz0e2nRZVL3m5ERsbdzsqAHJxjke5pqTWq/r+rCcE9GaEULwwpEkMpVFCgvIGYgepLEk+5p+Jf+eD/AJr/AI1maV4mg1G+1h/tVm2mWIieK7jkBRkaPezF87cDnkYGK07DWNN1Wza70zUbS8tkJDT286yIpAyQWBI4pXYKK6BiX/ng/wCa/wCNGJf+eD/mv+NRWviLRb7T576y1iwubO3z51xDdI8cWBk7mBwOOeaWHW9Pvp7u00rULG8vrUESW0dypaNumHC5K88dPwoux2Q90kdGUwSYYYOHAP5g8VnRaBDFMkijUyyMGAfU5mGR6gyYI9jVax8W3EsNjJqOmx2yXF/Np8zxXJlWGZHZE6ou5WKEZwCCVGDkkdPVKUlsS4Rbs0U8S/8APB/zX/GjEv8Azwf81/xq5RU3ZXKiniX/AJ4P+a/41jyeFNOkMRFjcxeTdPdx+TdvFslfO4ja4wDk5X7pyeOTXSUUXYcqKeJf+eD/AJr/AI1T1bShrGmyWVzFOkUjIxMbIG+Vgw657gVsUUXCyKeJf+eD/mv+NGJf+eD/AJr/AI1coouw5UZGo6RZ6xbrBq+kwX8KtvWO6ijlUN0zhsjPJ5pum6LY6NE8ej6Nb2EcjbnW1hjiDH1IXGTWzRRdhZFPEv8Azwf81/xoxL/zwf8ANf8AGrlFF2HKiniX/ng/5r/jRiX/AJ4P+a/41coouw5UU8S/88H/ADX/ABoxL/zwf81/xq5RRdhyoxdT0WDWEhS/trl0hkEqpHctGpYEEbgjgMMgHDZFS2mmxWM1zLbWjrJdy+dM5kDF2wB1LHgAAAdABxWrRRcLIp4l/wCeD/mv+NGJf+eD/mv+NXKzNV1yHTJYrZLa5vr2cForO0UGRlGMsSxVVUZ6swGeBkkCi4cqJ8S/88H/ADX/ABoxL/zwf81/xpml6lNqKy/adJvtMeMgbLvyjvBHVTG7qfzyPTpU2o6ha6TptxqGoS+Va20bSyybS21QMk4AJP4UXYWTGYl/54P+a/40Yl/54P8Amv8AjVwHIBHQ0UXYrIp4l/54P+a/40bZf+eD/mv+NXKKLjsjD0HSZdE0O107Dz/Z1K+ZhV3ck9Nxx19a0MS/88H/ADX/ABq5RRcLIp4l/wCeD/mv+NGJf+eD/mv+NXKrahqNrpdmbq/l8qEOke7aW+Z2CKMAE8swH40XYcqGYl/54P8Amv8AjRiX/ng/5r/jVyii7DlRTxL/AM8H/Nf8aMS/88H/ADX/ABq5WTrusy6W1hb2Vql1e6hcGC3jlmMUeQjSMWcKxA2o3RTk4HuC7DlRaxL/AM8H/Nf8aMS/88H/ADX/ABq2M7RuABxyAc0tF2KyKeJf+eD/AJr/AI0Yl/54P+a/40+61G1s7qzt7mXZLeymK3XaTvYIzkZA4+VWPOOlVtM1f+0dS1a08jy/7OuVg378+ZmJJM4xx9/GOelF2PlRNiX/AJ4P+a/40Yl/54P+a/405Li7OrS272W2zWFXS780He5JDJs6jAAOeh3e1WqLsOVFPEv/ADwf81/xoxL/AM8H/Nf8auUUXYcqKeJf+eD/AJr/AI0Yl/54P+a/41DNq3m2GpPosH9o3lizRfZd/lb5QoYJvYYGdw55HNaKElFLrtYjlc5wfSi7FZFTEv8Azwf81/xoxL/zwf8ANf8AGrlFF2PlRTxL/wA8H/Nf8aMS/wDPB/zX/Gn6fqNrqlqbiwl82ISyRFtpX5kcowwQOjKR+FWaLsLIp4l/54P+a/40Yl/54P8Amv8AjVyii7DlRTxL/wA8H/Nf8aMS/wDPB/zX/GrlFF2HKiniX/ng/wCa/wCNGJf+eD/mv+NXKKLsOVFPEv8Azwf81/xoxL/zwf8ANf8AGrlFF2HKiniX/ng/5r/jRiX/AJ4P+a/41coouw5UU8S/88H/ADX/ABoxL/zwf81/xq5RRdhyop4l/wCeD/mv+NGJf+eD/mv+NXKKLsOVFPEv/PB/zX/GjEv/ADwf81/xq5RRdhyop4l/54P+a/40Yl/54P8Amv8AjVyii7DlRTxL/wA8H/Nf8aMS/wDPB/zX/GrlFF2HKiniX/ng/wCa/wCNGJf+eD/mv+NXKKLsOVFPEv8Azwf81/xoxL/zwf8ANf8AGrlFF2HKiniX/ng/5r/jRVyii7DlRzfjuRk8Nqijf5t3AhiJOJVMgyhCgsQRkEKCT6GuWXTd/h7Ul0i3hjnk1OKa+sre0lHlwYGI/LZY3dcfNgAZywFd7qVtYanALe/ieRUkDqVDqyOp4ZWXBBHqDTNPtNN0vzjZxyh52DSySmSV5CBgZd8scDoM8VrCooxt1v8A5f5GFSm5zv0tb8/8zj7zw2bvwHrMNrELuRpDNa2/9mPai3bC7hEkmSM8njuSBXZaGtgmmgaVYmyh3fNEbRrb5sDJ2so9ucVb+1xf7f8A37b/AAqnfW1lqDI08l8hQYH2e4nhH4hCM/jSdRyVmVGmo6rcw/Gi2r614dXUIXntjcy+ZEkTSlx5RwNiglhnGRgjHXjNZK2t9b6FY2lxpAks57m4lRLqxe7FrGSTEhhQjDHPBJG0ZHFdZFpelxTW82LuWS2kaSF5555SjMu04Lk9j06Vpfa4v9v/AL9t/hT50kkhOm5NyZ59pWjX1xB4Pt9Wsblo7f7XHcpJG21FwQiv/skAAA8Eccirut6QdPs7LRLTT/ttkkExjmurN7zY5b5YwqlQh+bh24AGM9a7T7XF/t/9+2/wo+1xf7f/AH7b/Ch1W3f1/X/MI0YxjZf1t/keYadoN7dNaPqumXMsirZRs00LE7QkgkByOn3Q34A9asXOm3EWg6VcNaSXd7a6d5S6be6RLcwsd3HIGI34xyemOgr0f7XF/t/9+2/wo+1xf7f/AH7b/Cq9u3K/mT9Xio2v0t+NznbORl8a6qtzH5M8+k2sipnOArTBgD32lh+Y9awdH323hPwLqctlcXljZ2oMy28TTPC7RBUlEags2PmXgEjfnGASO1ubfT7u+tryeKQ3FsHEUih1IDDDKcdQeODkZAPUA1Ho1hpugaclhpi3KW0f3Elkmm2DGMAuSQOOAOBWHf5fhf8AzOjpb+tjhb6wvNRHiK8sdM1GztpdSsrvEdoqTXEaKpeRY5FIZgRu2spYlcYycVNfaJLqWga3eaXd+INQu7kWyzfbrKO1kljik3skcbQxhm2FhllKnIXnkD0P7XF/t/8Aftv8KPtcX+3/AN+2/wAKS0Vl/W3+Q763/rueaa5ZwT+EPFeqi/169nOjSWzNqunraDbhmAC+TEWIOeeQNx9a3LfZqniPw8ukaTeWEOjrJ9oeeyaBIozEUECFgA+W2n92WX92OeRnodZtbPXNDvNKu3nSC8haGRokIYKwwcEgjP4VaeWCS3aFjMFZSpKh1bGMcEYIPuOaq9lp/X9XFb+vu/yOFlw/hBoFXdLN4qKxDPO4ahuJ/BVY/QGvRKwrHQtE082ht4JybN5ZYTNJNKVeQku5Lk7mOT8xyQGIBAJrX+1xf7f/AH7b/Cl0t/WyX6DbvJv+t2TUVD9ri/2/+/bf4Ufa4v8Ab/79t/hSAmoqH7XF/t/9+2/wo+1xf7f/AH7b/CgCaioftcX+3/37b/Cj7XF/t/8Aftv8KAJqKh+1xf7f/ftv8KPtcX+3/wB+2/woAmoqH7XF/t/9+2/wo+1xf7f/AH7b/CgCaioftcX+3/37b/Cj7XF/t/8Aftv8KAJqKh+1xf7f/ftv8KPtcX+3/wB+2/woAmoqH7XF/t/9+2/wo+1xf7f/AH7b/CgCaioftcX+3/37b/Cj7XF/t/8Aftv8KAJq5S8vLfw/44u9S1qVLSxvrCGGK+lOIoXjeQsjuflTPmKRnG4gjk8V0v2uL/b/AO/bf4Ufa4v9v/v23+FAdLHmWoareahpGtJZ+I/7Y0eC6tFe/eKKeNYjzMrfZxGHQfLvGeFJzwahudB0+78A+Lf7Mv8ARNYtXst0Vpo1iI7aCdFc71HmSL5hGM7cH5VPcGvU/tcX+3/37b/Cj7XF/t/9+2/wprS/9dgT1VynoB0g6Dbnw39i/s3afJ+w7PJ6ndt28fezn3zXl+kDw8/hXR10xoX8Wi6j8ggn7Yg88luvziDZvz/BtJ9a9c+1xf7f/ftv8KztAtItD0G103z3n+zqV8zyGXdyT05x19aPtXEtI2POfFN/a3WuT3cX9j2Gq2eq28KxmEy6k6CeNfMEgcGKNlbptZSrdcvgb1lBa2WoeONeOmf2hfWN65gVf9YMWcJKxtyULdCV5PHXAruftcX+3/37b/Cj7XF/t/8Aftv8KUdFby/y/wAvxHo3d9/8/wDM8l0l7KPX7xdFudCe1uvD93JNHoNsY4Q6tHtDuHZZXUO3OFYBskDcK07DwtoxvPBy/YI9l7prm9Tnbe7YoyomH/LUAnI35xXo/wBri/2/+/bf4Ufa4v8Ab/79t/hT/r8/8/wJerv/AF0/yPMb2NrbwwtlHNbWmi23iC4guBd27TW0NuN+xJEDp+6DlRgsFHGfl4qO+0LS3+HmpTLd6PrGnR6hb3CLYWYS0s1WSPzjGC8gA2bi20gcvkcmvUvtcX+3/wB+2/wo+1xf7f8A37b/AApK6X3fhb/IrS9/66/5nl+uxaNca+YrnUvDFjo32CL+yTqdkJbbZ82827iaNFbO3O3Jxs5xitmz0S3uvGWkW+sP/a5ttAU+bdRHEriVMSMjZ+bjPOSD712/2uL/AG/+/bf4Ufa4v9v/AL9t/hTWjT/rZ/5ieqt6fmv8jgPCR0mLxk0dj/ZGtTyieVtWsyBeQZbPlXIGT3wGLD7uNgxmtPxnpGm6j4q8JHUNPtbotfyxkzwK+V+zTNt5HTcAceoBrrPtcX+3/wB+2/wo+1xf7f8A37b/AAoWlvIO/meZXo0CSw1pdW8s+MhcXH2UNj7cG3E2/wBnz82zbsxs+X72ed1dDo2l2938Qtau9Stop7u2hsjG0ihhE/lvlkz909sjnFdZ9ri/2/8Av23+FH2uL/b/AO/bf4UugPVnHfECw0WTV/DN/wCIbSwezhvnjuLi+jQxojQS7QzNwFL7evGcd6zL3QdL1F/Ht7fWcdzPbybraSQbjbstnGwaP+42cfMuCcLzwK9E+1xf7f8A37b/AAo+1xf7f/ftv8KNbNL+tilJXTPP7h47u81k6hqf9nLceHbES3zdIyzzDc3I4yeeRwTyOta/w/ksGtL9NM07SbeKOZVN1opH2S8O0fOoAwrdiuWwRjca6n7XF/t/9+2/wo+1xf7f/ftv8Kpu7b/rci239dEjyzW7SG/8TazFrGuaLpepG4C2D3+ntJeRx7V8trV/PU/ezgIv392ck1o6odKtviCkkzaTr2oS3dvF9llwNQsCNnzw9SYwMyMoCgZc7jyK9C+1xf7f/ftv8KPtcX+3/wB+2/wpR0t5FPW/meWahY6Hpvh74jW1paafaamEuGEcUSJN9naCMggAZ2FifbOe9aOsaNp+pal4znv7SO4lttPge3d+TC4hkIdP7rAj7wwfevQvtcX+3/37b/Cj7XF/t/8Aftv8KmSvBR7L9LArc1/Nv7zh9O0610XXfDV1p9vi5vdOnN5KpzLeERxsDIx5dt2fmbJ5PPJrC0C4sb/xhoV3Zf2JE2peet9Zafbs0yBoWYx3U27942QCVdFOQeuDXqv2uL/b/wC/bf4Ufa4v9v8A79t/hV3u2yUrRtc8s0y00XTvCN5awwW1qsOsyrrsVmipKlp9ol2CUJ8wj2levHl7u2a0WXRduvN4K+y/2P8A2LOLr+ztv2T7Rj5Nuz5PM27t2OcbM9q9C+1xf7f/AH7b/Cj7XF/t/wDftv8ACoabTXf/ACt/wUXdXv8A1vf/AIHoYXh1dH0DStHsYUjt7nUoVKkRkvcyLECzOwHLbR1Y810dQ/a4v9v/AL9t/hR9ri/2/wDv23+FXJ8zbIiuVJE1FQ/a4v8Ab/79t/hR9ri/2/8Av23+FSUTUVD9ri/2/wDv23+FH2uL/b/79t/hQBNRUP2uL/b/AO/bf4Ufa4v9v/v23+FAE1FQ/a4v9v8A79t/hR9ri/2/+/bf4UATUVD9ri/2/wDv23+FH2uL/b/79t/hQBNRUP2uL/b/AO/bf4Ufa4v9v/v23+FAE1FQ/a4v9v8A79t/hR9ri/2/+/bf4UATUVD9ri/2/wDv23+FH2uL/b/79t/hQBNRUP2uL/b/AO/bf4Ufa4v9v/v23+FAE1FQ/a4v9v8A79t/hR9ri/2/+/bf4UATUVD9ri/2/wDv23+FH2uL/b/79t/hQBNRUP2uL/b/AO/bf4UUAQzOsQkdzhVySfQCoLG+t9SsYryyk823mXcj4IyPoeai1x7SPTbhr+6+yw/89ftBgwe3zggjn35rjLbVZr74e6KYdVmN095bwXM0VxmVd0mCGPJzg9DW8Icy+aX3nNOpySt5N/cegUVwQub20g1O5ivLpodG1YMUed3LW+1d6kkksACWGemKiu7/AFI6faalJdSR2Wp37yOZLt7dIoApES+YoJjVsAkgDJbB61Sp36kura+m1/wv/l+J6FRXCedfm30CBtXWZLjUZIzNZXZlDRbWwhkwNxHTJ54z1q1rNrc6Rp1nFLr8ZjjuJZDHe3z2rzxkHCCUEsSuR9eM9KXs7O1xqpdXSOxorgb/AFm5ubLw/NiTT9OuYZGkFzqEkHzgfIGnALYxkjON3H0rq/DpuT4ftPtt3DezBSDcQSeYsgycHdgbjjGT3OaJU3FXYRqqTsi9JcwRTRQyzRpLMSIkZwGcgZOB3wOeKlrj/F1rap4k0G9vp5re282WOab7XJEkf7s7eQwCEnuMZ6Glu45NS8YJp1tqd3FZvo/mI0Fy3Lb8K+4HJPIOc5OOSQTlKCaTG5tNr0/E6+ivPvFeqXNjDLYrdTG/srGN1uDevbmVucskKA+Z93Lbjgfmabrd3euddu1v7yJrPT7aaFIp2RFdgcttB56dDxzyDxVKldXuS6utranodUb3WLKwuora4eQzzKWSKGB5WKjAJwgJA5HJrlNU1SSy8RpcTXkd+kjW6R2FvqLwzwMTyfJXiQHIPzfTpVp7OdvikMajcr/xLfMwFi4XzR+75T7v/j3vQqe1xOrdPl30/FnX0V5/c6jdte3n+m3K62mqLHa2KzkBoMrg+VnaylSxLEfiMVf0q1vtWv8AVZRq13C1lq5ES+YzJ5YClkK5AIIOOenUd8r2dldv+tP8yva62S/rX/L8jsaw7vxXZ2YupJLa6a1s7pLae6VF8tGbGW5bJVSyhiAcE98NjirW8v8Ayra5Op3zOTA5DXLlSTdtGcjOMbBjHQ9Tk81tWuqW1h4BeOWCO9ur68urWOzcj/SZ3nkBRvbqWPZQT2qZwcVff/PQqE1J29PudzornxDa22pXNkIp5ntLU3Vw8SgrCvO1SSR8zYYgDPAyccZn0fUv7X0mC/FpcWa3CB0iuCm/aeQTsZhyOeufXFcXotvJ4a0XWPDWqyrNfGzkuobs5zeR+XtP3iSTGQExn7uw966fw3e240PR7HzP9JbTYpggU/cCqMk9Byfx59DUrd/L9b/dYtu1vn+n53NuiuO8UHR/+EotB4xNt/Y5tW+z/b9v2X7Ru537vl37Mbd3bfjvVC7HhSPWoE8QixXQf7Oi/slb/aLPO5t+0P8AJv2+XjPO3O3jdSTur/11GegUV5bKthGnhoa+0iaQLy+8r7YWC/ZtreWJM/8ALPbjh+NuAauWVrbS2Wr3/hhI/wCytNvorvTRbj9yzIn+kCEDjYwLr8vG4tRdX/r8QO013WRoWnG9ksrm7hQ/vfs5jzEv94h2XI+mT7VJZ6rDeahe2ISSK5s2XekgGWVhlXXBOVOGHrlSMcVyN+sd94P8R6+p3jUlxA2P+XeM7Y8ezHe4P/TStsbf+Flt5f3v7IHnfTzjs/8AalPql3/yv+hN9G+1vzsdDRRRSGFFFFABRRRQAUUUUAFFFFABWbqWv6fpU6QXTTyTuu8Q2trLcSBc43FI1Yhc8ZIxnitKsDVdLuxqz6toF/BBqCwLHcW90u+GeMFigbBDRkEthxnqcq3GB6DNm0uor6zhurYs0MyCRCyFSVIyMggEfQjNTVxUGpL4v1DSUuri60+zu9N+2x21vdPC08m7DDzYyrMEBBwCAd4JHArP8UXDrY30eizXkn9iWId72fXJbdIyVLIw2BvPbjnzBt4AyctSk0ld+f4X/wAgSu7I7ganCdcbStsnnrbC5LYG3aWK4znOcj0q7Xnmsare2lxe6pauq3i+Go5RIw4QmQ5foemSeh6dD0rU8NafrNlrSPcSwJp81qxaI61PqDyuCu2RfNjXaACQdpwdy8VSXR+f5v8AyFfqvL8l/mdDJqsEWvW+ksknnz20lyrADaFRkUgnOc5kHb1q9XGa/aw33xM0W1uL2a2SXTLsbYJzC82JITsDqQw6bvlIPy+mQaUOpSPp9xo6SXuorJq8llp0g1BoWkVI97B7hfnCowkXIy52Y+bmhapfP87Dej/rtc9AqjfarBYX2nWkySNJqEzQxFAMKwjaQ7uemEPTPOK4PTdSvpbBNLvtRe2tjr72Es8N887InlbxCLhgHyZPk3HDDO0HODU/i6ObQG0M+HluNTuodSmaOC5unuGVjZy8ZdixAHzbc5OcDGRR0v8A10f6i8vX8L/5HodZ2o65ZabpN1qLP9ohtW2yi3KswbIBXrjIJ5BqHwylufD8Ettqc2qLcAyPdyyMTI5+9gE/uxkEbBgL0xnNcLNpUNn4B8XG2nuxIb+aLM13LNtAlUg7XYjdznOMnvmk9G15f5f5h9m/n/n/AJHqNFcJq0t54X1q7Gk3N5dGbQ7u8MV3cyTgzxMm1lDE7c+YcquAcDgYqTwzZ62mp2F81zbmwurdnmP9tz3pusqCrokkSqnJz8hAw2McDDWuv9dV+g3p/Xp/mdvVHT9Vg1G61CCBJFbT7n7NKXAAZvLR8rg9MOOuOc1k66323xTpejXN3cWtpcQTzEW8zwPPIhTanmIQwwGZsAjOPQGua0u5gsrXxFZW017qButfFlA0d4Udn+zxfK84+ZQNhUvy/H8THlLX7v1SD+vwbPRLi5gtIfNupo4Y9wXfIwUZJAAye5JAHualrya9jub3wzr2n6nNNt03WbNY0g1We48oM0JZTMdruAWY/N909Pugje8Tsd1xp2mfbN2k2AnluJ9cntEhVt21i67mlb5Cf3gK/L1ySCm0lf8Ara41G53dRW9xBd26XFpNHPDIu5JImDKw9QRwRWdo8j6z4OsJL55DJeWMbTPE5iYlkBJDIQVPPUEYritAhFh4B8K2iX15Z2+pzRxXkxupCy/u2xGjMx8rc6qvy7euBgnNU01JxJi1KPMel1H9oh+1G286PzwnmGLcN23ON2OuM8Zrn9EU2HirUtKtry5urKG2hm2XM7ztbyMXBXzHJY5VVbaScdsA1VOl27/Fh7lpLsSf2YkqqLyUISJCv3A20jGPlxjJzjJzS6pd7/k/8geiflb8bf5nQ6RqkOs6XFfWqyJFIWAEgAb5WKnoT3Bq7XmOl28umeENG1i3v737SdVSEp9pcQmKS7MbIYgdh4cncRuzg54qZP8AhJNZvNQvrOa3gntNSkt0lk1qeNIESTAR7URGNtyYOWJJ3ggj5cEdV/Xl/mg2V/66/wCR6RRWH4wvZtP8OSTQXRsw00Mct0ACbeNpFV5OcgYUk5PA69qxr6NtB1WWz0rUL6SKfSbmeaG4vJbhomTbslV5GZkyWYYBAOM4yKUpWTf9aK5SV2kdXe3v2L7P/o1xcefOsP7iPd5ef429FGOTVquHt1uLHw/4WmXUL6ae+u7U3Us107+bmFiRgnAB/ugAHr1rL1OcyeBb3xG+uahb6mbloiI72SOOJhNsEAizsBAAGdu49c5Oaq1m0+jt+X+ZF7pS8r/n/kehQ3vnajc2n2a4j+zqh8548Ry7geEbuRjn0yKtVwPiS+v1bxXHa39xbtELAQPHIf3JdsMVHQZ7+verV1cp4S1+8ZrzUZrH+yJr2eOW4e4YPG4+aPzCdpIc/KMLwOBipTu7f13K3/rzsddd3KWdlPcyhikMbSMF6kAZOPypLG7j1DT7e8hDLHcRLKgcYIDAEZ9+a86im1Cx1y906ffBb3eg3N0babWJb+QFWUIzCQfuzh2BCFlOOp2g12eiEr4H09lJBGnRkEdv3YobsnJ+X/t1/wAg3kkut/0/zNmivM7d9Sg8C+Fnhvbi6udb+zreTXmpzRb8wMwVZAGMRYhRlFBbucnNS6out6N4WuVvtVGnp/a1msMkGpPdSWkbSxhw00qKSDknDhhhsHIwKtxtLl87fl/mJPS/lf8AP/I9HorzvxDJNoL65ZaPqN80Y0Ge7kE17JM9tKDiN1d2LLuG/gHHyZAHNWtaivbKLRNLsbiaf+05Xa4e61Wa3aaQRhgiyqrtHnBbYgUfKQMAkGel/wCt2v0H/X4J/qd1RXBf2Z4kGmLa3FwlysN68h0+01mUXDW+wYQXJVHZlds4YqCCoZ8VXkvbrWrjR7DR/PkspdOa5jivNZns55GD7TuliV3coCARux82Tu4IOtv62uHr/Wtj0Wo5riG2VWuJo4g7iNS7BdzE4CjPcngCuHS21ea68NaZrGrS7nF4Lo2F2+JkXGxTIArFlBGWAU5B6ZNZ+o2Yu9KayvLu+lh0/wASw20MjX0yyCN3jOGcMCxBfCsxJHGDnmmtZcq/rVL9RbRv/Wzf6HplRC5gN01sJozcKgkaIMN4UkgNjrgkEZ9jXn/jS8njtNWbR/tcb6DZjfdT6zNbJG+zehVFDee3TPm8E4GTlsX9O0+Kf4myX8sl35z6PbT4F5KIyxeQEbN20r0+XGATnGTmknd/15/5Dasr/wBbr/M6zTr3+0dPjuvs1xa+Zn9zdR7JFwSOV7dM/QirVee6JPNrUWgafqup3kcM9jLPiK6eKS7lWTGDKpD/ACqc7QRnPOQKJ7m9bThY22q3nkQ+I4rKG7WUmR4flLIXPL4YuhJyfl5JIzQtbef+dvzB6Jvt/lc9Cork9Ini0PxRrWnT6hMNOhgtJ42v7x5TG8rSIQJJGJwSiYBPUnHWuspiCiiikAUUUUAFFFFABRRRQAUUUUANkmjEjAyICCcjcKb58X/PVP8AvoVfoqbl8pQ8+L/nqn/fQo8+L/nqn/fQq/RTuHKUPPi/56p/30KPPi/56p/30Kt3FxDaW7z3U0cMKDLySMFVR6knpTwQygqQQRkEd6Lhyoo+fF/z1T/voVSu7d7mffDrdzaLjHlwiAr9fnjY/rWle6pp+m7P7Rvra08wkJ58ypux1xk89atU7taicU9DLtdtvbiOW+a6YZzLKUDH/vkAfpUvnxf89U/76FWbu9tbC3M99cw20IIBkmkCKCenJ4pv9oWXkwS/a4PLuWCwP5q4lJ6BTnkn2ou3qFktLkHnxf8APVP++hR58X/PVP8AvoVfrP1HXLDSpVivJXErxSTLHFC8rFIwCzbUBOBkD3JAHJAqeYfKL58X/PVP++hR58X/AD1T/voUkmvabFbWFwbpXi1J0S0aJTJ5xYbhtCgnGAST0ABJwBRpuuWOrz3cVg80hs5WhmZraRE3qSrBXZQr4KkHaTj8ad2HKrXF8+L/AJ6p/wB9Cjz4v+eqf99Cr9FFw5Sh58X/AD1T/voVSsbG0067vZra4YLeS+c8JcFEfGGZeMjdgEjOM88EnO5RSuHKZd2tveWU9tLMAk0bRsVYZAIwcfnVHRdKtNGtY41vZLuSOFLcT3DJvMaE7V+RVXjcecZPcmuioovYOUoefF/z1T/voUefF/z1T/voVfqkNUhOvNpO2Tz1thclsDbtLFcZznOR6UX1sHL1My9sIrzWtM1D7WifYGlPl4B8zem3rnjHXvTtagm1LTHs7LUorLzvkll8vewjIIYJ8wCtzwx3Af3TW9RRcErao5rU9Es9R0OLSIr+Wxs0VYylqY/njUYCEurYHTpg8das2djZ2eoXt8JzLc3jLveR1yqqMKi4Awoyx9csTnmtyinzO9xcqRQ8+L/nqn/fQo8+L/nqn/fQqW3vvP1C7tPstzF9l2fvpI8Ry7hn5G/ix0Poaku7lLKynupQxSCNpGCjkgDJx+VJysrsajd2RW8+L/nqn/fQo8+L/nqn/fQqxYXkeoadbXsIZY7mJZUDjBAYAjPvzVO/8RaXpumHULi4aS0WRo2mtYXuFQqSG3eWG2gFSCTgAjBpu6dmJJNXRJ58X/PVP++hR58X/PVP++hUttqVrd3l1aQSEz2hUTRsjKV3DKkZHIPqMjIIzkGrVFx8pQ8+L/nqn/fQo8+L/nqn/fQq/RRcOUoefF/z1T/voUefF/z1T/voVfoouHKUPPi/56p/30KzdR0Lw9q9wtxq2laZfTKu1Zbm3jkYL1xlgTjk10NVr/UrHSrNrrVLy3srZSA01zKsaAngDcxApcwcpnajp+kavbrb6taWV9CrbljuYkkUHGMgMCM8moJtD8P3E0MtxpemSyW8Xkwu9vGxjjwRsUkcLgngcc1sWGpWOq2a3el3lve2zEhZraVZEJHBwykirNFwsZSRWEcokjjt1kEYiDKqghB0XPp7dKrabpGh6M0raPp+n2Bmx5htYEi346Z2gZ6n86t2/iLS7ptPFvdbzqQc2v7th5gQZbqOMe+K06fMHKjE1DTdG1YY1Sysb0bSmLmJJPlJDY+YHjKqceoHpTZtK0S50tNNuLCwlsIwAlrJCjRLjphCMDH0rdopXDlMQabowsJbEWViLSbiW38pPLfgDlcYPAA59BSWumaNYwwQ2VlY28Vs5kgSGJEWJiCCygDgkEgkeprcop8wcpk2tvp1k0xsobW3NxIZZjEqp5jnqzY6k+p5qF9M0V7i5nexsGmu1C3EhhQtMB0DnGWAwMZrcoouHKZhWza6S5YQGdEMaykDcqkglQeoBKjj2HpVSx0jQtLupbnTNP0+znm/1stvAkbSc55IAJ555reoouHKY2oWWl6ta/ZtVtrO+g3BvKuY1kXI6HDZGaibSdDewlsX0/T2tJipltzChjcqAFJXGDgKoGem0elb1FK4cphxaXosFlLZw2NhHazqElgSFAkihdoDLjBG0AYPYYqJ9C8PSG1Mml6Y5s12W263jPkL6Jx8o+la9pqdpf3N5b2kvmS2MohuF2kbHKq+ORz8rKeM9atU7hymbCbW3hSGAwxRRqFREwFUDgAAdBVNdJ0NLW6tl0/T1gvHL3MQhTbOx6lxjDE+preopXvuHLYx7C00zSrUWul29pZW4JIit0WNAT1OFwKLi00y7u7e6ure0nuLUkwTSIrPCT1Kk8rn2rRvb2306xlvL2VYYIVLO7dh/X6d6Wzu4760juYVmWOQZUTwvE4+qOAw/ECnzByozvsumC1S2EFp5EbiRIti7VYNuDAdAQ3OfXmoJtI0K41RNSuNP0+W/jxsu3gRpVx0w5GRj61vUUrhymdI9vLG0crROjgqysQQwPUEVTsNJ0PS7aW30yw0+zgm/wBbFbwpGsnGPmAAB445rdoouHKZRhsDFBGY7YpbkGFdq4iIGAVHbA4GK5LUfDk+s6lL9r0zw/arPMBPqkEha7lgVgQmDGNpYKqk+Ycc4HTHoVFO+tw5VaxkSWumzGYzQWshn2+aWRT5m37u71x2z0p7x2Uk3nSJbvL5Zi3sFLbDyVz6HA49q1KKVw5Tn7PQ/D+nKV0/TNNtVZWUiC3jQENjcOB0O1c+u0elXkNrHAsEfkpEqhFjXAUKBjAHpjtVm01G1vp7uG1l8ySzm8icbSNj7VfHI5+V1ORxzVmncOUxpLLS5tM/s2W2s3sdgj+ytGpi2jouzpgYHGKydW8O2Uuh22m6JDp9jBFf29yYY0WOPakyu+AoxkhT25PWuvqs+o2seqxaa8uLuaF5449p5RCoY5xjguvGc80Xd7/1pqHLoZNpo+g2FjNZWOnadbWtxnzoIYI0STIwdygYPHHNT3tppmpWTWeowWl3atjME6K6HByPlPHGK2KKLhynOS+HvDc+nw2E2kaVJZ25LQ2720ZjjJ6lVxgZz2qe/wBL0XVLWO11OxsLy3iIMcNxCkiIQMAgEEDjityoYry2nuZ7eG4ikntyomiRwWiLDI3DqMjkZouHKZ0Vtp0ItxDDaxi1Ty7cIijyVwBtX+6MADA9KbNZaVcW1xb3FtZywXTbp4njVlmPHLA8MeB19BWnbXdtextJZ3EVwiu0bNE4YBlOGUkdwQQR2NQW2r2d5qVzY2rySTWvErCF/LVuPl8zGwsMjKg5HcUr3C1jLm0Hw7cyxS3GlaZLJDF5EbyW8bFI8EbASOFwSMdME1YlsdKnura5ntbOS4tARbyvGhaHIwdhPK8elbNFO4cpg3Wk6He6fHYXmn6fcWcbbkt5YUaNDzyFIwDyfzNTra6alrBbJBarBbFTBEEULEV+6VHQY7Y6VesNQtdTgeayl82NJXhY7SMOjFWHI7EEVZouHKY89npdy0rXNvaTNMEEhkRWLhDuQHPXaSSPQnIqz58X/PVP++hV+ii4cpQ8+L/nqn/fQo8+L/nqn/fQq/RRcOUoefF/z1T/AL6FHnxf89U/76FX6zrzX9N0975bu58s2FqLu5HlsfLiO7DcDn7jcDJ46UuYfLcd58X/AD1T/voUefF/z1T/AL6FXYpFmhSWM5R1DKcdQadTuxWTKHnxf89U/wC+hR58X/PVP++hV+ii4cpQ8+L/AJ6p/wB9Cir9FFw5TD8XX15p+jRSabOLeeS7ghEhjDgBnCng+xrIGvXdmdXsrq+ubnyL2G1tbmKKIzO8ijMYGFjyD3YYGea2/EOm2uu6etlPcwxotxHK4cBwwRgSpBI64xU/2HRf7P8AsH2Ww+x5z9m8tPLznP3enXmrjKKjr3/y/wCCZzjNzuu346/8A41PE+tNpsiJcstxFrsdiJLiOJmMbY+VxH8pIJxlcfhU3jGx1aLwnc/2lqrzRx38TQuiRgtEXTHmfIACpyQVwOmc9K6xLLRo41jjtrBUV1kVVjQAMoAVseoAAB7YFWZ2srqB4Lk280Ug2vHIVZWHoQetV7RKSaXX/L/L8SXSlKLi3umvvv8A5r7jB8W29za+B75hqM80lvC0haeGBxN/supj2kfQA+9O1TVXt7LS7WCW8S5uoi6rYxw7iFQEkmX5FUfn0x3rQfStAktI7WSw01reIlo4WhjKIT1IXGBQ2l6C1rFbNY6abeFi0cRhj2oT1IGMA1PNG1mU4yvddu5yOparca18FHv71g08iKHYADcVmC5wOMnGeOPSvQV+6PpWZPpeg3MMcVzY6dNHEWMaSQxsELHJwCOMnk1E0E9qFh0O90mws0HywGzLbTnJxtlUd/SiUoy0Wmrf9fcEYyjvrokZHjKO+k17w6tvcW6RtffIktuz7XCMdxw4yPQcEHnNTeLPtNvNoMzXKuW1K3hkiNvG0ZJJy67lZlb0Ibj9a2olikjhbVZrG6uYXLpKkQQIemVDMxBxxnNNvdO0PUphLqNnp93IF2h54kcgemSOlCmlZPoKVNvma6o5/XbOeX4kaLs1K6t/Nt7jYY1iPl4C5C7kOc9TnPtitC1ljj8aa3cXkoVbWwtlDyHASPMrMfQZI5P+yPStK5stGvLaK3vLaxuIIceXFLGjKmBgYB4HHFUb3RdPvdaW9kltXgltTaXlpNGskdzGDuTIJ4KknsRhiMdCJlK8Ul0v+v8AwxcYWk5Prb9F+lzk/B4W08U2895bSQaZqEc3/COrK3Fshbe8eMDaZAA6jJwileMEV0PgyeG30vUTPKkQfXL1FLsBuY3DgAZ6kntW9OmnXUccd0trMkTrJGsgVgjqcqwB6EHoe1YWleHksrqVr3VLe5t11KXUbWNIvLaN5DJkOxdg4HmcYC4IzzUrf5W/FfjuaP4fO9/wf/ALviWSeyWw1SGaVIrK6U3UavhHhf5HLDoQu4P7bKZoN0ZBcahe3ny6neMLKKSX5RGq7VCA92CNJx6+1O8TQTavok2l2M9okd8jW9zNJNhoomGGZFCkM2CQASo5znjBtfYtNEtgyyRqunqRbxhxtXK7M/guQPqaS/r+v66g/wCv6/rZFLxda6heWNrHpkjNtn3z2kd41pLdRhW+RJV5Vt209QDjBIBJrnGv4tY07T9O0aLVJXSGa4YXuty2fkoshQiSeIu7srAqB8y45J+6T2Op2Gi61AkGsWthqESNvWO6jSVVbGMgNnBwTzUd1pPh+9S1S8sNNuFssfZVlhjcQdPuZHy9B09BR0t/WwdbnHaVdXviCx8Fpfandhby0uGumtLpo/tG1VAy6YPvuGD+ZFVolvbTw5Pq51nVJ7rTtc+xW/m3jlPIF2IdjoDtkypOXcF8n73Ar0KKDS4PI8mKzj+zhhDsVR5QbqF9M98UhttKNu8BhszC8vnPGUTa0m7fvI6Ft3zZ655p396/9boPs2OOMcWpa14x/tPxBf20emzI0UcGoPCLNTbI3mYUjIJ3HDZTKnj72aY1jVo7ebWHQf2svhFLggpx5uWbO0e/OK6K28M6VLrmqX+tW2l35uL1bm0aaNJWhAhjQ/eHyndHnj2roM2P2o3ObfzynlmX5dxXOdueuM84pdF6f+2tfr+A3a/9d0/0/H7+S8MWOtwaxaXUlxALC5tmaVTrk9+bk/KVkRZIlCYyc7CFww44GNnxjNcWXh5tRtJJEbT5o7qQI5XfEjAyqfUeXu4PfFKmg6JZxXP9hJZ6Jc3IAe7063gSU85/iQg9+oPX1p9hYm1Mov8AxDdatFKmww3q2wQZ6/6uJCeOOSR7U3rt0JStucXLrOoy3l3GmqSmPxUyjSNk23yEWQRu0Zz3iKy8d8mn3Y8SazqGtz6bcW8Fxp920EEs2uTwJahQpXfbLEY3DA7iXJJDdRgAd4LfSgbUiGzBsxi2+VP3Hy7fk/u/Lxx24qC60jw/falFqN7p+mXF9Dt8q6mhjeWPacrhiMjB5GOlC0a8v+Bb+vMHd/1/Wmxy2sapdw6nrdtJqE1rbyahY2rzK5/0aORF37D/AAbjxu4wWz1xTbqJNN8TatpVpqd9Pbr4flma1ub2S48py2A2XJbJAPUn2xXU6rFE+n3f9nW2l3NzdbVmivGCR3C8BldgrH7mQMhu3GKyPDvh+Gyv7m8vbTRtOje3+yw6dprBoUjJ3OzEom5mOMjaAAo65NQ4tpr1/GNvz1K2s/T8Hf8AIydLs5NKTwW8WoahKdUhFrdpJeSGN0+yNICsedsbAxrgoFOM9c1U03TYLD4Q+I3he6Z3k1BGE93LKBtuJQMB2IU46kYLHk5PNeh+VpuLYbLTFoc2/C/uflK/J/d+UkcdiRWNrugWmoabqFvo8umaZPqg23119kDvMuCOSroS3PBYnHPHNbSleTf9bmajaCXYWUCP4m2RjODPo8wmAHUJLFsyf+2j/ma6Sse1sYYvEF3q1zfRTSyxJbwKAFEES8kdTkliSTxwFGOMnT+0wf8APeP/AL7FR9lL+t2yur/roiWiovtMH/PeP/vsUfaYP+e8f/fYpDJaKi+0wf8APeP/AL7FH2mD/nvH/wB9igCWuZjijufihcNeqHez02JrAOOE3vIJmX3+WME9hgd66H7TB/z3j/77FZ+q6ZpGteSb8gywEmGeG5aGWLPB2yIwZQR1APPejqHSxz+uStpPizUrnSNsM0mgz3N2UUHMkZUQOw6bseaASOQuP4afp93rVnqXh19Q1d75NYhZbi3aCNI4nEPmBoyqhgPlIwzNnd2xWza6LodnYXVpCqFL1StzJLcNJLOCCPnlZi7YBwMngcDFWDZaUz2Lny92n5+zHzT+7yhT15+Ukc5oWit/XX/NfcJ3b/ry/wAjkfC+o3VrpfhS0gl2wXNrdtKm0HcUwV5IyMEnpSaJqevro/hXWdR1p7s6tJFFc2ht4kiAeNiGUqu8MCATlip+bCgEAdTb6RolqtkLdI0Fijpb/vydiv8AeHJ5z75pY9K0WHT9Pso1jFvprI1qnnH92UBC85ycAnrmhaP5r7uo+lvX/gHJ6frfizVLqHUbKy1N4JL0xmBvsQs1gEhRjnf5+8KC3+8CNuOK6nxPf3dnZWsOnzJb3F9dx2i3DruEO7OWAPBbAIUHjcRkEcGOLw9oMOptfQF4pGl89okvpVgaTrvMIfyy2ec7evPXmr+o2+mavp8tlqPkz28oG5C+OQcggg5BBAIIwQQCKOiX9dA6tmHqA1fShYaZFr09xLql75IvbqCHzLdBEzsECIqFjsONynGckNjFZmtavregWWvWUerm8ntbOG6tby4hj82MvIyFXVFVGHy5Hyg8n0zXQHw9oLaXJYTGSeGSVZi9xfyyyq642ssrOXUjAwQwx2pY/D+gJptzYlfNiuyPtDz3ckssuOm6VmLnHbnjtQJ3toY/k+IW8XT6IPE9wts1kt4JxaQefG5crsU7Nnl8Zwylv9qoLXW9c1mDwpHDqC2T6lb3BvZYoFZmKKBuQMCFOeRnI55BrrhDpw1Q6iGj+1NCIDJ5v8AYtjGcdSeetc3qXhjT59U0C3t4lXTNPS4BaO7KPAzBdpVwwcHO7lTnr60tbW/rr+g+v9eX6kKa1qtjNc6dcaibtrPWbW1F48SK8sUuxijhQF3DcRlQvG3jPNQ+NLy8u4fF+lrfSQW9voC3CrEkZIZvP3AllPDBAD7dMHmuhXw/4fXRJdJ8tDaTP5su65ZpHkyG8wylt5fIBDbsjAweBRY+HvD+nSXcluivJewiG5kuLp5nnQbsB2diWwGIyTnGB0AAHrFr+trfmOLtK/p+d/y0Me5uLux0fSdKtdW1q71CWEzKLK3tTcOgAzlpEEKIu4DkBjxgk5ziNNqfiOPwReXWp3lhdNqFzBJ5EcGQyRXC7yGR13kJggEr8xwOhHXHwv4fNvaQ+Zcj7GrJDKuqTiVUYglDIJN5T5V+UkjgccU8+G/D39j22lxRrBaWspmt1t7p4mhcliSrowZfvMMA4wcdOK05le/n/X9dyEmlbyMeXX9VafV7KG7SORtcj022nkjUi2ja3jckDGGbJbG7PzMM5HFR63qes+G7fWbVdYk1Bk0ae/tri5hiE0EkeBg7EVCp3AjK5yGySOnRTaLoVxbX9vPFC8eoyia5BmOXkCqoYHOVICLgrjBAI55qGLw7oEVje2hDTpfxmG5e5vZJpZI8EbPMdy4UZOADgEkjkmo6f12t+epa3v8A1vf8tClZT6vp/iTSYL/V5NQi1S2leWJ4I0SGRAjZj2qGC/MRhyx6c8HNvXbq+m17TdE0+9bThdxTXEt1GiPIFjKDYgcFckyAklTwDgZORovbabJeWt05jM1mrJA3m/cDABuM4PAHWotV07SdahiTUGDGF/MikiuGhkibGMrIjBl4JBwRkEim3r/X9f1YmOi1OL8SvqVz4Y13SrvWJpG029tgl3FHEJJUcxsFlGwruBbOVC5AX1Oe01SS50vwlfSx3ck1za2cjrcyqm5nVCQxCqFzkdgB7VEmi6GmkPpgRGtpZBLKHuGZ5XDBtzyFtzNlRySTwB0q/dfYr2zmtbmSN4Z42jkXzMblIwRkHPQ1Ek3FpFRsmmzjIpPEjavodk3iSUprFjJcXDi0hDW7RiM/uflwAxkwfMEnA4weaiPiXXH0mysITdXV7Jqd3ZSXdmlus7pAz4ZVlKxB2CrngjG7C9MditlpS3Vlcr5YlsYWgt280/IjbcjGefuLycniqk+gaBcWLWkiKI2umvA0dy6SJMzFmdHVgyEkn7pHBI6cVbs3pt/wf8hLSKvv/wAB/wDAMRNX1q10GS21s6nZ3lxe/Z9NZIrWS9ul2b8YQtArcONxwoVcnB5rPt/EfiGTSXtTcTW17B4hh08y30MDTGF1RzvER8vdh8ArjgDvmuqk8P6FLpqWUjyskcvnpMdQm89ZMY3edv8AMzj5fvdOOnFJa+HPDtlCY7eJFU3i3zFrl2Zp1AAkJLEk/KM56nJOSSaNL6+X5r9Lifw2Xn+v/AIdAub+38T6tol/qM2pJbQW9zDcXEcaSASeYpQ+WqqQDFkHGfmI5xWb4y1vULeW9GgXOqPcadamaaGyt7YwxnBZTM0+CwIH3YiGAyT1Wuojt9Nh1S41GNoxdXEUcUsnm/eVCxUYzgYLt09az9T8OeH9Yupri/BdriLyZ0S9kjjnTBAEiK4V8BjgsCR+AqZXexSsnqZpvNY1rxLbWdtqsmmWkujx3kn2aGNpBIz4+UyKwAxkHIPbGKq6Zrera7Ho2mHU/sVxNDdSXN5BFH5svkSiL5FdWRdxO48HHQYzkdTBZ6Xa3iXUHlrMlutqreaTiJTkLgnHXv1qlN4d8Pz2UFqV8tLaV5YXgvJIpYmckuVkRg4yWOQDg1Wn5/m7fdp9xCv18vyVzP8AAsU8N94piurr7XKmr7WnKBC+LaDBIHG7HXGBnOABwGvf6nD4yMGrahqGnQTXPl2EcVtFJaXSbM7Wk2M6SZ3feZAcDaG5rb0nTNH0KO4TS1jgFzN58374sZJNoUsSxJyQoye5yTySaiTQ9ETVf7Q3yPN5hlVJL6V4Uc9WWJnKK3J5Cg8n1o6r0S+6xT2f9dzj9Dlv9B8L6rPDq81xNca7LZxNeJFshd7sxmXCIpLfNkgnGeAAK1LayvLD4p6dHeavPqYOkXTI1zFEsifvbfIzGqqV6Y+XI55OQBttoOguNRWRFki1I5uYXuXaJj/eCFtqN3yoBJ560mn+H9B0zUl1C2LPerC0Aubm9knk8tiGKFpHYkZUEDtzjGTki7Wv2/S35hLVu3V/rcj1afUL3xLbaNY6i+mRfZXupp4Y0eZ8MFCp5isoHOWJUn7oGM5rEudb1yKxNjFqKG7t9eh043rQKfOiZUbLKMLuw+DtwMjgDpXS6tpWj62YGv2/e2zFoZ7e6eCWPIwwEkbKwBHUZwcDPQUkej6HFY21okcQhtpxcxjziW80HO9mzlmJJJLE5Jyc0l0v/Wt/y0CWzt/Wn+epS0C5v7fxPq2iX+ozakltBb3MNxcRxpIBJ5ilD5aqpAMWQcZ+YjnFYfxAuJ9P1e3udAacanJaSLfi3QMy2I5aXBI+dGPydcksMHnHZR2+mw6pcajG0YuriKOKWTzfvKhYqMZwMF26etNtrPS7TUby/gKC6vdnnyNMWLBRhQMk7QMngYGST1Joev8AX9fMNv6/r5D9Ht7G10Ozg0fatisCi3MZyCmODnvkc571wmkHU9J0/UI7XWZ5Jr/X5LJZrqKErbksd0oCouXIGADld23jGQe40y10zR7FbPTjHDbqzMkfnFgmTkhck4GTwo4HQACoJdH0OfTruwljhe2vJWnmQynmRjksDnKnIBBBGCARih/Hzf1un+jD7Nv62Zzmt6nrPhu31m1XWJNQZNGnv7a4uYYhNBJHgYOxFQqdwIyuchskjp1ejQXcOnq2oX8l9PLiRmdERUyBlUCqPlBzjdubnkmqEXh3QIrG9tCGnS/jMNy9zeyTSyR4I2eY7lwoycAHAJJHJNbCT20aKiTRhVGAN46U+n9eYf1+X/B+84LTdRe38PtZWdzfx311q+oGGLTYYnnlVbh92DMDGgGRktj0HJFU5bjVfEOiaDJe6lfWN1b+IJLNikdv5jbGkVXcbXTeAvO35Mk8dMdjN4c0Ce3SH5oRHPLcJJb30sMivISzkOjhsMScrnHTjgUDw34dXRzpccSxWhuDchYrp0ZJS2/erqwZTuOeCPypdV8vwt/wRy1vbrf8b/5o5/VNX8S3WtapZ6HFqz/2WUhia0WxMc8hiWTM3nMr4O4DEYXjODk/Lo2N3repeNp7S6vnsLe00+zuZbOGONsyuZQ6Fyp+X5MHHPAwRzm/eeHdBvrz7VM8qTmNYpJLfUJoTMq/dEmxx5mMn72ep9avw22mW+pT38JiS5uIo4ZHEnVELFRjOBje3Qd/pTTsS9f69DN8WT6tBFZtppvo7TzD9tm06GOW4iTHBVJAwZc9Qqs/TaDWbZahe+Ib22sNN8RTxWkWmw3hv4beIT3hkZ1U7ZEKoAEJICA5IHy4IO9qmm6XrBiN5cTI0O4I9rfy2zYOMgmJ1JHA4PpVe68O+H7qK0j2C2+xxmK3eyu3tnjQ4ygeJlbacDjOMgGkhmD4p1fVbGCeLSNQ1a7vdLshJc/Y7W1EW/aWDTGbGQ2M7IiGAz6rVbUNWuoLvxJq9owgu08MW9zGwUMEf9+w4OQcH1rorzwr4bvmJuIyVe3W2kiS9lSOaMAgB0Vwr4BIywJ/KrMuiaFNFcxyxxst1ZrYzDz2+aFd2E+9x99uRzz1prr/AF3/AOANNXX9dU/0ZjGbWtY8W3+nW+uTada2+m2twpt7eFn82QygnMiMNp2DIxngYI5zBo+t6r4rh0e3XUm0p5tKS/uZbSONpJXZtgCiRXVVyGJ4J5UZHOepgtdMttQmvoTGtxPDHBI/mk7kj3FBjOON7c9eea5zWNK0uzg0y0sdBvb2CziaOCbS9TW3mtxx8hdpo2Kt1xuPKjI6GhtX8v8AhyUnbz0/S5p+D76+vtPvxqd4t5NbajPbCVYxGCqNgDAroK5Hwz4dsrTR7X+1IbaK6jvpdRjghnyttI+4BQQRuwrEEngnJ9K6n7TB/wA94/8AvsUtkk/L8v8AMOr+f5/5EtFRfaYP+e8f/fYooGRP99vrSVn+ITqY0m4OhqrXuRsBIBIzzgtxnGcZ4zXNXPiW5i0CT7G9+12mopZTNdxwCWHdjJG3EZ68E8ZPPFbRg5LQ551FB6/1/VjtaK4LxGuszeA9ZGqtdQrC+YTIIPMnj+XiQJlRg55XHQe9dpYQSW9oqy3k14TyJJggOMdPkVRj8KbhZXuKM7u1izRWD4gur5NW0aysbxrRbyaRJXWNXO1Yy3G4EA8df0PSsi38Q3dxpcEEl1dyXUlxcRxS2UcO6aOIn5yZMRgY64HJxikoNq43USdmdrRXCad4g1fVbfwwovBA2oi5S4kSJCW8sHDDIIDcZ44yehHFXdQ1HVNPsYLG7vZ31NbeWeSSwjhAZFOA7mUBQMEZAGc9OKp02nZ/1a/+RMaqkrpf0/8AhzrqK86s/Emt6k1s41A24kW0VljhjIzIr7m+ZTz8oI7A+o4q5JrWtjQ9P1W4kuv7OFiZbqawWDzRID1ZZBjbjn5R1z2pui07NiVaLV0ntc6y91ew064ihvblYXlR5F3A4CIMu7HoqgYyzYGSBnJFRp4g0iRWI1K2G1gpDyBTy5RcA9QzAgHoT0zWdp8q3vjXUJg5ITTbXyGxyqyNKSQD67V/75FS2nhLT7HSb3TrV547e/H+kBWALsV2u+ccM4HzEd+RgkmsdUbJpmnYalZ6nb+dYXMc6DAbYeUJUMAw6qcMDg4PIq1XG+IrOPQNH0Ww03UJdLtG1aOPdHIqBI23nyhxjbngA5xxjoKqXV6nh7VNY06G61O9sTb2o8n7Y0s0NxNIYwqzSNuQMNp5b5cZGCaLp7en4Jjt3/rWx3tFeWz3+rabpPjmwa5e2ex0yO4hWLVZr17eR0kyRNIFdThEO3oOo610Gq2/lPZaHZ/2he3lxHJeM0uszWqYXaGZpUJcDLDEaDYM9Bwab0D+vy/zOyorzjSbu81zTvCUV3qd1suZLyOd7S8YeekYcLmRcFuFB3DBPXjNMEV5aaBqGpf2zqk1xpmrG3tPMu3KrCJlXY65xLkMRufc3PXgUvtW/rp/mLpf+v60PSScDNV9P1C11SxS7sZfNhckAlSpBBIIIIBBBBBBAIIwa5S/E9n4uF5qkt7PZT3kMNpNY6g6Jat8oEU0G4KwZi3zYc4bBCgA1peGcJrHiaGNsxJqYZRjhS0ETMP++iT+NOOqv/XT/P8Aq43p/XqdFRRRSEFFFFABRRRQAUUUUAFFFFABRRRQAUUUUAFFFFABVLUtZ0vRo0k1jUrSwSQ7Ua6nWIMfQFiM1drndV0/VLPXzr2jQwX7tbC3nspn8tiiszAxSYIDEtgq2A3y/MuKBm9BPDdW8dxaypNDKoeOSNgyupGQQRwQR3qSuFvPEd3qk2m23hq31OK0msBef8S5LRZlBbaEIuG2ADBztBOccgdYFt9cv/EXhabWby80298u7WSGJbc5CkYY/K4Bddu4BiB2xRvqGx6DVYX9sdTOniT/AEpYROY9p+4SVznp1B461zvxHt5bjwjiK8ntdt7a5MKod2biMc7lboSDxjkDORkGvNp1/N4+W1g1m5gKaMnm3axRGeQiZsdUMYzzn5PTGKV9UvX8rg17t/63SOzorz1fEuuXtjo9lAt5Lczx3LXNzpq2yzP5EoiyqzsIwGJ3HgkdAO46vw1Lq0ujD+34JIbpZHVfN8vzHjB+RnEbFAxGM7TjPQDoKEa9FeftqXiH/hFtX8Qf22Q+nXd35FoLaLypo4pWASQ7dxJClQVZeo4JByvi/wAS6haR6jfaFPqkp0mIPcQQQW4to2CiTbK0uHYlSM+UcqMcA9Ra2KtrY7+iuYtrvULvxlqscupvb6dp8dvIsEccfzFkYsGZlJ28A8YPHXHFZema/qcnifSyk2p3Ol6qZdkt7b28ULARl1aFVxMo+XH7wHIPXOCUtSbq1zu6K86ttR8Sy6V4evv7fYyaxdG0mja0i2RKVkbemFz5gEfViVyc7e1WbnX9Z0yz1bT1nn1G7t9Tgsre6McKzFJkR84OyMuNzBScAnbkHnInf+vT/Mq39eX9I7yivNPEH/CQz+AfFMOq/wBp29rHYmSC4vfsfnyHa2+NhDuTZwvOFbk8961dUvdatdRs9DsJ9YvCtobma7tFshcPl9qg+btjCjnO1Cfu8jnc/wCv1F/X5f5nbUVxK3via5k8PWF9cPpNzdi6F2UjheQrHjy2H30ViNpIGQMkemJ4r/UrfxgttrOoahZxy3JjsohbRPaXiBCcGQIXSTgkhmQEj5QRR1sLpc6+ori4htLWW5upVhhhQvJI5wqqBkkn0rI1+6vftumaZp90LJ7+Vw90EVnREQsQgYFd545IIA3HBrlfFj6j/wAIn4u0a71We5Fnpy3Md15cSyurrJmKTCbeqdVVTgjvyVuUldne2F9DqVkl1bLMsUmdongeFv8AvhwGH4ii7v7axa3F1JsNzMIIvlJ3OQSBx06Hk8VFDZzpootW1G6eYxlftjLF5oJ/iwE2ZH+7jjkGvO9Ks7yP4d+DVh1KWSSa+tjG08cZEC7HyFCqueM43Z565HFD+Ky7r8XYlax5vJ/lc9I1HUbXSdPkvdQl8m3ixvfaWxkgDgAnqRVquGvdX1fR4Ndszqct5JZNZyQXU8UQkCyvtZCEUKfunB2g/N7Zq21/qUHjLydWvr6xgluQljHHbRSWl0mzO1pApdJM7vvMgOBtDc0dbB0uddRXO+L9VvtPh0+20uK4efULryC1t5XmoojdyU80hN3yY+bI5JwcYrI+1eMV0eZZLfUkSO7X9+Vs2vjb7CWIVCYSwfA6ZK9FLckHY7mqtpqVpfXF3Bay+ZJZSiGddpGxyobHI5+VgePWuF1BZNYuvB09l4k1CVW1C4jFz9mhjk3LDPksjxcONpQgqB1+UHBFrUdf1hINZW1vRFJB4gtLGB2hVhHFJ9n3AjAz/rH9+eCOKpK7t/W6X6ie1/66/wCR3VFcMw8RnU9c05fE04i062jube4NpAZmZ1f5JPk2FAUz8qqx3fe45NQ8Q32qabZHSbjVI9QbTo72a20uG3YRiRcq0j3Hy7cqQFUhjyeR0luyv/XX/IaV3b+un+Z3NFeeQyXniDxJ4L1Z9RuLN7zSZbh4bdIigJEDMBvRjht2DznCjGOSbU2pa0fDF34qTWCggMsqaYIYzAY42K+WxK+YXIU8hwAx6YGC2mnZ/wBa2BapNHc0VzVnPqV/431OBtRkhsLFbd47aOKP5y6sWDMVJxwOmDnvjiulpCCiiigAooooAKKKKACiiigAooooAKKKKACiiigAooooAKKKKACiiigAooooAivbO2vo3gvbeK5hLZMcyB1OD6Gok0ywjsWso7G2S0bO63WFRGc9flxitE28LMS0MZJ5JKjmk+zQf88I/wDvgUuZ2sVyK9zPt9LsLS1ktrWxtoLeXPmRRwqqPkYOQBg8cVWOmzWcaxeH/wCz9OhyWeM2RYM3qNroB0962fs0H/PCP/vgUfZoP+eEf/fAp87F7NWsc3d+HpdWuLGTXJ7O7S0leQwrZkJIGQrghnboTnP6d60ptJ065t4YLiwtZYYMeVG8KsseOBtBGB+FaX2aD/nhH/3wKPs0H/PCP/vgU/aMXsolBNPs42haO0gUwFjEViA8st94rxxnPOOtF1p1leyRPe2dvcPCcxtLErlD6gkcdBV/7NB/zwj/AO+BR9mg/wCeEf8A3wKnmZXIjOTS9Pix5djbJt242wqMbc7e3bJx6ZNRS6Do8/l+dpVjJ5ShY99sh2AdAOOBWt9mg/54R/8AfAqC7m0ywVGvpLS2VyVUzMqBiAWIGevAJ+gNPna1D2aehnTaSW8R2+r284idYWt7iMpuE8edyjORtKtkg88MwxzkaVMkuNKisUvZZbNLWTaUnZlEbbiAuG6HJIx65FNgvNHutQnsba4sZry2x59vG6NJFnpuUcr+NK/Qdupm+INHbWV09AIWit71J5km5DoFYFcYOc7uh4qeDQdItdMl0610qyhsZs+Zax2yLE+euUAwc49K1vs0H/PCP/vgUfZoP+eEf/fApXtcOXW5kQeH9GtbSS1tdJsYbeaPypIY7ZFR0yTtKgYIyzHHT5j61JqGj6ZqyRJqunWl6sLboxcwLIEPqNwODWn9mg/54R/98Cj7NB/zwj/74FPmDlKEenWUJiMVnboYGZotsSjyy2dxXjgnJzjrmg6fZtBJC1pAYpX8ySMxDa75zuIxycgHPrV2WO0gheWdIY441LO7gAKByST2FVLPUdD1FYDp95p90LhWaEwSo/mhThiuDyASAcdM0XDlKw0LSU1ZtVj0uyXUW63gtk808Y5fG7px16U3RNJOk2UiSz/abm4me4uJ9mzzJGPOFycADCgZOAo5PWtj7NB/zwj/AO+BR9mg/wCeEf8A3wKLhykNFTfZoP8AnhH/AN8Cj7NB/wA8I/8AvgUXDlIaKm+zQf8APCP/AL4FH2aD/nhH/wB8Ci4cpDRU32aD/nhH/wB8Cj7NB/zwj/74FFw5SGipvs0H/PCP/vgUfZoP+eEf/fAouHKQ0VN9mg/54R/98Cj7NB/zwj/74FFw5SGipvs0H/PCP/vgUfZoP+eEf/fAouHKQ0VN9mg/54R/98Cj7NB/zwj/AO+BRcOUhoqb7NB/zwj/AO+BR9mg/wCeEf8A3wKLhykNZWo+G9P1S7NzdNfJIUEbfZtRuLdWUZxlY3UHqeSK2/s0H/PCP/vgUfZoP+eEf/fAouFjDvPDGkXkVojWrW/2NDHbtZTSWzRIRgorRMpC8D5c44HHAp83h7Tp4LKJ45h9hbfbyJcypIpxg5cMGbOTncTu75rZ+zQf88I/++BR9mg/54R/98CjmFylDULC21Swlsr6PzIJl2uoYqfXIIIIIPIIIINR2ukWdncpcQpI06W4thLLO8jGMHIBLEknJPJ596tG40oamNOM1mL5o/NFqWTzSmcbtnXGe+MVZ+zQf88I/wDvgUX6j5ehgzeFdIms4LY28kaW8jywvBcSRSRs5JfbIrBxkscgHBrQsrKHT7NLa2DiNM4MkjSMSTkksxLMST1JJq99mg/54R/98Cj7NB/zwj/74FFw5TidC8E2axXE2sWcgnfUbi5MX2p/JlzMzRu8St5bnG3lgSML6DGpqfg7Q9YmuX1C1lkF2uLiJbqVIpuMBmjVgpYADDEZGFweBjovs0H/ADwj/wC+BR9mg/54R/8AfAo5h2d2zPi020gvLm6jhAmulRZmLE7woIUYPHQnpWdY+D9F067trm1tpfNtM/ZjLdSyCAFdpVFZiEXHG0ADgccDHQ/ZoP8AnhH/AN8Cj7NB/wA8I/8AvgUXJ5dLGRHoGmxWthbx22ItPl862XzG/dvhhnOeeHbrnrSXHh7S7uO/S4tFkXUXV7nLt87KoVWHPykBVwVwQQD15rY+zQf88I/++BUaCxkuJYI/s7zQ4Mka7SyZ6ZHbOOKVx2Zk2/h7TrewurMpPcQ3aFJ/td1LcM6kEbd0jM2OTwDjk+tQzeE9JntrWKRbzdaBhDOuoTrOobqvnB/MKnj5SxHA44GOg+zQf88I/wDvgUfZoP8AnhH/AN8CncOUy4tGsYZLKRIWL2KMkDtIzMoYDdkk/MTjktk5561BF4a0yLVP7QEc7zCRpVWW7lkijds5ZYmYorcnkAHk+prSNzpKglprMATi3OXT/WnpH/vcj5etWfs0H/PCP/vgUc3UOXoZmqaRZazarb6jEZESRZY2SRo3jcdGV1IZT7gg4JHeqyeGdJXR7vTDbPJbXqstyZZ5JJJgRg7pGYuTjgEngAAdK3Ps0H/PCP8A74FRXP2Cyt2nvPs1vCmN0ku1VXJwMk8dTRzBYaBgADoKyrbwzpVpFHHDBL5cVz9qije5kdYpOfugsQq8n5Rheelbn2aD/nhH/wB8Cj7NB/zwj/74FFw5dLGRdaDpt5JdPc229rwRCc+Yw3iM7k6HjBPbr3qNPDempqn2/ZcPN5hlVJLuV4kc9WWJmKKeTyFB5PrW39mg/wCeEf8A3wKjt/sF3F5tr9nnjDMhePaw3KSrDI7gggjsQaL9Q5SjqelWesWn2bUIjJGHEilXZHRgchldSGVh6gg1TbwtpjWKWpN8FSXzhKNSuBMWxtyZQ+8jHGC2MVvfZoP+eEf/AHwKPs0H/PCP/vgUrhymHL4Z0mXS7fTzbyRwW0nmwmG4kjkR+cv5isH3Hc2TnLbjnOTT38PaXJ5++2z9ou472X943zTR7Njde3lpx0OORya2fs0H/PCP/vgUfZoP+eEf/fAp8zvf+v60DlM7+zLP7Vd3Pk/vbyNYp23H51XOBjPH3j09az5vCGizrAr20qpBbrbBI7qVFkiXpHIFYCRRk8PuHJ9TXQ/ZoP8AnhH/AN8Cj7NB/wA8I/8AvgUrhYxD4a0v7LptukEsUelhVtDDcSRtGoAXbuVgWXAGQxIOOc1EfCWitqD3htZN0k3nvCLmUQPJx85h3eWWyAclc5GevNdB9mg/54R/98Cok+wS3MtvH9meeEKZYl2lkDdMjqM4OM9cU+bW4culimNLsxc3k4h/e3qKlw24/OFBAHXjgnpin2Fjb6Zp1vY2UflW1tEsUSbidqKMAZPJ4Her32aD/nhH/wB8Cj7NB/zwj/74FFw5SGipvs0H/PCP/vgUfZoP+eEf/fAouHKQ0VN9mg/54R/98Co2+wpdJbP9nWeRWdIjtDMoxkgdSBkZPuKLhyjaKm+zQf8APCP/AL4FH2aD/nhH/wB8Ci4cpDRU32aD/nhH/wB8Cq01zpNuLg3E1nELYKZy7ovlBuhbP3c9s0XDlH0VN9mg/wCeMf8A3wKPs0H/ADwj/wC+BRcOUhoqb7NB/wA8I/8AvgUfZoP+eEf/AHwKLhykNFTfZoP+eEf/AHwKPs0H/PCP/vgUXDlIaKm+zQf88I/++BR9mg/54R/98Ci4cpDRU32aD/nhH/3wKPs0H/PCP/vgUXDlIaKm+zQf88I/++BR9mg/54R/98Ci4cpDRU32aD/nhH/3wKKLhymR4ylvIPB+pTafci2lit3cvtJbAU/dIYbW9Dzj0qhdaxq2i+DbO9lktb24le3RcxNGCrlQQSXYlufvfpXTzwRXVvJBcIskUilHRhkMDwRWcvhvTF01bBoppLVJEkSOW6lfYUxtwWYkAYHA49qqMopWfdf8EznCTd49mvn0KU+rarp1rc/2w1nbOblYrS4jgeUTBgOBCrF2bORjI9e1ZVp4w1W+jtILeO0W5l1OWweWWCRF2qhYOIy25TjHyk9sZGeOs1HS7TVYY472NmEcgkjZJGjZGHQhlIIPPY1VtvDOkWbRNbWmxoZzcofMc4kK7SxyeSR6/XrVRlC3vIUoVL+69P8Ah/8AgGIninVpvD9vdQ2ivL9uktbmaG1eZYlVmHmeUrbiOB/Fx79Kq+K9Un1PwNazWEtre2t5PHFNOjPAHzIFKhCGIB5By2R6HpXTr4e0+O0+zQLcQRea8xEF3LESzHLElWBPPbpSnw/pZ0mHTfsoFpC6yJGHYYYNuBJzknPJyee9NTgmnbqmJ06jTV+jX+X9bmWbu7sb7T9B0mz03TZpYZLiQKjSQxKpxhVXy8klgc8Y561Rs/Fuq6nLo9vaQ2cc1/Fc+a7hmVHibbuABBKnB468jnium1HRrHVXhe8jcyQEmKWKZ4nTIwQGQg4I6jOKSLQ9NguLOaG1WN7GNorfaSAitjIxnBzjqalSjbVf1r/wPuG4Tv7r00/S/wCv3nK/8JR4kF6lpcWthaTqbeKZHVpMPIH+YFXxgbM47g4yOtWPD+oP4g8S2d5exoslvo0cyKmdoeaRg5APtCMexIroptD06e+a8lt907vG7PvYZKAhTjOONx/OsybwusOoWbaZiKyFo9hdQee6Ewn5lZHHzb1bIHI4duQQKUpRey/qz/UqMZLd/wBXX6HKeH/s7+MrfTnMh8O21zcPoW5R5ctwv+sUHPKx5k8vIx97H3FNdV4T/wCP/wAS/wDYXf8A9ExVov4f0uTSbTTTahbSyMbWyRuyGIx42FWBBBGPXnkHqax7fw1fSXuqw332ddPutTj1CN4pmaR9vlny3QqABmMchmyDjFQt7eVvxWv9djSV3r5/o/6+ZpeKNSudM0TzbBokuZp4baOSZdyRGSRU3kZGcbs4yM9Ky9RXWNH+xWMfiC4upNWu1tkuryCDdagRyO5QIiqzEIAoYEA8nI4rpb6xtdTsJrLUIEuLadCkkUgyrA9qzB4R0f8As+ayliubiKZlZmub2aaRSpypWR3LoVPI2kYPI5pIZgatqus+H7TxFaf2s1/Ja6O1/aXU8UQmif5xhgiqhXKgr8v94HNWXl1zTdT0VZ9be8Grl4JoTbRKtu/ktIJIcLuABTBDl+GHPHNnWfC0MXgzXbHRLeSa8v7OSPdcXLyyzMUIVTLKxOBngE4GT0q3pXhbS9HeO8trSU3MUPlxq9zJKIVIGUiV2Kxg4Awu0YAHQU9La/1v/X4g+lvP9P8Agv8AAz9L1jVNR/sSzM2y8RpTqrCMDd5OY2AB+7vkKkY/hBxWO48rwyt/HtWez8UyNGx6gPfNE4H1SRh+NdD4f0u7t7nWdaubMW97qkweO0lkGYkRAiKzJuAJILErkfN3xVKy8M6rJZ2Ntqn2KOFdUm1O6SCZpMsZWlijUlFyAzKSxA+5gDnIaeqb8m/vT/r/AIIfZa/q1n/nudhRRRUgFFFFABRRRQAUUUUAFFFFABRRRQAUUUUAFFFFABRRRQAVwPimPQ5PiLbf8JHpH9qQjSX8uMaW99tbzRztRG28dziu+qkdKgOvDV90n2gWxtduRs2lg2cYznI9aVveT9fyaB/C16fmjgrDXtX0OyttARJrWeGFrndPplzqbRQvNIIIWEB4YIuCxbsAN3JGxH4l1/UrnQrWztLfTJ9Ss557gX9vIzQNG0a8JlGIO48HacEHtg7Wp+HVv9TTUrTUr3S71YfIaezMZ8yPO4KyyI6nByQcZGTzgmpk0SAapY37z3EtxZW0lurSMD5gcoWZuOTlB0wOTx6Xe7u/63/4AddP62/4JxtjqGraJq/i69lks70tqUFvFbpbtCXmkjgSPMhdsIAwB+UnqRj7tb8ep67pmrQ2OuPYXi3dvLJDPZ27weXJGASjI0j7gQchgRjaRjkGrk3hfT7iLVorjzpE1aZZphv2lHVEVShGCpHlqQc5B5ptl4ZS3ujdX+p32q3KwtBFNeeUDCjY3BRGiLk4GSQTwOcVDvy2W9v0/wA/66FaXMG18TeJJPB+iavKNLNxrMtokcCwyBYVlHzEtvJY9wMDHQ5+9RLr3i2L+3Yi2jM+hoJXm+zyhbxTH5mwJ5mYiAMbt0mcjiugj8L2UWh6RpSyz+RpLQNAxZdzGIYXccYOcc4A/CpJPD9rK2sFpJh/a8Yjnww+UCPZ8vHHHrnmnP7Tj3dvwt+pEVqubyv+NyWfUZv+Eck1KxtHuZvspnhtg2GkbZuCZ9T0ridU17Wb/wCH+t3Vnr+mNc20KlvstlNbz2rc7o3jaXejcDBOO/y9K7s6eBo/9nwXE8CrAIUnjYCRMDAYEjGe/THtWUPB1rLZ6pFqV9e6jNqkAt7i6nMaSeWobaqiNFUYLsQducnknAAbtd22BXsr7lXW9a1LSbWztjqun/2k6M8ix6RcXTSgHgrbxSF1UdC5ZhnA71TtfFms63/wja6RDZWjaxp0t3M90jyi3KeX0UMu8ZcjBK9Qc8YOvJ4VMlzBdDXNTS7SD7PPcJ5Ae6jDFgr/ALrAxlsFAp5POeafpXhOx0g6SbaW4b+yrN7ODzHB3I5QktxyfkHIx3oW+v8AW/8AwBmXb+JdYvLW2sIUsk1eS+ns5Lho3Nuiw5LSiPcGORtATdwW+8QOaunXt5pet+LbjWL3TYLiKO0Au2Vkg5RgrFCxI5ONu45OAG542p/B9lJGTDdXdrcreyX0N3CyeZDI/wB4LlSpUgkbWBGD6gGov+EHsmi1Dz7/AFCe5v3glkupJEMiSwkGORQE2gggHG3bx065XTXy/S/6/wBbLr/Xn/wP63wl8earFpPiEmOG6vNLhgngkk064sVlErMu1opSXGCh+YHByPQ1uz3viE6lb6PbXGmretE91PdPaSNFHHuCogjEoLMSTltwHy/d5wEPge0lTU/t2p6jeTapDDDcTzPGGxEzMu0KgVfvYIAxxnGSSdDVvD8ep31vfwX13pt9AjRrdWZj3NG2CUYSKykZAPIyCOCOct/F/X9b2DXX+v66nIaXd3Fpa3H2+1srieXxWIZNyF0UnZ86Z5Vh1HXHv1rabUPEg8aQ6XBe6Xc2ozPdhdOkRraHJ2KZPPIMjEYHygYDNjgA27bwbYWtqIVuLyQf2kNTLyShmabIPJx90kdPyIplh4Qk06+uLiLxFq0iXVw1xcQSrbMspPG0t5O/bgBQAwwAAMYpR0SX9bRX5pitq3/W7f5WMq08Z3UviuxsVurS/stSllihktdOnSOIqjOpFyzGKfhCpC7TnnsRVCxv9Yg8Ga5da3cWGrpHqssCQzWj7Ri62HO6VsqP4V424HJrobDwPbWN1pcn9q6lcRaQxNjbSvGI4FMbR7MKgLAK3BYlhgc8tmZ/CFq9vqNsb28Fpf3AuWtgY9sMm8OxQ7N3zMMkMSOTjFPRPTt+qKlqvn/n/wAAgl1PxDqFzqUuh/2dDa6fKYVju4nke7dQC3zK6iIZO0Eq/TOO1V4/Emr61qem2+hCytYb7SV1HzruJ5jESygLtV03cNjqMdeelaF54Siub67nttV1KwivsG8tbWSMRznG0nLIWQlQATGyngHrzV230KztdVhvrYNE0Fn9ijiUgRrGGBHGM5GAOvSkul/60f62CWzt/Wq/S5F4X1ebW/D8V3eRxx3KySwTiLOwyRSNGxXPIUlCQDyAa4zRdU1zRPBl/rEX9nnTLDUL6SW2eN2mmjF1IXYSBgEI5wuxs7eo3fL3mj6TBotgbS1eR42nmnJkIJ3SSNIw4A4yxx7YrEj8BWkcbWx1XVH06S5e6m09pYzFK7SGQ5OzeF3EfKrBTjkHLZq+ontb+uot54lvrW01uIQwNqNrNHHYphtswmwISwznG8lWx/cY8Vqa7qsui6GbpIVublnigij3bFeWR1jXJ52ruYZPOB61lyWbav8AECC7WC4jtdLgZZZJImjWeYnCBdwG8IpkORlcuMEkHG7qmmW2sabNYXyM0MwGdrFWUg5DKRyCCAQR0IFT9lP+rf8ABK+0c9qmsa94c0oy6rNY309zNFBamy06ceW7btxaNXkeQADIC4JwRx1GefGetwaBrE5sRcXFj5BtribTbiwiufMfaU2S5YFe5BI+ZT6it2TwoLrTZLXUta1S+cvHJDcytEkls6HKsnlxquQefmU56HI4qSTw19q0e4sNT1bUNQE7o5mmMSuoVgwUBI1UDI/u5OevTD7/ANdv+CT2My61PxBBeX+k3V1p/ny6a95aXMFrIoh2ttZHUy5bhlwwK9+KzbXxLq+l+DfDsd1cpd6hqVurrdJplxc+VGsasS8UbM8jZIG7co+bPGMHsZtHtrjWV1KUuZVtXtNmRsKOyscjGc/KO/rWWngyGLSLGyj1bUlk0182N4Gi863Xbs2D93tZdvHzqxPUnIBCW33fm/0sD3/rsv1uZEfi7Xp7XT4YrOKG6udVaw+0XljPbpLH5LSCZIXIcYxjaSclWAbkEP1LxBfaNH4muIrXT5tQ062tD5ywGP7S7A53/MTtBztGTjPU10A8PI/9nNe6he3s9hcm5SeYoGkYoyYYKoUAK54UL0B9cx3/AIVstR/tXz5bhf7VWJZ9jKNoj+7t44985pvbT+tAd9Lf1v8A8AzLrxNqfh/UruLxB9kuoRpk+ow/YoWjZBCVDRtudg5O9cMNvQ5ApW1XxPp+qaHHqh0qSDVbkxSxwQyI9t+6eTaGLkScrjdhOn3fm+XW1bQrG+vG1C9ilufLsJ7RrZcFZY5CrMMdST5YA5HU1yOm6adR8RaD9iufEV1a6VI05fWLRrdLdPKaMRrujjaVjuHzNvICH5hu+Zxtp/XV/pb+t29E/n+S/X+u3X+I9UOlaYJIry2tJpJBHG1xA85YnnakKEPIxxwqnPU84weag8a6rcaEksFvbyXo1pNMZprea2R1bB3+U/zxnDDg56e4rqNZ0RNY+yuLu5sbmzlMsFzbbN6EqVPDqykFWIwQfXqKpW/g6ygh2Nd3s7HUV1JpJZFLNMoA5+XG07egxjoMDAErfXy/NfpcUr208/yf62M2TxTq2kyatYaklnf39r9kNq9tG1vHKblzEiurM5XDqSSCflI4zTI01iL4maQmtXFjc/8AEtuzHLaQPB/HBlSjO/Tg7t3OcYGMna1Dwnp2qXOozXnnMdQghgkCvt8vymdkdCBlWDOTnPYUyx8Kpa65DrF5q2o6lewQSW6PdNGFEblSRtjRVzlOuMnPJOBik1e/9bWH0/ryIPFmvXujXFlHDPa6daTBzPql9avPBCQVCo210Cbtx+dmC/LjkkU3+0tf1O+ey0ifS4GtLaJ7m6mhedJZXXO2NFdCFwM7ix+8BjgmtPV9Gm1Vk8rWL/T0CMkkdqISsoP94SRtj6jB5NU5vCFuk0Muj6jf6M8dqloxsnjYSxJ9wMJUcZXnDDDcnk1K2/rz/wCB/l3Ov9f13/rbG8W+M73w958tvdWc5sIFlu7GHT7i5fpuYNNG223yPu+Yp6Z6dINXvRZXnjO6Ntb3QWCyPk3Ue+N8gjDL361sap4EtNUTUoTqmp2tpqi/6Za28kYWVtgTeWZC4OFXIDYO3kEEg3b3wpY366oJpbhf7USJJtrL8oj+7t44985pu1iWnpYzL3WfEc2ra9baQdMgh0lI3ja6hkkMxaLeUO11284+bnr904qSHxBqmv3NrB4f+yWW7T4b+ea9hafaJc7I1RXTn5GJbdxgDBzxspotul1qdwHl36mFEwJGF2psG3jjj1zXNarpun6FNYC2uPENlcW9gtqt3pdgbozxJ0SQCGRdwPIJVT8xwcEiktN/63/4H9aOvT+tV/wTb8J6ve61or3OqRW8VzHd3Fu6W5YoPLlZBgtyeF68fQdK265Twf4cmsNE09rmS9s5Irm5uvshn3ZEzuwSY5O9lDA5z97ua6um9w3vYKKKKQBRRRQAUUUUAFFFFABRRRQBnyxRmZyUUnce1M8mP/nmv/fIoooAPJj/AOea/wDfIo8mP/nmv/fIoooAPJj/AOea/wDfIo8mP/nmv/fIoooAPJj/AOea/wDfIo8mP/nmv/fIoooAPJj/AOea/wDfIo8mP/nmv/fIoooAPJj/AOea/wDfIo8mP/nmv/fIoooAPJj/AOea/wDfIo8mP/nmv/fIoooAPJj/AOea/wDfIo8mP/nmv/fIoooAPJj/AOea/wDfIo8mP/nmv/fIoooAPJj/AOea/wDfIo8mP/nmv/fIoooAPJj/AOea/wDfIo8mP/nmv/fIoooAPJj/AOea/wDfIo8mP/nmv/fIoooAPJj/AOea/wDfIo8mP/nmv/fIoooAPJj/AOea/wDfIo8mP/nmv/fIoooAPJj/AOea/wDfIo8mP/nmv/fIoooAPJj/AOea/wDfIo8mP/nmv/fIoooAPJj/AOea/wDfIo8mP/nmv/fIoooAPJj/AOea/wDfIo8mP/nmv/fIoooAPJj/AOea/wDfIo8mP/nmv/fIoooAPJj/AOea/wDfIo8mP/nmv/fIoooAPJj/AOea/wDfIo8mP/nmv/fIoooAPJj/AOea/wDfIo8mP/nmv/fIoooAPJj/AOea/wDfIo8mP/nmv/fIoooAPJj/AOea/wDfIo8mP/nmv/fIoooAPJj/AOea/wDfIo8mP/nmv/fIoooAPJj/AOea/wDfIo8mP/nmv/fIoooAPJj/AOea/wDfIo8mP/nmv/fIoooAPJj/AOea/wDfIo8mP/nmv/fIoooAPJj/AOea/wDfIo8mP/nmv/fIoooAPJj/AOea/wDfIo8mP/nmv/fIoooAPJj/AOea/wDfIo8mP/nmv/fIoooAPJj/AOea/wDfIo8mP/nmv/fIoooAPJj/AOea/wDfIo8mP/nmv/fIoooAPJj/AOea/wDfIo8mP/nmv/fIoooAPJj/AOea/wDfIo8mP/nmv/fIoooAPJj/AOea/wDfIo8mP/nmv/fIoooAPJj/AOea/wDfIo8mP/nmv/fIoooAPJj/AOea/wDfIo8mP/nmv/fIoooAPJj/AOea/wDfIo8mP/nmv/fIoooAPJj/AOea/wDfIo8mP/nmv/fIoooAPJj/AOea/wDfIo8mP/nmv/fIoooAPJj/AOea/wDfIo8mP/nmv/fIoooAPJj/AOea/wDfIo8mP/nmv/fIoooAPJj/AOea/wDfIo8mP/nmv/fIoooAPJj/AOea/wDfIo8mP/nmv/fIoooAPJj/AOea/wDfIooooA//2Q==)\n"
      ],
      "metadata": {
        "id": "Ds29WqkYNSLM"
      }
    },
    {
      "cell_type": "markdown",
      "source": [
        "* StandardScaler: 평균 0, 표준편차 1로 변환\n",
        "* MinMaxScaler: 최소값 0, 최대값 1이 되도록 변환\n",
        "* RobustScaler: 중앙값(median) 0, IQR(interquartile range) 1이 되도록 변환"
      ],
      "metadata": {
        "id": "beABv0FqQ00P"
      }
    },
    {
      "cell_type": "code",
      "source": [
        "# Plot correlations between our features and our target feature, churn, as a bar plot, sort by descending order\n",
        "churn_df.corr()['churn'].sort_values(ascending = False).plot(kind='bar', figsize = (18, 10), color = 'Navy')\n",
        "plt.title('Feature Correlation w/ Churn', fontsize = 30, fontweight = 'bold')\n",
        "plt.xticks(fontsize = 15, fontweight = 'bold')\n",
        "plt.yticks(fontweight = 'bold', fontsize = 12)\n",
        "plt.tight_layout()"
      ],
      "metadata": {
        "colab": {
          "base_uri": "https://localhost:8080/",
          "height": 566
        },
        "id": "PfA9tHg0_cj5",
        "outputId": "57fd86f7-0ce0-4c71-8450-057fdd54f2c3"
      },
      "execution_count": null,
      "outputs": [
        {
          "output_type": "display_data",
          "data": {
            "image/png": "[encoded data removed]",
            "text/plain": [
              "<Figure size 1296x720 with 1 Axes>"
            ]
          },
          "metadata": {
            "needs_background": "light"
          }
        }
      ]
    },
    {
      "cell_type": "code",
      "source": [
        "# Visualize a heatmap for our features correlation values\n",
        "plt.figure(figsize = (15, 10))\n",
        "x = sns.heatmap(churn_df.corr(), cmap = 'YlGnBu')"
      ],
      "metadata": {
        "colab": {
          "base_uri": "https://localhost:8080/",
          "height": 596
        },
        "id": "sJ3R92hwA60f",
        "outputId": "be394dca-9f34-4e2a-ee77-3512228fcaca"
      },
      "execution_count": null,
      "outputs": [
        {
          "output_type": "display_data",
          "data": {
            "image/png": "[encoded data removed]",
            "text/plain": [
              "<Figure size 1080x720 with 2 Axes>"
            ]
          },
          "metadata": {
            "needs_background": "light"
          }
        }
      ]
    },
    {
      "cell_type": "markdown",
      "source": [
        "**From our heatmap and correlation barplot, we see that equip, ed, and wireless have the strongest positive correlation with churn. Tenure, employ and callcard are the most negatively correlated with churn.**"
      ],
      "metadata": {
        "id": "HUaRpK3lCkFn"
      }
    },
    {
      "cell_type": "code",
      "source": [
        "# split our dataset into train and test set:\n",
        "from sklearn.model_selection import train_test_split\n",
        "X_train, X_test, y_train, y_test = train_test_split( X, y, test_size=0.2, random_state=4)\n",
        "print ('Train set:', X_train.shape,  y_train.shape)\n",
        "print ('Test set:', X_test.shape,  y_test.shape)"
      ],
      "metadata": {
        "colab": {
          "base_uri": "https://localhost:8080/"
        },
        "id": "QWHsuIynOfG8",
        "outputId": "7dfe3260-4740-49fb-ce51-a298c6402f30"
      },
      "execution_count": null,
      "outputs": [
        {
          "output_type": "stream",
          "name": "stdout",
          "text": [
            "Train set: (160, 7) (160,)\n",
            "Test set: (40, 7) (40,)\n"
          ]
        }
      ]
    },
    {
      "cell_type": "markdown",
      "source": [
        "# Modeling (Logistic Regression with Scikit-learn)\n",
        "Lets build our model using LogisticRegression from Scikit-learn package. This function implements logistic regression and can use different numerical optimizers to find parameters, including ‘newton-cg’, ‘lbfgs’, ‘liblinear’, ‘sag’, ‘saga’ solvers. You can find extensive information about the pros and cons of these optimizers if you search it in internet.\n",
        "\n",
        "The version of Logistic Regression in Scikit-learn, support regularization. Regularization is a technique used to solve the overfitting problem in machine learning models. \n",
        "\n",
        "* C parameter indicates inverse of regularization strength which must be a positive float. Smaller values specify stronger regularization. \n",
        "\n",
        "* Solver Options: \n",
        "https://towardsdatascience.com/dont-sweat-the-solver-stuff-aea7cddc3451\n",
        "(**liblinear** — Library for Large Linear Classification. Uses a coordinate descent algorithm. Coordinate descent is based on minimizing a multivariate function by solving univariate optimization problems in a loop. In other words, it moves toward the minimum in one direction at a time. It is the default solver for Scikit-learn versions earlier than 0.22.0. It performs pretty well with high dimensionality. It does have a number of drawbacks. It can get stuck, is unable to run in parallel, and can only solve multi-class logistic regression with one-vs.-rest.)\n",
        "\n",
        "Now lets fit our model with train set:"
      ],
      "metadata": {
        "id": "70L1IXUKQcfD"
      }
    },
    {
      "cell_type": "code",
      "source": [
        "from sklearn.linear_model import LogisticRegression\n",
        "from sklearn.metrics import confusion_matrix\n",
        "LR = LogisticRegression(C=0.01, solver='liblinear').fit(X_train, y_train)\n",
        "LR"
      ],
      "metadata": {
        "colab": {
          "base_uri": "https://localhost:8080/"
        },
        "id": "b4-PGPvrTwOo",
        "outputId": "814a55de-b5d1-4343-8b79-74ae2f9a5123"
      },
      "execution_count": null,
      "outputs": [
        {
          "output_type": "execute_result",
          "data": {
            "text/plain": [
              "LogisticRegression(C=0.01, solver='liblinear')"
            ]
          },
          "metadata": {},
          "execution_count": 136
        }
      ]
    },
    {
      "cell_type": "code",
      "source": [
        "# Generate model prediction data for train and test sets\n",
        "y_hat_train = LR.predict(X_train)\n",
        "y_hat_test = LR.predict(X_test)"
      ],
      "metadata": {
        "id": "oiOUTQ2bcuhH"
      },
      "execution_count": null,
      "outputs": []
    },
    {
      "cell_type": "code",
      "source": [
        "# Now we can predict using our train set:\n",
        "y_hat_train"
      ],
      "metadata": {
        "colab": {
          "base_uri": "https://localhost:8080/"
        },
        "id": "LnBJolMdMIE1",
        "outputId": "df8ea0be-b58d-44c2-adef-2bf8704efc54"
      },
      "execution_count": null,
      "outputs": [
        {
          "output_type": "execute_result",
          "data": {
            "text/plain": [
              "array([0, 1, 0, 0, 0, 1, 0, 0, 0, 0, 0, 0, 1, 0, 0, 0, 0, 1, 0, 1, 1, 0,\n",
              "       0, 0, 0, 1, 0, 0, 1, 1, 0, 1, 1, 1, 0, 1, 0, 1, 0, 1, 0, 0, 1, 0,\n",
              "       0, 0, 0, 0, 0, 0, 0, 1, 1, 0, 1, 0, 0, 1, 0, 0, 0, 1, 1, 0, 0, 0,\n",
              "       0, 0, 0, 0, 0, 0, 0, 0, 0, 0, 0, 0, 0, 0, 0, 0, 0, 0, 0, 0, 1, 0,\n",
              "       0, 1, 0, 0, 0, 0, 0, 0, 1, 0, 0, 0, 0, 1, 1, 0, 1, 0, 1, 1, 0, 0,\n",
              "       1, 1, 1, 0, 0, 0, 1, 0, 1, 1, 0, 0, 0, 1, 0, 1, 0, 0, 0, 1, 0, 1,\n",
              "       0, 0, 1, 0, 0, 1, 1, 0, 0, 1, 1, 0, 0, 1, 0, 1, 0, 0, 0, 1, 0, 0,\n",
              "       0, 1, 0, 0, 1, 1])"
            ]
          },
          "metadata": {},
          "execution_count": 142
        }
      ]
    },
    {
      "cell_type": "code",
      "source": [
        "# Now we can predict using our test set:\n",
        "y_hat_test"
      ],
      "metadata": {
        "colab": {
          "base_uri": "https://localhost:8080/"
        },
        "id": "aNMNzyceVoKU",
        "outputId": "1ab0d930-1a37-4bea-8114-53bebf25241a"
      },
      "execution_count": null,
      "outputs": [
        {
          "output_type": "execute_result",
          "data": {
            "text/plain": [
              "array([0, 0, 0, 0, 0, 0, 0, 0, 1, 0, 0, 0, 1, 1, 0, 0, 0, 1, 1, 0, 0, 0,\n",
              "       0, 0, 0, 0, 0, 0, 0, 0, 0, 0, 1, 0, 0, 0, 1, 0, 0, 0])"
            ]
          },
          "metadata": {},
          "execution_count": 143
        }
      ]
    },
    {
      "cell_type": "code",
      "source": [
        "print(round(churn_df['churn'].value_counts()/len(churn_df), 2))"
      ],
      "metadata": {
        "colab": {
          "base_uri": "https://localhost:8080/"
        },
        "id": "4yC-yhHdo6wm",
        "outputId": "13547c2c-39e4-4bbf-88e8-0bfeeb2307ef"
      },
      "execution_count": null,
      "outputs": [
        {
          "output_type": "stream",
          "name": "stdout",
          "text": [
            "0    0.71\n",
            "1    0.29\n",
            "Name: churn, dtype: float64\n"
          ]
        }
      ]
    },
    {
      "cell_type": "markdown",
      "source": [
        "**predict_proba** returns estimates for all classes, ordered by the label of classes. So, the first column is <mark>the probability of class 1, P(Y=1|X)</mark>, and second column is <mark>probability of class 0, P(Y=0|X)</mark>:"
      ],
      "metadata": {
        "id": "otnEKpalW48q"
      }
    },
    {
      "cell_type": "code",
      "source": [
        "y_hat_prob = LR.predict_proba(X_test)\n",
        "y_hat_prob"
      ],
      "metadata": {
        "colab": {
          "base_uri": "https://localhost:8080/"
        },
        "id": "JERjGQ9kXiq9",
        "outputId": "73339d0b-a0f1-4339-cbd4-69b9d6bc6180"
      },
      "execution_count": null,
      "outputs": [
        {
          "output_type": "execute_result",
          "data": {
            "text/plain": [
              "array([[0.54, 0.46],\n",
              "       [0.61, 0.39],\n",
              "       [0.56, 0.44],\n",
              "       [0.63, 0.37],\n",
              "       [0.56, 0.44],\n",
              "       [0.55, 0.45],\n",
              "       [0.52, 0.48],\n",
              "       [0.61, 0.39],\n",
              "       [0.41, 0.59],\n",
              "       [0.63, 0.37],\n",
              "       [0.58, 0.42],\n",
              "       [0.63, 0.37],\n",
              "       [0.48, 0.52],\n",
              "       [0.43, 0.57],\n",
              "       [0.66, 0.34],\n",
              "       [0.55, 0.45],\n",
              "       [0.52, 0.48],\n",
              "       [0.49, 0.51],\n",
              "       [0.49, 0.51],\n",
              "       [0.52, 0.48],\n",
              "       [0.62, 0.38],\n",
              "       [0.53, 0.47],\n",
              "       [0.64, 0.36],\n",
              "       [0.52, 0.48],\n",
              "       [0.51, 0.49],\n",
              "       [0.71, 0.29],\n",
              "       [0.55, 0.45],\n",
              "       [0.52, 0.48],\n",
              "       [0.52, 0.48],\n",
              "       [0.71, 0.29],\n",
              "       [0.68, 0.32],\n",
              "       [0.51, 0.49],\n",
              "       [0.42, 0.58],\n",
              "       [0.71, 0.29],\n",
              "       [0.6 , 0.4 ],\n",
              "       [0.64, 0.36],\n",
              "       [0.4 , 0.6 ],\n",
              "       [0.52, 0.48],\n",
              "       [0.66, 0.34],\n",
              "       [0.51, 0.49]])"
            ]
          },
          "metadata": {},
          "execution_count": 145
        }
      ]
    },
    {
      "cell_type": "code",
      "source": [
        "# Find residual differences between train data and predicted train data\n",
        "residuals = np.abs(y_train - y_hat_train)\n",
        "# Print value counts of our predicted values \n",
        "print(pd.Series(residuals).value_counts())\n",
        "print('----------------------------------')\n",
        "# Print normalized value counts of our predicted values\n",
        "print(pd.Series(residuals).value_counts(normalize = True))"
      ],
      "metadata": {
        "colab": {
          "base_uri": "https://localhost:8080/"
        },
        "id": "m3FLDMJhJNhi",
        "outputId": "78326d70-dd35-407d-c103-e15dc58626c2"
      },
      "execution_count": null,
      "outputs": [
        {
          "output_type": "stream",
          "name": "stdout",
          "text": [
            "0    122\n",
            "1     38\n",
            "dtype: int64\n",
            "----------------------------------\n",
            "0    0.7625\n",
            "1    0.2375\n",
            "dtype: float64\n"
          ]
        }
      ]
    },
    {
      "cell_type": "markdown",
      "source": [
        "**Train Set Results:**  \n",
        "* 122 Correct (38 Incorrect)  \n",
        "* 76.2% Accuracy"
      ],
      "metadata": {
        "id": "rHl3kr3DMpEl"
      }
    },
    {
      "cell_type": "code",
      "source": [
        " # How many times was the classifier correct on the test set? Repeat previous step with test data\n",
        "residuals = np.abs(y_test - y_hat_test)\n",
        "print(pd.Series(residuals).value_counts())\n",
        "print('---------------------------------')\n",
        "print(pd.Series(residuals).value_counts(normalize = True))"
      ],
      "metadata": {
        "colab": {
          "base_uri": "https://localhost:8080/"
        },
        "id": "ScMJxAXcND7A",
        "outputId": "8c059bfc-683e-46b4-df76-198bcb1de099"
      },
      "execution_count": null,
      "outputs": [
        {
          "output_type": "stream",
          "name": "stdout",
          "text": [
            "0    30\n",
            "1    10\n",
            "dtype: int64\n",
            "---------------------------------\n",
            "0    0.75\n",
            "1    0.25\n",
            "dtype: float64\n"
          ]
        }
      ]
    },
    {
      "cell_type": "markdown",
      "source": [
        "**Test Set Results:**  \n",
        "* 30 Correct (10 Incorrect)  \n",
        "* 75% Accuracy"
      ],
      "metadata": {
        "id": "xY_oODlqNzDb"
      }
    },
    {
      "cell_type": "markdown",
      "source": [
        "# Evaluation"
      ],
      "metadata": {
        "id": "SvwYeBiweShz"
      }
    },
    {
      "cell_type": "markdown",
      "source": [
        "**Confusion Matrix**  \n",
        "Another way of looking at accuracy of classifier is to look at confusion matrix."
      ],
      "metadata": {
        "id": "W6cux1nIl0c4"
      }
    },
    {
      "cell_type": "code",
      "source": [
        "# Call confusion_matrix function from sklearn.metrics using actual y_test and predicted y_test data sets \n",
        "cnf_matrix = confusion_matrix(y_test, y_hat_test, labels=[1,0])\n",
        "print('Confusion Matrix: \\n', cnf_matrix)"
      ],
      "metadata": {
        "colab": {
          "base_uri": "https://localhost:8080/"
        },
        "id": "1GHMtQwlOUy0",
        "outputId": "986e0f1a-962b-4d2e-a97c-b78fb015bd88"
      },
      "execution_count": null,
      "outputs": [
        {
          "output_type": "stream",
          "name": "stdout",
          "text": [
            "Confusion Matrix: \n",
            " [[ 6  9]\n",
            " [ 1 24]]\n"
          ]
        }
      ]
    },
    {
      "cell_type": "markdown",
      "source": [
        "**Jaccard Index**   \n",
        "Lets try jaccard index for accuracy evaluation. we can define jaccard as the size of the intersection divided by the size of the union of two label sets. If the entire set of predicted labels for a sample strictly match with the true set of labels, then the subset accuracy is 1.0; otherwise it is 0.0.   \n",
        "* A simple example using set notation: How similar are these two sets?   \n",
        "A = {0,1,2,5,6}   B = {0,2,3,4,5,7,9}   \n",
        "Solution: J(A,B) = |A∩B| / |A∪B| = |{0,2,5}| / |{0,1,2,3,4,5,6,7,9}| = 3/9 = 0.33.\n"
      ],
      "metadata": {
        "id": "I23q_1FdYHxB"
      }
    },
    {
      "cell_type": "code",
      "source": [
        "# jaccard_similarity_score\n",
        "from sklearn.metrics import jaccard_score\n",
        "jaccard_score(y_test, y_hat_test, pos_label = 0) #pos_label = 0 확인필요"
      ],
      "metadata": {
        "colab": {
          "base_uri": "https://localhost:8080/"
        },
        "id": "d0vXS7j9ZtCg",
        "outputId": "42cbc821-c6a5-4869-e35b-bce585e3f214"
      },
      "execution_count": null,
      "outputs": [
        {
          "output_type": "execute_result",
          "data": {
            "text/plain": [
              "0.7058823529411765"
            ]
          },
          "metadata": {},
          "execution_count": 154
        }
      ]
    },
    {
      "cell_type": "code",
      "source": [
        "from sklearn.metrics import classification_report, confusion_matrix\n",
        "import itertools\n",
        "def plot_confusion_matrix(cm, classes,\n",
        "                          normalize=False,\n",
        "                          title='Confusion matrix',\n",
        "                          cmap=plt.cm.Blues):\n",
        "    \"\"\"    This function prints and plots the confusion matrix.\n",
        "    Normalization can be applied by setting `normalize=True`.    \"\"\"\n",
        "    if normalize:\n",
        "        cm = cm.astype('float') / cm.sum(axis=1)[:, np.newaxis]\n",
        "        print(\"Normalized confusion matrix\")\n",
        "    else:\n",
        "        print('Confusion matrix, without normalization')\n",
        "\n",
        "    print(cm)\n",
        "\n",
        "    plt.imshow(cm, interpolation='nearest', cmap=cmap)\n",
        "    plt.title(title)\n",
        "    plt.colorbar()\n",
        "    tick_marks = np.arange(len(classes))\n",
        "    plt.xticks(tick_marks, classes, rotation=45)\n",
        "    plt.yticks(tick_marks, classes)\n",
        "\n",
        "    fmt = '.2f' if normalize else 'd'\n",
        "    thresh = cm.max() / 2.\n",
        "    for i, j in itertools.product(range(cm.shape[0]), range(cm.shape[1])):\n",
        "        plt.text(j, i, format(cm[i, j], fmt),\n",
        "                 horizontalalignment=\"center\",\n",
        "                 color=\"white\" if cm[i, j] > thresh else \"black\")\n",
        "\n",
        "    plt.tight_layout()\n",
        "    plt.ylabel('True label')\n",
        "    plt.xlabel('Predicted label')\n",
        "print(confusion_matrix(y_test, y_hat_test, labels=[1,0]))"
      ],
      "metadata": {
        "colab": {
          "base_uri": "https://localhost:8080/"
        },
        "id": "_EXfi1RwlziH",
        "outputId": "1ad2581c-5f68-4ee7-e4f5-b47417acc3a8"
      },
      "execution_count": null,
      "outputs": [
        {
          "output_type": "stream",
          "name": "stdout",
          "text": [
            "[[ 6  9]\n",
            " [ 1 24]]\n"
          ]
        }
      ]
    },
    {
      "cell_type": "code",
      "source": [
        "# Compute confusion matrix\n",
        "cnf_matrix = confusion_matrix(y_test, y_hat_test, labels=[1,0])\n",
        "np.set_printoptions(precision=2)\n",
        "\n",
        "# Plot non-normalized confusion matrix\n",
        "plt.figure()\n",
        "plot_confusion_matrix(cnf_matrix, classes=['churn=1','churn=0'],normalize= False,  title='Confusion matrix')"
      ],
      "metadata": {
        "colab": {
          "base_uri": "https://localhost:8080/",
          "height": 366
        },
        "id": "J216FxI2tBXu",
        "outputId": "e49c7dd5-2087-4b88-df63-1d5e03802afa"
      },
      "execution_count": null,
      "outputs": [
        {
          "output_type": "stream",
          "name": "stdout",
          "text": [
            "Confusion matrix, without normalization\n",
            "[[ 6  9]\n",
            " [ 1 24]]\n"
          ]
        },
        {
          "output_type": "display_data",
          "data": {
            "image/png": "[encoded data removed]",
            "text/plain": [
              "<Figure size 432x288 with 2 Axes>"
            ]
          },
          "metadata": {
            "needs_background": "light"
          }
        }
      ]
    },
    {
      "cell_type": "code",
      "source": [
        "print (classification_report(y_test, y_hat_test))"
      ],
      "metadata": {
        "colab": {
          "base_uri": "https://localhost:8080/"
        },
        "id": "O1vWvvG_tIpM",
        "outputId": "616328df-1266-4575-98b3-0a5e36d5d2f9"
      },
      "execution_count": null,
      "outputs": [
        {
          "output_type": "stream",
          "name": "stdout",
          "text": [
            "              precision    recall  f1-score   support\n",
            "\n",
            "           0       0.73      0.96      0.83        25\n",
            "           1       0.86      0.40      0.55        15\n",
            "\n",
            "    accuracy                           0.75        40\n",
            "   macro avg       0.79      0.68      0.69        40\n",
            "weighted avg       0.78      0.75      0.72        40\n",
            "\n"
          ]
        }
      ]
    },
    {
      "cell_type": "code",
      "source": [
        "print (classification_report(y_train, y_hat_train))"
      ],
      "metadata": {
        "colab": {
          "base_uri": "https://localhost:8080/"
        },
        "id": "FKRTuPL8VUMt",
        "outputId": "a8e8d90e-eb3b-4c46-bf5d-3c8de6a6d39c"
      },
      "execution_count": null,
      "outputs": [
        {
          "output_type": "stream",
          "name": "stdout",
          "text": [
            "              precision    recall  f1-score   support\n",
            "\n",
            "           0       0.86      0.80      0.83       117\n",
            "           1       0.55      0.65      0.60        43\n",
            "\n",
            "    accuracy                           0.76       160\n",
            "   macro avg       0.71      0.73      0.71       160\n",
            "weighted avg       0.78      0.76      0.77       160\n",
            "\n"
          ]
        }
      ]
    },
    {
      "cell_type": "markdown",
      "source": [
        "Based on the count of each section, we can calculate **precision and recall** of each label:\n",
        "\n",
        "![2.JPG](data:image/jpeg;base64,/9j/4AAQSkZJRgABAQEAYABgAAD/4RDcRXhpZgAATU0AKgAAAAgABAE7AAIAAAAGAAAISodpAAQAAAABAAAIUJydAAEAAAAMAAAQyOocAAcAAAgMAAAAPgAAAAAc6gAAAAgAAAAAAAAAAAAAAAAAAAAAAAAAAAAAAAAAAAAAAAAAAAAAAAAAAAAAAAAAAAAAAAAAAAAAAAAAAAAAAAAAAAAAAAAAAAAAAAAAAAAAAAAAAAAAAAAAAAAAAAAAAAAAAAAAAAAAAAAAAAAAAAAAAAAAAAAAAAAAAAAAAAAAAAAAAAAAAAAAAAAAAAAAAAAAAAAAAAAAAAAAAAAAAAAAAAAAAAAAAAAAAAAAAAAAAAAAAAAAAAAAAAAAAAAAAAAAAAAAAAAAAAAAAAAAAAAAAAAAAAAAAAAAAAAAAAAAAAAAAAAAAAAAAAAAAAAAAAAAAAAAAAAAAAAAAAAAAAAAAAAAAAAAAAAAAAAAAAAAAAAAAAAAAAAAAAAAAAAAAAAAAAAAAAAAAAAAAAAAAAAAAAAAAAAAAAAAAAAAAAAAAAAAAAAAAAAAAAAAAAAAAAAAAAAAAAAAAAAAAAAAAAAAAAAAAAAAAAAAAAAAAAAAAAAAAAAAAAAAAAAAAAAAAAAAAAAAAAAAAAAAAAAAAAAAAAAAAAAAAAAAAAAAAAAAAAAAAAAAAAAAAAAAAAAAAAAAAAAAAAAAAAAAAAAAAAAAAAAAAAAAAAAAAAAAAAAAAAAAAAAAAAAAAAAAAAAAAAAAAAAAAAAAAAAAAAAAAAAAAAAAAAAAAAAAAAAAAAAAAAAAAAAAAAAAAAAAAAAAAAAAAAAAAAAAAAAAAAAAAAAAAAAAAAAAAAAAAAAAAAAAAAAAAAAAAAAAAAAAAAAAAAAAAAAAAAAAAAAAAAAAAAAAAAAAAAAAAAAAAAAAAAAAAAAAAAAAAAAAAAAAAAAAAAAAAAAAAAAAAAAAAAAAAAAAAAAAAAAAAAAAAAAAAAAAAAAAAAAAAAAAAAAAAAAAAAAAAAAAAAAAAAAAAAAAAAAAAAAAAAAAAAAAAAAAAAAAAAAAAAAAAAAAAAAAAAAAAAAAAAAAAAAAAAAAAAAAAAAAAAAAAAAAAAAAAAAAAAAAAAAAAAAAAAAAAAAAAAAAAAAAAAAAAAAAAAAAAAAAAAAAAAAAAAAAAAAAAAAAAAAAAAAAAAAAAAAAAAAAAAAAAAAAAAAAAAAAAAAAAAAAAAAAAAAAAAAAAAAAAAAAAAAAAAAAAAAAAAAAAAAAAAAAAAAAAAAAAAAAAAAAAAAAAAAAAAAAAAAAAAAAAAAAAAAAAAAAAAAAAAAAAAAAAAAAAAAAAAAAAAAAAAAAAAAAAAAAAAAAAAAAAAAAAAAAAAAAAAAAAAAAAAAAAAAAAAAAAAAAAAAAAAAAAAAAAAAAAAAAAAAAAAAAAAAAAAAAAAAAAAAAAAAAAAAAAAAAAAAAAAAAAAAAAAAAAAAAAAAAAAAAAAAAAAAAAAAAAAAAAAAAAAAAAAAAAAAAAAAAAAAAAAAAAAAAAAAAAAAAAAAAAAAAAAAAAAAAAAAAAAAAAAAAAAAAAAAAAAAAAAAAAAAAAAAAAAAAAAAAAAAAAAAAAAAAAAAAAAAAAAAAAAAAAAAAAAAAAAAAAAAAAAAAAAAAAAAAAAAAAAAAAAAAAAAAAAAAAAAAAAAAAAAAAAAAAAAAAAAAAAAAAAAAAAAAAAAAAAAAAAAAAAAAAAAAAAAAAAAAAAAAAAAAAAAAAAAAAAAAAAAAAAAAAAAAAAAAAAAAAAAAAAAAAAAAAAAAAAAAAAAAAAAAAAAAAAAAAAAAAAAAAAAAAAAAAAAAAAAAAAAAAAAAAAAAAAAAAAAAAAAAAAAAAAAAAAAAAAAAAAAAAAAAAAAAAAAAAAAAAAAAAAAAAAAAAAAAAAAAAAAAAAAAAAAAAAAAAAAAAAAAAAAAAAAAAAAAAAAAAAAAAAAAAAAAAAAAAAAAAAAAAAAAAAAAAAAAAAAAAAAAAAAAAAAAAAAAAAAAAAAAAAAAAAAAAAAAAAAAAAAAAAAAAAAAAAAAAAAAAAAAAAAAAAAAAAAAAAAAAAAAAAAAAAAAAAAAAAAAAAAAAAAAAAAAAAAAAAAAAAAAAAAAAAAAAAAAAAAAAAAAAAAAAAAAAAAAAAAAAAAAAAAAAAAAAAAAAAAAAAAAAAAAAAAAAAAAAAAAAAAAAAAAAAAAAAAAAAAAAAAAAAAAAAAAAAAAAAAAAAAAAAAAAAAAAAAAAAAAAAAAAAAAAAAAAAAAAAAAAAAAAAAAAAAAAAAAAAAAAAAAAAAAAAAAAAAAAAAAAAAAAAAAAAAAAAAAAAAAAAAAAAAAAAAAAAAAAAAAAAAAAAAAAAAAAAAAAAAAAAAAAAAAAAAAAAAAAAAAAAAAAAAAAAAAAAAAAAAAAAAAAAAAAAAAAAAAAAAAAAAAAAAAAAAAAAAAAAAAAAAAAAAAAAAAAAAAAAAAAAAAAAAAAAAAAAAAAAAAAAAAAAAAAAAAAAAAAAAAAAAAAAAAAAAAAAAAAAAAAAAAAAAAAAAAAAAAAAAAAAAAAAAAAAAAAAAAAAAAAAAAAAAAAAAAAAAAAAAAAAAAAAAAAAAAAAAAAAAAAAAAAAAAAAAAAAAAAAAAAAAAAAAAAAAAAAAAAAAAAAAAAAAAAAAAAAAAAAAAAAAAAAAAAAAAAAAAAAAAAAAAAAAAAAAAAAAAAAAAAAAAAAAAAAAAAAAAAAAAAAAAAAAAAAAAAAAAAAAAAAAAAAAAAAAAAAAAAAAAAAAAAAAAAAAAAAAAAAAAAAAAAAAAAAAAAAAAAAAAAAAAAAAAAAAAAAAAAAAAAAAAAAAAAAAAAAAAAAAAAGRpYW5hAAAFkAMAAgAAABQAABCekAQAAgAAABQAABCykpEAAgAAAAM4NAAAkpIAAgAAAAM4NAAA6hwABwAACAwAAAiSAAAAABzqAAAACAAAAAAAAAAAAAAAAAAAAAAAAAAAAAAAAAAAAAAAAAAAAAAAAAAAAAAAAAAAAAAAAAAAAAAAAAAAAAAAAAAAAAAAAAAAAAAAAAAAAAAAAAAAAAAAAAAAAAAAAAAAAAAAAAAAAAAAAAAAAAAAAAAAAAAAAAAAAAAAAAAAAAAAAAAAAAAAAAAAAAAAAAAAAAAAAAAAAAAAAAAAAAAAAAAAAAAAAAAAAAAAAAAAAAAAAAAAAAAAAAAAAAAAAAAAAAAAAAAAAAAAAAAAAAAAAAAAAAAAAAAAAAAAAAAAAAAAAAAAAAAAAAAAAAAAAAAAAAAAAAAAAAAAAAAAAAAAAAAAAAAAAAAAAAAAAAAAAAAAAAAAAAAAAAAAAAAAAAAAAAAAAAAAAAAAAAAAAAAAAAAAAAAAAAAAAAAAAAAAAAAAAAAAAAAAAAAAAAAAAAAAAAAAAAAAAAAAAAAAAAAAAAAAAAAAAAAAAAAAAAAAAAAAAAAAAAAAAAAAAAAAAAAAAAAAAAAAAAAAAAAAAAAAAAAAAAAAAAAAAAAAAAAAAAAAAAAAAAAAAAAAAAAAAAAAAAAAAAAAAAAAAAAAAAAAAAAAAAAAAAAAAAAAAAAAAAAAAAAAAAAAAAAAAAAAAAAAAAAAAAAAAAAAAAAAAAAAAAAAAAAAAAAAAAAAAAAAAAAAAAAAAAAAAAAAAAAAAAAAAAAAAAAAAAAAAAAAAAAAAAAAAAAAAAAAAAAAAAAAAAAAAAAAAAAAAAAAAAAAAAAAAAAAAAAAAAAAAAAAAAAAAAAAAAAAAAAAAAAAAAAAAAAAAAAAAAAAAAAAAAAAAAAAAAAAAAAAAAAAAAAAAAAAAAAAAAAAAAAAAAAAAAAAAAAAAAAAAAAAAAAAAAAAAAAAAAAAAAAAAAAAAAAAAAAAAAAAAAAAAAAAAAAAAAAAAAAAAAAAAAAAAAAAAAAAAAAAAAAAAAAAAAAAAAAAAAAAAAAAAAAAAAAAAAAAAAAAAAAAAAAAAAAAAAAAAAAAAAAAAAAAAAAAAAAAAAAAAAAAAAAAAAAAAAAAAAAAAAAAAAAAAAAAAAAAAAAAAAAAAAAAAAAAAAAAAAAAAAAAAAAAAAAAAAAAAAAAAAAAAAAAAAAAAAAAAAAAAAAAAAAAAAAAAAAAAAAAAAAAAAAAAAAAAAAAAAAAAAAAAAAAAAAAAAAAAAAAAAAAAAAAAAAAAAAAAAAAAAAAAAAAAAAAAAAAAAAAAAAAAAAAAAAAAAAAAAAAAAAAAAAAAAAAAAAAAAAAAAAAAAAAAAAAAAAAAAAAAAAAAAAAAAAAAAAAAAAAAAAAAAAAAAAAAAAAAAAAAAAAAAAAAAAAAAAAAAAAAAAAAAAAAAAAAAAAAAAAAAAAAAAAAAAAAAAAAAAAAAAAAAAAAAAAAAAAAAAAAAAAAAAAAAAAAAAAAAAAAAAAAAAAAAAAAAAAAAAAAAAAAAAAAAAAAAAAAAAAAAAAAAAAAAAAAAAAAAAAAAAAAAAAAAAAAAAAAAAAAAAAAAAAAAAAAAAAAAAAAAAAAAAAAAAAAAAAAAAAAAAAAAAAAAAAAAAAAAAAAAAAAAAAAAAAAAAAAAAAAAAAAAAAAAAAAAAAAAAAAAAAAAAAAAAAAAAAAAAAAAAAAAAAAAAAAAAAAAAAAAAAAAAAAAAAAAAAAAAAAAAAAAAAAAAAAAAAAAAAAAAAAAAAAAAAAAAAAAAAAAAAAAAAAAAAAAAAAAAAAAAAAAAAAAAAAAAAAAAAAAAAAAAAAAAAAAAAAAAAAAAAAAAAAAAAAAAAAAAAAAAAAAAAAAAAAAAAAAAAAAAAAAAAAAAAAAAAAAAAAAAAAAAAAAAAAAAAAAAAAAAAAAAAAAAAAAAAAAAAAAAAAAAAAAAAAAAAAAAAAAAAAAAAAAAAAAAAAAAAAAAAAAAAAAAAAAAAAAAAAAAAAAAAAAAAAAAAAAAAAAAAAAAAAAAAAAAAAAAAAAAAAAAAAAAAAAAAAAAAAAAAAAAAAAAAAAAAAAAAAAAAAAAAAAAAAAAAAAAAAAAAAAAAAAAAAAAAAAAAAAAAAAAAAAAAAAAAAAAAAAAAAAAAAAAAAAAAAAAAAAAAAAAAAAAAAAAAAAAAAAAAAAAAAAAAAAAAAAAAAAAAAAAAAAAAAAAAAAAAAAAAAAAAAAAAAAAAAAAAAAAAAAAAAAAAAAAAAAAAAAAAAAAAAAAAAAAAAAAAAAAAAAAAAAAAAAAAAAAAAAAAAAAAAAAAAAAAAAAAAAAAAAAAAAAAAAAAAAAAAAAAAAAAAAAAAAAAAAAAAAAAAAAAAAAAAAAAAAAAAAAAAAAAAAAAAAAAAAAAAAAAAAAAAAAAAAAAAAAAAAAAAAAAAAAAAAAAAAAAAAAAAAAAAAAAAAAAAAAAAAAAAAAAAAAAAAAAAAAAAAAAAAAAAAAAAAAAAAAAAAAAAAAAAAAAAAAAAAAAAAAAAAAAAAAAAAAAAAAAAAAAAAAAAAAAAAAAAAAAAAAAAAAAAAAAAAAAAAAAAAAAAAAAAAAAAAAAAAAAAAAAAAAAAAAAAAAAAAAAAAAAAAAAAAAAAAAAAAAAAAAAAAAAAAAAAAAAAAAAAAAAAAAAAAAAAAAAAAAAAAAAAAAAAAAAAAAAAAAAAAAAAAAAAAAAAAAAAAAAAAAAAAAAAAAAAAAAAAAAAAAAAAAAAAAAAAAAAAAAAAAAAAAAAAAAAAAAAAAAAAAAAAAAAAAAAAAAAAAAAAAAMjAyMjowMTowNiAwOToyODo0MAAyMDIyOjAxOjA2IDA5OjI4OjQwAAAAZABpAGEAbgBhAAAA/+ELGGh0dHA6Ly9ucy5hZG9iZS5jb20veGFwLzEuMC8APD94cGFja2V0IGJlZ2luPSfvu78nIGlkPSdXNU0wTXBDZWhpSHpyZVN6TlRjemtjOWQnPz4NCjx4OnhtcG1ldGEgeG1sbnM6eD0iYWRvYmU6bnM6bWV0YS8iPjxyZGY6UkRGIHhtbG5zOnJkZj0iaHR0cDovL3d3dy53My5vcmcvMTk5OS8wMi8yMi1yZGYtc3ludGF4LW5zIyI+PHJkZjpEZXNjcmlwdGlvbiByZGY6YWJvdXQ9InV1aWQ6ZmFmNWJkZDUtYmEzZC0xMWRhLWFkMzEtZDMzZDc1MTgyZjFiIiB4bWxuczpkYz0iaHR0cDovL3B1cmwub3JnL2RjL2VsZW1lbnRzLzEuMS8iLz48cmRmOkRlc2NyaXB0aW9uIHJkZjphYm91dD0idXVpZDpmYWY1YmRkNS1iYTNkLTExZGEtYWQzMS1kMzNkNzUxODJmMWIiIHhtbG5zOnhtcD0iaHR0cDovL25zLmFkb2JlLmNvbS94YXAvMS4wLyI+PHhtcDpDcmVhdGVEYXRlPjIwMjItMDEtMDZUMDk6Mjg6NDAuODM5PC94bXA6Q3JlYXRlRGF0ZT48L3JkZjpEZXNjcmlwdGlvbj48cmRmOkRlc2NyaXB0aW9uIHJkZjphYm91dD0idXVpZDpmYWY1YmRkNS1iYTNkLTExZGEtYWQzMS1kMzNkNzUxODJmMWIiIHhtbG5zOmRjPSJodHRwOi8vcHVybC5vcmcvZGMvZWxlbWVudHMvMS4xLyI+PGRjOmNyZWF0b3I+PHJkZjpTZXEgeG1sbnM6cmRmPSJodHRwOi8vd3d3LnczLm9yZy8xOTk5LzAyLzIyLXJkZi1zeW50YXgtbnMjIj48cmRmOmxpPmRpYW5hPC9yZGY6bGk+PC9yZGY6U2VxPg0KCQkJPC9kYzpjcmVhdG9yPjwvcmRmOkRlc2NyaXB0aW9uPjwvcmRmOlJERj48L3g6eG1wbWV0YT4NCiAgICAgICAgICAgICAgICAgICAgICAgICAgICAgICAgICAgICAgICAgICAgICAgICAgICAgICAgICAgICAgICAgICAgICAgICAgICAgICAgICAgICAgICAgICAgICAgICAgICAKICAgICAgICAgICAgICAgICAgICAgICAgICAgICAgICAgICAgICAgICAgICAgICAgICAgICAgICAgICAgICAgICAgICAgICAgICAgICAgICAgICAgICAgICAgICAgICAgICAgIAogICAgICAgICAgICAgICAgICAgICAgICAgICAgICAgICAgICAgICAgICAgICAgICAgICAgICAgICAgICAgICAgICAgICAgICAgICAgICAgICAgICAgICAgICAgICAgICAgICAgCiAgICAgICAgICAgICAgICAgICAgICAgICAgICAgICAgICAgICAgICAgICAgICAgICAgICAgICAgICAgICAgICAgICAgICAgICAgICAgICAgICAgICAgICAgICAgICAgICAgICAKICAgICAgICAgICAgICAgICAgICAgICAgICAgICAgICAgICAgICAgICAgICAgICAgICAgICAgICAgICAgICAgICAgICAgICAgICAgICAgICAgICAgICAgICAgICAgICAgICAgIAogICAgICAgICAgICAgICAgICAgICAgICAgICAgICAgICAgICAgICAgICAgICAgICAgICAgICAgICAgICAgICAgICAgICAgICAgICAgICAgICAgICAgICAgICAgICAgICAgICAgCiAgICAgICAgICAgICAgICAgICAgICAgICAgICAgICAgICAgICAgICAgICAgICAgICAgICAgICAgICAgICAgICAgICAgICAgICAgICAgICAgICAgICAgICAgICAgICAgICAgICAKICAgICAgICAgICAgICAgICAgICAgICAgICAgICAgICAgICAgICAgICAgICAgICAgICAgICAgICAgICAgICAgICAgICAgICAgICAgICAgICAgICAgICAgICAgICAgICAgICAgIAogICAgICAgICAgICAgICAgICAgICAgICAgICAgICAgICAgICAgICAgICAgICAgICAgICAgICAgICAgICAgICAgICAgICAgICAgICAgICAgICAgICAgICAgICAgICAgICAgICAgCiAgICAgICAgICAgICAgICAgICAgICAgICAgICAgICAgICAgICAgICAgICAgICAgICAgICAgICAgICAgICAgICAgICAgICAgICAgICAgICAgICAgICAgICAgICAgICAgICAgICAKICAgICAgICAgICAgICAgICAgICAgICAgICAgICAgICAgICAgICAgICAgICAgICAgICAgICAgICAgICAgICAgICAgICAgICAgICAgICAgICAgICAgICAgICAgICAgICAgICAgIAogICAgICAgICAgICAgICAgICAgICAgICAgICAgICAgICAgICAgICAgICAgICAgICAgICAgICAgICAgICAgICAgICAgICAgICAgICAgICAgICAgICAgICAgICAgICAgICAgICAgCiAgICAgICAgICAgICAgICAgICAgICAgICAgICAgICAgICAgICAgICAgICAgICAgICAgICAgICAgICAgICAgICAgICAgICAgICAgICAgICAgICAgICAgICAgICAgICAgICAgICAKICAgICAgICAgICAgICAgICAgICAgICAgICAgICAgICAgICAgICAgICAgICAgICAgICAgICAgICAgICAgICAgICAgICAgICAgICAgICAgICAgICAgICAgICAgICAgICAgICAgIAogICAgICAgICAgICAgICAgICAgICAgICAgICAgICAgICAgICAgICAgICAgICAgICAgICAgICAgICAgICAgICAgICAgICAgICAgICAgICAgICAgICAgICAgICAgICAgICAgICAgCiAgICAgICAgICAgICAgICAgICAgICAgICAgICAgICAgICAgICAgICAgICAgICAgICAgICAgICAgICAgICAgICAgICAgICAgICAgICAgICAgICAgICAgICAgICAgICAgICAgICAKICAgICAgICAgICAgICAgICAgICAgICAgICAgICAgICAgICAgICAgICAgICAgICAgICAgICAgICAgICAgICAgICAgICAgICAgICAgICAgICAgICAgICAgICAgICAgICAgICAgIAogICAgICAgICAgICAgICAgICAgICAgICAgICAgICAgICAgICAgICAgICAgICAgICAgICAgICAgICAgICAgICAgICAgICAgICAgICAgICAgICAgICAgICAgICAgICAgICAgICAgCiAgICAgICAgICAgICAgICAgICAgICAgICAgICAgICAgICAgICAgICAgICAgICAgICAgICAgICAgICAgICAgICAgICAgICAgICAgICAgICAgICAgICAgICAgICAgICAgICAgICAKICAgICAgICAgICAgICAgICAgICAgICAgICAgICAgICAgICAgICAgICAgICAgICAgICAgICAgICAgICAgICAgICAgICAgICAgICAgICAgICAgICAgICAgICAgICAgICAgICAgIAogICAgICAgICAgICAgICAgICAgICAgICAgICAgPD94cGFja2V0IGVuZD0ndyc/Pv/bAEMABwUFBgUEBwYFBggHBwgKEQsKCQkKFQ8QDBEYFRoZGBUYFxseJyEbHSUdFxgiLiIlKCkrLCsaIC8zLyoyJyorKv/bAEMBBwgICgkKFAsLFCocGBwqKioqKioqKioqKioqKioqKioqKioqKioqKioqKioqKioqKioqKioqKioqKioqKioqKv/AABEIAmEBUwMBIgACEQEDEQH/xAAfAAABBQEBAQEBAQAAAAAAAAAAAQIDBAUGBwgJCgv/xAC1EAACAQMDAgQDBQUEBAAAAX0BAgMABBEFEiExQQYTUWEHInEUMoGRoQgjQrHBFVLR8CQzYnKCCQoWFxgZGiUmJygpKjQ1Njc4OTpDREVGR0hJSlNUVVZXWFlaY2RlZmdoaWpzdHV2d3h5eoOEhYaHiImKkpOUlZaXmJmaoqOkpaanqKmqsrO0tba3uLm6wsPExcbHyMnK0tPU1dbX2Nna4eLj5OXm5+jp6vHy8/T19vf4+fr/xAAfAQADAQEBAQEBAQEBAAAAAAAAAQIDBAUGBwgJCgv/xAC1EQACAQIEBAMEBwUEBAABAncAAQIDEQQFITEGEkFRB2FxEyIygQgUQpGhscEJIzNS8BVictEKFiQ04SXxFxgZGiYnKCkqNTY3ODk6Q0RFRkdISUpTVFVWV1hZWmNkZWZnaGlqc3R1dnd4eXqCg4SFhoeIiYqSk5SVlpeYmZqio6Slpqeoqaqys7S1tre4ubrCw8TFxsfIycrS09TV1tfY2dri4+Tl5ufo6ery8/T19vf4+fr/2gAMAwEAAhEDEQA/APpGiiigAooooAKKw7vxXaWviQ6GtreXF4sKXD+TGCkcbMV3FiRwCOah0zxtpuq31rBDDdxx3277FczRbYrraCx2HOT8oJGQMgE0AdFRXGaD41J8H6Jdaqs99qepRFkgtIgXk2/eYDIAAyPzFa1j4v0vULixhhMyvfCXy/MTbteM4dG54YZ6UAbtFYK+LbafSxfWFjf30bTPCq28QLNtOCwywG33zUEvjvSo9P0+6jiu5/7Qma3hhiizJ5igkqwJGDxQB0tFcXqPxBETaSdN0y7uRd6g1lcwmMebCyoWK43Abuh6kYrpdS1m10jRm1LUd8MKhfkK5csxAVAB1YsQMepoAv0VxmteNSfDuoy6dFcWGpWUltvgvIlDqksyqGxkggjcAfY+laOoeNdP0y6mt5Ybu4+yorXc1vEGS2DDILnIxwc8Z4oA6KiuW1L4g6Tpt9c2zwX0/wBkjjmuJYIQyRxuMhycjjB7c0+Dx7o8v2gzrc2aQ2/2pXuYtomizjenJyMkehoA6aiuZHjvTVs72e7tr6zNnam8aG4hCu8I6soBOe3oeaqaj8QYINC1O6s7C8F3a6a+oQQ3MQXz4wPvDDfdBK56HBoA7GiuWXxzCttpwn0nUvt19E0sdmkSeYVULucZfG3Ljvn2rpYJfPt45QjpvUNtcYZc9j70ASUUUUAFFFFABRRRQAUUUUAFFFFABRRRQAUUUUAFFFFABRRRQAUUUUAFFFFABRRRQAUUUUAFFcd4r8Ua9p3ijTdD8N6bZ3s97BJMWupzGFCfQVX/ALT+Jn/QvaF/4HP/AIUAbw8PlvFmoarLKrQ3ljHaeUB8w2s5Jz77/wBK53wv8Ov+EdvtPBg0ya304FYLgRv9oI2FATztBwcEgc8+tSf2n8TP+he0L/wOf/Cj+0/iZ/0L2hf+Bz/4UAVpPhmx0XQYvNtLm80eGSHFwjeTKrkE5AOQQVGPxq3f+BJ5/B8On6ZLZ6XqVvcNcQz20beWjtkNwTk5DH8ab/afxM/6F7Qv/A5/8KP7T+Jn/QvaF/4HP/hQBY1HwTLLo+j6fYzQmDT1KyW9wG8ufIxk7SDkHJqvoXgC40m30iN7uBv7P1Ca7YIhAIdSAoz0xmj+0/iZ/wBC9oX/AIHP/hR/afxM/wChe0L/AMDn/wAKAJZ/Bd+k0l1Y3luLpdaOpwiZGKYMSxlGxz0BOR7VreKfDY8VeFzpl5IkcpeKYOqkoJI3Vxx3XK4x6GsT+0/iZ/0L2hf+Bz/4Uf2n8TP+he0L/wADn/woAZH4AmbRdRtmi0uzuLtrf97ZxvysUokw24knvj0zSav8ORd69fahbxadcpqAQzx38bttKoE+XaRwQBwak/tP4mf9C9oX/gc/+FH9p/Ez/oXtC/8AA5/8KALs3g2SQ675c8Ma6paR28ahDiLYm38qra38PxrscEF1dKsMelGwYKpyWyCGHtx0qP8AtP4mf9C9oX/gc/8AhR/afxM/6F7Qv/A5/wDCgCGD4ezf2VqltJFpNvPeWL2kdxaxSbvmxy24njjoK1NV8Gvqt1ue6VIm0O40pwF5zKY/nHsPLPHvVH+0/iZ/0L2hf+Bz/wCFH9p/Ez/oXtC/8Dn/AMKAHan4U1vVtEs7O+Gizy28ZiEjRSjYMABlIOQ3GT26V1ekWUmm6LZ2U9y91LbwpG88n3pCBgsfc1yX9p/Ez/oXtC/8Dn/wo/tP4mf9C9oX/gc/+FAHc0V5/fa98SbDT7i8m8PaGY7eJpXxfPnCgk9vaus8Nas+u+GNP1SWJYXu4FlaNTkKT2zQBqUUUUAFFFFABRRRQAUUUUAFFFFABRRRQAUUUUAFFFFABRRRQAUUUUAFFFFABRRRQBgXvh2W68d6ZryzIsVlbSwtEQdzF+4rfrOm1iOGZozGxKnGc0z+3I/+eT/mKnmQro1KKy/7cj/55P8AmKP7cj/55P8AmKOZBdGpRWX/AG5H/wA8n/MUf25H/wA8n/MUcyC6NSisv+3I/wDnk/5ij+3I/wDnk/5ijmQXRqUVl/25H/zyf8xR/bkf/PJ/zFHMgujUorL/ALcj/wCeT/mKP7cj/wCeT/mKOZBdGpRWX/bkf/PJ/wAxR/bkf/PJ/wAxRzILo1KKy/7cj/55P+Yo/tyP/nk/5ijmQXRqUVl/25H/AM8n/MUf25H/AM8n/MUcyC6LOq2bajo17ZIwRrm3kiDHoCykZ/Wq3hrSX0Lwxp+lyyLK9pAsTOvRiO9H9uR/88n/ADFT2+pJcKxCMMHHNO6YXRdoqD7Uv900fal/ummMnoqD7Uv900fal/umgCeioPtS/wB00fal/umgCeioPtS/3TR9qX+6aAJ6Kg+1L/dNH2pf7poAnoqD7Uv900fal/umgCeioPtS/wB00fal/umgCeioPtS/3TR9qX+6aAJ6Kg+1L/dNH2pf7poAnoqJJw7YAIqWgAooooAKKKKAOYvv+P6b/eqvVi+/4/pv96q9YPczCiisfxW06+G7n7M6ox2qxYE5UsARwR60hGxRXL3OrSaFGIYjZGO32iSCC2kGM4zyCQvXODUrXc9vqOs3FnD50gWEqnXqo5x3x1pXA6Oiudk8RyQaV5xkhnnaZYRsgkQIT/eQ5ar2i6nPfm4S4j5hIxKsLxrID6BueKYGpRXO3euahA2pzJHb/ZtPkAKlW3yLtBPOcA8+lR33ia4hvb1LWEOlk4RovIkd5jtDEKy8LweM5pXA6aiud1HXNQii1S4sI7fydO+VlmDbpG2Bj0IwBuH1pdV8QTWEhaOS3dIwhkh8mRm5xn5hwvXvRcDoaK5xbm+fV9VJmie0SBXELox4KZwPmwPfipINaNpDaefFHFbS2hkQrkYZRnb+VFwN+iubn8Q3ca2UJjjiuLiEzsTDJIqrkYG1ec8jvSy6/fG0tJhAtqkqv5ss0EjqjK2ANowQDycntRcDo6KZBJ51vHIGVw6BtyfdOR1HtT6YBWlpn+rf61m1paZ/q3+tVHcpbl2iiitiwoorj/7R1i11rxRP9pgltbFBJHA8bkjEAYAHdgDPXjnnpQB2FFc1Ya3qrXejx6glpt1KOSQrCjAx7VUgZLHP3jziqNx40uUSOJI4knmvJ4FkMMkqokZ6lU+Yk/hQB2dFZXh3VZ9X01prqAwyxytGT5bIJMfxKG5APvWLa+J9VaOG8uYrMWcmpfYdiK3mYMmxXznHXHGKAOvori7bxrd3WoI0NsHtWvjaeStrMZAok8syeZjZgEZI9B1zT5vFGr+Quo20Nn9gk1MWCxuG80AT+Uzk5x1BwMenNAHY0VyV54tmstcjh821uLZ7oWzJFby7kJyMmT7hIPUVSF9qi6X4hmv5ba8toLt0SGSN8j5wAM7ug9MUAd1RXL3viiXS3vYJ4Y98dvHLZqoP73dxtPPZsdKral4tv7XUpLCGOFZ7W3jknzazSiR2B+Vdn3eh5OaAOxorkbrxTfx3Vs0kcWm2c1vFN5l5byPlmzuQspAQrxy3rXXUAFFFFAEtv/rh9Kt1Ut/9cPpVugAooooAKKKKAOYvv+P6b/eqvVi+/wCP6b/eqvWD3MwqG7tIr61e3uAWjfGQDjoc/wBKmopCMy60CxvJJmmEoE5BlRZSquQAASB34H5VO+lWzNOw8xGnCh2SQqflGBg9quUUAZy6FYrbSwsrv5rh3d5Czlh0O7rkVZs7JLJWWOSaTcckzSFz+ZqxRQBSl0i0mhvIpEYpenMw3HnjH4cCmz6Naz3T3G6aJ5MeZ5MrIJMf3gOtX6KAOc13QpdSnnSC3CpcqqyzfaCoOOMlB94gdD9K0Ljw/Y3XmecJcTBfNVJCquQAASB9BWnRQBRfR7V7kz/vVZo/LcJIQHXGOR34pt1oVheWEFncRFoYCCg3EEY960KKAKl5plvetG8nmRyRghJInKMoPbI7VFNo1vPCkTy3IVFK/LOwLA9d3PP41oUUAMhhjt7eOGFQkcahEUdAAMAU+iigArS0z/Vv9aza0tM/1b/WqjuUty7RRRWxYVl3Ph6xury5uZPOVrqIxTqkzKsi7dvKjgnBxmtSigDOudCsrq3tYnEsf2T/AFLxSFHTjHDDmqyeE9KisUtYo5Y1jlaZJElYSI7dSG6jNbVFAFexsksLYQxPLIMklppC7E+5PNVRoGnraR2wjbyo7oXajef9YH35/wC+u1aVFAGVH4dsob83UDXEOZfNaGOdliZ85yUBweawb/wpPe64hitVt7Rb5bxpBdMVZlbdkRYwGJ6n612dFAGJJ4T0uSfzGWfb9o+0iITMIxJnO4LnGck/nUsvhrT5pLtn88LeHM0SzMEY5BztzjPHWtaigDMvvD+najeWV1dwl5bFt0J3EY+vr+NF9oFnf3n2pmuIJ9uxpLeZoy6+hweRWnRQBkXvhmw1AgXT3LxbFRoftDCOQDpuXOD+Na9FFABRRRQBLb/64fSrdVLf/XD6VboAKKKKACiiigDmL7/j+m/3qr1Yvv8Aj+m/3qr1g9zMKM56VzXjHVbiyght7ZjGZslnHXA7frXNaRrV5Z6jEfPkkjZwro7E5BNNRbVx2PSqKBzRUkhRRTVkRiQrA49DQA6iiigAooooAKKKKACis3XtUOk6Y06KGkJ2oD0zXGQeLNUiuRJJP5qZ5jZRgiqUWx2uei0VHbzLc2sU6fdkQOM+hGakqRBWlpn+rf61m1paZ/q3+tVHcpbl2iiitiwooooA5bVvEt8+rtpXh62We4j/ANZI/wB1KhtfEuraZqUNn4mtkjWc4SaPpmqljfReGfGOpJquY47xt8cxHGMk/wBaTxNqtt4ivLHTdHP2mQTB2kUcKPrQB3dFNjXZGqk52gDNOoAKKKKACiiigAoorG1bxVpejzeTczFpv+ecY3EfX0oA2aKzNI8Qafrat9hmy6jLRsMMPwrToAKKKKAJbf8A1w+lW6qW/wDrh9Kt0AFFFFABRRRQBzF9/wAf03+9VerF9/x/Tf71V6we5mZutaLDrNqI5GMciHKOBnFZOl+DUtLxLi7uBN5Z3KirgE9ia6iii7tYLsKKKKQjmvGd7PbWMUUDFFlYhmHcelcdp95PZXsctu5Vtwzg9fY16XqOm2+qWpgulJXqCOqn1FZNh4Os7O6WaSR59pyqsAB+PrVqSSKTVjoEbcisRjIzj0paKKgkKKKKACiiigChrOmLq2nPbltjZyjehrkoPBWoNchZ3iSIHlw2cj2Fd5RVKTQ72GQxLBBHDGMJGoVR7AYp9FFSIK0tM/1b/Ws2tLTP9W/1qo7lLcu0UUVsWFFFFAFa90+01GIR31vHOo6BxnH0NMsdJsNMB+w2scOepUcn8etXKKACiiigAooooAKKKKAGykrC5X7wUkfWuL8EWlreyaheXiJNe+eQ3mDJQfjXbVy+peDTLqLX+jahLp08n+s2Zw35EUAZ+t28Gm+PNHk0xVimnfE8cYwNuQM4+hP5V3Fc9ofhOPTL1r+9upL++YYEsn8P05NdDQAUUUUAS2/+uH0q3VS3/wBcPpVugAooooAKKKKAOYvv+P6b/eqvVi+/4/pv96q9YPczCiiikIKKKKACiiigAooooAKKKRmCKWchVAySTgCgBaK47VPiNp8N42n+H7afXtRBx5NmMoh/2n6Cq6eHvG/ifD6/q6aFaN/y56bzIR6GQ1Epxh8TE5JbnS6v4m0XQYy2r6nbWmOdskg3f989a5tvibDev5fhnQNW1lv4XSDyom/4G/8AhW1o3w38M6LIJotOW5uc5NzdkyyE/Vq6hI0jXbGiovoowK5pYpfZRk6q6I8+F98StS5tND0jSoz/AM/lw0si/guBT/8AhGfiFdjN14ytbVT1jtdOXj/gTE16BRWTxNR7Ee1kcB/wr7X5h/pXj7WM/wDTAIn9Kin8DazZ4WHx94iG4ZP75P8A4mvRKz9R/wBYn0p061Ry1Z24D95iFGeq1OHHhzxZAP8ARfH2qHHTz0ST+lSqPiXZDMPirT78Dolzpypn6sprp6K6vaz7n0bwdB9Dno/G3xC07nVPC2namg/6B12Y2P4PkVdtfjLoiOIvEOn6noUnRmu7YtEP+BrkGtSmSwxzLtmjWRfRlyKtV31OeWXwfwux0Wla9pOuQiXR9Rtr1MZ/cyhiPqOorQryfUPh5oV3P9ps4ZNMuwci4sXMTA+vHB/GkhvviB4U/wBTcxeKLBf+WVx8lwB7MOGP1raNWLOKpgqsNVqes0Vx3hz4naDr1wLK4aTStSH3rK+Hltn/AGSeG/CuxrU4ttwooooAKKKKACiiigAooooAKKKKAJbf/XD6Vbqpb/64fSrdABRRRQAUUUUAcxff8f03+9VerF9/x/Tf71V6we5mFFFFIQUUUUAFFFFABRRXE634uv8AUtWfw54FjjutSX/j6vH5gsl9WPdv9kUNpK7A1/EvjLTfDKJHOXub6XiCytxullP07D3NYUPhjxL42IuPGFy+k6YxymlWj4dx/wBNH/oK6Dwr4FsPDbPezSPqOsT83GoXHLufRf7o9hXUVw1MS9oGEqvSJn6RoWmaDZra6RZQ2sSjpGuM/U960KKK4229zEKKKKACiiigArP1H/WJ9K0Kz9R/1ifStKXxHo5Z/vK+f5FOiiiuw+uCiiigAooooAy9b8N6V4ht/K1W0SUj7sgGHQ+oYcisS2vPF3gDBtnk8SaEnW3kP+kwL/st/EPauvoq4zlHY562Hp1V7y1NTwz4t0jxbp/2rR7kSFeJYW+WSI+jKeRW3XlGt+DzNqI1vwzdHSNdj5WeMfJN/syL/ED+db/gz4hf2veNoPiW3GmeIYF+eBj8lwP78Z7g+nauuFRSPDr4adF67HcUUUVocwUUUUAFFFFABRRRQBLb/wCuH0q3VS3/ANcPpVugAooooAKKKKAOYvv+P6b/AHqr1Yvv+P6b/eqvWD3MzF8R64dHt0EKhp5c7d3QAdTWHpXjC6a+jivwjxSMF3KMFc962PFGhy6tbxyWuDNDnCk43A//AKqwNJ8KX8l/G97F5EMbBmLMCWx2GKtctilax3tFFFZkBRRXE+LtbvtT1aPwf4Wk26jcruvLsciyh7sf9o9AKG0ldgQa1rWpeMNam8MeDpzBDCdup6qoyIB/zzT1c/pXaeHvDmm+F9Jj0/SIBFEvLMeXlbuzHuTS+HfD1h4X0SHTNLj2RRjLMeWkY9XY9ya1K8ytWdR2WxyznzBRRRWBAUUUUANkdYo2eQhVUZJPYVyM/wAQIEuisNo0kION5bBPuBXT6jbNeabcWyHa0sbKD6ZFeSz6deW90beW2kEoONu0nP09a7MNTpzvzG1KMZXuetWF9DqNlHdWzbo5BxnqPY1ZrG8K6dNpmhRxXQ2yuxkK/wB3PatmuWaSk0tjKVk9ArP1H/WJ9K0Kz9R/1ifSqpfEehln+8r5/kU6KKytT1k2lwtrZwm4unGdo6L9a7Um3ZH1c5xgryNWisGPXbu1uEj1mz8hJDhZF6D+db1Eotbk06kamwUUUUjUKKKKACsXxL4Ys/EtmqTFre7gO+1vIuJLd+xB/mO9bVFCbTuiZRUlZmZ4H8bXn9pf8Ip4yKxa3CuYLkcR38Y/jX/a9RXoVebeKPDUHiTTVjMjW17bt5tndx8PBIOhB9PUd60/h54yn1yCfRtfUW/iDTMJdR9BMvaVPVTXbTqcy8zwMVhnRldbM7aiiitTjCiiigAooooAlt/9cPpVuqlv/rh9Kt0AFFFFABRRRQBzF9/x/Tf71V6sX3/H9N/vVXrB7mYUUUUhBRRQTjrQBgeMfEq+GdBa4jTzr2dhDaQDrLKeAPp3NO8CeFW8OaS8+oP9o1jUG8++uD1Zz/CPYdBWBoEf/CbfEG416b59K0VjbWCn7skv8cn4dBXpFcOJqa8iMKsvsoKKKK4zEKK5jxR4ok0iZbWzRWmK7mZuQo7fjVfw34um1C+Wzv1XdJ9x1GOfQ1uqE3Dn6F+zly8x19FFFYEBSUtFABRRRQAVn6j/AKxPpWhWfqP+sT6VpS+I9HLP95Xz/Ip1znnJp3i2aS8+VJ0+SQ9B0/wro6gurO3vY9lzEsi9sjpXdFpbn1FWDmk47rUxPEd9bXVmlpaus80kg2hDnFb1ujR28aOcsqgE/hVa00iysZN9vAFf+8Tkj86u05NWsiacJKTnPd9goooqDoCiiigAooooAK5TxhpV5BcW3inw8Nur6X8xUf8ALzD/ABRn146V1dFOLcXdGdSnGpFxkbXhrxBZ+KPD1rq2ntmK4TJU9Ubup9wa1a8n8L3P/CEfEaTR3OzR9fYy2oP3Ybj+JR6bq9N1aSWLR7t7fPmrExXHrivQi1JXR81Ug6c3F9DL1Lxpo+mXJt5ZXlkU4YQru2n3ORWjpWs2Os25lsJhIF4ZSMMv1FYHgKysn0D7SESW4kdvOZhkg+lVYIobD4oiHTAFilgJuETopwT/AEX86ZmdvRRRQBLb/wCuH0q3VS3/ANcPpVugAooooAKKKKAOYvv+P6b/AHqr1Yvv+P6b/eqvWD3MwooopCCuW+Iesy6R4UkjsT/p+oOtnagdd78Z/AZrqa4a7X/hIvjJZWZ+a10C1NzIO3nScL/47UylyxcgbsrnXeF9Dh8OeGbLS4BxBGA57s38RP41r0UV47bbuzi3CiiigDj/ABd4budQu1vbBfMbaFePPPHcVW8L+F7yDU0vb+PyVi5VCeSa7miuhYiahyGntJcvKFFFFc5mFFFFABRRRQAVn6j/AKxPpWhWfqP+sT6VpS+I9HLP95Xz/Ip0UUV2H1wUUUUAFFFFABRRRQAUUUUAFFFFAHOeOdGk1fwzKbT5b6zYXNq46q6cj8+ldv4Q1+PxT4QsNVXGbiEeav8AdccMPzBrLIyMHkVg/C+b+x/FHiTws5xGko1C0U/885OG/wDHq6aEuh5GYU9qi9DoLnwTJHeSTaLqUlispy8a9PwrT0Dwzb6GZJvMa4upfvzP1+graorpPJCiiigCW3/1w+lW6qW/+uH0q3QAUUUUAFFFFAHMX3/H9N/vVXqxff8AH9N/vVXrB7mYUUUUhBXF/DAf2hceIvEDfN/aGpOkTf8ATOP5QP0NdPrN19h0G/uwceRbSS5/3VJ/pWR8KrT7J8M9H4wZ4fPP1c7v61z4l2p2M6j907CiioGvIEvUtGfEzoXVcdQPevNOYnopNw9R+dGaAFopAQehzRuA6kUALRSEgdSKCQDgkUALRVSbUYrZZHuleFFkWMMwyHJwBjHuamE2blovLYKEDeZxtPPT60AS0UmaAQehBoAWs/Uf9Yn0q+CD0INUNR/1ifStKXxHo5Z/vK+f5FOiq9/fR6fZvcTBmC8BV6sT0AqSGUywq0kZhdhzGxBK/kSK7D64koqtb30dxdXUCqwa1dVcnocqG4/OrORjORigAooBz0oyM4yKACijIzjPNGRnGRmgAoqqdQij8sXAaFpZjDGHH3iMnt2IBNTJMXmlQxsoQgBzjD5GeP5UASUUZoyD0IoAK5W8k/sf4v8AhrUl+WO/WTT5v9okZT9RXVAg9DmuN+JLfZNK0vVR97TtTt5gfT5wv9a0pu00cuKjzUZHsNFFFdx84FFFFAEtv/rh9Kt1Ut/9cPpVugAooooAKKKKAOYvv+P6b/eqvVi+/wCP6b/eqvWD3MwooopCOf8AHsph+H2uOpwfsUg/Ncf1rR8GxCDwTo8SjASzjA/75FZnxBQyfDvXFHP+hyH8hmtbwjIJfBukuOQ1pGf/AB0VyYr4UZVdkbFYGqWlv/wk1nd3dj58flMm8Wxl2tkYzgEj61v0VwHOceukeXoU062LG6F/5rHy8yFBMG474wM4FJqCXuoS6zLp8FwiSLaAGSFlMqK7GQAHaT8pIxkE/iDXY0UAc/4btvJuLqSJtkLqg8lLCS1jVhnJCuTknjOOOBWZqKW769ray2M1zO0ca27xxF9r+WMYI+4c4OTiuzqGO0hhupriNcSzkGQ5POBgfoKAOSu7OXddDU7Oe6vHhjFnLHEzhG2jOGHCHdyScU+9tpIdSinNsb682RK0U9k7gEDkpMOE9ea7CigDktS0957fVTNZtMv26OVVMW7co25KjHPGelWRpsOoX95DFbvBZXGnrEh8kxhTufoCBgjOcV0lFAHJWkWrapZ6heSwyW1/FZ/YrfeNuZAuXdc9mbAB/wBmodN0/mXDS2wNo8c0dvpssLMTjkszEOw5wRnOTzXZ0UAc74YjMM1xFHZxpCqrtuFs2tmkPoytySP71aWo/wCsT6VoVn6j/rE+laUviPRyz/eV8/yOc8S2YvdI8s24uCJUIXZux8wzx9KwtYt5hdTGy02OCWCZBAYbF2dlGDuEgIVR1G3np712lFdZ9enY5q8szKdbW4WeOKW4hZWjgaTcAifwj7y5GCB71Tkt7ybQ0SGyjgt47zMixWbKs0e373k5DY3EZXPbPPSuxooC5jeHLfyLe42uTE8mUjFo9usfAyFRiTjPNYTxRy3GqpDZTSX7Xp8idYiQvI539FH1IzXbVDBaw2zSmFdpmcyPyTlj3oC5yt1ZzGS7WS0nk1V7gNbXSxkqq8Yw/RQOcjIqw0Hk+JvNgtftTyXALmeyYNCMAFkm+7tHXbXUUUBc5GbTw1nbyXti00cOqyySK1uZD5ZLjO3BJGSOgqzJpz3Q1kW8LRZaGW0JjKDckalcA47jH5iulooC5yhg1DUdG1DUEhlgurplVIpFIcRIQCMZB5+Y4yOtR2+no1negPLDDJEqtFbaZLCAwPXaxO49jjqK6+igLmN4bDJbzp9jit41cbHitmtxLx18tuR/Wsr4ooH+Ht/n+Ao4/Bga66uS+J7bfh5qP+0FX82FXD4kY19acvQ9VsZDNp1tKxyXiVifqBU9VtNTy9KtEPBWBB/46Ks16B8uFFFFAEtv/rh9Kt1Ut/8AXD6VboAKKKKACiiigDmL7/j+m/3qr1Yvv+P6b/eqvWD3MwooopCM7xFbG98MapbAZM1nKg+pQiqPwyuhd/DTRGzkx2qxN9V4P8q3yAQQeQetcb8J2NnpWr6E/wB7StSmiAP90tuH4c1zYlXp3M6vwnfUUUV5xzBRRRQAUUUUAFFFFABRTWZUUs7BVHUk4xUUF7bXLFbeeOQjqFbNFmBPRRRQAVn6j/rE+laFZ+o/6xPpWlL4j0cs/wB5Xz/Ip0UUV2H1wUUUUAFFFFABRVPU9Rj02182QbmJwqjuayjrGrxR/aZrAeR1IHUCqUG1cwnXhB2Z0NFQWd3HfWqTwn5WHT0PpU9TsbJpq6CiiigYVxvxPBuPDFtp6ffvr+3hX3/eAn9BXZVyetx/2r8TfCOkj5lhuH1CQegjXjP4mrpq80c2Kly0ZM9bAwMDpRRRXefNhRRRQBLb/wCuH0q3VS3/ANcPpVugAooooAKKKKAOYvv+P6b/AHqr1Yvv+P6b/eqvWD3MwooopCCuItG/sD40zRt8tt4gsw6+gmj4I+pHNdvXG/ErT520O31vT1LXuiXC3cYXqyDh1H1X+VTOPNFxE1dWO+oqnpOpQaxo9rqFowaG5iWRSPcVcrx9jjCiiquo38OmWEl3cZ2RjoOpPYU0m3ZBuWqK4eL4gOboedZqICedrZYCu0hmS4gSaI7kdQyn1Bq6lKdP4kVKEo7klFFFZknIePrmeK0t4YyVikY7yO+OgrjNNuZ7TUIZbUkSBxgDvz0r1jUNOttTtTb3ib0PI9QfUVmad4R03TroXCB5ZFOU8w5C+9d1LEQhT5WjeFSMY2Zu0UUVwmAVn6j/AKxPpWhWfqP+sT6VpS+I9HLP95Xz/Ip0UUV2H1wUUUUAFFFFAGD4lRkNrdbS8cT/ADirU+u6eLFpBMr5XhB1PtitN0WRCrqGU8EEdaoLoenJL5i2q7s56nFaKUbJM5ZU6ik5Qtr3K/hiCSDRwZQR5jl1B9OP8K2KAMDA4FFRJ3dzanDkgoroFFFFI0Cue8ARf238SvEOvnmCxRNOtz2J+85H6CrHizW18P8Ahm7vjzIqbIUHV5G4UD8a6D4deHm8NeB7KzuP+PuUG4um/vSv8zf4fhXRQjrc8rMKlkoI6iiiiuo8cKKKKAJbf/XD6Vbqpb/64fSrdABRRRQAUUUUAcxff8f03+9VerF9/wAf03+9VesHuZhRRRSEFNkjSaJ4pVDI6lWU9CD1FOooA4fwHcP4Y8SX/gq9YiJSbrS2b+OEnlR/umvRK4jx34fudSsbfVdFOzWdJfz7Rh/Hj70Z9iK3fCfiW28VeH4dRtfkc/JPCfvQyD7ykexrgxNOz511OerGzubVZXiTTJNV0SW3gP70EOgJ6kdq1aK5YycWmjNOzueSRaDqk10LdbKYPnB3IQB7k16jp1p9h023tS24xRhSfXAq1RW9avKqkmXOo5hRRRXOZhRRRQAUUUUAFZ+o/wCsT6VoVn6j/rE+laUviPRyz/eV8/yKdFFFdh9cFFFFABRRRQAUUUUAFFFFABRRXPeMPEMmi6bHb6cnn6tfv5Fjbjks5/i+g6mmk27IiUlCLkylHbf8Jz8TINPUeZpHh9hPdn+GS4/gT3x1Ir12ub8C+FI/CHhiKxL+ddykzXc56yytyx+nYV0ld8Y8qsfNVqjqzcmFFULjXNLtJ/Jub+3jkzgqZBkfX0q7HIksavE6ujDIZTkEfWqMh1FFFAEtv/rh9Kt1Ut/9cPpVugAooooAKKKKAOYvv+P6b/eqvVi+/wCP6b/eqvWD3MwooobO07euOKQihd65p1lN5VzcqsndQCcfXFXIZ47iFZYHWRG6Mp615Pc+b9ql+0bvN3Hdu65rs/A/nfYJ9+fK3/Jn171bjZFNWR1Fef63BceAPEkninSoml0i9YDVrRBnZ6TKPUd69ApssaTRNHKodHGGVhkEVm0pKzJaurMnsr221GxhvLGZZ7eZA8ciHIYGp68uDXXwq1NpIlkufCN1JukRRubT3P8AEP8AY9u1el2l3b31pFdWcyTwSqGSRDkMD3ry6tJ035HLKLiyaiiisiAooooAKKKz9a1aPRtOa5lXec7UT+8acYuTsgSbdkaFFcJaePpzdgXlvH5DHkpnKiu5RxIiuhyrDINaVKU6fxFSg47jqz9R/wBYn0rQrP1H/WJ9KVL4jvyz/eV8/wAinTJZUgiaSVgqKMkntT6xPFRf+yV252+YN/0//Xiu2Ku7H1NWfJBy7CHxVahztgmaIHBkA4rXtrmK7gWa3cOjdDUVulp/ZyeWI/s+zvjGPesrwv8A8voiz9nEv7v/AD9MVbUWm10MYzqRnGMne5v0UUVmdYUUUUAFFFU9V1ay0TTZb/U51gt4hlmY9fYep9qBNpK7G61rNnoOkzajqMojgiGfdj2UDuTVT4e+GrzUdTbxr4nhMd7cJssLRv8Al0hPT/gR6mqHhfw3e+OtXg8S+KLd7fSrdt+maZIMFvSWQevoO1ergYGBwK7KdPl1e54WLxPtXyx2CsfxVfy6b4buri3OJAAqkdsnGa2Kr39lFqNjLaXAzHKpU+1bHAcxoXg7Sp9Ehnvojcz3CCR5C54zzxTPCJk0zxJqmhLK0ttD+8jLHO3px+o/Ko4dI8WaREbLTLqCW1BPltJjKj8q2fDXh46NHNPdy+fe3J3Syf0FAG7RRRQBLb/64fSrdVLf/XD6VboAKKKKACiiigDmL7/j+m/3qr1Yvv8Aj+m/3qr1g9zMKKKKQihd6Jp97N5txbKz926Zq5DDHbxLFAioi9FUdKfRQMKKKKBDJoY7iF4p0WSNxtZWGQR6VwEum6v8N7t77w1FJqPh12L3Olg5e29Xi9v9mvQqKTSkrMGk1ZlfQPEWmeJtMS+0e5WeJuo6Mh9GHUGtSuB1rwNImotrfg27Gj6t1kUD9xc+zp/UU/R/iOIb1NJ8bWbaJqZO1XfmCc+qP0/CvPqYeUdY6o55U2tUd3RTUdZEDxsGUjIIOQadXMZBWJ4q0iXV9J8u3/1sT71U/wAXGMfrW3RVRk4SUkNNp3R5VZ+GdUurtYTavEM4Z3GAor1GCIQW8cS9EUKPwqSita1aVW1yp1HPcKz9R/1ifStCs/Uf9Yn0qKXxHdln+8r5/kU6ZNDHcQtFMoZGGCDT6K7D6166MwT4Wi3FUuplhJ/1eeK2LW1isrdYbddqL+tTUVTlJ7mcKNODvFBRRRUmoUUyeeK2haW4kWKNRlmc4ArkH8V6n4mu2074fWP21gdsupTArbQ++f4j7CqjFyehlUqwpK8mbPiLxTp/hq1V71mknlO2C1iG6WZuwVag8OeBtR8S6lD4g8fxhFibfY6ODlIPRpP7z/yrd8JfDqz0C5Oq6rO2r65IPnvZxnZ/sxr/AAiuyrrhTUdep4mIxcq2i0QABQABgDoBRRRWpxBRRRQAUUUUAFFFFAEtv/rh9Kt1Ut/9cPpVugAooooAKKKKAOYvv+P6b/eqvVi+/wCP6b/eqvWD3MwooopCCiiigAooooAKKKKACqeqaTYa1YvZ6raRXVu45SVc/l6VcooGcGPB/iHws5l8Dax5lqOf7L1Il4/oj9V/lVm1+KUFhOtp410q78P3JOBLKu+3c/7Mg4x9cV2dRzwQ3ULQ3MSTRMMMkihlP1BrKdKE90RKEZbk1hqdjqlstxp13DdQsMq8Lhgfyq1XA3nwv8PyXDXWj/a9Cu2OTNpc5hyfdfuke2KhGlfEXRj/AMSvxHp+twjpFqlsYnA9A8fU+5Fc0sK/ssydJ9D0SivNr34jeJ/DsKSeJ/BMghaRYln0+9jmDsxwoCHBySelW/8AhbukwD/ia6J4h0z1+1aZIMfiuaxdCouhHs5djvqz9R/1ifSuUX40+Ajw+ueS3pLaTIf1Sq978XfAsjKU8QwMAOcRv/8AE1VOnNS1TO/LvcxCctFqdPRXFn4ueDCcQ6rJO3pDaTP/ACSnr8REuv8AkEeGPEmpZ6NBpjhfzbAFdXJLsfTPEUlvJHY0Vysd/wDEHU+NM8ErYoek+p36Jj6ouWq1F4A8b6vz4h8XwadEfvW2jW3Uf9dJOR+VWqMmYSx1GO2pp6lrWm6PbmbVL6C1jH8UsgWubj8Z6j4ikMHgTQbnU+cfbp1MNsnvubr9BXWaR8JvCelXAuprF9VvR/y9apKbhz+DfL+ldkiLHGEjVURRgKowAK2jRS3OKpmE5aQVjzax+FVzq86XfxB1dtTIORp1rmK2T2Pd/wAa9Es7K20+0S1sLeO3gjGEjiUKqj6Cp6K2SS2PPlKUneTCiiimSFFFFABRRRQAUUUUAFFFFAEtv/rh9Kt1Ut/9cPpVugAooooAKKKKAOYvv+P6b/eqvVi+/wCP6b/eqvWD3MwpiTRSMVjkRmHUKwJFYfjC8mtdHUQEr5smxmHpgn+lcJb3U1rcJNBIyOhyCDVKN0NK561RUcDmW3jdhtZlBI9KkqCQooooAKKKKACio7idLa2knk+5GpY/hXDy+NdQa5LRLGsWeEK5yPrTSbGlc7yiqWk6iuqaclyi7SeGX0NXaQBRRRQI47xH/wATj4geHtFHzRWYfVblf935Iv8Ax5mP/Aa7GuO8Gf8AE28ReI/ETcpPd/YbU9vKgG0kexkMhrsabGIyK4w6hh6EZq5plnbbHP2eLO7rsFVK0tM/1b/WnHca3LiqqqAoAA6ACloorYsKKKKACiiigArn/FeuT6VbQW+nqGvbt9kWRnb710Fcx4y0y7uFs9S05PMuLGTeE9R1/oKAM+bRfFVjatfx64886Lva3OSp7kDPB/IV0fhzWRrmixXZUJJkrIo6Bh1x/OueuPHbXNi1vZabcfb5F27CvCk962vCWkSaLoEcFxxM7GSQf3Se35AUAbdFFFABRRRQAUUUUAFFFFAEtv8A64fSrdVLf/XD6VboAKKKKACiiigDmL7/AI/pv96q9WL7/j+m/wB6q9YPczK97ZQ6hatb3K7kb9Pesa08G2NtdCV5JJgpyEbGK6Gii7QXDpRRRSEFFFFABRRRQBDd263dnLbucCRCpPpXn8vhTVI7kxJBvXPEgPFejUVSk0NOxn6Jpv8AZWlpbs25/vMR6mtCiipAKxvF+s/2B4R1LUl5khgbyh/ekPCD8WIFbNcd4w/4m3ibw74eXlJLk390O3lQ/MAfYuUpoDa8J6N/wj/hLTdMPL28CiU/3pDy5/FiTWvRRSAK0tM/1b/Ws2tLTP8AVv8AWqjuNbl2iiqmrXZsNIurpBloYmcD1IFbFjrjULO0YLc3MUTHoGcA1PHIksYeJ1dT0ZTkGuI8OeF7XW9LGqay8lzPdFj9/G0ZI/pUmhpJ4f8AGcuixytLZzR+ZGrHOw9f8aAO1ooooAKKKKAGiNA24Iob1xTqKKACiiigApGdVxuYDPTJqlrWof2Xo9zeAZaNCVHqa5PTPC1zr9iuparqU6y3A3IqHhRQB3VFcl4Xvb2z1u70DUZjP5C74pD1xxx+tdbQAUUUUAS2/wDrh9Kt1Ut/9cPpVugAooooAKKKKAOYvv8Aj+m/3qr1Yvv+P6b/AHqr1g9zMKKKKQgooooAKKKKACiiigAooooAKKKKACuO8Nf8Tfx34g1s/NFbFNMtm9l+eT/x5gP+A10HiDVI9F8PX2oy/dtoGf6kDgVQ8DaZJpXgywiuP+PmZDc3B7mSQ72z+LY/Cn0GdBRRRSEFaWmf6t/rWbWlpn+rf61UdyluXajuIEubaSCYbo5FKsPUGpKK2LOIt9N8T+HN9rpAivLMsTHvPKZrS8O+H7y31GbVtblWS+mG0KpyEFdLRQAUUUUAFFFFABRRRQAUUUUAVNUsE1PS57OQ4EqFc+hrkLLU9f8ADtt/Zs2kvdrFkQypnBFd1RQBy/hjSL4alc61rK7Lq5G1Yv7i8f4CuooooAKKKKAJbf8A1w+lW6qW/wDrh9Kt0AFFFFABRRRQBzF9/wAf03+9VeurMELMS0SEnqSoo+zQf88Y/wDvkVnyE8pylFdX9mg/54x/98ij7NB/zxj/AO+RRyBynKUV1f2aD/njH/3yKPs0H/PGP/vkUcgcpylFdX9mg/54x/8AfIo+zQf88Y/++RRyBynKUV1f2aD/AJ4x/wDfIo+zQf8APGP/AL5FHIHKcpRXV/ZoP+eMf/fIo+zQf88Y/wDvkUcgcpylFdX9mg/54x/98ij7NB/zxj/75FHIHKeR+PP+JncaL4cTn+0rxWnUf88Y/nf+WPxrsaoaLBFrvxa1nUjEjW2jW6afANox5r/PIR+AUfjXdfZoP+eMf/fIo5A5TlKK6v7NB/zxj/75FH2aD/njH/3yKOQOU5StLTP9W/1rZ+zQf88Y/wDvkUqxRp91FX6Cmo2YJWKVFX9i/wB0flRsX+6PyqyihRV/Yv8AdH5UbF/uj8qAKFFX9i/3R+VGxf7o/KgChRV/Yv8AdH5UbF/uj8qAKFFX9i/3R+VGxf7o/KgChRV/Yv8AdH5UbF/uj8qAKFFX9i/3R+VGxf7o/KgChRV/Yv8AdH5UbF/uj8qAKFFX9i/3R+VGxf7o/KgCrb/64fSrdIFA6ACloAKKKKACiiigAooooAKKKKACiiigAooooAKKKKACiiigAqnq+oxaTo13qE7BY7aFpGJ9hVyue8caHeeJPDL6VYypELiVBOzHrFuBYD3IoApfDHT5bPwPb3V0pF3qkj38+eu6Q5A/BdorrqZDEkEKQxKFjjUKqjsAMAU+gAooooAKKKKACiiigAooooAKKKKACiiigAooooAKKKKACiiigAooooAKKKKACiiigAooooAKKKKACiiigAooooAKZNPFbxmSeRIkHVnYAD8TT65fx7YR6ho1usqXb+VcLKotrQ3QyAfvxD7y89KAOi+22ot/tBuYfJ/56eYNv59Ko3+vW9je6XbhTMNSmMUckbAquFLZ9xxXnd9pevX2haHPPpq21ra3M32i0h04yBlIxHIbbIPvt5xV7StCvbceHzAt5NEmqTTt5tk1v9nRoyANhJKrnpn1oA9FF3bm4+zi4iM3/PPeN35daa19aJOYXuYVlAyYzIA2OucV5TpPhvVI9dhj1M3UV9HqpuftUWks/mJ5u4A3O7GwrhSD0GeK3/C+nwWeoT2eu6DcTatJfXMh1F7QyRyRu7FD5uMAeWVXbntjFAHV6R4i0vXNGi1Swu42tZED7mYKVB/vDt+NXRd2xt/tAuIjD/z03jb+fSvIofD19H8PtG02y0ma0n0u7Q6rH/ZxP2lQrqCF+XzgGKnAJ/pV2Lw/dDRklEF7eaf/AGulzdaedOa2zEIypCQkkld2GI7nPFAHoWla9b6vqOpWtspP9nyJG0gYFZNyhsjH1q+13bpOsD3ESyt0jLgMfwrjvh/p5s9V8SzRaVcabZ3V6j20c0Rj3L5YBIU9Bnt2rmNR8N6pJ4i1RNQ+1LJc3wltbu30prhlj42hZg37vGDwQPxoA9J07XYNQvNUgCGH+zZxDI7sMN8obI9BzV5L21kg85LmFos48wSArn0zXm+u6Brd1p/iVbKGZfO1aCfHl5+0QqE3hVyN2QCMZ56VRm8NXN54X1iO2gvZEvLqwBtBpbWSqEnBdkTJP3epGPuigD1MalYlA4vbcqzbA3mrgt6detPku7aGRY5riKN3+6rOAW+g715xqvgm3a+8afZtF/cyaTGdPWOLCfaPLlDGMDgPkR5I56Vk6l4e1mfUr9tXW7P26GEWs8WlNdvDiJQQGDDymDhj075oA9ckvbWGTy5bmFHzja0gB/KqkXiDTZtbudJS5QXlsqtIhIHDDIx61w9/4VkubzxZcz6dJdTvYQpZzSRZZ3WEcp/tbh270tpo623iK7m1TRrp5L/TIES6gtC7JII8PlwPlbPrQB6HBeW1yzLbXEUxX7wjcNj64qauB+HtpdWGo3FqmnNHp8duoS7n042kzOCBsYH7/HO6u+oAKKKKACiiigAooooAKKKKACiiigAooooAKKKKACiiigAooooAKKKKACiiigAooooAKKKKACiiigAooooAKKKKACiiigAooooAKKKKACiiigAooooAKKKKACiiigAooooAKKKKACiiigAooooAKKKKACiiigAooooAKKKKACiiigAooooAKKKKACiiigAooooAKKKKACiiigAooooAKKKKACiiigAooooAKKKjnnS2t3mlzsQZOKAJKKRHDxq69GGRS0AFFFFABRRRQAUUUUAFFFFABRRRQAUUUUAFFFFABRRRQAUUUUAFFFFABRRRQAUUVHPPFbQPNcOscUY3M7HgCgCSio/tEX2hYPMXzWQuEzyVBAJ/UfnUlABRRRQAUUUUAFFFFABRRTIJ4rmBJrd1kikUMjqeGHrQA+iimxyJLGHiYOp6EHrQA6ikZlRCznCqMkntSRSJNEksTB0dQysOhB6GgB1FFFABVLWP+QPc/wC5V2qWsf8AIHuf9ygCxa/8ecP/AFzX+VS1Fa/8ecP/AFzX+VS0AFFV/t9r5Hneenl+b5O7PG/fs2/Xdx9asUAFFFFABRRRQAUUUUAFFFMgniuYVmgdZI3GVZTwRQA+iiigAopskiQxNJKwREBZmJ4A9adQAUUUUAFFFFABRRRQAUUUUAFZniSCW58NahDAjPJJAyqqDJJx2rTqjrd01lod3cxlg0URYFSAf1B/lQBg3+lajBfySWU95cudNlRXkK/KxeMhQQBgkA9fSq91BqSRzT6NDerArokUUu/dl0dHbDc7QWjbn+6a0W1+9tG1Frm3jlSK9FtbrGzFiWVMAgL0+YnIye2DUw169aC1C6aVuLi7NsEmZo14jaTeCygkfLj7vXPpQA3w3bX0M92t95wS3xawGUk+YikkP753Yz7VTXSbiW6SSX7ZmS/mEo8xgPJ3HbxngdMGrMXiW7aJJJNN4kWURpHLvcyR8EY29Cc4I59q0tJ1I6javLJ5CsjYZYpC232bKqQfbFAHMXUGq/Y441huw8CHyXCO7Md3AOCAOO5zV68s76WS/ugtz56QwGAKzAbsHdgdD71at/ExluJ43thhIXmidC+2QL2yyAflmom8TXiiBRpu+aWATlI2kfapxxlUPPP096AFRbpvFTWAkc2kbi8Zw/TIwI/puAP50uoRzr4mgmiiuLgFo1KbZFSMbuWDD5TwckH0q7eXg0/T4721sF8+7lhRo2xGxZ2C/McdRmqsXiK5k1I2y6c7pHOsEskQkYKxxkg7Nu0bhkkg9eKAKul2t8Nc8y9mulmE8pYCB/LdMnaN+duMbegzxWfHYaktnp8Vwbu3iSyjVBDA7lJB1yFIwenXitJPEdzCnkrA15cvcXePlbCxxzsij5FY9MDp25NW5fERgT99ZvE7wJLDHIcM7MduwjHBB6+1AEccLf23J/aMd5KW2i3kQP5YXbznbwDn1rHj0+6g0y0t44ryGKORxdBYpHJOTtIAIJH+7W5F4hZtYSzkt18uRiiyxl2AYdQSUC/kTUUXiG7ntVkNnFF9ojlaA+cW5TP3ht46e9AFO7s7lrWFLj7dcxC0cRlEZW8zPG5R04454rotIjeLRbGOVSjpbxqykYIIUZFYkl3qk+laZMs/k3t0ECRQkNG+VDFnLLkDAPA/WumoAKKKKACqWsf8ge5/3Ku1S1j/AJA9z/uUAWLX/jzh/wCua/yqWorX/jzh/wCua/yqWgDjv7GvP7MEnmXm7+2PN+y4GzZ9s3bsYzjb82c+9D2WozyPHGt5HeM8/nTMWEZQ7vL2np12Yxzwc1cttavn1K2RVja2Zb1pTK/zARXCpkYXsDwO+eTxkut/FM81jcXbaZKsKWj3MbEOAwAyFYsgAJ9iw60AUtJi1iXVrd7uO5jguGN1JvJAjIyojPpkYOKv61YXF3qczp9p2JZfuvKdlHmbvbqcUjeIb+JpRNpsK+SiSuRcE/Ixxx8vLD06e9W7DWpLzU5LaWGO3AzsV5GEjgdwpXBHuCaAMia0vrdXijiuXhmSEyMS7lW/iIAOc+wp1lZ39zb6bDei68uO7l3k7kJj8ttu7nOM46n0rR1HxAdP1JYPJWWIMqyOhctHu9cLtH4sKiufEc9u10fsStHDdC1jIdi0jkKc7QpIHze546GgDPuTqdpYWXktILm4eaxCSMcqrO2yTB67QoP0NbGqWDyDSLWHzzBHcgSlHbOwROBuI5xnb+OKl0+4/tCA3l1pxiubdmRN8ZDHgcoWUHBzjoOhqhH4oYaXLc3FtGsytGgto3dpFZzgB1KAr+APQ4zQBX0yzvY9c3Xct0sizvwIXMbx87RvztxjHbNUVsNRW0sYpzdwQragKIYHcpJk5yFIx268Vrtrd3JHZvLbyWZN6IpQUbEieWzcblBxwOw5FFp4okuEeeTTpktvKaVJAj9B2JKgZPsTQBHc2+ojVI7SL7RJbXQSSSbkBNv3lz2LVXsI9SGsM5iuI0ljlEqGN9qt/DhmJz+AFXrvU9XSzs5ktrWNri5iRVM7HKt2PycH6ZpYvEU02pGBNPkeFJfJklRXO1uMnOzbtGeu4H2oAyZtIvW8PtarHcu1xorCVXdjmcBcDk8HluK6yw8r7DH9njljj52rMGDDnvu5/OsWPWb681TTgkSwWdzLMqsH3M4VWxuGOORkYJ6c1b0N7uSa9MtzJcWqS+VC8wUOWUlZPugfLuGB34PtQBr0UUUAFFFFABRRRQAUUUUAFRXVtDe2sltcpvilXa65IyPqKlooAoTaJYTyTvLExNwQ0gErgFhjDAA4DDaPmGDx1p8el2sQgwsjmCUzRtLM8jBipXOWJJ+ViMHirlFAFE6PYmNE8plEZdkKyMpUucsQQc1LaadbWKSLbo3705kaSRpGc4xyzEk8cVZooAzotA06GQukDZMbRjdM7AKeoAJ4H0p82jWM4h3RyIYE8uNopnjYL6blIJHHQ1eooAgms4J4Y4pk3JE6OgLHhlIKnPfkCoTpFmb43YSRJmYO3lzOquw6FlB2seB1HYVdooAz5NDsJFUeU6FZJJFeKZ0cGRiz/MpBwSc4zj8qkm0mynktJJod72ZJgZnYleMevP45q5RQBQXQ9PW8W5ELeYrmRf3r7VY9SFzgZ+lPTSbKNIUWHCwBhGNxOA2d3fnOTVyigCpb6ZbWscKQiULAxaMNM7beMY5PTHboKt0UUAFFFFABVLWP+QPc/wC5V2qWsf8AIHuf9ygCxa/8ecP/AFzX+VS1Fa/8ecP/AFzX+VS0AURo1iHhdImRoXkdCkrry773BweQW5IPHtTItB0+GGWGOOQQyxmJojPIUCnqFUthfwxWjRQBUk0uzl8zzIc+aixv8x5Veg602DSbS3uxcosplUEKZJ3cJnrtDEgfhV2igChc6JYXlw01xCzMxVmAldVYr0JUHBI9cU+XSbKaGeKSHKTy+a/zEHfxhgc5B+UdMdKuUUAQW9lDbW7QRmUo2cmSZ3Y5/wBpiT+tVV0HTxDNG0UkomCh2mneRiFOVwzEkYJJGDwea0aKAKUek2kaRLtlk8qXzUMs7yENgjOWJPQnjpTYNFsbYv5MbhHUqYjM7RgHqAhO0fgKv0UAZ40KxFqbfbMYtwYA3MhKEdNp3ZXHtinJo1lFdfaI1lWTIY7biQKxAxll3YY+5BNXqKAKEWiWEN4l1HCwljZmT965VC2d2FzgZye1W4YEt4ykW7BdnO5i3LEk9fc9O3apKKACiiigAooooAKKKKACiiigAooooAKKKKACiiigAooooAKKKKACiiigAooooAKKiluYYBmaVE+pp8ciyxh42DK3II70rq9hXQ6iiimMKpax/wAge5/3Ku1S1j/kD3P+5QBYtf8Ajzh/65r/ACqWorX/AI84f+ua/wAqloAKKKKACiiigAooooAKKKKACiiigAoprusa5dgo9ScU2KeKcEwyK4HB2npSur2C5JRRRTAKKKKACiiigAooooAKKKKACiiigAooooAKKKKACiiigAooooAKKKKACsHXtba0P2a1P70j5m/u1vV53eyNLfTO/JLn+defjq0qUEo7s58RNwjp1IpJXlctK7Ox7k5rvNH/AOQPbf7lcDXfaP8A8ge2/wByuPLdakvQwwvxMu0UUV7h3hVLWP8AkD3P+5V2qWsf8ge5/wBygCxa/wDHnD/1zX+VS1Fa/wDHnD/1zX+VS0AFFFFABRRRQAUUUUAFFFFABVHVtTTTbXefmkbhF9TV6uO8Uys2qhD91EGPxrlxdV0qTktzKtNwhdGbdX1xeyF55GbPbPAro/CX/HpP/vj+VcpXV+Ev+PSf/fH8q8jBScsQm/M4qDbqXZ0FFFFfQnpBRRRQAUUUUAFFFFABRRRQAUUVXv7+20vT576+k8q2t0Mkr7SdqjqcDk/hQBYorF0Xxdouv3DW+mXUjTrGJfKntpYHKHjcFkVSV5HI45raoAKKKrm6I1AWv2ebBj8zz9o8vrjbnOc9+lAFiioby5NpaSTiCW4KDPlQgF2+gJA/WpVbcgbBXIzg9RQAtFFFABRRRQAVxOv6e9nqDSBT5Upyp9/Su2qOe3iuoTFOgdD1BFc2JoKvC3Uyq0/aRsecV32j/wDIHtv9ysi58JKWJtLjaP7rjOPxrcsbdrWxigcgsi4JFceCw9SjUfOuhhQpyhJ3LFFFFeqdgVS1j/kD3P8AuVdqlrH/ACB7n/coAsWv/HnD/wBc1/lUtRWv/HnD/wBc1/lUtABRXOx+PfDkmqHTxfSLMLk2m57SZYjMDjyxKUCFs8Y3c10VABRRRQAUVgWvjHTrtbAxR3A+33MltFuQcOmck89OK36ACiiigArm/FOnu+y8iXIUbXx2966SkZQylWAIPBB71jWpKtBwZFSCnGzPNa6vwl/x6T/74/lTr3wtBM5e1kMJP8JGV/8ArVa0TTJdMhlSZlbewIK15mGwtWlXTktDkpUpwqXZqUUUV7J3BRRRQAUUUUAFFFFABRRRQAVg+OYZbjwHrUNujySvZyKiou5icdh3reooA81vvB9xD4G1HVLu/vdT1T/hH5bS3R4kQxK0YJVVRRkkqo5yeKo+I/Dh01fDq29lANG+zSNfJPZSXKvclYwjyxxkMxwJOTnB6jkEesUUAeUJp7Qaf4eXxCbjVvD0f2vzUWzl2qxcGENEdzlFXcozntmtaW0gk10/2bFd2eltoBjjeGBlMWXbopHDAHOOteg0UAePWNu8fhXxBYabpcbILWPbfWthLbPcNvGVZG5ZsclhxVzxFZxtq2onXrC8u5HsIV0doYXcRSbTu2kfcfdt5OPrXqtFAHmSeGpdV1y7fxJZvdTx+H7VCzqSv2gB95XtvB7jnmuw8PG9ufh3pZvFma+l0qEyq7mOQymIZBbqrZ79Qa3aKAPOLXQ/ESXkLSadqSosili3iy4cAZ/ulOfp3rsr7TNRurjzLXXbqxj2geVFDC4z65dCf1rVooAwf7D1j/obL/8A8Bbb/wCN0f2HrH/Q2X//AIC23/xutHUtUg02LdKdzn7qDqa5m48TX0zHymWJewUf1rlrYqlRdpbmM60IaM1f7D1j/obL/wD8Bbb/AON0f2HrH/Q2X/8A4C23/wAbrj28YavaXjgTiRAfuuua6zw/4tt9YYW86iC57Lnh/pVU8RCbsetVy+vTpqra630J4dG1aOdHk8T30qKwLRtbW4DjPQkR559q26KK6DzwqlrH/IHuf9yrtUtY/wCQPc/7lAFi1/484f8Armv8qlqK1/484f8Armv8qloA8cl0DWV0nU9Sklu59Ps/Esl9Lo/2cDz40mDb0YLvJGA4GSG24xzTbfTtRm8TSyajMlrqrauZYbr+zZ5Jmt/NyiLKG2BDHhdpAxzxkZr2WigDzzQ7fT4vE943iTTp5tfOoStbXL2zuvlZPl7JACqrtwMZFYWkm8PjfR72z0qPT3nuZEvY4LKZXVTn/Wyk7X+oFewUUAeZaPYXaR+GN9rOvlavdPJmMjYp3YJ9AfWuy8VWl7eaUsenQTzS+YCVg1F7Nsf76An8K26KAON8K6XrFnrBk1GzvYYfLI3T6/LeLnj/AJZsoH4102pWd1eRItnqU2nspyXhjjcsPT51Iq5RQBg/2HrH/Q2X/wD4C23/AMbo/sPWP+hsv/8AwFtv/jdbN05js5nQ4ZY2IPvivK38Y62HYC8PX0FZVKqp7kyko7nd/wBh6x/0Nl//AOAtt/8AG6P7D1j/AKGy/wD/AAFtv/jdcF/wmOt/8/h/IVqeG/E2q32v21vc3ReJ2wy461msRFuxKqJnU/2HrH/Q2X//AIC23/xutm2jkhto45p2uJFUBpXUAufUgAD8hUtFdJoFFFFABRRRQAUUUUAFFFFABRRRQAUUUUAFFFFABRRRQAUUUUAFBOASegopGG5SD3GKAPP9Su3vL+WVz/FhR6CqtTXkDW95LFIMFWNQ18lNtyblueNK93cwL3/j8k+tRRyPDKskTFXU5BHY1Le/8fkn1qADJwOtd6P1mh/Bj6L8j2TR73+0dHtrs/ekjBb69D+tXazvD9o9j4fs7eQYdY8sPQnnH61o17kb8qufCVlFVJKO13YKpax/yB7n/cq7VLWP+QPc/wC5VGRYtf8Ajzh/65r/ACqWorX/AI84f+ua/wAqloAKKKKACiiigAooooAKKKKAIL3/AI8Lj/rk38q8Rf8A1jfU17de/wDHhcf9cm/lXi0UJuLzyx3bmuHFO1mYVRILWW5bES59T2rovDOmvbeILSV3BIfGBSxRLDGEjGAK0NH/AOQxa/8AXQV5UK8pVEltc441G5qx31FFFfRnphRRRQAUUUUAFFFFABRRRQAUUUUAFFFFABRRRQAUUUUAFFFFABRRRQBk6xoiaiPMiIScDr2b61ylxpl5asRNbuPcDIP416DRXDXwVOq+bZnPUoRm77Hj8mm3t3fyLbWsshLfwoTXW+G/BZtpkvNWwXU5SEcgH1P+FdnRWlPCxg7vU92pmlWdJUoqytbzCiiiuo8oKpax/wAge5/3Ku1S1j/kD3P+5QBYtf8Ajzh/65r/ACqWorX/AI84f+ua/wAqloAKKKKACiiigAooooAKKKKAIL3/AI8Lj/rk38q8e0wgakc984r2G9/48Lj/AK5N/KvExI0VxvXqrZFcGMXMkjnrK6sdRV3R/wDkMWv/AF0FZVpeR3UYKnDd19K1dH/5DFr/ANdBXiUk1Vin3RwRTU0md9RRRX1R64UUUUAFFFFABRRRQAUUUUAFFFFABRRRQAUUUUAFFFFABRRRQAUUUUAFFFFABRRRQAUUUUAFUtY/5A9z/uVdqlrH/IHuf9ygCxa/8ecP/XNf5VLUVr/x5w/9c1/lUtABRRRQAUUUUAFFFFABRRRQBBe/8eFx/wBcm/lXiL/6xvqa9zkQSxPG33WUqfoa5w+AtGJJKS8/9NDXNWpynaxnOLlseXKxVsqSCO4roPCl5PL4ks45JCy7+hrsP+EC0X+5L/38NWbDwfpenXsd1bLIJIzlcuTWCw0uZN2M1Sd7s3aKKK9A6AooooAKKKKACiiigAooooAKKKKACiiigAooooAKKKKACiiigAooooAKKKKACiiigAooooAKpax/yB7n/coooAsWv/HnD/1zX+VS0UUAFFFFABRRRQAUUUUAFFFFABRRRQAUUUUAFFFFABRRRQAUUUUAFFFFAH//2Q==)\n",
        "* Precision = TP / (TP + FP)  \n",
        "정밀도란 모델이 True라고 분류한 것 중에서 실제 True인 것의 비율\n",
        "* Recall =  TP / (TP + FN)    \n",
        "재현율이란 **실제 True인 것 중에서 모델이 True라고 예측**한 것의 비율\n",
        "\n",
        "![3.JPG](data:image/jpeg;base64,/9j/4AAQSkZJRgABAQEAYABgAAD/4RDcRXhpZgAATU0AKgAAAAgABAE7AAIAAAAGAAAISodpAAQAAAABAAAIUJydAAEAAAAMAAAQyOocAAcAAAgMAAAAPgAAAAAc6gAAAAgAAAAAAAAAAAAAAAAAAAAAAAAAAAAAAAAAAAAAAAAAAAAAAAAAAAAAAAAAAAAAAAAAAAAAAAAAAAAAAAAAAAAAAAAAAAAAAAAAAAAAAAAAAAAAAAAAAAAAAAAAAAAAAAAAAAAAAAAAAAAAAAAAAAAAAAAAAAAAAAAAAAAAAAAAAAAAAAAAAAAAAAAAAAAAAAAAAAAAAAAAAAAAAAAAAAAAAAAAAAAAAAAAAAAAAAAAAAAAAAAAAAAAAAAAAAAAAAAAAAAAAAAAAAAAAAAAAAAAAAAAAAAAAAAAAAAAAAAAAAAAAAAAAAAAAAAAAAAAAAAAAAAAAAAAAAAAAAAAAAAAAAAAAAAAAAAAAAAAAAAAAAAAAAAAAAAAAAAAAAAAAAAAAAAAAAAAAAAAAAAAAAAAAAAAAAAAAAAAAAAAAAAAAAAAAAAAAAAAAAAAAAAAAAAAAAAAAAAAAAAAAAAAAAAAAAAAAAAAAAAAAAAAAAAAAAAAAAAAAAAAAAAAAAAAAAAAAAAAAAAAAAAAAAAAAAAAAAAAAAAAAAAAAAAAAAAAAAAAAAAAAAAAAAAAAAAAAAAAAAAAAAAAAAAAAAAAAAAAAAAAAAAAAAAAAAAAAAAAAAAAAAAAAAAAAAAAAAAAAAAAAAAAAAAAAAAAAAAAAAAAAAAAAAAAAAAAAAAAAAAAAAAAAAAAAAAAAAAAAAAAAAAAAAAAAAAAAAAAAAAAAAAAAAAAAAAAAAAAAAAAAAAAAAAAAAAAAAAAAAAAAAAAAAAAAAAAAAAAAAAAAAAAAAAAAAAAAAAAAAAAAAAAAAAAAAAAAAAAAAAAAAAAAAAAAAAAAAAAAAAAAAAAAAAAAAAAAAAAAAAAAAAAAAAAAAAAAAAAAAAAAAAAAAAAAAAAAAAAAAAAAAAAAAAAAAAAAAAAAAAAAAAAAAAAAAAAAAAAAAAAAAAAAAAAAAAAAAAAAAAAAAAAAAAAAAAAAAAAAAAAAAAAAAAAAAAAAAAAAAAAAAAAAAAAAAAAAAAAAAAAAAAAAAAAAAAAAAAAAAAAAAAAAAAAAAAAAAAAAAAAAAAAAAAAAAAAAAAAAAAAAAAAAAAAAAAAAAAAAAAAAAAAAAAAAAAAAAAAAAAAAAAAAAAAAAAAAAAAAAAAAAAAAAAAAAAAAAAAAAAAAAAAAAAAAAAAAAAAAAAAAAAAAAAAAAAAAAAAAAAAAAAAAAAAAAAAAAAAAAAAAAAAAAAAAAAAAAAAAAAAAAAAAAAAAAAAAAAAAAAAAAAAAAAAAAAAAAAAAAAAAAAAAAAAAAAAAAAAAAAAAAAAAAAAAAAAAAAAAAAAAAAAAAAAAAAAAAAAAAAAAAAAAAAAAAAAAAAAAAAAAAAAAAAAAAAAAAAAAAAAAAAAAAAAAAAAAAAAAAAAAAAAAAAAAAAAAAAAAAAAAAAAAAAAAAAAAAAAAAAAAAAAAAAAAAAAAAAAAAAAAAAAAAAAAAAAAAAAAAAAAAAAAAAAAAAAAAAAAAAAAAAAAAAAAAAAAAAAAAAAAAAAAAAAAAAAAAAAAAAAAAAAAAAAAAAAAAAAAAAAAAAAAAAAAAAAAAAAAAAAAAAAAAAAAAAAAAAAAAAAAAAAAAAAAAAAAAAAAAAAAAAAAAAAAAAAAAAAAAAAAAAAAAAAAAAAAAAAAAAAAAAAAAAAAAAAAAAAAAAAAAAAAAAAAAAAAAAAAAAAAAAAAAAAAAAAAAAAAAAAAAAAAAAAAAAAAAAAAAAAAAAAAAAAAAAAAAAAAAAAAAAAAAAAAAAAAAAAAAAAAAAAAAAAAAAAAAAAAAAAAAAAAAAAAAAAAAAAAAAAAAAAAAAAAAAAAAAAAAAAAAAAAAAAAAAAAAAAAAAAAAAAAAAAAAAAAAAAAAAAAAAAAAAAAAAAAAAAAAAAAAAAAAAAAAAAAAAAAAAAAAAAAAAAAAAAAAAAAAAAAAAAAAAAAAAAAAAAAAAAAAAAAAAAAAAAAAAAAAAAAAAAAAAAAAAAAAAAAAAAAAAAAAAAAAAAAAAAAAAAAAAAAAAAAAAAAAAAAAAAAAAAAAAAAAAAAAAAAAAAAAAAAAAAAAAAAAAAAAAAAAAAAAAAAAAAAAAAAAAAAAAAAAAAAAAAAAAAAAAAAAAAAAAAAAAAAAAAAAAAAAAAAAAAAAAAAAAAAAAAAAAAAAAAAAAAAAAAAAAAAAAAAAAAAAAAAAAAAAAAAAAAAAAAAAAAAAAAAAAAAAAAAAAAAAAAAAAAAAAAAAAAAAAAAAAAAAAAAAAAAAAAAAAAAAAAAAAAAAAAAAAAAAAAAAAAAAAAAAAAAAAAAAAAAAAAAAAAAAAAAAAAAAAAAAAAAAAAAAAAAAAAAAAAAAAAAAAAAAAAAAAAAAAAAAAAAAAAAAAAAAAAAAAAAAAAAAAAAAAAAAAAAAAAAAAAAAAAAAAAAAAAAAAAAAAAAAAAAAAAAAAAAAAAAAAAAAAAAAAAAAAAAAAAAAAAAAAAAAAAAAAAAAAAAAAAAAAAAAAAAAAAAAAAAAAAAAAAAAAAAAAAAAAAAAAAAAAAAAAAAAAAAAAAAAAAAAAAAAAAAAAAAAAAAAAAAAAAAAAAAAAAAAAAAAAAAAAAAAAAAAAAAAAAAAAAAAAAAAAAAAAAAAAAAAAAAAAAAAAAAAAAAAAAAAAAAAAAAAAAAAAAAAAAAAAAAAAAAAAAAAAAAAAAAAAAAAAAAAAAAAAAAAAAAAAAAAAAAAAAAAAAAAAAAAAAAAAAAGRpYW5hAAAFkAMAAgAAABQAABCekAQAAgAAABQAABCykpEAAgAAAAMwMgAAkpIAAgAAAAMwMgAA6hwABwAACAwAAAiSAAAAABzqAAAACAAAAAAAAAAAAAAAAAAAAAAAAAAAAAAAAAAAAAAAAAAAAAAAAAAAAAAAAAAAAAAAAAAAAAAAAAAAAAAAAAAAAAAAAAAAAAAAAAAAAAAAAAAAAAAAAAAAAAAAAAAAAAAAAAAAAAAAAAAAAAAAAAAAAAAAAAAAAAAAAAAAAAAAAAAAAAAAAAAAAAAAAAAAAAAAAAAAAAAAAAAAAAAAAAAAAAAAAAAAAAAAAAAAAAAAAAAAAAAAAAAAAAAAAAAAAAAAAAAAAAAAAAAAAAAAAAAAAAAAAAAAAAAAAAAAAAAAAAAAAAAAAAAAAAAAAAAAAAAAAAAAAAAAAAAAAAAAAAAAAAAAAAAAAAAAAAAAAAAAAAAAAAAAAAAAAAAAAAAAAAAAAAAAAAAAAAAAAAAAAAAAAAAAAAAAAAAAAAAAAAAAAAAAAAAAAAAAAAAAAAAAAAAAAAAAAAAAAAAAAAAAAAAAAAAAAAAAAAAAAAAAAAAAAAAAAAAAAAAAAAAAAAAAAAAAAAAAAAAAAAAAAAAAAAAAAAAAAAAAAAAAAAAAAAAAAAAAAAAAAAAAAAAAAAAAAAAAAAAAAAAAAAAAAAAAAAAAAAAAAAAAAAAAAAAAAAAAAAAAAAAAAAAAAAAAAAAAAAAAAAAAAAAAAAAAAAAAAAAAAAAAAAAAAAAAAAAAAAAAAAAAAAAAAAAAAAAAAAAAAAAAAAAAAAAAAAAAAAAAAAAAAAAAAAAAAAAAAAAAAAAAAAAAAAAAAAAAAAAAAAAAAAAAAAAAAAAAAAAAAAAAAAAAAAAAAAAAAAAAAAAAAAAAAAAAAAAAAAAAAAAAAAAAAAAAAAAAAAAAAAAAAAAAAAAAAAAAAAAAAAAAAAAAAAAAAAAAAAAAAAAAAAAAAAAAAAAAAAAAAAAAAAAAAAAAAAAAAAAAAAAAAAAAAAAAAAAAAAAAAAAAAAAAAAAAAAAAAAAAAAAAAAAAAAAAAAAAAAAAAAAAAAAAAAAAAAAAAAAAAAAAAAAAAAAAAAAAAAAAAAAAAAAAAAAAAAAAAAAAAAAAAAAAAAAAAAAAAAAAAAAAAAAAAAAAAAAAAAAAAAAAAAAAAAAAAAAAAAAAAAAAAAAAAAAAAAAAAAAAAAAAAAAAAAAAAAAAAAAAAAAAAAAAAAAAAAAAAAAAAAAAAAAAAAAAAAAAAAAAAAAAAAAAAAAAAAAAAAAAAAAAAAAAAAAAAAAAAAAAAAAAAAAAAAAAAAAAAAAAAAAAAAAAAAAAAAAAAAAAAAAAAAAAAAAAAAAAAAAAAAAAAAAAAAAAAAAAAAAAAAAAAAAAAAAAAAAAAAAAAAAAAAAAAAAAAAAAAAAAAAAAAAAAAAAAAAAAAAAAAAAAAAAAAAAAAAAAAAAAAAAAAAAAAAAAAAAAAAAAAAAAAAAAAAAAAAAAAAAAAAAAAAAAAAAAAAAAAAAAAAAAAAAAAAAAAAAAAAAAAAAAAAAAAAAAAAAAAAAAAAAAAAAAAAAAAAAAAAAAAAAAAAAAAAAAAAAAAAAAAAAAAAAAAAAAAAAAAAAAAAAAAAAAAAAAAAAAAAAAAAAAAAAAAAAAAAAAAAAAAAAAAAAAAAAAAAAAAAAAAAAAAAAAAAAAAAAAAAAAAAAAAAAAAAAAAAAAAAAAAAAAAAAAAAAAAAAAAAAAAAAAAAAAAAAAAAAAAAAAAAAAAAAAAAAAAAAAAAAAAAAAAAAAAAAAAAAAAAAAAAAAAAAAAAAAAAAAAAAAAAAAAAAAAAAAAAAAAAAAAAAAAAAAAAAAAAAAAAAAAAAAAAAAAAAAAAAAAAAAAAAAAAAAAAAAAAAAAAAAAAAAAAAAAAAAAAAAAAAAAAAAAAAAAAAAAAAAAAAAAAAAAAAAAAAAAAAAAAAAAAAAAAAAAAAAAAAAAAAAAAAAAAAAAAAAAAAAAAAAAAAAAAAAAAAAAAAAAAAAAAAAAAAAAAAAAAAAAAAAAAAAAAAAAAAAAAAAAAAAAAAAAAAAAAAAAAAAAAAAAAAAAAAAAAAAAAAAAAAAAAAAAAAAAAAAAAAAAAAAAAAAAAAAAAAAAAAAAAAAAAAAAAAAAAAAAAAAAAAAAAAAAAAAAAAAAAAAAAAAAAAAAAAAAAAAAAAAAAAAAAAAAAAAAAAAAAAAAAAAAAAAAAAAAAAAAAAAAAAAAAAAAAAAAAAAAAAAAAAAAAAAAAAAAAAAAAAAAAAAAAAAAAAAAAAAAAAAAAAAAAAAAAAAAAAAAAAAAAAAAAAAAAAAAAAAAAAAAAAAAAAAAAAAAAAAAAAAAAAAAAAAAAAAAAAAAAAAAAAAAAAAAAAAAAAAAAAAAAAAAAAAAAAAAAAAAAAAAAAAAAAAAAAAAAAAAAAAAAAAAAAAAAAAAAAAAAAAAAAAAAAAAAAAAAAAAAAAAAAAAAAAAAAAAAAAAAAAAAAAAAAAAAAAAAAAAAAAAAAAAAAAAAAAAAAAAAAAAAAAAAAAAAAAAAAAAAAAAAAAAAAAAAAAAAAAAAAAAAAAAAAAAAAAAAAAAAAAAAAAAAAAAAAAAAAAAAAAAAAAAAAAAAAAAAAAAAAAAAAAAAAAAAAAAAAAAAAAAAAAAAAAAAAAAAAAAAAAAAAAAAAAAAAAAAAAAAAAAAAAAAAAAAAAAAAAAAAAAAAAAAAAAAAAAAAAAAAAAAAAAAAAAAAAAAAAAAAAAAAAAAAAAAAAAAAAAAAAAAAAAAAAAAAAAAAAAAAAAAAAAAAAAAAAAAAAAAAAAAAAMjAyMjowMTowNiAwOTo1ODoyNAAyMDIyOjAxOjA2IDA5OjU4OjI0AAAAZABpAGEAbgBhAAAA/+ELGGh0dHA6Ly9ucy5hZG9iZS5jb20veGFwLzEuMC8APD94cGFja2V0IGJlZ2luPSfvu78nIGlkPSdXNU0wTXBDZWhpSHpyZVN6TlRjemtjOWQnPz4NCjx4OnhtcG1ldGEgeG1sbnM6eD0iYWRvYmU6bnM6bWV0YS8iPjxyZGY6UkRGIHhtbG5zOnJkZj0iaHR0cDovL3d3dy53My5vcmcvMTk5OS8wMi8yMi1yZGYtc3ludGF4LW5zIyI+PHJkZjpEZXNjcmlwdGlvbiByZGY6YWJvdXQ9InV1aWQ6ZmFmNWJkZDUtYmEzZC0xMWRhLWFkMzEtZDMzZDc1MTgyZjFiIiB4bWxuczpkYz0iaHR0cDovL3B1cmwub3JnL2RjL2VsZW1lbnRzLzEuMS8iLz48cmRmOkRlc2NyaXB0aW9uIHJkZjphYm91dD0idXVpZDpmYWY1YmRkNS1iYTNkLTExZGEtYWQzMS1kMzNkNzUxODJmMWIiIHhtbG5zOnhtcD0iaHR0cDovL25zLmFkb2JlLmNvbS94YXAvMS4wLyI+PHhtcDpDcmVhdGVEYXRlPjIwMjItMDEtMDZUMDk6NTg6MjQuMDE2PC94bXA6Q3JlYXRlRGF0ZT48L3JkZjpEZXNjcmlwdGlvbj48cmRmOkRlc2NyaXB0aW9uIHJkZjphYm91dD0idXVpZDpmYWY1YmRkNS1iYTNkLTExZGEtYWQzMS1kMzNkNzUxODJmMWIiIHhtbG5zOmRjPSJodHRwOi8vcHVybC5vcmcvZGMvZWxlbWVudHMvMS4xLyI+PGRjOmNyZWF0b3I+PHJkZjpTZXEgeG1sbnM6cmRmPSJodHRwOi8vd3d3LnczLm9yZy8xOTk5LzAyLzIyLXJkZi1zeW50YXgtbnMjIj48cmRmOmxpPmRpYW5hPC9yZGY6bGk+PC9yZGY6U2VxPg0KCQkJPC9kYzpjcmVhdG9yPjwvcmRmOkRlc2NyaXB0aW9uPjwvcmRmOlJERj48L3g6eG1wbWV0YT4NCiAgICAgICAgICAgICAgICAgICAgICAgICAgICAgICAgICAgICAgICAgICAgICAgICAgICAgICAgICAgICAgICAgICAgICAgICAgICAgICAgICAgICAgICAgICAgICAgICAgICAKICAgICAgICAgICAgICAgICAgICAgICAgICAgICAgICAgICAgICAgICAgICAgICAgICAgICAgICAgICAgICAgICAgICAgICAgICAgICAgICAgICAgICAgICAgICAgICAgICAgIAogICAgICAgICAgICAgICAgICAgICAgICAgICAgICAgICAgICAgICAgICAgICAgICAgICAgICAgICAgICAgICAgICAgICAgICAgICAgICAgICAgICAgICAgICAgICAgICAgICAgCiAgICAgICAgICAgICAgICAgICAgICAgICAgICAgICAgICAgICAgICAgICAgICAgICAgICAgICAgICAgICAgICAgICAgICAgICAgICAgICAgICAgICAgICAgICAgICAgICAgICAKICAgICAgICAgICAgICAgICAgICAgICAgICAgICAgICAgICAgICAgICAgICAgICAgICAgICAgICAgICAgICAgICAgICAgICAgICAgICAgICAgICAgICAgICAgICAgICAgICAgIAogICAgICAgICAgICAgICAgICAgICAgICAgICAgICAgICAgICAgICAgICAgICAgICAgICAgICAgICAgICAgICAgICAgICAgICAgICAgICAgICAgICAgICAgICAgICAgICAgICAgCiAgICAgICAgICAgICAgICAgICAgICAgICAgICAgICAgICAgICAgICAgICAgICAgICAgICAgICAgICAgICAgICAgICAgICAgICAgICAgICAgICAgICAgICAgICAgICAgICAgICAKICAgICAgICAgICAgICAgICAgICAgICAgICAgICAgICAgICAgICAgICAgICAgICAgICAgICAgICAgICAgICAgICAgICAgICAgICAgICAgICAgICAgICAgICAgICAgICAgICAgIAogICAgICAgICAgICAgICAgICAgICAgICAgICAgICAgICAgICAgICAgICAgICAgICAgICAgICAgICAgICAgICAgICAgICAgICAgICAgICAgICAgICAgICAgICAgICAgICAgICAgCiAgICAgICAgICAgICAgICAgICAgICAgICAgICAgICAgICAgICAgICAgICAgICAgICAgICAgICAgICAgICAgICAgICAgICAgICAgICAgICAgICAgICAgICAgICAgICAgICAgICAKICAgICAgICAgICAgICAgICAgICAgICAgICAgICAgICAgICAgICAgICAgICAgICAgICAgICAgICAgICAgICAgICAgICAgICAgICAgICAgICAgICAgICAgICAgICAgICAgICAgIAogICAgICAgICAgICAgICAgICAgICAgICAgICAgICAgICAgICAgICAgICAgICAgICAgICAgICAgICAgICAgICAgICAgICAgICAgICAgICAgICAgICAgICAgICAgICAgICAgICAgCiAgICAgICAgICAgICAgICAgICAgICAgICAgICAgICAgICAgICAgICAgICAgICAgICAgICAgICAgICAgICAgICAgICAgICAgICAgICAgICAgICAgICAgICAgICAgICAgICAgICAKICAgICAgICAgICAgICAgICAgICAgICAgICAgICAgICAgICAgICAgICAgICAgICAgICAgICAgICAgICAgICAgICAgICAgICAgICAgICAgICAgICAgICAgICAgICAgICAgICAgIAogICAgICAgICAgICAgICAgICAgICAgICAgICAgICAgICAgICAgICAgICAgICAgICAgICAgICAgICAgICAgICAgICAgICAgICAgICAgICAgICAgICAgICAgICAgICAgICAgICAgCiAgICAgICAgICAgICAgICAgICAgICAgICAgICAgICAgICAgICAgICAgICAgICAgICAgICAgICAgICAgICAgICAgICAgICAgICAgICAgICAgICAgICAgICAgICAgICAgICAgICAKICAgICAgICAgICAgICAgICAgICAgICAgICAgICAgICAgICAgICAgICAgICAgICAgICAgICAgICAgICAgICAgICAgICAgICAgICAgICAgICAgICAgICAgICAgICAgICAgICAgIAogICAgICAgICAgICAgICAgICAgICAgICAgICAgICAgICAgICAgICAgICAgICAgICAgICAgICAgICAgICAgICAgICAgICAgICAgICAgICAgICAgICAgICAgICAgICAgICAgICAgCiAgICAgICAgICAgICAgICAgICAgICAgICAgICAgICAgICAgICAgICAgICAgICAgICAgICAgICAgICAgICAgICAgICAgICAgICAgICAgICAgICAgICAgICAgICAgICAgICAgICAKICAgICAgICAgICAgICAgICAgICAgICAgICAgICAgICAgICAgICAgICAgICAgICAgICAgICAgICAgICAgICAgICAgICAgICAgICAgICAgICAgICAgICAgICAgICAgICAgICAgIAogICAgICAgICAgICAgICAgICAgICAgICAgICAgPD94cGFja2V0IGVuZD0ndyc/Pv/bAEMABwUFBgUEBwYFBggHBwgKEQsKCQkKFQ8QDBEYFRoZGBUYFxseJyEbHSUdFxgiLiIlKCkrLCsaIC8zLyoyJyorKv/bAEMBBwgICgkKFAsLFCocGBwqKioqKioqKioqKioqKioqKioqKioqKioqKioqKioqKioqKioqKioqKioqKioqKioqKv/AABEIALkClAMBIgACEQEDEQH/xAAfAAABBQEBAQEBAQAAAAAAAAAAAQIDBAUGBwgJCgv/xAC1EAACAQMDAgQDBQUEBAAAAX0BAgMABBEFEiExQQYTUWEHInEUMoGRoQgjQrHBFVLR8CQzYnKCCQoWFxgZGiUmJygpKjQ1Njc4OTpDREVGR0hJSlNUVVZXWFlaY2RlZmdoaWpzdHV2d3h5eoOEhYaHiImKkpOUlZaXmJmaoqOkpaanqKmqsrO0tba3uLm6wsPExcbHyMnK0tPU1dbX2Nna4eLj5OXm5+jp6vHy8/T19vf4+fr/xAAfAQADAQEBAQEBAQEBAAAAAAAAAQIDBAUGBwgJCgv/xAC1EQACAQIEBAMEBwUEBAABAncAAQIDEQQFITEGEkFRB2FxEyIygQgUQpGhscEJIzNS8BVictEKFiQ04SXxFxgZGiYnKCkqNTY3ODk6Q0RFRkdISUpTVFVWV1hZWmNkZWZnaGlqc3R1dnd4eXqCg4SFhoeIiYqSk5SVlpeYmZqio6Slpqeoqaqys7S1tre4ubrCw8TFxsfIycrS09TV1tfY2dri4+Tl5ufo6ery8/T19vf4+fr/2gAMAwEAAhEDEQA/APpGiiigAooooAKKKKACiiigAooooAKKKKACiiigAooooAKKKKACiiigAooooAKKKKACis7U/EGkaLNaw6vqNtZyXknl26zyBTK3oM9a0aACikd1jjZ5GCooJZicAD1qjo+u6X4gszd6JqFvf26uYzLbyB1DDqMigC/RRRQAUUUUAFFFFABRRRQAUUUUAFFFFABRRWN4n8WaN4O0xNQ8RXn2S1klEKyeWz/MQTj5QccKeaANmiuXl+I/haDwfb+KJdS26RcSGOK48l/mbLDpjP8ACecYrU8O+I9M8V6HDrGhXH2mxnZ1jl2Mu4qxU8EA9QaANSiiigAooooAKKKKACiiigAooooAKKKKACiiigAooooAKKKKACiiuT1X4oeDND1qfSdV16C3v7cgS25Ryy5AYdFPYg0AdZRXDf8AC6Ph7lh/wk9tlBlh5cny/X5auW/xR8G3miXur2etx3FhYNGlxNFFIwjLnCjG3JyfTp3oA62ivP1+OPw9kdkj1/eynDBbWb5fr8nFdH4d8a+HPFfmDw/q1tevESJI0bDr9VPNAG7RRRQAUUUUAFFFFABRRRQAUUUUAFFFFABRRRQAUUUUAFFFFABRRRQAUUUUAFFFFABRRRQAUUUUAFFFFABRRRQAVk+JvEVv4W0R9UvLS9u4Y2CsllAZpBnvtHYdz2rWqC+/5B9zn/nk38jQB57pfxu0PXdLe+0PRdf1CKMEzG3sdwhAJ+8Q2B0zjrjt0rcHxK0GfwOvirTBeanp5YKy2VuZZYz3DIORjv6VyX7Ncif8KYtvmX5Lufdz935s81jfA1fMvviLNpg/4kkmpSCz2ghCfnzt7Y2lP0oA6Sx+P3hC+t7C4SPUo7a9uRaid7cbIpSSArEE4JA3cZ4INdLr/wAQdN0TXE0S2tL3WNYaPzjYadEJJEj/ALzZICjp1POeK4b9nPS7G8+DNmby0huMahNMvmxhtrg4DDPQgDrXP+ENO1Wf9oXx3Z/27NouoSlZonS3jkM8OeABIDwAU6f0oA9h8MeONH8Vafd3Nm8lq9hI0d7bXi+VLbMvXeM8dM5rlrz446BbWk+pwaZq13oVvL5MmsQwL9n35AwpZgW5PUA1ynizwjHoOg/EU6br95q2v3+mxXF/EbcIqJuPzfIAu5lDcdcc45rrvhtF4d1z4A6NBqMNpd6VHYKt5HOoaNXj5csOxDAn16GgDK+JviH4f3GoeHbnxZo2p6iAY59Nu7eBhAxlPCbyQpPyglT6Cu68ReM7Tw/qVppcdleapql4jSQ2ViqtIUXGWJZgFHI5JFeYfHm7sNQ+Hfg280j/AI8Zdatmt8RmMeWY3xhSAQMe1a3xD8NT+J/idZJ4T8RT+H/FNhp3miUrmKeBnIK8HJIIyQQRgj8ADo4PiNpmtad4gt7jQdaD6TGkd/YPahpmEuRtVVY7uOTjjB4zVP4N3fgyXwlqDeBLG50/T4L6RLgXmQxkCqSTlicAEDnHSsz4Wan4hh8e+JfD3jaGzn1u2hgmfU7VcfaYuQgbgDgHjgdT6VxHw+ivp/gB8R49J3/a21K72CP7xHlx7gMd8ZoA9QPxd0uZLm80rRtZ1XSLRmSbVLK1DwAry2MkMwGeoB71oa58TNA0Xwla+JV+2ajpdzys2n25lCDGcv02Dtzjmsr4OzWf/CiNEcPGsEdk/nFiNqkM2/d6dzXmnw2jvR+y/wCN3uAws5EvWsgwIGzyuce27P45oA9KX41+HpPD41y30/WJ9MRFa5uorPclruxgOQcZ5GcZxkZrvNO1C21XTba/sJRNa3UayxSL0ZWGQa8f8PQRw/sdziNFXdod27YHUnzCTXa/B47vg74ZOc/6Cg/nQB2lFFcX4M8KeJNB8T+IL/XvE8urWWoT77O1fdi2XcTjngcEDC8cZoA7SvP9c+Mvh7w94rHh/VLLVobt5DHG5s8RzEDI2En58nAGO5Ar0CvHfilEsvx0+GKyDK/aLg/iNhFAHZ+H/id4c8QaHquqJPJYwaPK0V8L1PLMLD15x+vWs6H4waM0lhNeaXrFhpeoyiK01W6tQlvKWzt5zuUHHGQM1zv7RWkmD4QXr6PaRwo19FPe+REAXGT8zY6/MVyTRrPgxPEvwrgn17x3ef8ACPfZIbsBLKD92qgFdpRd2R0wOT0oA77xX470jwkLSG8867v79tlnp9mnmT3B/wBlfT3PFUvCvxK0vxPrV/optLzS9W0+MS3FneooZFPfKsw4yOM55Fec2mLP9q7TzrEzNFLoax6XLMpTe3lgHAPQn95x1ya9M1fUfCnhbWtR1GW0hXWptPe8uTBb5mnghHVmAx6AZPOMdqAMD/heGhPaXeo22k6xdaLZzmC41W3t1eGMggEkBtwHIOdvQiuq8Q3lrqvw61S8s5EuLa40yaSKReVZTE2DXj2kzat4h+DOueILV9J8LeGp4Lp49MsbVS02Nyt5kjcDcRt4H5VtfDnxBYz/AAL/ALAjLm9t/Dk13J8vyhGMqjn1yrce1AFr4Zqr/svIGAYf2ZecEZ/56Vofs7/8kN0T/fuf/R8lUPhj/wAmvp/2DLz/ANqVf/Z3/wCSG6J/v3P/AKPkoA9NooooAKKKKACiiigAooooAKKKKACiiigAooooAKKKKACiiigArjPB3hJ9N8SeK9Z1azjF1qupFoZGKuTbqiqnIzjOCcfSuzooA8E+DkMbfHX4jq8asq3DAAqOP3zV6Z4d8JtoPj/xLf21pb2+l6pFayRLCAAZlDiTKjp/Cc98/WvNvg0APjx8SMf8/DY/7/NXvFAHhnwJMKePviR5nlr/AMThgN2B/wAtZaz/AIgGO4/aS8If8IUsT6jHtbUmsscR+Z83mFf9jPX1FVfhD4Z0bxP8TPiPHr2nxX0dvqZaJZc4QtNNkj67R+Qr3TQfCHh7wx5n/CP6PaaeZfvtBEAzfU9aANmiiigAooooAKKKKACiiigAooooAKKKKACiiigAooooAKKKKACorqJ57OaGGZreSSNlWZAC0ZIwGGeMjrzUtVNW1CLSdFvdRuG2xWkDzuT2CqSf5UAeDeFW8X+J/iv4i8MQfEDWF07RU2m6EcJeSTcFIxtwBnd+VbXi3RPGXh610u/0b4j6lqSTarBYzQyRQ4+eTY3KjqDwR9a474UWvjeDwH4l8b+HtQ0m1/tCae5mF9bPJI5j3MdrBgAMs3UHmvWvAOnLpXwf0OTW9Pk1O6fZfyokAlk8+aTf5gX1UyZJHTBoA9BormvBPjKLxrY6ldQWclpHY6jLYhZHBZzGFyxx05J456fhXS0AFFc54h0/xXd38b+HPENhplsIwHiudONwzPk/MG8xcDGOMdqyf7F+I+f+R10bH/YDP/x6gDuaK5LStK8cQarBJq3irS7yzVsywRaQYmcY6BvNOOfY11tAHlI8Ya344+IGu+G/C2vw6E2iDaA9iJ3uW4BZi3CqDxgc96s/C74h6vr/AIg1zwn4uht01vRHw81sMRzpnG7HY9PwNdRr954d8C2N/wCJbiyt4LibCu8EI867kJ+WMYGWYnFcf8IPBep6bqms+MPFarBrniCQzGzyM20RbIU+/T6YAoA9VorP1/Vk0Hw7f6tJBLcJZW7zmGEZd9ozge5xWZ4C8YR+O/CFtr0FjPYJOzqIZ+SNpxkHuDjrQB0dY/ijXdO8PaBPeavM0NuwMQZYnkO5gcDagJ/SuaPxZtFYg+EfGXB7aFKaT/hbVn/0KPjL/wAEMtAHmPwK8MeGtf8ABraPqn9p2ur7pJbu3hluLVZ4dwAD7cK45A9cHFe1TeA/DkvhRPDaacLbSoyGWC0keDnudyEE5yc885Oaw/8AhbVn/wBCj4y/8EMtH/C2rP8A6FHxl/4IZaANTwx8NvDHg6+N34esprWQxGLb9rleMKSCfkZioOR1xnr61P4l8B6B4ruIbrVLWRL23GIb21maCeP6OhBrE/4W1Z/9Cj4y/wDBDLR/wtqz/wChR8Zf+CGWgDp9B8L6T4atJoNKtyvnvvnkldpJJmxjLsxJY4Heucf4OeDTeSSxWNxb280nmTWEF3IlrM3+1CDtI9sYqP8A4W1Z/wDQo+Mv/BDLR/wtqz/6FHxl/wCCGWgC/wCIPhb4T8UX63es6dJNIiIiKt1KiIFGFIVWABA4yBmobj4TeFrma0mMN7HcWUCwW1xHfSiWJQzNw+7dkljkk+3Sq3/C2rP/AKFHxl/4IZaP+FtWf/Qo+Mv/AAQy0Aa1v8OvDtvo9/pwguXXUWVru5kvJWuJipBG6bdv4x69OKb4Z+GvhjwhqEt7oFlLbzTIySZupHRwSCSUZiueBzjNZf8Awtqz/wChR8Zf+CGWj/hbVn/0KPjL/wAEMtAFi7+EfhG7uJnNpdQQXDl57O3vZY7eZj1LRBtp/LnvWprngPw74i0a10rUrE/YLUYit4JnhULjG0hCMjpweOKw/wDhbVn/ANCj4y/8EMtH/C2rP/oUfGX/AIIZaAHr8GfBS6SdM+wXZsy+/wAk6jPtHGMY39MdunStzwp4J0PwVbzweHreaCKcqWSS4klAxnAUMTtHJ4GKwP8AhbVn/wBCj4y/8EMtH/C2rP8A6FHxl/4IZaAO+orgf+FtWf8A0KPjL/wQy0f8Las/+hR8Zf8AghloA76uL1j4SeD9d1qXVdT0+4lvZWLGUX067c9doD4TP+zjrVX/AIW1Z/8AQo+Mv/BDLR/wtqz/AOhR8Zf+CGWgDsbfR7K20OPSFh82yjhEAjnYybkAxhi2S3Hc1zFl8JvCen3iS21pciCOUTR2LXkrW0bg5DCIttBzjt2qr/wtqz/6FHxl/wCCGWj/AIW1Z/8AQo+Mv/BDLQB0XibwboXi61hh12xWY27boJkYxywn1R1wV6djUPh/wJoXhyK7FnBLcy3q7Lm4vpmuJZkx9xnck7evHTk1h/8AC2rP/oUfGX/ghlo/4W1Z/wDQo+Mv/BDLQBNY/CDwhp8uLa0uhZ7/ADBpzXsrWof+95Rbbmli+D/gqDSZdOg0uSK3mkDuI7qVWON2F3Bs7Pnb5enPSoP+FtWf/Qo+Mv8AwQy0f8Las/8AoUfGX/ghloAltvg54Ms9KuNNtrC6is7h1eSFb+cLld2MDfwPmOQOD3rT8KfD7w54Jknfw5aS23nrtZGuZJFAzn5VZiF59AKx/wDhbVn/ANCj4y/8EMtH/C2rP/oUfGX/AIIZaAO+orgf+FtWf/Qo+Mv/AAQy12Gi6qut6PBqEdpeWazgkQXsJimTBI+ZDyOmfoRQBeoqtqMd5NptxHplxHa3bRkQzSxeYsbdiVyM/TIrj/7F+I//AEOujf8AgjP/AMeoA7miuGGi/EfHPjXRv/BGf/j1dZpEWoQaVDHrN5De3qg+bcQQ+Uj8nGE3HHGO9AF2iq2pXy6ZpdzevBPcLbxtIYraMySPgZwqjliew71xX/C2rP8A6FHxl/4IZaAO+orgf+FtWf8A0KPjL/wQy0f8Las/+hR8Zf8AghloA76iuB/4W1Z/9Cj4y/8ABDLR/wALas/+hR8Zf+CGWgDvqK4H/hbVn/0KPjL/AMEMtH/C2rP/AKFHxl/4IZaAO+orgf8AhbVn/wBCj4y/8EMtH/C2rP8A6FHxl/4IZaAO+orgf+FtWf8A0KPjL/wQy0f8Las/+hR8Zf8AghloA76snxH4Z0zxVp6WWspM8CSeYBDcSQtnBH3kIOOema5f/hbVn/0KPjL/AMEMtH/C2rP/AKFHxl/4IZaAGw/A/wACW8jSW+l3MMjnLSR6hOrt9WD5NdXqXhvTtV8OjQ7xJvsIRECx3EkbgIQV+dSG7Dvz3rlv+FtWf/Qo+Mv/AAQy0f8AC2rP/oUfGX/ghloAl0z4N+CtG1SPUNN02eC5jlWXet9N87A5G4b/AJ+efmzXc1wP/C2rP/oUfGX/AIIZaP8AhbVn/wBCj4y/8EMtAHfUVwP/AAtqz/6FHxl/4IZaP+FtWf8A0KPjL/wQy0Ad9RXA/wDC2rP/AKFHxl/4IZaP+FtWf/Qo+Mv/AAQy0Ad9RXA/8Las/wDoUfGX/ghlo/4W1Z/9Cj4y/wDBDLQB31FcD/wtqz/6FHxl/wCCGWj/AIW1Z/8AQo+Mv/BDLQB31FcD/wALas/+hR8Zf+CGWj/hbVn/ANCj4y/8EMtAHfUVwP8Awtqz/wChR8Zf+CGWj/hbVn/0KPjL/wAEMtAHfUVl+HtdTxFpX26Kw1CwUuU8nUbYwS8d9h5xWpQAUUUUAFFFFABXAfFOx8Y6/wCH77w94W0qyltdQtfLlvZ77y2jJPzKE2nPA657139FAHA/CvSvEXhrw3Z+G9a0K1sbTT7YKt3DqAnNxKWyx2bF2jknqfTmu+oqpqmmWus6bLY36yNBLjcI5XibggjDKQRyOxoA87+BX/Iv+Jf+xkvf5rXp9c3oXw/8OeGtQN7o1lLbzsXYk3czqWb7zFWYgk+uM10lAGDrfgrQPEV8t5rFh9onWMRB/OkTCgkgYVgOpNZ//CrPB3/QIP8A4FTf/F111FAHN6Z8PvDOj6lDf6dpvlXMBJjfz5G2kgjoWI6E10lFFAHh3i3Rfi/qPxEl1nSNL0mWzsnZNLju5ldYlzjzQpYAOw7kZAOBjnPSfDjRfHjeMdT8QfEiOzS4ayis7QWjKVCB2duATjnH+RXptFABSABQAoAA6AUtFABRVHWr6703Rri707TZdUuYlBjs4ZFRpeRwC3A45/CvO/C3xkvvGK30eh+CdRlu7CYxXEbXMaJHgdC7YG4kEbRnpmgD1KiuG0D4nW/ibQ9Vl0fSLuXW9JbZdaJKyxzq+7GMk47Hn2xXIW/7RUM+l315/wAIjqf/ABLroW92iSK5iJOBzjBYkPx/snnkZAPaKK4zXPiLBp+u6XoGkabPqet6nB9ojtNwi8mPGd0jN93jPGM8VJ4Z8eprGvanoOsae+j6xpqLLNbyTLIrxEAiRXHBH8qAOvrC8WeMtD8EaXFqHiS8+yW0sywI2wsWY89ACegJ+grjrj4wvdaRqmueGfD8up6DpJcXOoSTiESFRlhEpBLYz14FZ3jf4k6PefDfSvEuoeCLjXNCuws7G4aNRavu2qGBySSehAxQB67FKk8KSwsHjkUMrKeGB5Bp1clrPjePR7fQ7Wy017zVNaT/AEOxjkCKAEDMWc8BQCOcVU07x1rM+v3+h6n4UlttSs9NN+sUV2ki3PO1UjbAHJBGWxg49aANnwz430DxfPqEPh++F0+nTeTcDYV2tz0yORweR6Vv15r8KfEmk6zqXiS20/wkvhm6srhTfoWUtJK27JbaMcbf1q9F8Rb3XJr2TwR4ek1zT9PlaGa7NwsCzOv3lh3D58evAORg0Ad5RXEp8SYdS8FT6/4Y0m51eS1lMV1YB1hlgZc7w27jK4/qKwvDvxmu/FfhmfWtB8HXtzDaB2uc3KIqBRnarNjexHOAOARzzQB6nRWH4O8V2HjXwrZ67pW4QXK8oxG6NgcMpx3BrcoAKKK4nwU7N488eqzEqup2+0E8D/RIulAHbUUUUAFFeV33xpuNO8ct4WvPBuox37Iz2yCdGa4XJAYBcgAhWPJ4CnvxWjYfGLR5vhs3jDUrK80+FZzbC0kTMskuQAqD+LOf50Aeh0VwI+JV1pmraRbeL/D0ui2+suIrO5+0rMFkIBEcgA+Vjn3HFW9e+IK2fixPC3hzTZNa1zyvPmhSQRxW0fZpJCCBngY5PIoA7OiuB8MfFaz12x8SSX+m3Gn3HhsuL6LPmKdobOxh977p7enrWTZfGeafwzb+K7rwzND4Zmm8pr1bkNJD8xTc8e0cZ6kEigDrvG3jmy8CaYl/qWn6ld25DF5LK38xYgMcucjaDnqfQ1Q1n4oaXongvTfFE2m6rcadqFsLlWtrbf5KEKR5nOF+99ODUfxZuIrv4JeIbm2kWSGbTi8bqchlOCCK5rUj/wAYiJ/2LcP/AKLWgD07QdYt/EPh6w1iyWRLe+t0uIlkADBWGRnHfmtCuV+F3/JJvC3/AGCrf/0WK6qgCC+srfUrCeyvY/Mt7hDHIm4jcpGCMjkVzH/CrPB3/QIP/gVN/wDF111FAHI/8Ks8Hf8AQIP/AIFTf/F10el6ZaaNpsVhpsXk20IIRNxbGSSeSSepq3RQAUUV47pfw50vxx8QfGWs+JZLy4hj1EWdrbxXckMahIkDN8hBJzx1xweKAPYqCcDJ4r5j+G/gHQfEfxZ8a6JrEd3PYaTMyWkYvplMYEjL94MCeAOtd94T+Gukab4o8Y+E7qK6u9EuorK7iS4nckDMnyhwQeHQ9+mM0AeuGVB1dR+NOBDDIOR7V8z/AAh8C+H/ABJ8QPHthrVnJc22lX/lWaG4kXyl82ZcZDDPCL19K2fEd3P8I/jH4Z07wvd3j6RrZVLrTJ52nVS0gTcm4kr1B6/wmgD3+iiigAornfC/iG51zUvEdtcxxIuk6obKIxg5dRFG+Tk9cuR+FdFQAVwvj/xrrvhN7VrPRraSyuL22tReT3POZXAOIwM8DPJIruq8y+Nt1bnw7pNuJ4vOTXbFnjDjcq+YOSOoHPWgD02mySJFG0krKiICzMxwFA6kmkhniuYRLbypLG3R42DA/iK84+KV/Pquu+G/AdnI0Q164Z750OGFrENzqD23YxQB32latY63psWoaXcLcWk2fLmUEK4BxkZ6jjg9D2q5ketcR8SvCukah4Bvpp7ZkfSNOuHsvIlaIRER5HCkZHyrwfSvM/g74O8Oa78IR4h8VC6mlhknaa4+2TDEcZJ6K3YD0oA+g8j1ppkQdXUfjXkPhzwRpemfEWa30w3114a8S+HpHMc8sjKmXTKhicrlXGOc9a4vSPAHh25/aX1jwxNZyNo9tponjtvtMmA+Iuc7s/xHvQB9Jhg33SD9DS18/fFmwX4Mx6N4l8CXd3ZPLeC3uLCS6eWCdNpblXJx93GR6+te92k/2qxguNpTzY1fae2RnFAE1FFYVprs9x4+1PQmjjFvZ2FtdI4B3FpXmUg84wPLGPqaAN2iis3XvD+neJdLOn6xE8tuXD7UlaM5HTlSDQBpZHrRkV81/BbwfpXirXvGFvrou7mLTr4RWw+2Sr5a7pBjhufuj8q6j/hE9E0zxj4R8V+Brm9exbVZNPu4GmlkjJxJGWw/IIYEenegD2vep/iH50ucda+cvih8NzD4zZfASy2OoWumNrCrHKzNNKk+CAWJwcHIHTIFegeDdb0X42/DeJNehY3drIFvbeOZomimUEBwVIIBBJH4jtQB6Ne3tvp9hPeXcmyC3jaWVgC21VGScDk8DtSWF/aapp8F9p1xHc2twgeKaJtyup6EGvOPgn4W0ux8IQ63Ek8moXRnhkmmuJJPkEzKFAYkDhF7ZpvguT/hDfi3rfgZAU0q9gGr6UmeIgxxLGvtuyQOwHvQB6jRRRQAUUUUAFFFFABRRRQAUUUUAFFFFABRRRQAUUUUAFFFFABRRRQAV4j+zzfWi3Xje0NxEtwutSSmIuA2wkjdj0yCM17DrGpf2RpM98LK7vjCAfs9nH5kr5IHyrkZ6569Aa8G+F3g21utX1nT/HXgbUGOp6lLd2lzd2mI4Y8E4ZwflJ6YGc0AaXw2ljv/AI9eO/FFmUj0Hi2+2lgIZJAUBw3Q5IJ/Eeoqz+zzcaf5Hi5ftFuZ7jX5tieYpaRAAQQO45bmvWE8NaKnh/8AsJdKtP7K2bDZGEGIr1wV6HkVT03wJ4T0bUI77SPDel2V3FnZPb2iI65GDggZ6GgDxrxHpAtv2pDN4j1S/wBJsdWsQun31rc/Z/nVVBj3+mVbg92HtXTaj4O0RPEmswaJf6tq3iq50G4t2uJ7lZUgRlwiyHjDMR8o54BzgYNem634f0nxJYGy17Tre/tic+XPGGAPqPQ/SmaF4a0XwzaNbaBptvYRMcsIUwWPqT1P40Aea/s/alpkHwnXRr6WG3vtMnuE1G1uCFaP94xyyntggZPoaqfGfxHpGu/s83lxpbLDDcNA1rDIAjPGtwoDKufunGQfSvRtX+H3hLXtVGpavoFjd3oxmaSP5mx0zj7345qzqvg3w1rptzrOg6dffZk8uH7RbK/lr/dXI4FAHl3jy08L+Ll8F+H9Tv3sL26tnNhq9tOv+jzRpHmMjPJbI7g5A9aXwFH4g8E/Fmfwpr/iFfENidKN5Hez/wCttFD4CuzElQcHjcR0Nejv8PPCElrFbN4c077PCkiRwiABEEhUvhRxyUXn2qxpvgzw3pFndWumaHY20F4pS4RIR++UjBDeo+tAHkvgOSPU/FvxZs9Pu4ftN9OUtdsgBkYpIAV55rW/Z2u7XTvhjNpV7JHaahpl7Ot7BKwV4jnOWB6DHf2rv9L8B+E9E1BL7R/DmmWV3HnZPBaojrkYOCBkcUmr+AfCmvX5vdZ8P6feXJGGllgBZh6E9x9aAPKvhJcx5+I3iWeVYtD1G/lFpLKyqs+3zCWUnrkEf5zUnwN1Cwtf2friKe8toZmN2SkkqhuQQOCfavX7vw3ot/oqaRe6VZ3GnR7dlpJArRrt6fKRjistPhp4IjikjTwno6pLjeoso8Ng5GRigDiv2a7iE/CC0txNGZhcTuYtw3Bd/XHXHvXrlY2i+EPDnhy5kuNA0Ow02aVNjva26xllznBIHTNbNAHHXfw6hu72e5PijxREZpGkMcOqMqJk5woxwBngVxvhPwDFd+MfGdsfEfiSIWmoQoJItTZXlzbRtlzj5iM4B9OK9jrH0fw7Fo+ta5qUc7yPrFylw6MABHtiSMAev3M/jQBH4d8Lp4ca4Mer6vqPnhQRqV4Z9mM/dyOM55+grcoooA8O1K/05/2utKuhe2zQQ6GweUTLtRv3owTnAPI/MVP+0fpst34R0HVIN76bp+opNdG3J+WNuN4K8/iPWvQpvhp4IuJpJp/CejySyMWd2soyWJOSScdc10TWlu9mbR4I2tinlmEoChXGNuOmMdqAPJ9d8M+DpvDul3uoeJtf1+1e5hk0+Aaktw80u4bSoYZJGeTngZzWf4RlXw5+054ut9ekW3k1mBJbCWY7RMoI+VSep7Y/2a9M0b4f+E/D2oG+0XQLGzuckiSKLlc9dv8Ad/DFW/EHhTQvFVqlv4i0q21COM7kEyZKH1B6j8KAOY8X/EPTfD+ieKZtFtFvbzSLZJrkog8rzJDtVWYdWA5I9MV5N4rttRvv2eJfEWseMJru51GGKSHS7URxWseXVmQRquSVTcT0wRntmvoTTvDei6RpDaXpul2tvYvnfbpENr567h3z71l2Xw28GadczXFl4a06KWdWSQ+QDkMMMMHgAjrigDzPUfF+l6l+zjq2mJKkUtho1vb5kdQJnaCN8IM5JAYZ96t6jqmnn9k1Lf7da+d/wjsKeX5y7t3lr8uM5z7V6M/w+8IS6bBp8vhrS5LO3YvFA9qpVGIAJAI6nA59qj/4Vt4KNqLY+FNI8gSGQRfY02hiME4x1wAKAKvwpu7e4+FXhqOCeKV4dLt1kVHBKHyxwQOh4rsKzNF8OaL4chlh0DSrTTY5m3yJawrGHOMZIFadABRRRQAUUUUAFFFZXiGz1u9sETw3qsGl3QkBaW4tPtCsmDldu5ec45z2oA8c+Df/ACXv4k/9fLf+jmr3ivHdA+D/AIv8NeJ9V1/S/HNmt9qzl7svowZXJYtwPN45J6V6bqNnrU3hwW2marBa6qEjBvZLTzELAjefL3DqM8Z4zQB4L8JNK1TVPij8SF0nX7jRjHqbFzDbxy+ZmafGd4OMc9PWvVNG+FdjZ+LF8T+INVvfEWsRLtt577aFtx/sIoAB9/c1z/gz4R+J/BvirUdZtfGVrN/a10s+oxNpOPOG8sQp8z5Cd7DvjNet0AFclNrXjdbiRYPCFlJErkI51cAsueDjy+MjtXW0UAeQ+CdW8Xxa14wNl4Ys7h5NbLTq2qBBFJ9nhygOz5hjBzx1r0bQb7Xrzz/+Eg0aDTNm3yvJvBP5mc5z8oxjj86y/BelXum6z4ulvrdoY77WmuLdiR+8j8iFdwx2ypH4V1lAEN3JNDZTyWkH2idI2aKHeF8xgOF3HgZPGa80vZPFmo3hutR+EGh3VwyhDLPrMDuVHbJhzivUa808V+FJ7/WPEur+MLq3/sKDTwdLmSaRJrFwnzsACFB3c56ngZwMUAbng268RJMdO1PwRY+GtMiiZ4ms9RjmXeWB2iNUXGcsc+o965XVi0n7VmgpN/q4tCmeH/eJcMPyrpfhFe63qPwr0W68TmRtQkiJLy53um47GbPcrg1h/EeB9C+J3gvxmQosoJpNNvpGOBGsw2oxPoGJoA7Hx5/yTrxF/wBgu5/9FNXg3w38Cah4o/Z9uZdO8R6zaSsLpY9PtZR5MzAkhSuMnceDgivcvHHh/XPEuivpuh65BpMVxFJDdmWy+0eYjrjA+Zdp68+9c38OPhv4l+H1va6Yniu1vNFikeSS0/szZI5YHpJ5hxzg9O1AHbeGYJbXwlpFvcxtFNFZQpIjDBVggBB/GvDmtb6+/a61q20zVZtKmk00A3EMSSHASM4wwI5wK9+vo7mbT547Gdbe5aNhDMybxG+OGK8ZAPavJYPhB4vt/iBP4yj8cWX9rzQ+S7HRvkK4Axt830Uc0Ab5+E0Gqa/a6p4y1/UPEhsm3WtrdLGkEbf3tiAAnp19K9CAwMDpTYwwjUSNuYAbmAxk+tOoA5nU9W8XW+pTRaX4YtLy0UgRTyamImcYGTt2HHOR17Vxthq/jEfFbWpU8LWbXbaTZLJAdVAVEElxtYNs5JJbjHGPevWK5ix027i+KWs6lJAy2c+lWcMUx6M6SXBZfwDr+dAFjRNS8TXd80eu+H7bTrYRkrNFqAnJbIwu3YO2efat+iszxBaaveaUYvD2pw6Ze71IuJrbz1C9xsyP50AfPfwf8Mz+JfEHjqK28QarojRak3z6dKE8zLyfeyDnGOPqa9h+EOh33hz4b2mmaqkyXMNzdEmcfO6mdyrn3YEH8a5Xwh8IfFngrUtRu9I8bWYOpzia7V9H3bzkk4zJ8v3mr2CgDiJv+S9Wv/Yuyf8ApQK828a2Nx8FvijD440aI/8ACN6zIIdVtol/1bE5LAe5+Ye+R3rspvh746k8bDxGnj21EyQm2jiOjKVEJfdsPz8n3rvNf0Gy8TeHbvRtXj861u4jHIOhH+0PQg8igDmfg46y/CzTZI2DI8tyykdCDPJXPeK2aL9prwU0HLS6bcxzeyYYg/nXb+A/Cv8AwhPgmw8P/a/tgsw4E3l7NwZ2bpk/3sVxelq/ir9pDUtWhAbTvDOnjThKBkPcOdzAH1XcQfpQB6tRRRQAUUUUAFFFFABRRRQAUUUUAFFFFABRRRQAUUUUAFFFFABRRRQAUUUUAFFFFABRRRQAUUUUAFFFFABRRRQAUUUUAFFFFABRRRQAUUUUAFFFFABRRRQAUUUUAFFFFABRRRQAUUUUAFFFFABRRRQAUUUUAFFFFABRRRQAUUUUAFeT/ER/G+peK47Ky8Ctr3hq0CyGJtSht0vJuCC4YklFP8JABIJORivWKKAMTwhJrE3hmCbxJaNY6hK8jyWjSpL5ALnagZAFIC4A4zjGSTkm/q2k2Wu6Tc6ZqtutzaXKGOWJ+jA/yPvVyigDP0HSm0TQ7bTXvZ74Wy7EnuMGQrn5QSOuBgZ74rQoooAKKKKACiiigAooooAKKKKACiiigAooooAgvoJLrT7i3guXtZZYmRJ4wC0RIwGAPGR1qh4a8Nad4T0OHS9JjKwx5ZpHOXlc8s7nuxPJNa1FABRRRQAUUUUAFFFFABRRWN4r8S2/hLw9Lq13bXN2kckcSwWihpZHkdUVVBIBOWHegDZorzyT4teV4kttAk8GeIl1S6tzcw2p+y7mjGcn/X4HQ8Hn2qS5+LEFp4Xvtdn8Ma5HBptw8F9DIsCS2xUKdzKZeQd4xtz+VAHf0VwQ+KkNto9vrWteGtZ0vRrhUcahMIZI1V8bWYRyMwByOSOK7qGaO5t454HWSKRQ6OpyGUjIIPpigB9FFFABRRRQAUUUUAFFFFABRRRQAUUUUAFFFFABRRRQAUUUUAFFFFABRRRQAUUUUAFFFFABRRRQAUUUUAFFFFABRRRQAUUUUAFFFFABRRRQAUUUUAFFFFABRRRQAUUUUAFFFFABRRRQAUUUUAFFFFABRRRQAUUUUAFFFFABRRRQAUUUUAFFFFABRRRQAUUUUAFFFFABRRRQAUUUUAFU9S0qz1eKCK/iMqQXEdygDlcSRsGQnB5wQDg8cVcooA8n1r/k6vw5/wBgGb/0KStT4v6ZaWPwh8ZXFrFslvolnuDuJ3uPLQHB6fKijj0qe6+Fi3fii38RSeLNeGq28JgiuV+zArGTkrjycY5PbvWx4t8GL4w8NjRL7WtRtrZ4/LuGtvJDXIwPv7oyByM/Lt5oA4mDw34o8dfCnS/Dt1/ZWm6Jc6fbK91FNJPcSRqqsMIUVUYkDPLAc9a9I8uHw54XEVs0Cw6dahI2vJ/KjCouAXkwdo45ODj0qLwv4f8A+EY0KLSl1O91GKABYXvTGXjQAAINiqMDHcZ962KAOV8OeMf7d1Q2n2nw1L+7L7dM137XLxj+Dyl456544qTWdU1z/hJl0jRJNPgH2BrxpryB5uQ+3aFV065HOeMdDnjpqoPpEEmuf2qXk8/7KbTaCNuwsGzjGc5HrSlfS3n+Tt+Ng6fd+av+FzntF8Y3ernebeGKNtBg1MLySsjmQFc55UbBjgHrVBvF/iG7s5JrAaZF9n0K31WTz4ZH8xnWQtGMONoOwYbnHo2eNdfAdlDBZxWepajaLb2K6fIYZIwbmAdFclDg8t8ybWG44NWbfwdp9vbTwpNclZ9Mj0tiWXIijDgEfL975zk9OnFVLZ8vy/H/AIA9L+X/AOz/AMH7znNd17xCmg6pFdSWsc9xpH260NkHie3bcAY2kLHf99cOAvQ/KKt6n4v1Xwubi316O0vZ2tkntWsoJEG5pVi8tky7NhpFO5eWGQFBHO1qnhKw1a3eG5luVV7BrA+W4U+WSpJzjhvlHNRHwXZTxXo1S9vtSlu4lhE9zIgeBFbcojKKoUhsNuwWJAJJwMDtf7/1t+n9bwr9fL9L/r/W2C/jXW7bTb52t1uZInthBdS6RdWETebOsbIUmJJIDZDKx68gY+bptV1W88P+Fnvb4wX16hSNfJjaCOSR3CIMFnKjLLk5Pc+1QyeElurGW31TWdU1AySQv5k7xqU8qQSKAqIqcsOTt3EcZ4GNbUtOttW02exvkLwTrtcBipHoQRyCDggjkEUnsUji/EureJbHQ9Z065vbFb0aY95BfWdtJGAoO102GUlWGQVcN3+6Mc6PiO31HRvhlcxWGo7L23gBN0/nSEnOSQWlLjrxl2x71b/4Q22ltL+PUtS1DUZ762+yPd3DRiSOL+6gRFQcnJO3JOMk4GNbVdMh1jR7nTrlpEiuIzGzxkBlz3GQRke4Ip6W/r+tibNv+v63OUvvEuv2sfieZX00xaBBnBtZN1w/2ZZM/wCs+RQxPHzEg4yCMmx4g8aT6Dcvvt45ol0xblVVXLNM0yRKvy5O3LjopPpnpWrF4WsxbatDdzXF6NXRVvGmKgviJYiRsVQCVXJx3JxjpVKPwLZv5p1PUdR1N5bP7EXuZEUrHuDDHlooDAjIYc56k4GF1/rs/wBbFu1lb+tV+lxPC+v6lqOpT2eoxSTIsQlS8Gj3WnoDnBjKz5yehBVjkZyBjmLVNb8QpqetLpaacLXSIY5ttxG7Pc5Qs0YIYBOnD4br904ra0rSJdOd5LnWNQ1ORlCBrxowEUdgsaIuf9ogt74rCuPCVzqfirXJ7q9vrLT72KCJo7aWMLdoFYOrZVmXrjKlG569MKV9LCjvr/X9f1Ygk8Yare6bqWuaRHZrpelIHkguI2M10BEsr7XDAR4VwBlWyQegp7+L72Pxglhd3Fjp1vJOsdvb31tLG14hVTuiuc+WXy+PKCk/KRkZyNK88F2N3PceXdXlpZ3gUXthbMiw3W1Qo3ZUsuVUKdjLkAA5qS78KxX195lzqmoPZGeOc6aXjMBdCpXqm8AMqttDhcjpgkG9Lrt/X9L+rLW2u5zWlaprF74rsCl5HFZZ1VZbYiWQyeVcKoO5peDgjHGF+YAYICv0fxreQ+Gle7giMz6Pb3lgu9286R/kMZZ2ZmPmFBknOHGcnmuhg8IWdrdW1xbXd3G8E1zLwUPmC4ffIjZU/LuAxjBGBz1zCfAmlGHw/G0l0f7A2i2PmAGQADAkwPmGVVsDHKikrWs/L9f80XJq7a8/zMW+8c6rFqN6llbPOmmyiCS2h0W8uGu3CqX2TJ+7j+8QAwbpkkZ4uzeLL6DxmNNvLix02BrhYoLe+tpo2vEKr80Vznyy+XwIgpb5SMjORqz+Fkk1O4u7XVdSsYrt1kurW1kRY5mAA3ZKF0JAAJRlzjPXmi88LR3+oGW61XUZLNp0uG05pEMBdCpXkp5gG5VbaHC5HTBIIul/n+H/AAf+B0l9TdooopAFFFFABRRRQAUUUUAFFFFABRRRQAUUUUAFFFFABRRRQAUUUUAFFFFABRRRQAUUUUAFFFFABRRRQAUUUUAFFFFABRRRQAUUUUAFFFFABRRRQAUUUUAFFFFABRRRQAUUUUAFFFFABRRRQAUUUUAFFFFABRRWN4r06LU/DV3HNNdQ+VG0yPaXUlu4ZVOPmjYHHtnBoA2aK8B8DSaHqnw78OPr/iTX5de1mf7J/o3iC4EqOzPtcx+bgAKufu+nBzVnx/pmsaF8KNCuNQ1PWLfWbe+i06adNUmXz4vOcb2CSbSWXB3H5sHnGMAA91orxnx8JPAc+hz+A9Z1CfVbjUI4JNLuNRlvRcwnO7McjsQAcfMMYzXsw6DPFABRRVDUtd0nRlB1fVLKwBxg3VwkWc/7xHofyppOTsgL9FQC9tTK0QuYTIsQmZPMGRGc4cj+6cHnpwaqXHiTQ7RYmu9Z0+BZghjMt0ihw+dhGTzu2tj1wcdKajJuyQGlRWPd+K9GtrDU7mG+gvTpak3cNpMkkkR54Zc/KeDwcdDVux1nTNUhml03UbS7jgYpK8E6yCNhyQxB4PsabhJK7QdbF2is618RaLfWL3tjrFhc2scgjeeG6R0VyQApYHAJLDj3HrVm0v7PULJLywu4Lq1cEpPDIHRgOpDDg9KTjKO6AsUVh3XjTw9beHbzW49XsruxtARJJbXMbgvjIQHdjccjAJHUUTeLdOtPBx8SX5+y2QhMoV5omLD+EKyOUYtxjDc5FV7Kp262+YG5RWFaeMtDnhsTdalZ2FxfIr29rc3sHmSBjhSux2DZPTaTmpj4n0qJtT+3XUdhFplwtvPPdyLFHuZFcYYn0cDnHNDpTTtb+r2/MFqa9FULjXdJtNLj1K61SygsJQpjupLhFicHphycHPbmrcdxDLarcxTRvA6CRZVYFWXGdwPTGOc1Li0rtASUVSsta0vUriWDTtSs7uaEK0scE6u0YYZUkA5Ge2etFlrWlajcXMGn6nZ3c1q224jgnV2hOSMOAcqcg9fQ0OElugLtFZSeJtHudMub7TdRs9RhtjiU2t1EwU+hYsFB+pFV7XxhpF9JdJZ3MUzWl6tlMFniG1z35fp1GPvEqQAcVXs59hXSN2iq8eoWUsVrLFdwPHeY+zOsoInypYbDn5vlBPHYE1BZ67pOoy3MWn6pZXUlocXCQXCOYev3wD8vQ9fQ1PLLsMv0VT0zWNM1qBp9H1G01CJG2NJazrKqtjOCVJ5wRxVyk04uzAKKKKQBRRRQAUUUUAFFFFABRRRQAUUUUAFFFFABRRRQAUUUUAFFFFABRRRQAUUUUAFFFFABRRRQAUUUUAFFFFABRRRQAUUUUAFFFFABRRRQAUUUUAFFFFABRRRQAUUUUAFFFFABRRRQAUUUUAFFFFABWN4t1KPTPDF5LJb3lyZImiSOztZLhyzKQPlQE49+grZooA8Y+EfhrTNQ8E+HrLV9F1DTdc0ScXrSz6Y9uzMrMFUyOgDja/QHPHtWh8eZJb/w1Z6PZaVqeoXP263umW00+adPLVzuyyqVz/sk5r1eigDA8LaT4cgsE1Dw9oMGlC4GSP7O+yS8H+JCqsOfUVralafb9LubTbbv50bJtuoPOiORj50yNy+oyM+tWaKNwOV8OeDv7C1Q3f2Xw1F+7KbtM0L7JLzj+PzW446Y54qe6sXl+ICXTWrPEujyxCYx5UMZVO3PqQOntXR0VSk1+K+8Vv0/Bp/oeYaFFeaHZaeb3S9RZrnw1b2UaQ2ckhWZC+Y3wP3f+sXBfavByRipdN0W6Nhei50yYs3hG1tVElucl9s26IZHXO3K9entXpVFdMsS5XdtX/wf8yr+9f8Arp/8ied+JNFnGkSW1hpUskQ8NvbCCGE4Yho9sXpnG7A+vvUPiKwvPEbX1xoFhfWkEFhFbyq9p5D3O2dJDFGkqgPtRXAJBQmTGSC2PSqKUcS42dtVqRGNvw/C3+R5lf6WdT02/ubZvEGqyyvYwyNqWmpbh0W6ViojEMbttBYlipUBjg/ersvGNhc6l4TvbWziM8jhC0Ax+/QOC8fOB8yhl5455rboqZV22mls7/l6diloee6ykmvRa5faRpd9FCdEe0PnWUkElxLnciLG6hm2jdzjHz4BPOOn8XwTXPgjVoLaJ5ppLORUjjUszEr0AHJNbdFTKrdqy2J5dW+55d41TVLuPxDZQ2l/CHAaG203SN/28CND5ktwyspxhgEXZJ8vG7Kird9p7LqWr3txFrNo6awk9nfafZee0RNkse8xlWLpyyHCtgntgkejUVqsTZJJdLfl/l1v92hR5iLfWFfR9Tvzf6bbIt3GZdF0keZueQMkr2zRysnmBWLHG4EjONxA6vRLNLHwPLHF9v2Ok8q/2iiJMd7M2SiABAc5C4UgEAgHIHR02WNZonjkGUdSrDPUGoqV/aQ5bf1q/wBf+AEbKVzzLTLebXvD3h638PWVzps9lpEiPcS2rwpGZLfaqo5AEmXKvlCR8mSQcZuC1h1mHTLOHw9qFvFp2nT217E1sbchGh2fZ43bashLAEFCU+QEsPlz3tnaQafYwWdonlwW8axRJknaqjAGTyeB3qarniLttLvb53/zf9XvME4qK7f8D/I8ulh1S90PWoLeO91O2NlGkNxfaO1peqQ4xAfkXzVHztlUAGepzWrcW9zJfXVutndl08SW10W+zPsMRVPnD42sBtOcE7e+Miu8opPEXd7f1p/kS4Jpr+tmv1PNrfQtZuG1nQ4YZ7aLSbW6h0q5ddkcjXGTGUb/AKZLmPI6ZplrpFtqmntFfJ4qvvI0qa2ks5tPgtREjooaFGEUYcnaMbGZMoCT90n0yin9al2/rr9932NOt/66f5HI+D5L6XVr95zPeWnlRrHqF9pRsbpyCx8p8qnmKoOQwRQNxHJzjrqKKwqT55XsJKwUUUVmMKKKKACiiigAooooAKKKKACiiigAooooAKKKKACiiigAooooAKKKKACiiigAooooAKKKKACiiigAooooAKKKKACiiigAooooAKKKKACiiigAooooAKKKKACiiigAooooAKKKKACiiigAooooAKzde1aXRNJkvodMutT8vl4bRow4XBJb94yjAx65rSqjrf8AyL+of9esv/oBoA43S/irLrXh2PXNK8EeI7vTpUZ0liFqSwBIOE8/d1B4xTdb+MGnaF4f0nXbrQtYk0vVIUkjuYkiIiZlZyjr5m4MqoxOAQMdTXE/C9fFh+HvgL7EYBog1DMwtvM88p+9z5mPl2bv/Za9B17QdPsZvB2k21uPsC6tKvkyEuCrWl0WHJPHzHj8KAL/AIg8dW+ieH7TW7TTL3WtOugpE2nmIhQ5VUyHdSdxYAYz74roNPuZbzT4biezmspJFDNbzlS8Z9DtJXP0JrwfU2uvh4138P70yS6RfXdtd6BcOc7VFzG0lvn/AGeSPb617vqV39g0u5u91unkxs+66n8mIYGfnfB2r6nBx6UAWaK5Xw54x/t3VDafafDUv7svt0zXftcvGP4PKXjnrnjiptZ1PW/+EkTSdEksIM2L3bTXcDzcq4XaFV065654x0OeLjFydgOkorkdD8YXWsbZDbwwo+hQakE5YrI5kBXOeVGwY4B61n/8Jd4hvLV5dPGmRGDQ7fVZPPhkfzGcSFoxhxtB2DDc49Gzxr9Xmm09LBZ3t/XT/NHfUV59rmu+IY9A1OK7ktY57jSDfWn2IPE9s24Ao0hY7/vrhwE6H5eauan4u1Twv58Gux2t5O1uk1q1lBIg3NKkXlsuXZsNIp3LywzhQQMv6vJ2S1bJUk3p/V/+HO1orgG8Z63b6beu9utzJE9t5NzLpF1YRN5kyxshSbJJAbIZWPXkDHzdNqmqXmgeF5Ly+MF7eptjXyo2gjkkdwiDBZyoyygnJ7n2qZUJxaXd2/L/ADRS1NmiuC8Sar4lsdD1nT7m9sVvRpj3kF9aW0kYVVO102GUkMMgq4bv90bedHxFBqOjfC++jsNR2XtvZOTdP5shJwSxUvKXB64JdtvHXFHsdFru7f8ABJ5lex1lFecat4m1LwjataQ6np14+nxI0toLe7vJ5BwWaSTzGNuDuIXzN44B3HoLF34h1bTb/XmtTI8KarHE88ltLeLYxfZEcsIYyGILcfKQAX3Hoav6tJ6p6dPvX+fn23KWp39FcLP45uGs9Mhsruyubm8ilma+06wuNRgKRuF4ih+YFtwyC2EIIy3Geg0fWLq/8LHULq0ktrlFlDJNA8W4oSA4RwHVWxuAPIB/Gs50ZwjzS/r+rAtXZG1RXC2XjHVbSCwvdfFi9pf6RLqQSzhdHg8pI2ZSWch8h+uFxjvUVp491KGCW91OzkntBZS3TLDo93ai2KJvCGWYbZQRlQwCHIB24Py39Vqa2/rf/J/1YFqk112/r5nf0Vx39veItN1q3s9YbR3S4025vfMUPbpC0fl/Izsz/KN5y+Of7oxzg3vjHWL3S9ds7bU7Kcro095b6jZ6dcW6KUOG8tmkIlBB+WRGwCM4PAojhpy2en/Bt+n+Q4q9vO342/zPT6K4W48RanpGqS/aPJuVtbGwlvJB5igpJLIkjqhkKrtADZ5JAIJPGJtW8aXdtNJDaRoFmv2s7WdbOa7wI490rmKL5nw4KADbjBJPGKX1ebdl/W3+Yv8AgfirnaUVwM/jTWItFS4mgaySK5kiuNTuNEuzFsVA4k+z5WRFOcFmbapRuTkGux0e9/tHR7a78+0uTKmTNZS+ZC56Eo3cfy6c1M6MoK7/AK/r7xXLtFFFYjCiiigAooooAKKKKACiiigAooooAKKKKACiiigAooooAKKKKACiiigAooooAKKKKACiiigAooooAKKKKACiiigAooooAKKKKACiiigAooooAKKKKACiiigAooooAKKKKACiiigAooooAKKKKACs3X9Ik13SJLCPU7zTBLw81n5e8rggr86sMHPpn3rSooA5bwT4Hj8DabHptjrWpXthChSG2vPJKxZbcSCkatnJPUnrT/EvgxvEmqWd7/wkOraa1kwkt47JogqSYdS/zIxJKuRg5GO1dNRQBh+JvCOl+LLC1ttXjZzZ3EdzBMuA8ciMCCDjvjB9Qa3KKKACqL6TBJrQ1QvJ54tWtdoI27SwbPTOcj1q9RTTaA5hfAlnDb2UNlqWo2i21kthIYXjDXMA6K5KHB+98ybWG44IqzbeELC1gmijmuSs2mRaY25lyIow4BHy/e+c5PTpxW9RWjrVGrNjvrf+un+S+4xNT8KWGrW7w3MtwqPYtYHy3Cny2KknOPvfKOahPgyynjvRql5falJdxCETXEiq8CK25RGUVQpDYbdjcSASTgY6Gikqs0rJkpJbGA/hRbmxlt9U1nVNQMjwv5k7xqU8qQSKAqIqfeHJ27iOM8DGtqOn22q6dPY3qF4J12uFYqfqCOQQeQRyDVmik5yf9f12Gc6PB1vLaX0epalqGoz3tt9ke6uWjEkcX91AiKg5OSduScZJwMa+qabDq+j3WnXLOsNzE0TtGQGAIxxkEZ/CrdFDqSbu2KyOZ1TwPbar/aMbarqdta6kd9za28kao0mxVDglC4OEX5d2045UgkGzL4WjM13PZ6rqNjc3V0t081vImQwiEWNrIVZSqg4ZW55GCBjdoqvbTta/9af5L7hnOf8ACGW0cVs1nqN/aX9u8rnUYjEZpTKcyBwyFCGIU42gAquMYrXttNW30n7A9zc3IZGV57iTfI5bO5ieg5J4ACjoAAAKuUVMqkpKzDrcxYvCunxrpisZZU02yeyjSQqRJG6op38cnEY6YHJ4qvF4W+xadPbnUL/VrcWzwQWF9OixBSuNhZEDMMYXc5cgc9evRUU/az2v/X9NgtLW6Hn2meEbrV9QMmuxaxFaJpk2n7NTuYGl2ymPiMwEjChD8zneSRnOK3P+EJt5riafU9W1PUZZ7GWwkNw8agwyYyAqIqgjHUAE55zgY6WitJYicnpoJKxhx+FLM/ajeXFzeteWCWE7T7PnjUvg4VQNx8w5wMcDioovBllb+H9P0u1vL6B9Ofzbe+WRWuFc53MSylWLbmyCpBz06Y6Gio9rPuP+v6+4xH8OTm0iSPxDrEVykjSNdrLEzyZGCCjRmIDgYAQYIyOSc39J0u30bTY7K03GNCzFnOWkdmLM7e7MST05NXKKlzk1ZisFFFFQMKKKKACiiigAooooAKKKKACiiigAooooAKKKKACiiigAooooAKKKKACiiigAooooAKKKKACiiigAooooAKKKKACiiigAooooAKKKKACiiigAooooAKKKKACiiigAooooAKKKKACiiigD/9k=)\n",
        "* F1 score: The F1 Score is the **2 * ((precision * recall)/(precision + recall))**. It is also called the F Score or the F Measure. Put another way, the F1 score conveys the balance between the precision and the recall."
      ],
      "metadata": {
        "id": "KiOIRr4itOba"
      }
    },
    {
      "cell_type": "markdown",
      "source": [
        "**log loss**  \n",
        "Log-loss is indicative of how close the prediction probability is to the corresponding actual/true value (0 or 1 in case of binary classification). The more the predicted probability diverges from the actual value, the higher is the log-loss value."
      ],
      "metadata": {
        "id": "Cs_tQCKa032-"
      }
    },
    {
      "cell_type": "code",
      "source": [
        "from sklearn.metrics import log_loss\n",
        "# log_loss(y_test,y_hat_test)\n",
        "print (\"LogLoss: : %.2f\" % log_loss(y_test, y_hat_test))"
      ],
      "metadata": {
        "colab": {
          "base_uri": "https://localhost:8080/"
        },
        "id": "-rvMjdHE0IrT",
        "outputId": "8499d669-a373-4fed-904d-ea8e9e7b0ddb"
      },
      "execution_count": null,
      "outputs": [
        {
          "output_type": "stream",
          "name": "stdout",
          "text": [
            "LogLoss: : 8.63\n"
          ]
        }
      ]
    },
    {
      "cell_type": "markdown",
      "source": [
        "Build Logistic Regression model again for the same dataset, but this time, use different __solver__ and __regularization__ values? What is new __logLoss__ value?"
      ],
      "metadata": {
        "id": "tXGvvTMl3NWY"
      }
    },
    {
      "cell_type": "code",
      "source": [
        "LR2 = LogisticRegression(C=0.01, solver='newton-cg').fit(X_train,y_train)\n",
        "y_hat_test2 = LR2.predict_proba(X_test)\n",
        "print (\"LogLoss: : %.2f\" % log_loss(y_test, y_hat_test2))"
      ],
      "metadata": {
        "colab": {
          "base_uri": "https://localhost:8080/"
        },
        "id": "-4EWoMTr3EP5",
        "outputId": "75309f22-9c48-497c-8b02-36b32d19c598"
      },
      "execution_count": null,
      "outputs": [
        {
          "output_type": "stream",
          "name": "stdout",
          "text": [
            "LogLoss: : 0.61\n"
          ]
        }
      ]
    }
  ]
}