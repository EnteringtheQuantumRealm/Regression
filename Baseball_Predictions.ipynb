{
  "nbformat": 4,
  "nbformat_minor": 0,
  "metadata": {
    "colab": {
      "name": "Baseball-Predictions-Export-Model.ipynb의 사본",
      "provenance": [],
      "collapsed_sections": [
        "HyNJLkXvV84d"
      ],
      "machine_shape": "hm",
      "include_colab_link": true
    },
    "kernelspec": {
      "name": "python3",
      "display_name": "Python 3"
    }
  },
  "cells": [
    {
      "cell_type": "markdown",
      "metadata": {
        "id": "view-in-github",
        "colab_type": "text"
      },
      "source": [
        "<a href=\"https://colab.research.google.com/github/yunjungjoe/MLB-HeightsWeights/blob/main/Baseball_Predictions.ipynb\" target=\"_parent\"><img src=\"https://colab.research.google.com/assets/colab-badge.svg\" alt=\"Open In Colab\"/></a>"
      ]
    },
    {
      "cell_type": "markdown",
      "metadata": {
        "id": "4362wTmsMkE2"
      },
      "source": [
        "# ML Regression"
      ]
    },
    {
      "cell_type": "markdown",
      "metadata": {
        "id": "Iy38I4ZLwVpg"
      },
      "source": [
        "Human Height and Weight are mostly hereditable, but lifestyles (e.g., regular strenuous physical exercise), diet, health and environmental factors also play a role in determining individual's physical characteristics. The dataset below contains 1035 records of heights and weights for some current and recent Major League Baseball (MLB) Players. These data were obtained from different resources (e.g., IBM Many Eyes and the references below). See also the 25,000 records of adolescent height and weight."
      ]
    },
    {
      "cell_type": "markdown",
      "metadata": {
        "id": "xcpLFdExMo9x"
      },
      "source": [
        "## Ingest"
      ]
    },
    {
      "cell_type": "markdown",
      "metadata": {
        "id": "tb1teb6sNLny"
      },
      "source": [
        "Source:  http://wiki.stat.ucla.edu/socr/index.php/SOCR_Data_MLB_HeightsWeights"
      ]
    },
    {
      "cell_type": "code",
      "metadata": {
        "id": "Yy9RNaZKMicJ",
        "colab": {
          "base_uri": "https://localhost:8080/",
          "height": 204
        },
        "outputId": "693e6ded-f277-46de-c9c4-eb33d197d472"
      },
      "source": [
        "import pandas as pd\n",
        "df = pd.read_csv(\"https://raw.githubusercontent.com/noahgift/functional_intro_to_python/master/data/mlb_weight_ht.csv\")\n",
        "df.head()"
      ],
      "execution_count": 1,
      "outputs": [
        {
          "output_type": "execute_result",
          "data": {
            "text/html": [
              "<div>\n",
              "<style scoped>\n",
              "    .dataframe tbody tr th:only-of-type {\n",
              "        vertical-align: middle;\n",
              "    }\n",
              "\n",
              "    .dataframe tbody tr th {\n",
              "        vertical-align: top;\n",
              "    }\n",
              "\n",
              "    .dataframe thead th {\n",
              "        text-align: right;\n",
              "    }\n",
              "</style>\n",
              "<table border=\"1\" class=\"dataframe\">\n",
              "  <thead>\n",
              "    <tr style=\"text-align: right;\">\n",
              "      <th></th>\n",
              "      <th>Name</th>\n",
              "      <th>Team</th>\n",
              "      <th>Position</th>\n",
              "      <th>Height(inches)</th>\n",
              "      <th>Weight(pounds)</th>\n",
              "      <th>Age</th>\n",
              "    </tr>\n",
              "  </thead>\n",
              "  <tbody>\n",
              "    <tr>\n",
              "      <th>0</th>\n",
              "      <td>Adam_Donachie</td>\n",
              "      <td>BAL</td>\n",
              "      <td>Catcher</td>\n",
              "      <td>74</td>\n",
              "      <td>180.0</td>\n",
              "      <td>22.99</td>\n",
              "    </tr>\n",
              "    <tr>\n",
              "      <th>1</th>\n",
              "      <td>Paul_Bako</td>\n",
              "      <td>BAL</td>\n",
              "      <td>Catcher</td>\n",
              "      <td>74</td>\n",
              "      <td>215.0</td>\n",
              "      <td>34.69</td>\n",
              "    </tr>\n",
              "    <tr>\n",
              "      <th>2</th>\n",
              "      <td>Ramon_Hernandez</td>\n",
              "      <td>BAL</td>\n",
              "      <td>Catcher</td>\n",
              "      <td>72</td>\n",
              "      <td>210.0</td>\n",
              "      <td>30.78</td>\n",
              "    </tr>\n",
              "    <tr>\n",
              "      <th>3</th>\n",
              "      <td>Kevin_Millar</td>\n",
              "      <td>BAL</td>\n",
              "      <td>First_Baseman</td>\n",
              "      <td>72</td>\n",
              "      <td>210.0</td>\n",
              "      <td>35.43</td>\n",
              "    </tr>\n",
              "    <tr>\n",
              "      <th>4</th>\n",
              "      <td>Chris_Gomez</td>\n",
              "      <td>BAL</td>\n",
              "      <td>First_Baseman</td>\n",
              "      <td>73</td>\n",
              "      <td>188.0</td>\n",
              "      <td>35.71</td>\n",
              "    </tr>\n",
              "  </tbody>\n",
              "</table>\n",
              "</div>"
            ],
            "text/plain": [
              "              Name Team       Position  Height(inches)  Weight(pounds)    Age\n",
              "0    Adam_Donachie  BAL        Catcher              74           180.0  22.99\n",
              "1        Paul_Bako  BAL        Catcher              74           215.0  34.69\n",
              "2  Ramon_Hernandez  BAL        Catcher              72           210.0  30.78\n",
              "3     Kevin_Millar  BAL  First_Baseman              72           210.0  35.43\n",
              "4      Chris_Gomez  BAL  First_Baseman              73           188.0  35.71"
            ]
          },
          "metadata": {},
          "execution_count": 1
        }
      ]
    },
    {
      "cell_type": "markdown",
      "metadata": {
        "id": "94wUpB9ZXux_"
      },
      "source": [
        "Find N/A : remove rows and columns with Null/NaN values"
      ]
    },
    {
      "cell_type": "code",
      "metadata": {
        "id": "EUEKUcSGX411",
        "colab": {
          "base_uri": "https://localhost:8080/"
        },
        "outputId": "7a37d7a6-4cd8-49d1-981a-c0e275667445"
      },
      "source": [
        "df.shape"
      ],
      "execution_count": 2,
      "outputs": [
        {
          "output_type": "execute_result",
          "data": {
            "text/plain": [
              "(1034, 6)"
            ]
          },
          "metadata": {},
          "execution_count": 2
        }
      ]
    },
    {
      "cell_type": "code",
      "metadata": {
        "id": "N2lBngydXmTP",
        "colab": {
          "base_uri": "https://localhost:8080/"
        },
        "outputId": "74ece079-d4cd-4482-bea8-3145e8755d1a"
      },
      "source": [
        "df.isnull().values.any()"
      ],
      "execution_count": 3,
      "outputs": [
        {
          "output_type": "execute_result",
          "data": {
            "text/plain": [
              "True"
            ]
          },
          "metadata": {},
          "execution_count": 3
        }
      ]
    },
    {
      "cell_type": "code",
      "metadata": {
        "id": "V1g0_zidXw8N",
        "colab": {
          "base_uri": "https://localhost:8080/"
        },
        "outputId": "9a337b96-be61-45bb-c7e1-512162121346"
      },
      "source": [
        "df = df.dropna()\n",
        "df.isnull().values.any()"
      ],
      "execution_count": 4,
      "outputs": [
        {
          "output_type": "execute_result",
          "data": {
            "text/plain": [
              "False"
            ]
          },
          "metadata": {},
          "execution_count": 4
        }
      ]
    },
    {
      "cell_type": "code",
      "metadata": {
        "id": "zRAL01iuX6dc",
        "colab": {
          "base_uri": "https://localhost:8080/"
        },
        "outputId": "01dd3dd3-b3c1-4e66-90ea-a878c955d558"
      },
      "source": [
        "df.shape"
      ],
      "execution_count": 5,
      "outputs": [
        {
          "output_type": "execute_result",
          "data": {
            "text/plain": [
              "(1033, 6)"
            ]
          },
          "metadata": {},
          "execution_count": 5
        }
      ]
    },
    {
      "cell_type": "markdown",
      "metadata": {
        "id": "hinonO2OOmYi"
      },
      "source": [
        "### Clean"
      ]
    },
    {
      "cell_type": "code",
      "metadata": {
        "id": "xGnhpcC9OohW",
        "colab": {
          "base_uri": "https://localhost:8080/",
          "height": 204
        },
        "outputId": "bd3a4843-bbf7-4d29-d6d1-d7631db981c9"
      },
      "source": [
        "df.rename(index=str, \n",
        "             columns={\"Height(inches)\": \"Height\", \"Weight(pounds)\": \"Weight\"},\n",
        "             inplace=True)\n",
        "df.head()\n"
      ],
      "execution_count": 6,
      "outputs": [
        {
          "output_type": "execute_result",
          "data": {
            "text/html": [
              "<div>\n",
              "<style scoped>\n",
              "    .dataframe tbody tr th:only-of-type {\n",
              "        vertical-align: middle;\n",
              "    }\n",
              "\n",
              "    .dataframe tbody tr th {\n",
              "        vertical-align: top;\n",
              "    }\n",
              "\n",
              "    .dataframe thead th {\n",
              "        text-align: right;\n",
              "    }\n",
              "</style>\n",
              "<table border=\"1\" class=\"dataframe\">\n",
              "  <thead>\n",
              "    <tr style=\"text-align: right;\">\n",
              "      <th></th>\n",
              "      <th>Name</th>\n",
              "      <th>Team</th>\n",
              "      <th>Position</th>\n",
              "      <th>Height</th>\n",
              "      <th>Weight</th>\n",
              "      <th>Age</th>\n",
              "    </tr>\n",
              "  </thead>\n",
              "  <tbody>\n",
              "    <tr>\n",
              "      <th>0</th>\n",
              "      <td>Adam_Donachie</td>\n",
              "      <td>BAL</td>\n",
              "      <td>Catcher</td>\n",
              "      <td>74</td>\n",
              "      <td>180.0</td>\n",
              "      <td>22.99</td>\n",
              "    </tr>\n",
              "    <tr>\n",
              "      <th>1</th>\n",
              "      <td>Paul_Bako</td>\n",
              "      <td>BAL</td>\n",
              "      <td>Catcher</td>\n",
              "      <td>74</td>\n",
              "      <td>215.0</td>\n",
              "      <td>34.69</td>\n",
              "    </tr>\n",
              "    <tr>\n",
              "      <th>2</th>\n",
              "      <td>Ramon_Hernandez</td>\n",
              "      <td>BAL</td>\n",
              "      <td>Catcher</td>\n",
              "      <td>72</td>\n",
              "      <td>210.0</td>\n",
              "      <td>30.78</td>\n",
              "    </tr>\n",
              "    <tr>\n",
              "      <th>3</th>\n",
              "      <td>Kevin_Millar</td>\n",
              "      <td>BAL</td>\n",
              "      <td>First_Baseman</td>\n",
              "      <td>72</td>\n",
              "      <td>210.0</td>\n",
              "      <td>35.43</td>\n",
              "    </tr>\n",
              "    <tr>\n",
              "      <th>4</th>\n",
              "      <td>Chris_Gomez</td>\n",
              "      <td>BAL</td>\n",
              "      <td>First_Baseman</td>\n",
              "      <td>73</td>\n",
              "      <td>188.0</td>\n",
              "      <td>35.71</td>\n",
              "    </tr>\n",
              "  </tbody>\n",
              "</table>\n",
              "</div>"
            ],
            "text/plain": [
              "              Name Team       Position  Height  Weight    Age\n",
              "0    Adam_Donachie  BAL        Catcher      74   180.0  22.99\n",
              "1        Paul_Bako  BAL        Catcher      74   215.0  34.69\n",
              "2  Ramon_Hernandez  BAL        Catcher      72   210.0  30.78\n",
              "3     Kevin_Millar  BAL  First_Baseman      72   210.0  35.43\n",
              "4      Chris_Gomez  BAL  First_Baseman      73   188.0  35.71"
            ]
          },
          "metadata": {},
          "execution_count": 6
        }
      ]
    },
    {
      "cell_type": "markdown",
      "metadata": {
        "id": "ZdOS02NgNBk1"
      },
      "source": [
        "## EDA (Exploratory Data Analysis)"
      ]
    },
    {
      "cell_type": "code",
      "metadata": {
        "id": "nZE0KT42NC3x",
        "colab": {
          "base_uri": "https://localhost:8080/",
          "height": 297
        },
        "outputId": "c2e8cf97-92ca-4574-e93a-b51a648025d1"
      },
      "source": [
        "df.describe()"
      ],
      "execution_count": 7,
      "outputs": [
        {
          "output_type": "execute_result",
          "data": {
            "text/html": [
              "<div>\n",
              "<style scoped>\n",
              "    .dataframe tbody tr th:only-of-type {\n",
              "        vertical-align: middle;\n",
              "    }\n",
              "\n",
              "    .dataframe tbody tr th {\n",
              "        vertical-align: top;\n",
              "    }\n",
              "\n",
              "    .dataframe thead th {\n",
              "        text-align: right;\n",
              "    }\n",
              "</style>\n",
              "<table border=\"1\" class=\"dataframe\">\n",
              "  <thead>\n",
              "    <tr style=\"text-align: right;\">\n",
              "      <th></th>\n",
              "      <th>Height</th>\n",
              "      <th>Weight</th>\n",
              "      <th>Age</th>\n",
              "    </tr>\n",
              "  </thead>\n",
              "  <tbody>\n",
              "    <tr>\n",
              "      <th>count</th>\n",
              "      <td>1033.000000</td>\n",
              "      <td>1033.000000</td>\n",
              "      <td>1033.000000</td>\n",
              "    </tr>\n",
              "    <tr>\n",
              "      <th>mean</th>\n",
              "      <td>73.698935</td>\n",
              "      <td>201.689255</td>\n",
              "      <td>28.737648</td>\n",
              "    </tr>\n",
              "    <tr>\n",
              "      <th>std</th>\n",
              "      <td>2.306330</td>\n",
              "      <td>20.991491</td>\n",
              "      <td>4.322298</td>\n",
              "    </tr>\n",
              "    <tr>\n",
              "      <th>min</th>\n",
              "      <td>67.000000</td>\n",
              "      <td>150.000000</td>\n",
              "      <td>20.900000</td>\n",
              "    </tr>\n",
              "    <tr>\n",
              "      <th>25%</th>\n",
              "      <td>72.000000</td>\n",
              "      <td>187.000000</td>\n",
              "      <td>25.440000</td>\n",
              "    </tr>\n",
              "    <tr>\n",
              "      <th>50%</th>\n",
              "      <td>74.000000</td>\n",
              "      <td>200.000000</td>\n",
              "      <td>27.930000</td>\n",
              "    </tr>\n",
              "    <tr>\n",
              "      <th>75%</th>\n",
              "      <td>75.000000</td>\n",
              "      <td>215.000000</td>\n",
              "      <td>31.240000</td>\n",
              "    </tr>\n",
              "    <tr>\n",
              "      <th>max</th>\n",
              "      <td>83.000000</td>\n",
              "      <td>290.000000</td>\n",
              "      <td>48.520000</td>\n",
              "    </tr>\n",
              "  </tbody>\n",
              "</table>\n",
              "</div>"
            ],
            "text/plain": [
              "            Height       Weight          Age\n",
              "count  1033.000000  1033.000000  1033.000000\n",
              "mean     73.698935   201.689255    28.737648\n",
              "std       2.306330    20.991491     4.322298\n",
              "min      67.000000   150.000000    20.900000\n",
              "25%      72.000000   187.000000    25.440000\n",
              "50%      74.000000   200.000000    27.930000\n",
              "75%      75.000000   215.000000    31.240000\n",
              "max      83.000000   290.000000    48.520000"
            ]
          },
          "metadata": {},
          "execution_count": 7
        }
      ]
    },
    {
      "cell_type": "markdown",
      "metadata": {
        "id": "peOIpWddM57v"
      },
      "source": [
        "What about \"Positions\"?  What can we infer about a typical player from different positions?"
      ]
    },
    {
      "cell_type": "code",
      "metadata": {
        "colab": {
          "base_uri": "https://localhost:8080/",
          "height": 328
        },
        "id": "eQAqBsLIM7uF",
        "outputId": "fc5037de-acdc-4909-ecef-9a5c551d2a67"
      },
      "source": [
        "df_positions = df.groupby(\"Position\").median()\n",
        "df_positions.reset_index(inplace=True)\n",
        "df_positions"
      ],
      "execution_count": 8,
      "outputs": [
        {
          "output_type": "execute_result",
          "data": {
            "text/html": [
              "<div>\n",
              "<style scoped>\n",
              "    .dataframe tbody tr th:only-of-type {\n",
              "        vertical-align: middle;\n",
              "    }\n",
              "\n",
              "    .dataframe tbody tr th {\n",
              "        vertical-align: top;\n",
              "    }\n",
              "\n",
              "    .dataframe thead th {\n",
              "        text-align: right;\n",
              "    }\n",
              "</style>\n",
              "<table border=\"1\" class=\"dataframe\">\n",
              "  <thead>\n",
              "    <tr style=\"text-align: right;\">\n",
              "      <th></th>\n",
              "      <th>Position</th>\n",
              "      <th>Height</th>\n",
              "      <th>Weight</th>\n",
              "      <th>Age</th>\n",
              "    </tr>\n",
              "  </thead>\n",
              "  <tbody>\n",
              "    <tr>\n",
              "      <th>0</th>\n",
              "      <td>Catcher</td>\n",
              "      <td>73.0</td>\n",
              "      <td>205.0</td>\n",
              "      <td>30.060</td>\n",
              "    </tr>\n",
              "    <tr>\n",
              "      <th>1</th>\n",
              "      <td>Designated_Hitter</td>\n",
              "      <td>74.5</td>\n",
              "      <td>224.5</td>\n",
              "      <td>29.200</td>\n",
              "    </tr>\n",
              "    <tr>\n",
              "      <th>2</th>\n",
              "      <td>First_Baseman</td>\n",
              "      <td>74.0</td>\n",
              "      <td>220.0</td>\n",
              "      <td>28.800</td>\n",
              "    </tr>\n",
              "    <tr>\n",
              "      <th>3</th>\n",
              "      <td>Outfielder</td>\n",
              "      <td>73.0</td>\n",
              "      <td>200.0</td>\n",
              "      <td>28.140</td>\n",
              "    </tr>\n",
              "    <tr>\n",
              "      <th>4</th>\n",
              "      <td>Relief_Pitcher</td>\n",
              "      <td>74.0</td>\n",
              "      <td>200.0</td>\n",
              "      <td>27.560</td>\n",
              "    </tr>\n",
              "    <tr>\n",
              "      <th>5</th>\n",
              "      <td>Second_Baseman</td>\n",
              "      <td>72.0</td>\n",
              "      <td>185.0</td>\n",
              "      <td>28.435</td>\n",
              "    </tr>\n",
              "    <tr>\n",
              "      <th>6</th>\n",
              "      <td>Shortstop</td>\n",
              "      <td>72.0</td>\n",
              "      <td>180.0</td>\n",
              "      <td>27.800</td>\n",
              "    </tr>\n",
              "    <tr>\n",
              "      <th>7</th>\n",
              "      <td>Starting_Pitcher</td>\n",
              "      <td>74.5</td>\n",
              "      <td>205.0</td>\n",
              "      <td>27.390</td>\n",
              "    </tr>\n",
              "    <tr>\n",
              "      <th>8</th>\n",
              "      <td>Third_Baseman</td>\n",
              "      <td>73.0</td>\n",
              "      <td>200.0</td>\n",
              "      <td>27.900</td>\n",
              "    </tr>\n",
              "  </tbody>\n",
              "</table>\n",
              "</div>"
            ],
            "text/plain": [
              "            Position  Height  Weight     Age\n",
              "0            Catcher    73.0   205.0  30.060\n",
              "1  Designated_Hitter    74.5   224.5  29.200\n",
              "2      First_Baseman    74.0   220.0  28.800\n",
              "3         Outfielder    73.0   200.0  28.140\n",
              "4     Relief_Pitcher    74.0   200.0  27.560\n",
              "5     Second_Baseman    72.0   185.0  28.435\n",
              "6          Shortstop    72.0   180.0  27.800\n",
              "7   Starting_Pitcher    74.5   205.0  27.390\n",
              "8      Third_Baseman    73.0   200.0  27.900"
            ]
          },
          "metadata": {},
          "execution_count": 8
        }
      ]
    },
    {
      "cell_type": "code",
      "metadata": {
        "colab": {
          "base_uri": "https://localhost:8080/",
          "height": 401
        },
        "id": "nFLMrpJxOVXP",
        "outputId": "2a5a78b6-0ab3-41cb-a540-1bf92c711dbe"
      },
      "source": [
        "import seaborn as sns\n",
        "import matplotlib.pyplot as plt\n",
        "\n",
        "sns.lmplot(x=\"Height\", y=\"Weight\",data=df_positions, hue=\"Position\")"
      ],
      "execution_count": 9,
      "outputs": [
        {
          "output_type": "execute_result",
          "data": {
            "text/plain": [
              "<seaborn.axisgrid.FacetGrid at 0x7f9d792f3190>"
            ]
          },
          "metadata": {},
          "execution_count": 9
        },
        {
          "output_type": "display_data",
          "data": {
            "image/png": "[encoded data removed]",
            "text/plain": [
              "<Figure size 486.625x360 with 1 Axes>"
            ]
          },
          "metadata": {
            "needs_background": "light"
          }
        }
      ]
    },
    {
      "cell_type": "code",
      "metadata": {
        "colab": {
          "base_uri": "https://localhost:8080/",
          "height": 832
        },
        "id": "m9LSA1avRcYz",
        "outputId": "84720344-8c4e-44a4-eb03-2b91a9609dec"
      },
      "source": [
        "import matplotlib.pyplot as plt\n",
        "g = sns.FacetGrid(df, col=\"Position\", height=3.5, col_wrap=3, hue=\"Position\")\n",
        "g.fig.suptitle(\"MLB Height/Weight by Position\", fontsize=15, y=1.05)\n",
        "g.map(sns.regplot, \"Height\", \"Weight\")"
      ],
      "execution_count": 11,
      "outputs": [
        {
          "output_type": "execute_result",
          "data": {
            "text/plain": [
              "<seaborn.axisgrid.FacetGrid at 0x7f9d6d209810>"
            ]
          },
          "metadata": {},
          "execution_count": 11
        },
        {
          "output_type": "display_data",
          "data": {
            "image/png": "[encoded data removed]",
            "text/plain": [
              "<Figure size 756x756 with 9 Axes>"
            ]
          },
          "metadata": {
            "needs_background": "light"
          }
        }
      ]
    },
    {
      "cell_type": "markdown",
      "metadata": {
        "id": "AgY0aQiBNgrg"
      },
      "source": [
        "## Modeling"
      ]
    },
    {
      "cell_type": "code",
      "metadata": {
        "id": "8lzc98GwNh_e"
      },
      "source": [
        "from sklearn.model_selection import train_test_split\n",
        "from sklearn.preprocessing import StandardScaler"
      ],
      "execution_count": 12,
      "outputs": []
    },
    {
      "cell_type": "markdown",
      "metadata": {
        "id": "7u5EFF1FQfbs"
      },
      "source": [
        "### Select Feature\n",
        "\n",
        "Using Weight to Predict Height, so just one feature\n"
      ]
    },
    {
      "cell_type": "code",
      "metadata": {
        "id": "9xBm4wektxRh",
        "colab": {
          "base_uri": "https://localhost:8080/"
        },
        "outputId": "cd1e868d-f7a8-4179-99db-5ef1172a3048"
      },
      "source": [
        "var = df['Height'].values\n",
        "var.shape"
      ],
      "execution_count": 13,
      "outputs": [
        {
          "output_type": "execute_result",
          "data": {
            "text/plain": [
              "(1033,)"
            ]
          },
          "metadata": {},
          "execution_count": 13
        }
      ]
    },
    {
      "cell_type": "code",
      "metadata": {
        "id": "SEUpMhHvQhkc"
      },
      "source": [
        "y = df['Height'].values #Target\n",
        "y = y.reshape(-1, 1)\n",
        "X = df['Weight'].values #Feature(s)\n",
        "X = X.reshape(-1,1)"
      ],
      "execution_count": 14,
      "outputs": []
    },
    {
      "cell_type": "code",
      "metadata": {
        "colab": {
          "base_uri": "https://localhost:8080/"
        },
        "id": "rxksVsnXDDP-",
        "outputId": "5e0ff633-30bf-4dc5-f1af-214c7be0a78c"
      },
      "source": [
        "X.shape"
      ],
      "execution_count": 15,
      "outputs": [
        {
          "output_type": "execute_result",
          "data": {
            "text/plain": [
              "(1033, 1)"
            ]
          },
          "metadata": {},
          "execution_count": 15
        }
      ]
    },
    {
      "cell_type": "code",
      "metadata": {
        "id": "eGW5TKEyt64F",
        "colab": {
          "base_uri": "https://localhost:8080/"
        },
        "outputId": "811d0ad1-cbd7-4f8e-d62b-680c2e9bbca1"
      },
      "source": [
        "y.shape"
      ],
      "execution_count": 16,
      "outputs": [
        {
          "output_type": "execute_result",
          "data": {
            "text/plain": [
              "(1033, 1)"
            ]
          },
          "metadata": {},
          "execution_count": 16
        }
      ]
    },
    {
      "cell_type": "markdown",
      "metadata": {
        "id": "a1PeC6cbQHar"
      },
      "source": [
        "### Split Data and Scale Data"
      ]
    },
    {
      "cell_type": "markdown",
      "metadata": {
        "id": "RKXID-lXiU1f"
      },
      "source": [
        "Scaling workflow step by step to make it easier to understand"
      ]
    },
    {
      "cell_type": "code",
      "metadata": {
        "id": "InpYc9_HlOok"
      },
      "source": [
        "scaler = StandardScaler()"
      ],
      "execution_count": 17,
      "outputs": []
    },
    {
      "cell_type": "code",
      "metadata": {
        "colab": {
          "base_uri": "https://localhost:8080/"
        },
        "id": "BlsEqG9kC6nQ",
        "outputId": "4595f401-292a-474c-e98c-812288d8bc71"
      },
      "source": [
        "X_scaler = scaler.fit(X)\n",
        "X\n"
      ],
      "execution_count": 18,
      "outputs": [
        {
          "output_type": "execute_result",
          "data": {
            "text/plain": [
              "array([[180.],\n",
              "       [215.],\n",
              "       [210.],\n",
              "       ...,\n",
              "       [205.],\n",
              "       [190.],\n",
              "       [195.]])"
            ]
          },
          "metadata": {},
          "execution_count": 18
        }
      ]
    },
    {
      "cell_type": "code",
      "metadata": {
        "colab": {
          "base_uri": "https://localhost:8080/"
        },
        "id": "sCoHtdhQjXTa",
        "outputId": "c194d609-73ec-4a6a-e5a5-b79dd30a0c20"
      },
      "source": [
        "X = X_scaler.transform(X)\n",
        "X"
      ],
      "execution_count": 19,
      "outputs": [
        {
          "output_type": "execute_result",
          "data": {
            "text/plain": [
              "array([[-1.0337408 ],\n",
              "       [ 0.6344091 ],\n",
              "       [ 0.39610197],\n",
              "       ...,\n",
              "       [ 0.15779485],\n",
              "       [-0.55712654],\n",
              "       [-0.31881941]])"
            ]
          },
          "metadata": {},
          "execution_count": 19
        }
      ]
    },
    {
      "cell_type": "code",
      "metadata": {
        "colab": {
          "base_uri": "https://localhost:8080/"
        },
        "id": "xJZBzJ9ADoZv",
        "outputId": "8624bbfb-112f-4e5a-e769-6bfeda5bac71"
      },
      "source": [
        "y_scaler = scaler.fit(y)\n",
        "y"
      ],
      "execution_count": 20,
      "outputs": [
        {
          "output_type": "execute_result",
          "data": {
            "text/plain": [
              "array([[74],\n",
              "       [74],\n",
              "       [72],\n",
              "       ...,\n",
              "       [75],\n",
              "       [75],\n",
              "       [73]])"
            ]
          },
          "metadata": {},
          "execution_count": 20
        }
      ]
    },
    {
      "cell_type": "code",
      "metadata": {
        "colab": {
          "base_uri": "https://localhost:8080/"
        },
        "id": "71bi_sbKjvF4",
        "outputId": "dfecd954-0961-4044-e84e-765940840e20"
      },
      "source": [
        "y = y_scaler.transform(y)\n",
        "y"
      ],
      "execution_count": 21,
      "outputs": [
        {
          "output_type": "execute_result",
          "data": {
            "text/plain": [
              "array([[ 0.13060176],\n",
              "       [ 0.13060176],\n",
              "       [-0.73699706],\n",
              "       ...,\n",
              "       [ 0.56440117],\n",
              "       [ 0.56440117],\n",
              "       [-0.30319765]])"
            ]
          },
          "metadata": {},
          "execution_count": 21
        }
      ]
    },
    {
      "cell_type": "code",
      "metadata": {
        "id": "Pb552OpRON4G",
        "colab": {
          "base_uri": "https://localhost:8080/"
        },
        "outputId": "31137dd6-a00c-42cc-9902-e12ff9861f8f"
      },
      "source": [
        "X_train, X_test, y_train, y_test = train_test_split(X, y, test_size=0.1)\n",
        "print(X_train.shape, y_train.shape)\n",
        "print(X_test.shape, y_test.shape)"
      ],
      "execution_count": 22,
      "outputs": [
        {
          "output_type": "stream",
          "name": "stdout",
          "text": [
            "(929, 1) (929, 1)\n",
            "(104, 1) (104, 1)\n"
          ]
        }
      ]
    },
    {
      "cell_type": "markdown",
      "metadata": {
        "id": "XSX1G3QoQFdy"
      },
      "source": [
        "### Fit the model"
      ]
    },
    {
      "cell_type": "code",
      "metadata": {
        "id": "KxnwLKlrPorE"
      },
      "source": [
        "from sklearn.linear_model import Ridge\n",
        "clf = Ridge()\n",
        "model = clf.fit(X_train, y_train)\n",
        "predictions = clf.predict(X_test)"
      ],
      "execution_count": 23,
      "outputs": []
    },
    {
      "cell_type": "code",
      "metadata": {
        "colab": {
          "base_uri": "https://localhost:8080/"
        },
        "id": "wz9m8pq_Zctr",
        "outputId": "5849f85c-6fa2-443e-bede-12893f3313f3"
      },
      "source": [
        "y_test.shape"
      ],
      "execution_count": 24,
      "outputs": [
        {
          "output_type": "execute_result",
          "data": {
            "text/plain": [
              "(104, 1)"
            ]
          },
          "metadata": {},
          "execution_count": 24
        }
      ]
    },
    {
      "cell_type": "code",
      "metadata": {
        "colab": {
          "base_uri": "https://localhost:8080/"
        },
        "id": "mx_36dllZiEJ",
        "outputId": "d01a2922-5dfa-4c92-f799-b90cbf29fe81"
      },
      "source": [
        "predictions.shape"
      ],
      "execution_count": 26,
      "outputs": [
        {
          "output_type": "execute_result",
          "data": {
            "text/plain": [
              "(104, 1)"
            ]
          },
          "metadata": {},
          "execution_count": 26
        }
      ]
    },
    {
      "cell_type": "markdown",
      "metadata": {
        "id": "4KicWLboqfHz"
      },
      "source": [
        "unscaled predictions, converted to DataFrame and described"
      ]
    },
    {
      "cell_type": "code",
      "metadata": {
        "colab": {
          "base_uri": "https://localhost:8080/",
          "height": 297
        },
        "id": "J_JppG6AqiAu",
        "outputId": "e5960539-37e6-4a77-d1d4-3ab970e8e1ca"
      },
      "source": [
        "df_predictions = pd.DataFrame(predictions)\n",
        "df.describe()"
      ],
      "execution_count": 27,
      "outputs": [
        {
          "output_type": "execute_result",
          "data": {
            "text/html": [
              "<div>\n",
              "<style scoped>\n",
              "    .dataframe tbody tr th:only-of-type {\n",
              "        vertical-align: middle;\n",
              "    }\n",
              "\n",
              "    .dataframe tbody tr th {\n",
              "        vertical-align: top;\n",
              "    }\n",
              "\n",
              "    .dataframe thead th {\n",
              "        text-align: right;\n",
              "    }\n",
              "</style>\n",
              "<table border=\"1\" class=\"dataframe\">\n",
              "  <thead>\n",
              "    <tr style=\"text-align: right;\">\n",
              "      <th></th>\n",
              "      <th>Height</th>\n",
              "      <th>Weight</th>\n",
              "      <th>Age</th>\n",
              "    </tr>\n",
              "  </thead>\n",
              "  <tbody>\n",
              "    <tr>\n",
              "      <th>count</th>\n",
              "      <td>1033.000000</td>\n",
              "      <td>1033.000000</td>\n",
              "      <td>1033.000000</td>\n",
              "    </tr>\n",
              "    <tr>\n",
              "      <th>mean</th>\n",
              "      <td>73.698935</td>\n",
              "      <td>201.689255</td>\n",
              "      <td>28.737648</td>\n",
              "    </tr>\n",
              "    <tr>\n",
              "      <th>std</th>\n",
              "      <td>2.306330</td>\n",
              "      <td>20.991491</td>\n",
              "      <td>4.322298</td>\n",
              "    </tr>\n",
              "    <tr>\n",
              "      <th>min</th>\n",
              "      <td>67.000000</td>\n",
              "      <td>150.000000</td>\n",
              "      <td>20.900000</td>\n",
              "    </tr>\n",
              "    <tr>\n",
              "      <th>25%</th>\n",
              "      <td>72.000000</td>\n",
              "      <td>187.000000</td>\n",
              "      <td>25.440000</td>\n",
              "    </tr>\n",
              "    <tr>\n",
              "      <th>50%</th>\n",
              "      <td>74.000000</td>\n",
              "      <td>200.000000</td>\n",
              "      <td>27.930000</td>\n",
              "    </tr>\n",
              "    <tr>\n",
              "      <th>75%</th>\n",
              "      <td>75.000000</td>\n",
              "      <td>215.000000</td>\n",
              "      <td>31.240000</td>\n",
              "    </tr>\n",
              "    <tr>\n",
              "      <th>max</th>\n",
              "      <td>83.000000</td>\n",
              "      <td>290.000000</td>\n",
              "      <td>48.520000</td>\n",
              "    </tr>\n",
              "  </tbody>\n",
              "</table>\n",
              "</div>"
            ],
            "text/plain": [
              "            Height       Weight          Age\n",
              "count  1033.000000  1033.000000  1033.000000\n",
              "mean     73.698935   201.689255    28.737648\n",
              "std       2.306330    20.991491     4.322298\n",
              "min      67.000000   150.000000    20.900000\n",
              "25%      72.000000   187.000000    25.440000\n",
              "50%      74.000000   200.000000    27.930000\n",
              "75%      75.000000   215.000000    31.240000\n",
              "max      83.000000   290.000000    48.520000"
            ]
          },
          "metadata": {},
          "execution_count": 27
        }
      ]
    },
    {
      "cell_type": "markdown",
      "metadata": {
        "id": "wXZj9Jq_TKjr"
      },
      "source": [
        "### Plot Predictions"
      ]
    },
    {
      "cell_type": "markdown",
      "metadata": {
        "id": "HsI07iiLD4P5"
      },
      "source": [
        "Let's inverse scale back to view predictions in a form we can understand, then plot"
      ]
    },
    {
      "cell_type": "code",
      "metadata": {
        "colab": {
          "base_uri": "https://localhost:8080/",
          "height": 297
        },
        "id": "h-n01gCsCTDa",
        "outputId": "2b2822d7-1c0b-4314-d81c-278cabc2fb9d"
      },
      "source": [
        "df_inverse_scaled_prediction = pd.DataFrame(y_scaler.inverse_transform(y))\n",
        "df_inverse_scaled_prediction.describe()"
      ],
      "execution_count": 28,
      "outputs": [
        {
          "output_type": "execute_result",
          "data": {
            "text/html": [
              "<div>\n",
              "<style scoped>\n",
              "    .dataframe tbody tr th:only-of-type {\n",
              "        vertical-align: middle;\n",
              "    }\n",
              "\n",
              "    .dataframe tbody tr th {\n",
              "        vertical-align: top;\n",
              "    }\n",
              "\n",
              "    .dataframe thead th {\n",
              "        text-align: right;\n",
              "    }\n",
              "</style>\n",
              "<table border=\"1\" class=\"dataframe\">\n",
              "  <thead>\n",
              "    <tr style=\"text-align: right;\">\n",
              "      <th></th>\n",
              "      <th>0</th>\n",
              "    </tr>\n",
              "  </thead>\n",
              "  <tbody>\n",
              "    <tr>\n",
              "      <th>count</th>\n",
              "      <td>1033.000000</td>\n",
              "    </tr>\n",
              "    <tr>\n",
              "      <th>mean</th>\n",
              "      <td>73.698935</td>\n",
              "    </tr>\n",
              "    <tr>\n",
              "      <th>std</th>\n",
              "      <td>2.306330</td>\n",
              "    </tr>\n",
              "    <tr>\n",
              "      <th>min</th>\n",
              "      <td>67.000000</td>\n",
              "    </tr>\n",
              "    <tr>\n",
              "      <th>25%</th>\n",
              "      <td>72.000000</td>\n",
              "    </tr>\n",
              "    <tr>\n",
              "      <th>50%</th>\n",
              "      <td>74.000000</td>\n",
              "    </tr>\n",
              "    <tr>\n",
              "      <th>75%</th>\n",
              "      <td>75.000000</td>\n",
              "    </tr>\n",
              "    <tr>\n",
              "      <th>max</th>\n",
              "      <td>83.000000</td>\n",
              "    </tr>\n",
              "  </tbody>\n",
              "</table>\n",
              "</div>"
            ],
            "text/plain": [
              "                 0\n",
              "count  1033.000000\n",
              "mean     73.698935\n",
              "std       2.306330\n",
              "min      67.000000\n",
              "25%      72.000000\n",
              "50%      74.000000\n",
              "75%      75.000000\n",
              "max      83.000000"
            ]
          },
          "metadata": {},
          "execution_count": 28
        }
      ]
    },
    {
      "cell_type": "code",
      "metadata": {
        "colab": {
          "base_uri": "https://localhost:8080/",
          "height": 353
        },
        "id": "nrlGpRsaZn6q",
        "outputId": "402c84f3-278f-49f4-d8e1-53a1e29c1f2f"
      },
      "source": [
        "plot = sns.regplot(y_scaler.inverse_transform(y_test), y_scaler.inverse_transform(predictions))\n",
        "plt.xlabel(\"Actual Height\")\n",
        "plt.ylabel(\"Predicted Height\")"
      ],
      "execution_count": 29,
      "outputs": [
        {
          "output_type": "stream",
          "name": "stderr",
          "text": [
            "/usr/local/lib/python3.7/dist-packages/seaborn/_decorators.py:43: FutureWarning: Pass the following variables as keyword args: x, y. From version 0.12, the only valid positional argument will be `data`, and passing other arguments without an explicit keyword will result in an error or misinterpretation.\n",
            "  FutureWarning\n"
          ]
        },
        {
          "output_type": "execute_result",
          "data": {
            "text/plain": [
              "Text(0, 0.5, 'Predicted Height')"
            ]
          },
          "metadata": {},
          "execution_count": 29
        },
        {
          "output_type": "display_data",
          "data": {
            "image/png": "[encoded data removed]",
            "text/plain": [
              "<Figure size 432x288 with 1 Axes>"
            ]
          },
          "metadata": {
            "needs_background": "light"
          }
        }
      ]
    },
    {
      "cell_type": "markdown",
      "metadata": {
        "id": "HyNJLkXvV84d"
      },
      "source": [
        "### Print Accuracy of Linear Regression Model"
      ]
    },
    {
      "cell_type": "code",
      "metadata": {
        "id": "nwq5XCBjTNaa",
        "colab": {
          "base_uri": "https://localhost:8080/"
        },
        "outputId": "f6286e1b-42b4-4b81-9618-db59001876ec"
      },
      "source": [
        "model.score(X_test, y_test)"
      ],
      "execution_count": 30,
      "outputs": [
        {
          "output_type": "execute_result",
          "data": {
            "text/plain": [
              "0.12617809767043442"
            ]
          },
          "metadata": {},
          "execution_count": 30
        }
      ]
    },
    {
      "cell_type": "markdown",
      "metadata": {
        "id": "BDTZYM3zaXdz"
      },
      "source": [
        "### Export Model"
      ]
    },
    {
      "cell_type": "code",
      "metadata": {
        "id": "kA8TiySZaZTf"
      },
      "source": [
        "import joblib"
      ],
      "execution_count": 31,
      "outputs": []
    },
    {
      "cell_type": "code",
      "metadata": {
        "colab": {
          "base_uri": "https://localhost:8080/"
        },
        "id": "8Q8IGmwNea-k",
        "outputId": "cda7afc9-89fb-45ee-d728-cbd0a533b7a1"
      },
      "source": [
        "joblib.dump(model, 'model.joblib')"
      ],
      "execution_count": 32,
      "outputs": [
        {
          "output_type": "execute_result",
          "data": {
            "text/plain": [
              "['model.joblib']"
            ]
          },
          "metadata": {},
          "execution_count": 32
        }
      ]
    },
    {
      "cell_type": "markdown",
      "metadata": {
        "id": "NtL2tAgDeopQ"
      },
      "source": [
        "### Verify Model Import Feedbackloop"
      ]
    },
    {
      "cell_type": "code",
      "metadata": {
        "id": "OqOwzHesgjX0"
      },
      "source": [
        "clf_disk = joblib.load(\"model.joblib\")"
      ],
      "execution_count": 39,
      "outputs": []
    },
    {
      "cell_type": "markdown",
      "metadata": {
        "id": "zzBLo2Aje8L1"
      },
      "source": [
        "### Test Predict From Model Loaded From Disk"
      ]
    },
    {
      "cell_type": "markdown",
      "metadata": {
        "id": "dhlgmqCnfVYv"
      },
      "source": [
        "View data"
      ]
    },
    {
      "cell_type": "code",
      "metadata": {
        "colab": {
          "base_uri": "https://localhost:8080/",
          "height": 204
        },
        "id": "8pPAtKDIfElK",
        "outputId": "af888c7b-1497-435e-bf14-a1ac38713ac0"
      },
      "source": [
        "df.tail()"
      ],
      "execution_count": 34,
      "outputs": [
        {
          "output_type": "execute_result",
          "data": {
            "text/html": [
              "<div>\n",
              "<style scoped>\n",
              "    .dataframe tbody tr th:only-of-type {\n",
              "        vertical-align: middle;\n",
              "    }\n",
              "\n",
              "    .dataframe tbody tr th {\n",
              "        vertical-align: top;\n",
              "    }\n",
              "\n",
              "    .dataframe thead th {\n",
              "        text-align: right;\n",
              "    }\n",
              "</style>\n",
              "<table border=\"1\" class=\"dataframe\">\n",
              "  <thead>\n",
              "    <tr style=\"text-align: right;\">\n",
              "      <th></th>\n",
              "      <th>Name</th>\n",
              "      <th>Team</th>\n",
              "      <th>Position</th>\n",
              "      <th>Height</th>\n",
              "      <th>Weight</th>\n",
              "      <th>Age</th>\n",
              "    </tr>\n",
              "  </thead>\n",
              "  <tbody>\n",
              "    <tr>\n",
              "      <th>1029</th>\n",
              "      <td>Brad_Thompson</td>\n",
              "      <td>STL</td>\n",
              "      <td>Relief_Pitcher</td>\n",
              "      <td>73</td>\n",
              "      <td>190.0</td>\n",
              "      <td>25.08</td>\n",
              "    </tr>\n",
              "    <tr>\n",
              "      <th>1030</th>\n",
              "      <td>Tyler_Johnson</td>\n",
              "      <td>STL</td>\n",
              "      <td>Relief_Pitcher</td>\n",
              "      <td>74</td>\n",
              "      <td>180.0</td>\n",
              "      <td>25.73</td>\n",
              "    </tr>\n",
              "    <tr>\n",
              "      <th>1031</th>\n",
              "      <td>Chris_Narveson</td>\n",
              "      <td>STL</td>\n",
              "      <td>Relief_Pitcher</td>\n",
              "      <td>75</td>\n",
              "      <td>205.0</td>\n",
              "      <td>25.19</td>\n",
              "    </tr>\n",
              "    <tr>\n",
              "      <th>1032</th>\n",
              "      <td>Randy_Keisler</td>\n",
              "      <td>STL</td>\n",
              "      <td>Relief_Pitcher</td>\n",
              "      <td>75</td>\n",
              "      <td>190.0</td>\n",
              "      <td>31.01</td>\n",
              "    </tr>\n",
              "    <tr>\n",
              "      <th>1033</th>\n",
              "      <td>Josh_Kinney</td>\n",
              "      <td>STL</td>\n",
              "      <td>Relief_Pitcher</td>\n",
              "      <td>73</td>\n",
              "      <td>195.0</td>\n",
              "      <td>27.92</td>\n",
              "    </tr>\n",
              "  </tbody>\n",
              "</table>\n",
              "</div>"
            ],
            "text/plain": [
              "                Name Team        Position  Height  Weight    Age\n",
              "1029   Brad_Thompson  STL  Relief_Pitcher      73   190.0  25.08\n",
              "1030   Tyler_Johnson  STL  Relief_Pitcher      74   180.0  25.73\n",
              "1031  Chris_Narveson  STL  Relief_Pitcher      75   205.0  25.19\n",
              "1032   Randy_Keisler  STL  Relief_Pitcher      75   190.0  31.01\n",
              "1033     Josh_Kinney  STL  Relief_Pitcher      73   195.0  27.92"
            ]
          },
          "metadata": {},
          "execution_count": 34
        }
      ]
    },
    {
      "cell_type": "markdown",
      "metadata": {
        "id": "pWeRcMPXgu-4"
      },
      "source": [
        "Get one observation and only get the Weight by grabbing Chris_Narveson"
      ]
    },
    {
      "cell_type": "code",
      "metadata": {
        "colab": {
          "base_uri": "https://localhost:8080/"
        },
        "id": "5FC7SKlunJ2w",
        "outputId": "069b638d-b286-49b7-baf1-f5d9ecc72317"
      },
      "source": [
        "pX = df.iloc[[1030]][[\"Weight\"]].values #Feature(s)\n",
        "pX = pX.reshape(-1,1)\n",
        "pX"
      ],
      "execution_count": 35,
      "outputs": [
        {
          "output_type": "execute_result",
          "data": {
            "text/plain": [
              "array([[205.]])"
            ]
          },
          "metadata": {},
          "execution_count": 35
        }
      ]
    },
    {
      "cell_type": "markdown",
      "metadata": {
        "id": "F-jEG_cSgCD5"
      },
      "source": [
        "Scale Input"
      ]
    },
    {
      "cell_type": "code",
      "metadata": {
        "colab": {
          "base_uri": "https://localhost:8080/"
        },
        "id": "NtPLOiNyozdj",
        "outputId": "7f0b6228-f683-4bc8-b825-7e50ef758e1c"
      },
      "source": [
        "target = df[\"Weight\"].values\n",
        "target = target.reshape(-1, 1)\n",
        "target"
      ],
      "execution_count": 36,
      "outputs": [
        {
          "output_type": "execute_result",
          "data": {
            "text/plain": [
              "array([[180.],\n",
              "       [215.],\n",
              "       [210.],\n",
              "       ...,\n",
              "       [205.],\n",
              "       [190.],\n",
              "       [195.]])"
            ]
          },
          "metadata": {},
          "execution_count": 36
        }
      ]
    },
    {
      "cell_type": "code",
      "metadata": {
        "id": "mG_8K0RMfMRY",
        "colab": {
          "base_uri": "https://localhost:8080/",
          "height": 35
        },
        "outputId": "b88be8d6-f1a7-4a54-d0a4-8b9fc7951068"
      },
      "source": [
        "import numpy as np\n",
        "input_scaler = StandardScaler().fit(target) #scale relative to the values in the df\n",
        "scaled_input = input_scaler.transform(pX)\n",
        "np.array2string(scaled_input, formatter={'float_kind':'{0:.3f}'.format})"
      ],
      "execution_count": 37,
      "outputs": [
        {
          "output_type": "execute_result",
          "data": {
            "application/vnd.google.colaboratory.intrinsic+json": {
              "type": "string"
            },
            "text/plain": [
              "'[[0.158]]'"
            ]
          },
          "metadata": {},
          "execution_count": 37
        }
      ]
    },
    {
      "cell_type": "markdown",
      "metadata": {
        "id": "mJ81TPE3mDI3"
      },
      "source": [
        "Inverse Transform Predicted Height"
      ]
    },
    {
      "cell_type": "code",
      "metadata": {
        "colab": {
          "base_uri": "https://localhost:8080/"
        },
        "id": "Z2Hxk7Vfi6BR",
        "outputId": "13b3b22d-34b2-4d9d-e8cf-afdd96cc3fba"
      },
      "source": [
        "result = clf.predict(scaled_input)\n",
        "print(f\"Unscaled prediction {result.tolist()[0]}\")\n",
        "transformed_prediction = y_scaler.inverse_transform(result) #Note the y_scaler is the target scaler\n",
        "print(f\"transformed_prediction {transformed_prediction.tolist()[0]}\")"
      ],
      "execution_count": 40,
      "outputs": [
        {
          "output_type": "stream",
          "name": "stdout",
          "text": [
            "Unscaled prediction [0.08000412386683987]\n",
            "transformed_prediction [73.88336168042792]\n"
          ]
        }
      ]
    }
  ]
}